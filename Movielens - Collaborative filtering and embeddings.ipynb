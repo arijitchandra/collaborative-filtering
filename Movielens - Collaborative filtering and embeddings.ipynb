{
 "cells": [
  {
   "cell_type": "markdown",
   "metadata": {},
   "source": [
    "# Collaborative Filtering\n",
    "---"
   ]
  },
  {
   "cell_type": "markdown",
   "metadata": {},
   "source": [
    "I'm using Movielens data which is available here: http://files.grouplens.org/datasets/movielens/ml-latest-small.zip"
   ]
  },
  {
   "cell_type": "markdown",
   "metadata": {},
   "source": [
    "This notebook is heavily inspired by the following notebook from fastai github repo: https://github.com/fastai/fastai/blob/master/courses/dl1/lesson5-movielens.ipynb"
   ]
  },
  {
   "cell_type": "code",
   "execution_count": 1,
   "metadata": {},
   "outputs": [
    {
     "data": {
      "text/html": [
       "\n",
       "    <div class=\"bk-root\">\n",
       "        <a href=\"https://bokeh.pydata.org\" target=\"_blank\" class=\"bk-logo bk-logo-small bk-logo-notebook\"></a>\n",
       "        <span id=\"cb3346af-4024-49a6-9c78-51dc9a6d8c9c\">Loading BokehJS ...</span>\n",
       "    </div>"
      ]
     },
     "metadata": {},
     "output_type": "display_data"
    },
    {
     "data": {
      "application/javascript": [
       "\n",
       "(function(root) {\n",
       "  function now() {\n",
       "    return new Date();\n",
       "  }\n",
       "\n",
       "  var force = true;\n",
       "\n",
       "  if (typeof (root._bokeh_onload_callbacks) === \"undefined\" || force === true) {\n",
       "    root._bokeh_onload_callbacks = [];\n",
       "    root._bokeh_is_loading = undefined;\n",
       "  }\n",
       "\n",
       "  var JS_MIME_TYPE = 'application/javascript';\n",
       "  var HTML_MIME_TYPE = 'text/html';\n",
       "  var EXEC_MIME_TYPE = 'application/vnd.bokehjs_exec.v0+json';\n",
       "  var CLASS_NAME = 'output_bokeh rendered_html';\n",
       "\n",
       "  /**\n",
       "   * Render data to the DOM node\n",
       "   */\n",
       "  function render(props, node) {\n",
       "    var script = document.createElement(\"script\");\n",
       "    node.appendChild(script);\n",
       "  }\n",
       "\n",
       "  /**\n",
       "   * Handle when an output is cleared or removed\n",
       "   */\n",
       "  function handleClearOutput(event, handle) {\n",
       "    var cell = handle.cell;\n",
       "\n",
       "    var id = cell.output_area._bokeh_element_id;\n",
       "    var server_id = cell.output_area._bokeh_server_id;\n",
       "    // Clean up Bokeh references\n",
       "    if (id !== undefined) {\n",
       "      Bokeh.index[id].model.document.clear();\n",
       "      delete Bokeh.index[id];\n",
       "    }\n",
       "\n",
       "    if (server_id !== undefined) {\n",
       "      // Clean up Bokeh references\n",
       "      var cmd = \"from bokeh.io.state import curstate; print(curstate().uuid_to_server['\" + server_id + \"'].get_sessions()[0].document.roots[0]._id)\";\n",
       "      cell.notebook.kernel.execute(cmd, {\n",
       "        iopub: {\n",
       "          output: function(msg) {\n",
       "            var element_id = msg.content.text.trim();\n",
       "            Bokeh.index[element_id].model.document.clear();\n",
       "            delete Bokeh.index[element_id];\n",
       "          }\n",
       "        }\n",
       "      });\n",
       "      // Destroy server and session\n",
       "      var cmd = \"import bokeh.io.notebook as ion; ion.destroy_server('\" + server_id + \"')\";\n",
       "      cell.notebook.kernel.execute(cmd);\n",
       "    }\n",
       "  }\n",
       "\n",
       "  /**\n",
       "   * Handle when a new output is added\n",
       "   */\n",
       "  function handleAddOutput(event, handle) {\n",
       "    var output_area = handle.output_area;\n",
       "    var output = handle.output;\n",
       "\n",
       "    // limit handleAddOutput to display_data with EXEC_MIME_TYPE content only\n",
       "    if ((output.output_type != \"display_data\") || (!output.data.hasOwnProperty(EXEC_MIME_TYPE))) {\n",
       "      return\n",
       "    }\n",
       "\n",
       "    var toinsert = output_area.element.find(`.${CLASS_NAME.split(' ')[0]}`);\n",
       "\n",
       "    if (output.metadata[EXEC_MIME_TYPE][\"id\"] !== undefined) {\n",
       "      toinsert[0].firstChild.textContent = output.data[JS_MIME_TYPE];\n",
       "      // store reference to embed id on output_area\n",
       "      output_area._bokeh_element_id = output.metadata[EXEC_MIME_TYPE][\"id\"];\n",
       "    }\n",
       "    if (output.metadata[EXEC_MIME_TYPE][\"server_id\"] !== undefined) {\n",
       "      var bk_div = document.createElement(\"div\");\n",
       "      bk_div.innerHTML = output.data[HTML_MIME_TYPE];\n",
       "      var script_attrs = bk_div.children[0].attributes;\n",
       "      for (var i = 0; i < script_attrs.length; i++) {\n",
       "        toinsert[0].firstChild.setAttribute(script_attrs[i].name, script_attrs[i].value);\n",
       "      }\n",
       "      // store reference to server id on output_area\n",
       "      output_area._bokeh_server_id = output.metadata[EXEC_MIME_TYPE][\"server_id\"];\n",
       "    }\n",
       "  }\n",
       "\n",
       "  function register_renderer(events, OutputArea) {\n",
       "\n",
       "    function append_mime(data, metadata, element) {\n",
       "      // create a DOM node to render to\n",
       "      var toinsert = this.create_output_subarea(\n",
       "        metadata,\n",
       "        CLASS_NAME,\n",
       "        EXEC_MIME_TYPE\n",
       "      );\n",
       "      this.keyboard_manager.register_events(toinsert);\n",
       "      // Render to node\n",
       "      var props = {data: data, metadata: metadata[EXEC_MIME_TYPE]};\n",
       "      render(props, toinsert[0]);\n",
       "      element.append(toinsert);\n",
       "      return toinsert\n",
       "    }\n",
       "\n",
       "    /* Handle when an output is cleared or removed */\n",
       "    events.on('clear_output.CodeCell', handleClearOutput);\n",
       "    events.on('delete.Cell', handleClearOutput);\n",
       "\n",
       "    /* Handle when a new output is added */\n",
       "    events.on('output_added.OutputArea', handleAddOutput);\n",
       "\n",
       "    /**\n",
       "     * Register the mime type and append_mime function with output_area\n",
       "     */\n",
       "    OutputArea.prototype.register_mime_type(EXEC_MIME_TYPE, append_mime, {\n",
       "      /* Is output safe? */\n",
       "      safe: true,\n",
       "      /* Index of renderer in `output_area.display_order` */\n",
       "      index: 0\n",
       "    });\n",
       "  }\n",
       "\n",
       "  // register the mime type if in Jupyter Notebook environment and previously unregistered\n",
       "  if (root.Jupyter !== undefined) {\n",
       "    var events = require('base/js/events');\n",
       "    var OutputArea = require('notebook/js/outputarea').OutputArea;\n",
       "\n",
       "    if (OutputArea.prototype.mime_types().indexOf(EXEC_MIME_TYPE) == -1) {\n",
       "      register_renderer(events, OutputArea);\n",
       "    }\n",
       "  }\n",
       "\n",
       "  \n",
       "  if (typeof (root._bokeh_timeout) === \"undefined\" || force === true) {\n",
       "    root._bokeh_timeout = Date.now() + 5000;\n",
       "    root._bokeh_failed_load = false;\n",
       "  }\n",
       "\n",
       "  var NB_LOAD_WARNING = {'data': {'text/html':\n",
       "     \"<div style='background-color: #fdd'>\\n\"+\n",
       "     \"<p>\\n\"+\n",
       "     \"BokehJS does not appear to have successfully loaded. If loading BokehJS from CDN, this \\n\"+\n",
       "     \"may be due to a slow or bad network connection. Possible fixes:\\n\"+\n",
       "     \"</p>\\n\"+\n",
       "     \"<ul>\\n\"+\n",
       "     \"<li>re-rerun `output_notebook()` to attempt to load from CDN again, or</li>\\n\"+\n",
       "     \"<li>use INLINE resources instead, as so:</li>\\n\"+\n",
       "     \"</ul>\\n\"+\n",
       "     \"<code>\\n\"+\n",
       "     \"from bokeh.resources import INLINE\\n\"+\n",
       "     \"output_notebook(resources=INLINE)\\n\"+\n",
       "     \"</code>\\n\"+\n",
       "     \"</div>\"}};\n",
       "\n",
       "  function display_loaded() {\n",
       "    var el = document.getElementById(\"cb3346af-4024-49a6-9c78-51dc9a6d8c9c\");\n",
       "    if (el != null) {\n",
       "      el.textContent = \"BokehJS is loading...\";\n",
       "    }\n",
       "    if (root.Bokeh !== undefined) {\n",
       "      if (el != null) {\n",
       "        el.textContent = \"BokehJS \" + root.Bokeh.version + \" successfully loaded.\";\n",
       "      }\n",
       "    } else if (Date.now() < root._bokeh_timeout) {\n",
       "      setTimeout(display_loaded, 100)\n",
       "    }\n",
       "  }\n",
       "\n",
       "\n",
       "  function run_callbacks() {\n",
       "    try {\n",
       "      root._bokeh_onload_callbacks.forEach(function(callback) { callback() });\n",
       "    }\n",
       "    finally {\n",
       "      delete root._bokeh_onload_callbacks\n",
       "    }\n",
       "    console.info(\"Bokeh: all callbacks have finished\");\n",
       "  }\n",
       "\n",
       "  function load_libs(js_urls, callback) {\n",
       "    root._bokeh_onload_callbacks.push(callback);\n",
       "    if (root._bokeh_is_loading > 0) {\n",
       "      console.log(\"Bokeh: BokehJS is being loaded, scheduling callback at\", now());\n",
       "      return null;\n",
       "    }\n",
       "    if (js_urls == null || js_urls.length === 0) {\n",
       "      run_callbacks();\n",
       "      return null;\n",
       "    }\n",
       "    console.log(\"Bokeh: BokehJS not loaded, scheduling load and callback at\", now());\n",
       "    root._bokeh_is_loading = js_urls.length;\n",
       "    for (var i = 0; i < js_urls.length; i++) {\n",
       "      var url = js_urls[i];\n",
       "      var s = document.createElement('script');\n",
       "      s.src = url;\n",
       "      s.async = false;\n",
       "      s.onreadystatechange = s.onload = function() {\n",
       "        root._bokeh_is_loading--;\n",
       "        if (root._bokeh_is_loading === 0) {\n",
       "          console.log(\"Bokeh: all BokehJS libraries loaded\");\n",
       "          run_callbacks()\n",
       "        }\n",
       "      };\n",
       "      s.onerror = function() {\n",
       "        console.warn(\"failed to load library \" + url);\n",
       "      };\n",
       "      console.log(\"Bokeh: injecting script tag for BokehJS library: \", url);\n",
       "      document.getElementsByTagName(\"head\")[0].appendChild(s);\n",
       "    }\n",
       "  };var element = document.getElementById(\"cb3346af-4024-49a6-9c78-51dc9a6d8c9c\");\n",
       "  if (element == null) {\n",
       "    console.log(\"Bokeh: ERROR: autoload.js configured with elementid 'cb3346af-4024-49a6-9c78-51dc9a6d8c9c' but no matching script tag was found. \")\n",
       "    return false;\n",
       "  }\n",
       "\n",
       "  var js_urls = [\"https://cdn.pydata.org/bokeh/release/bokeh-0.12.10.min.js\", \"https://cdn.pydata.org/bokeh/release/bokeh-widgets-0.12.10.min.js\", \"https://cdn.pydata.org/bokeh/release/bokeh-tables-0.12.10.min.js\", \"https://cdn.pydata.org/bokeh/release/bokeh-gl-0.12.10.min.js\"];\n",
       "\n",
       "  var inline_js = [\n",
       "    function(Bokeh) {\n",
       "      Bokeh.set_log_level(\"info\");\n",
       "    },\n",
       "    \n",
       "    function(Bokeh) {\n",
       "      \n",
       "    },\n",
       "    function(Bokeh) {\n",
       "      console.log(\"Bokeh: injecting CSS: https://cdn.pydata.org/bokeh/release/bokeh-0.12.10.min.css\");\n",
       "      Bokeh.embed.inject_css(\"https://cdn.pydata.org/bokeh/release/bokeh-0.12.10.min.css\");\n",
       "      console.log(\"Bokeh: injecting CSS: https://cdn.pydata.org/bokeh/release/bokeh-widgets-0.12.10.min.css\");\n",
       "      Bokeh.embed.inject_css(\"https://cdn.pydata.org/bokeh/release/bokeh-widgets-0.12.10.min.css\");\n",
       "      console.log(\"Bokeh: injecting CSS: https://cdn.pydata.org/bokeh/release/bokeh-tables-0.12.10.min.css\");\n",
       "      Bokeh.embed.inject_css(\"https://cdn.pydata.org/bokeh/release/bokeh-tables-0.12.10.min.css\");\n",
       "    }\n",
       "  ];\n",
       "\n",
       "  function run_inline_js() {\n",
       "    \n",
       "    if ((root.Bokeh !== undefined) || (force === true)) {\n",
       "      for (var i = 0; i < inline_js.length; i++) {\n",
       "        inline_js[i].call(root, root.Bokeh);\n",
       "      }if (force === true) {\n",
       "        display_loaded();\n",
       "      }} else if (Date.now() < root._bokeh_timeout) {\n",
       "      setTimeout(run_inline_js, 100);\n",
       "    } else if (!root._bokeh_failed_load) {\n",
       "      console.log(\"Bokeh: BokehJS failed to load within specified timeout.\");\n",
       "      root._bokeh_failed_load = true;\n",
       "    } else if (force !== true) {\n",
       "      var cell = $(document.getElementById(\"cb3346af-4024-49a6-9c78-51dc9a6d8c9c\")).parents('.cell').data().cell;\n",
       "      cell.output_area.append_execute_result(NB_LOAD_WARNING)\n",
       "    }\n",
       "\n",
       "  }\n",
       "\n",
       "  if (root._bokeh_is_loading === 0) {\n",
       "    console.log(\"Bokeh: BokehJS loaded, going straight to plotting\");\n",
       "    run_inline_js();\n",
       "  } else {\n",
       "    load_libs(js_urls, function() {\n",
       "      console.log(\"Bokeh: BokehJS plotting callback run at\", now());\n",
       "      run_inline_js();\n",
       "    });\n",
       "  }\n",
       "}(window));"
      ],
      "application/vnd.bokehjs_load.v0+json": "\n(function(root) {\n  function now() {\n    return new Date();\n  }\n\n  var force = true;\n\n  if (typeof (root._bokeh_onload_callbacks) === \"undefined\" || force === true) {\n    root._bokeh_onload_callbacks = [];\n    root._bokeh_is_loading = undefined;\n  }\n\n  \n\n  \n  if (typeof (root._bokeh_timeout) === \"undefined\" || force === true) {\n    root._bokeh_timeout = Date.now() + 5000;\n    root._bokeh_failed_load = false;\n  }\n\n  var NB_LOAD_WARNING = {'data': {'text/html':\n     \"<div style='background-color: #fdd'>\\n\"+\n     \"<p>\\n\"+\n     \"BokehJS does not appear to have successfully loaded. If loading BokehJS from CDN, this \\n\"+\n     \"may be due to a slow or bad network connection. Possible fixes:\\n\"+\n     \"</p>\\n\"+\n     \"<ul>\\n\"+\n     \"<li>re-rerun `output_notebook()` to attempt to load from CDN again, or</li>\\n\"+\n     \"<li>use INLINE resources instead, as so:</li>\\n\"+\n     \"</ul>\\n\"+\n     \"<code>\\n\"+\n     \"from bokeh.resources import INLINE\\n\"+\n     \"output_notebook(resources=INLINE)\\n\"+\n     \"</code>\\n\"+\n     \"</div>\"}};\n\n  function display_loaded() {\n    var el = document.getElementById(\"cb3346af-4024-49a6-9c78-51dc9a6d8c9c\");\n    if (el != null) {\n      el.textContent = \"BokehJS is loading...\";\n    }\n    if (root.Bokeh !== undefined) {\n      if (el != null) {\n        el.textContent = \"BokehJS \" + root.Bokeh.version + \" successfully loaded.\";\n      }\n    } else if (Date.now() < root._bokeh_timeout) {\n      setTimeout(display_loaded, 100)\n    }\n  }\n\n\n  function run_callbacks() {\n    try {\n      root._bokeh_onload_callbacks.forEach(function(callback) { callback() });\n    }\n    finally {\n      delete root._bokeh_onload_callbacks\n    }\n    console.info(\"Bokeh: all callbacks have finished\");\n  }\n\n  function load_libs(js_urls, callback) {\n    root._bokeh_onload_callbacks.push(callback);\n    if (root._bokeh_is_loading > 0) {\n      console.log(\"Bokeh: BokehJS is being loaded, scheduling callback at\", now());\n      return null;\n    }\n    if (js_urls == null || js_urls.length === 0) {\n      run_callbacks();\n      return null;\n    }\n    console.log(\"Bokeh: BokehJS not loaded, scheduling load and callback at\", now());\n    root._bokeh_is_loading = js_urls.length;\n    for (var i = 0; i < js_urls.length; i++) {\n      var url = js_urls[i];\n      var s = document.createElement('script');\n      s.src = url;\n      s.async = false;\n      s.onreadystatechange = s.onload = function() {\n        root._bokeh_is_loading--;\n        if (root._bokeh_is_loading === 0) {\n          console.log(\"Bokeh: all BokehJS libraries loaded\");\n          run_callbacks()\n        }\n      };\n      s.onerror = function() {\n        console.warn(\"failed to load library \" + url);\n      };\n      console.log(\"Bokeh: injecting script tag for BokehJS library: \", url);\n      document.getElementsByTagName(\"head\")[0].appendChild(s);\n    }\n  };var element = document.getElementById(\"cb3346af-4024-49a6-9c78-51dc9a6d8c9c\");\n  if (element == null) {\n    console.log(\"Bokeh: ERROR: autoload.js configured with elementid 'cb3346af-4024-49a6-9c78-51dc9a6d8c9c' but no matching script tag was found. \")\n    return false;\n  }\n\n  var js_urls = [\"https://cdn.pydata.org/bokeh/release/bokeh-0.12.10.min.js\", \"https://cdn.pydata.org/bokeh/release/bokeh-widgets-0.12.10.min.js\", \"https://cdn.pydata.org/bokeh/release/bokeh-tables-0.12.10.min.js\", \"https://cdn.pydata.org/bokeh/release/bokeh-gl-0.12.10.min.js\"];\n\n  var inline_js = [\n    function(Bokeh) {\n      Bokeh.set_log_level(\"info\");\n    },\n    \n    function(Bokeh) {\n      \n    },\n    function(Bokeh) {\n      console.log(\"Bokeh: injecting CSS: https://cdn.pydata.org/bokeh/release/bokeh-0.12.10.min.css\");\n      Bokeh.embed.inject_css(\"https://cdn.pydata.org/bokeh/release/bokeh-0.12.10.min.css\");\n      console.log(\"Bokeh: injecting CSS: https://cdn.pydata.org/bokeh/release/bokeh-widgets-0.12.10.min.css\");\n      Bokeh.embed.inject_css(\"https://cdn.pydata.org/bokeh/release/bokeh-widgets-0.12.10.min.css\");\n      console.log(\"Bokeh: injecting CSS: https://cdn.pydata.org/bokeh/release/bokeh-tables-0.12.10.min.css\");\n      Bokeh.embed.inject_css(\"https://cdn.pydata.org/bokeh/release/bokeh-tables-0.12.10.min.css\");\n    }\n  ];\n\n  function run_inline_js() {\n    \n    if ((root.Bokeh !== undefined) || (force === true)) {\n      for (var i = 0; i < inline_js.length; i++) {\n        inline_js[i].call(root, root.Bokeh);\n      }if (force === true) {\n        display_loaded();\n      }} else if (Date.now() < root._bokeh_timeout) {\n      setTimeout(run_inline_js, 100);\n    } else if (!root._bokeh_failed_load) {\n      console.log(\"Bokeh: BokehJS failed to load within specified timeout.\");\n      root._bokeh_failed_load = true;\n    } else if (force !== true) {\n      var cell = $(document.getElementById(\"cb3346af-4024-49a6-9c78-51dc9a6d8c9c\")).parents('.cell').data().cell;\n      cell.output_area.append_execute_result(NB_LOAD_WARNING)\n    }\n\n  }\n\n  if (root._bokeh_is_loading === 0) {\n    console.log(\"Bokeh: BokehJS loaded, going straight to plotting\");\n    run_inline_js();\n  } else {\n    load_libs(js_urls, function() {\n      console.log(\"Bokeh: BokehJS plotting callback run at\", now());\n      run_inline_js();\n    });\n  }\n}(window));"
     },
     "metadata": {},
     "output_type": "display_data"
    }
   ],
   "source": [
    "%reload_ext autoreload\n",
    "%autoreload 2\n",
    "%matplotlib inline\n",
    "import torch\n",
    "from bokeh.plotting import figure, show, output_notebook, save\n",
    "from bokeh.models import HoverTool, value, LabelSet, Legend, ColumnDataSource\n",
    "output_notebook()\n",
    "from IPython.core.debugger import set_trace #debugging\n",
    "#fastai library imports: https://github.com/fastai/fastai\n",
    "from fastai.learner import *\n",
    "from fastai.column_data import *"
   ]
  },
  {
   "cell_type": "code",
   "execution_count": 2,
   "metadata": {},
   "outputs": [],
   "source": [
    "# from tqdm import tqdm as tqdm_cls\n",
    "# inst = tqdm_cls._instances\n",
    "# for i in range(len(inst)): inst.pop().close()"
   ]
  },
  {
   "cell_type": "markdown",
   "metadata": {},
   "source": [
    "----"
   ]
  },
  {
   "cell_type": "markdown",
   "metadata": {},
   "source": [
    "## Reading the data"
   ]
  },
  {
   "cell_type": "code",
   "execution_count": 3,
   "metadata": {},
   "outputs": [],
   "source": [
    "path='data/movielens/ml-latest-small/' #path to the dataset"
   ]
  },
  {
   "cell_type": "markdown",
   "metadata": {},
   "source": [
    "We are looking at 2 files: ratings and movies. Ratings contain rating by different users for different movies along with timestamp. Movies contains metadata about movies. movieid is the key to join the 2 datasets. No metadata for userid is available"
   ]
  },
  {
   "cell_type": "code",
   "execution_count": 4,
   "metadata": {},
   "outputs": [
    {
     "data": {
      "text/html": [
       "<div>\n",
       "<style scoped>\n",
       "    .dataframe tbody tr th:only-of-type {\n",
       "        vertical-align: middle;\n",
       "    }\n",
       "\n",
       "    .dataframe tbody tr th {\n",
       "        vertical-align: top;\n",
       "    }\n",
       "\n",
       "    .dataframe thead th {\n",
       "        text-align: right;\n",
       "    }\n",
       "</style>\n",
       "<table border=\"1\" class=\"dataframe\">\n",
       "  <thead>\n",
       "    <tr style=\"text-align: right;\">\n",
       "      <th></th>\n",
       "      <th>userId</th>\n",
       "      <th>movieId</th>\n",
       "      <th>rating</th>\n",
       "      <th>timestamp</th>\n",
       "    </tr>\n",
       "  </thead>\n",
       "  <tbody>\n",
       "    <tr>\n",
       "      <th>0</th>\n",
       "      <td>1</td>\n",
       "      <td>31</td>\n",
       "      <td>2.5</td>\n",
       "      <td>1260759144</td>\n",
       "    </tr>\n",
       "    <tr>\n",
       "      <th>1</th>\n",
       "      <td>1</td>\n",
       "      <td>1029</td>\n",
       "      <td>3.0</td>\n",
       "      <td>1260759179</td>\n",
       "    </tr>\n",
       "    <tr>\n",
       "      <th>2</th>\n",
       "      <td>1</td>\n",
       "      <td>1061</td>\n",
       "      <td>3.0</td>\n",
       "      <td>1260759182</td>\n",
       "    </tr>\n",
       "    <tr>\n",
       "      <th>3</th>\n",
       "      <td>1</td>\n",
       "      <td>1129</td>\n",
       "      <td>2.0</td>\n",
       "      <td>1260759185</td>\n",
       "    </tr>\n",
       "    <tr>\n",
       "      <th>4</th>\n",
       "      <td>1</td>\n",
       "      <td>1172</td>\n",
       "      <td>4.0</td>\n",
       "      <td>1260759205</td>\n",
       "    </tr>\n",
       "  </tbody>\n",
       "</table>\n",
       "</div>"
      ],
      "text/plain": [
       "   userId  movieId  rating   timestamp\n",
       "0       1       31     2.5  1260759144\n",
       "1       1     1029     3.0  1260759179\n",
       "2       1     1061     3.0  1260759182\n",
       "3       1     1129     2.0  1260759185\n",
       "4       1     1172     4.0  1260759205"
      ]
     },
     "execution_count": 4,
     "metadata": {},
     "output_type": "execute_result"
    }
   ],
   "source": [
    "ratings = pd.read_csv(f'{path}ratings.csv')\n",
    "ratings.head()"
   ]
  },
  {
   "cell_type": "code",
   "execution_count": 5,
   "metadata": {},
   "outputs": [
    {
     "data": {
      "text/html": [
       "<div>\n",
       "<style scoped>\n",
       "    .dataframe tbody tr th:only-of-type {\n",
       "        vertical-align: middle;\n",
       "    }\n",
       "\n",
       "    .dataframe tbody tr th {\n",
       "        vertical-align: top;\n",
       "    }\n",
       "\n",
       "    .dataframe thead th {\n",
       "        text-align: right;\n",
       "    }\n",
       "</style>\n",
       "<table border=\"1\" class=\"dataframe\">\n",
       "  <thead>\n",
       "    <tr style=\"text-align: right;\">\n",
       "      <th></th>\n",
       "      <th>movieId</th>\n",
       "      <th>title</th>\n",
       "      <th>genres</th>\n",
       "    </tr>\n",
       "  </thead>\n",
       "  <tbody>\n",
       "    <tr>\n",
       "      <th>0</th>\n",
       "      <td>1</td>\n",
       "      <td>Toy Story (1995)</td>\n",
       "      <td>Adventure|Animation|Children|Comedy|Fantasy</td>\n",
       "    </tr>\n",
       "    <tr>\n",
       "      <th>1</th>\n",
       "      <td>2</td>\n",
       "      <td>Jumanji (1995)</td>\n",
       "      <td>Adventure|Children|Fantasy</td>\n",
       "    </tr>\n",
       "    <tr>\n",
       "      <th>2</th>\n",
       "      <td>3</td>\n",
       "      <td>Grumpier Old Men (1995)</td>\n",
       "      <td>Comedy|Romance</td>\n",
       "    </tr>\n",
       "    <tr>\n",
       "      <th>3</th>\n",
       "      <td>4</td>\n",
       "      <td>Waiting to Exhale (1995)</td>\n",
       "      <td>Comedy|Drama|Romance</td>\n",
       "    </tr>\n",
       "    <tr>\n",
       "      <th>4</th>\n",
       "      <td>5</td>\n",
       "      <td>Father of the Bride Part II (1995)</td>\n",
       "      <td>Comedy</td>\n",
       "    </tr>\n",
       "  </tbody>\n",
       "</table>\n",
       "</div>"
      ],
      "text/plain": [
       "   movieId                               title  \\\n",
       "0        1                    Toy Story (1995)   \n",
       "1        2                      Jumanji (1995)   \n",
       "2        3             Grumpier Old Men (1995)   \n",
       "3        4            Waiting to Exhale (1995)   \n",
       "4        5  Father of the Bride Part II (1995)   \n",
       "\n",
       "                                        genres  \n",
       "0  Adventure|Animation|Children|Comedy|Fantasy  \n",
       "1                   Adventure|Children|Fantasy  \n",
       "2                               Comedy|Romance  \n",
       "3                         Comedy|Drama|Romance  \n",
       "4                                       Comedy  "
      ]
     },
     "execution_count": 5,
     "metadata": {},
     "output_type": "execute_result"
    }
   ],
   "source": [
    "movies = pd.read_csv(f'{path}movies.csv')\n",
    "movies.head()"
   ]
  },
  {
   "cell_type": "code",
   "execution_count": 6,
   "metadata": {},
   "outputs": [],
   "source": [
    "ratings = ratings.drop(['timestamp'],axis = 1) #dropping the timestamp variable..not important for this study"
   ]
  },
  {
   "cell_type": "code",
   "execution_count": 7,
   "metadata": {},
   "outputs": [
    {
     "data": {
      "text/plain": [
       "100004"
      ]
     },
     "execution_count": 7,
     "metadata": {},
     "output_type": "execute_result"
    }
   ],
   "source": [
    "len(ratings) #100004 rows in our dataset"
   ]
  },
  {
   "cell_type": "markdown",
   "metadata": {},
   "source": [
    "---"
   ]
  },
  {
   "cell_type": "markdown",
   "metadata": {},
   "source": [
    "## Collaborative filtering using fastai"
   ]
  },
  {
   "cell_type": "markdown",
   "metadata": {},
   "source": [
    "For this section refer to this article: https://medium.com/p/919da17ecefb/edit"
   ]
  },
  {
   "cell_type": "markdown",
   "metadata": {},
   "source": [
    "### Training"
   ]
  },
  {
   "cell_type": "code",
   "execution_count": 8,
   "metadata": {},
   "outputs": [],
   "source": [
    "val_idxs = get_cv_idxs(len(ratings)) #get validation indices (default 20% of data)\n",
    "wd=2e-4 #weight decay\n",
    "n_factors = 50 #how big embedding matrix we want"
   ]
  },
  {
   "cell_type": "code",
   "execution_count": 9,
   "metadata": {},
   "outputs": [
    {
     "data": {
      "text/plain": [
       "20000"
      ]
     },
     "execution_count": 9,
     "metadata": {},
     "output_type": "execute_result"
    }
   ],
   "source": [
    "len(val_idxs)"
   ]
  },
  {
   "cell_type": "code",
   "execution_count": 10,
   "metadata": {},
   "outputs": [],
   "source": [
    "cf = CollabFilterDataset.from_csv(path, 'ratings.csv', 'userId', 'movieId', 'rating') #creating a custom dataloader\n",
    "learn = cf.get_learner(n_factors, val_idxs, 64, opt_fn=optim.Adam) #create a learner (model) and specify the batch size and optimizer"
   ]
  },
  {
   "cell_type": "code",
   "execution_count": 11,
   "metadata": {
    "scrolled": true
   },
   "outputs": [
    {
     "data": {
      "application/vnd.jupyter.widget-view+json": {
       "model_id": "37abc3fef02b4fde9534b3014411827c",
       "version_major": 2,
       "version_minor": 0
      },
      "text/html": [
       "<p>Failed to display Jupyter Widget of type <code>HBox</code>.</p>\n",
       "<p>\n",
       "  If you're reading this message in the Jupyter Notebook or JupyterLab Notebook, it may mean\n",
       "  that the widgets JavaScript is still loading. If this message persists, it\n",
       "  likely means that the widgets JavaScript library is either not installed or\n",
       "  not enabled. See the <a href=\"https://ipywidgets.readthedocs.io/en/stable/user_install.html\">Jupyter\n",
       "  Widgets Documentation</a> for setup instructions.\n",
       "</p>\n",
       "<p>\n",
       "  If you're reading this message in another frontend (for example, a static\n",
       "  rendering on GitHub or <a href=\"https://nbviewer.jupyter.org/\">NBViewer</a>),\n",
       "  it may mean that your frontend doesn't currently support widgets.\n",
       "</p>\n"
      ],
      "text/plain": [
       "HBox(children=(IntProgress(value=0, description='Epoch', max=3), HTML(value='')))"
      ]
     },
     "metadata": {},
     "output_type": "display_data"
    },
    {
     "name": "stdout",
     "output_type": "stream",
     "text": [
      "[ 0.       0.86094  0.83524]                                    \n",
      "[ 1.       0.66514  0.8792 ]                                    \n",
      "[ 2.       0.31946  0.83188]                                    \n",
      "\n"
     ]
    }
   ],
   "source": [
    "learn.fit(1e-2, 2, wds=wd, cycle_len=1, cycle_mult=2, use_wd_sched=True) #training with learning rate as 1e-2"
   ]
  },
  {
   "cell_type": "markdown",
   "metadata": {},
   "source": [
    "Above we can see training and validation MSE after each epoch"
   ]
  },
  {
   "cell_type": "markdown",
   "metadata": {},
   "source": [
    "### Prediction on validation"
   ]
  },
  {
   "cell_type": "code",
   "execution_count": 12,
   "metadata": {},
   "outputs": [],
   "source": [
    "preds = learn.predict() #this will predict ratings for validation dataset"
   ]
  },
  {
   "cell_type": "code",
   "execution_count": 13,
   "metadata": {},
   "outputs": [
    {
     "data": {
      "text/plain": [
       "array([ 2.96787,  3.32698,  2.53395, ...,  3.80088,  2.91533,  3.68756], dtype=float32)"
      ]
     },
     "execution_count": 13,
     "metadata": {},
     "output_type": "execute_result"
    }
   ],
   "source": [
    "preds"
   ]
  },
  {
   "cell_type": "code",
   "execution_count": 14,
   "metadata": {},
   "outputs": [
    {
     "data": {
      "image/png": "[encoded data removed]",
      "text/plain": [
       "<matplotlib.figure.Figure at 0x7fd7c3a1aa20>"
      ]
     },
     "metadata": {},
     "output_type": "display_data"
    }
   ],
   "source": [
    "y=learn.data.val_y #actual ratings for validation\n",
    "sns.jointplot(preds, y, kind='hex', stat_func=None);"
   ]
  },
  {
   "cell_type": "code",
   "execution_count": 15,
   "metadata": {},
   "outputs": [
    {
     "data": {
      "text/plain": [
       "0.9115292258167741"
      ]
     },
     "execution_count": 15,
     "metadata": {},
     "output_type": "execute_result"
    }
   ],
   "source": [
    "math.sqrt(metrics.mean_squared_error(y,preds)) #RMSE for validation data"
   ]
  },
  {
   "cell_type": "markdown",
   "metadata": {},
   "source": [
    "Let's compare to some benchmarks. Here's [some benchmarks](https://www.librec.net/release/v1.3/example.html) on the same dataset for the popular Librec system for collaborative filtering. They show best results based on [RMSE](http://www.statisticshowto.com/rmse/) of 0.91. So we are at par with the benchmarks for this dataset."
   ]
  },
  {
   "cell_type": "markdown",
   "metadata": {},
   "source": [
    "---"
   ]
  },
  {
   "cell_type": "markdown",
   "metadata": {},
   "source": [
    "## Interpreting embeddings and biases"
   ]
  },
  {
   "cell_type": "code",
   "execution_count": 16,
   "metadata": {},
   "outputs": [],
   "source": [
    "from sklearn.manifold import TSNE"
   ]
  },
  {
   "cell_type": "code",
   "execution_count": 17,
   "metadata": {},
   "outputs": [],
   "source": [
    "movies = pd.read_csv(f'{path}movies.csv')"
   ]
  },
  {
   "cell_type": "code",
   "execution_count": 18,
   "metadata": {},
   "outputs": [],
   "source": [
    "movie_names = movies.set_index('movieId')['title'].to_dict() #creating dictionary of movieid: movie title\n",
    "g=ratings.groupby('movieId')['rating'].count() #counting the number of ratings for each movie\n",
    "topMovies=g.sort_values(ascending=False).index.values[:3000] #top 3000 movies based on number of ratings\n",
    "topMovieIdx = np.array([cf.item2idx[o] for o in topMovies]) #id for the top movies to link it to the embedding and bias matrix created by the model"
   ]
  },
  {
   "cell_type": "code",
   "execution_count": 19,
   "metadata": {},
   "outputs": [
    {
     "data": {
      "text/plain": [
       "EmbeddingDotBias (\n",
       "  (u): Embedding(671, 50)\n",
       "  (i): Embedding(9066, 50)\n",
       "  (ub): Embedding(671, 1)\n",
       "  (ib): Embedding(9066, 1)\n",
       ")"
      ]
     },
     "execution_count": 19,
     "metadata": {},
     "output_type": "execute_result"
    }
   ],
   "source": [
    "m=learn.model; m.cuda() "
   ]
  },
  {
   "cell_type": "markdown",
   "metadata": {},
   "source": [
    "u: Embedding matrix for users, i: Embedding matrix for movies, ub: Bias matrix for users, ib: bias matrix for movies"
   ]
  },
  {
   "cell_type": "markdown",
   "metadata": {},
   "source": [
    "### Movie embeddings"
   ]
  },
  {
   "cell_type": "code",
   "execution_count": 20,
   "metadata": {},
   "outputs": [
    {
     "data": {
      "text/plain": [
       "(3000, 50)"
      ]
     },
     "execution_count": 20,
     "metadata": {},
     "output_type": "execute_result"
    }
   ],
   "source": [
    "movie_emb = to_np(m.i(V(topMovieIdx))) #converting the torch embedding to numpy matrix\n",
    "movie_emb.shape"
   ]
  },
  {
   "cell_type": "markdown",
   "metadata": {},
   "source": [
    "### t-SNE"
   ]
  },
  {
   "cell_type": "code",
   "execution_count": 21,
   "metadata": {},
   "outputs": [
    {
     "name": "stdout",
     "output_type": "stream",
     "text": [
      "[t-SNE] Computing 91 nearest neighbors...\n",
      "[t-SNE] Indexed 3000 samples in 0.005s...\n",
      "[t-SNE] Computed neighbors for 3000 samples in 1.007s...\n",
      "[t-SNE] Computed conditional probabilities for sample 1000 / 3000\n",
      "[t-SNE] Computed conditional probabilities for sample 2000 / 3000\n",
      "[t-SNE] Computed conditional probabilities for sample 3000 / 3000\n",
      "[t-SNE] Mean sigma: 0.421800\n",
      "[t-SNE] KL divergence after 50 iterations with early exaggeration: 79.346962\n",
      "[t-SNE] Error after 1000 iterations: 3.042393\n"
     ]
    }
   ],
   "source": [
    "#t-sne on embedding vectors\n",
    "tsne = TSNE(n_components=2, verbose=1, perplexity=30, n_iter=1000,learning_rate=10)\n",
    "tsne_results = tsne.fit_transform(movie_emb)"
   ]
  },
  {
   "cell_type": "code",
   "execution_count": 22,
   "metadata": {},
   "outputs": [],
   "source": [
    "#preparing dataframe for visualization\n",
    "df_combine = pd.DataFrame([movie_names[i] for i in topMovies])\n",
    "df_combine.columns = ['title']\n",
    "df_combine['x-tsne'] = tsne_results[:,0]\n",
    "df_combine['y-tsne'] = tsne_results[:,1]"
   ]
  },
  {
   "cell_type": "code",
   "execution_count": 24,
   "metadata": {},
   "outputs": [
    {
     "data": {
      "text/html": [
       "<div>\n",
       "<style scoped>\n",
       "    .dataframe tbody tr th:only-of-type {\n",
       "        vertical-align: middle;\n",
       "    }\n",
       "\n",
       "    .dataframe tbody tr th {\n",
       "        vertical-align: top;\n",
       "    }\n",
       "\n",
       "    .dataframe thead th {\n",
       "        text-align: right;\n",
       "    }\n",
       "</style>\n",
       "<table border=\"1\" class=\"dataframe\">\n",
       "  <thead>\n",
       "    <tr style=\"text-align: right;\">\n",
       "      <th></th>\n",
       "      <th>title</th>\n",
       "      <th>x-tsne</th>\n",
       "      <th>y-tsne</th>\n",
       "    </tr>\n",
       "  </thead>\n",
       "  <tbody>\n",
       "    <tr>\n",
       "      <th>0</th>\n",
       "      <td>Forrest Gump (1994)</td>\n",
       "      <td>9.188692</td>\n",
       "      <td>0.920415</td>\n",
       "    </tr>\n",
       "    <tr>\n",
       "      <th>1</th>\n",
       "      <td>Pulp Fiction (1994)</td>\n",
       "      <td>-1.338275</td>\n",
       "      <td>-12.899643</td>\n",
       "    </tr>\n",
       "    <tr>\n",
       "      <th>2</th>\n",
       "      <td>Shawshank Redemption, The (1994)</td>\n",
       "      <td>9.932871</td>\n",
       "      <td>-10.151700</td>\n",
       "    </tr>\n",
       "    <tr>\n",
       "      <th>3</th>\n",
       "      <td>Silence of the Lambs, The (1991)</td>\n",
       "      <td>-21.067549</td>\n",
       "      <td>-1.708968</td>\n",
       "    </tr>\n",
       "    <tr>\n",
       "      <th>4</th>\n",
       "      <td>Star Wars: Episode IV - A New Hope (1977)</td>\n",
       "      <td>1.961918</td>\n",
       "      <td>-21.877657</td>\n",
       "    </tr>\n",
       "  </tbody>\n",
       "</table>\n",
       "</div>"
      ],
      "text/plain": [
       "                                       title     x-tsne     y-tsne\n",
       "0                        Forrest Gump (1994)   9.188692   0.920415\n",
       "1                        Pulp Fiction (1994)  -1.338275 -12.899643\n",
       "2           Shawshank Redemption, The (1994)   9.932871 -10.151700\n",
       "3           Silence of the Lambs, The (1991) -21.067549  -1.708968\n",
       "4  Star Wars: Episode IV - A New Hope (1977)   1.961918 -21.877657"
      ]
     },
     "execution_count": 24,
     "metadata": {},
     "output_type": "execute_result"
    }
   ],
   "source": [
    "df_combine.head()"
   ]
  },
  {
   "cell_type": "markdown",
   "metadata": {},
   "source": [
    "### Visualizing t-SNE components of embeddings using Bokeh"
   ]
  },
  {
   "cell_type": "code",
   "execution_count": 102,
   "metadata": {},
   "outputs": [],
   "source": [
    "source = ColumnDataSource(dict(\n",
    "    x=df_combine['x-tsne'],\n",
    "    y=df_combine['y-tsne'],\n",
    "    title= df_combine['title']\n",
    "))"
   ]
  },
  {
   "cell_type": "code",
   "execution_count": 103,
   "metadata": {},
   "outputs": [
    {
     "data": {
      "text/html": [
       "\n",
       "<div class=\"bk-root\">\n",
       "    <div class=\"bk-plotdiv\" id=\"5e4ec07f-d88c-4a43-87f9-c9f3e45182b7\"></div>\n",
       "</div>"
      ]
     },
     "metadata": {},
     "output_type": "display_data"
    },
    {
     "data": {
      "application/javascript": [
       "(function(root) {\n",
       "  function embed_document(root) {\n",
       "    var docs_json = {\"90e57480-c1ca-4269-b1fd-b2a07bd28d82\":{\"roots\":{\"references\":[{\"attributes\":{},\"id\":\"d1a1b537-eed1-4211-aee7-0966dc1050ee\",\"type\":\"WheelZoomTool\"},{\"attributes\":{\"min_border\":1,\"plot_width\":1000,\"renderers\":[{\"id\":\"4e5c133a-0a05-4d2b-a625-8e000a017df7\",\"type\":\"BoxAnnotation\"},{\"id\":\"92b0fda4-e599-4e12-b82b-f7ba1fd89b90\",\"type\":\"GlyphRenderer\"}],\"title\":{\"id\":\"d9289323-ade8-4d41-867a-7bb91b162bf2\",\"type\":\"Title\"},\"toolbar\":{\"id\":\"488a15dc-6a6a-4be3-b718-f21d89523b01\",\"type\":\"Toolbar\"},\"x_range\":{\"id\":\"b54eca57-8a01-4f86-98a7-62be83be6086\",\"type\":\"DataRange1d\"},\"x_scale\":{\"id\":\"677044a2-c1f2-43d5-b6da-554b4ebcdfa3\",\"type\":\"LinearScale\"},\"y_range\":{\"id\":\"62e89c5d-e5f4-40a7-ad0a-c49de2c2b54d\",\"type\":\"DataRange1d\"},\"y_scale\":{\"id\":\"a86a5188-9804-49f4-921d-6de1cbfc1faf\",\"type\":\"LinearScale\"}},\"id\":\"73877b31-8fd4-484a-b131-284c4eb78f45\",\"subtype\":\"Figure\",\"type\":\"Plot\"},{\"attributes\":{\"fill_alpha\":{\"value\":0.1},\"fill_color\":{\"value\":\"#1f77b4\"},\"line_alpha\":{\"value\":0.1},\"line_color\":{\"value\":\"#1f77b4\"},\"size\":{\"units\":\"screen\",\"value\":10},\"x\":{\"field\":\"x\"},\"y\":{\"field\":\"y\"}},\"id\":\"4f0b2319-f59f-4fdd-a314-f2046978aea7\",\"type\":\"Circle\"},{\"attributes\":{},\"id\":\"677044a2-c1f2-43d5-b6da-554b4ebcdfa3\",\"type\":\"LinearScale\"},{\"attributes\":{},\"id\":\"bae8aca2-285e-4ff3-b12f-59bfbf292060\",\"type\":\"ResetTool\"},{\"attributes\":{\"callback\":null},\"id\":\"b54eca57-8a01-4f86-98a7-62be83be6086\",\"type\":\"DataRange1d\"},{\"attributes\":{\"plot\":null,\"text\":\"T-SNE visualization of embeddings\"},\"id\":\"d9289323-ade8-4d41-867a-7bb91b162bf2\",\"type\":\"Title\"},{\"attributes\":{},\"id\":\"1041076b-021f-4298-9aef-2d728971c886\",\"type\":\"PanTool\"},{\"attributes\":{\"fill_alpha\":{\"value\":0.4},\"fill_color\":{\"value\":\"#1f77b4\"},\"line_alpha\":{\"value\":0.4},\"line_color\":{\"value\":\"#1f77b4\"},\"size\":{\"units\":\"screen\",\"value\":10},\"x\":{\"field\":\"x\"},\"y\":{\"field\":\"y\"}},\"id\":\"90788ef7-38bf-4e4a-ad13-f874c2dc9cba\",\"type\":\"Circle\"},{\"attributes\":{\"source\":{\"id\":\"4c7e6ee7-24c0-4fa7-9771-5c0d5917fed7\",\"type\":\"ColumnDataSource\"}},\"id\":\"ada135d9-f765-4893-8b70-6498aaac4fc7\",\"type\":\"CDSView\"},{\"attributes\":{\"callback\":null,\"column_names\":[\"x\",\"y\",\"title\"],\"data\":{\"title\":[\"Forrest Gump (1994)\",\"Pulp Fiction (1994)\",\"Shawshank Redemption, The (1994)\",\"Silence of the Lambs, The (1991)\",\"Star Wars: Episode IV - A New Hope (1977)\",\"Jurassic Park (1993)\",\"Matrix, The (1999)\",\"Toy Story (1995)\",\"Schindler's List (1993)\",\"Terminator 2: Judgment Day (1991)\",\"Star Wars: Episode V - The Empire Strikes Back (1980)\",\"Braveheart (1995)\",\"Back to the Future (1985)\",\"Fargo (1996)\",\"Raiders of the Lost Ark (Indiana Jones and the Raiders of the Lost Ark) (1981)\",\"American Beauty (1999)\",\"Independence Day (a.k.a. ID4) (1996)\",\"Star Wars: Episode VI - Return of the Jedi (1983)\",\"Aladdin (1992)\",\"Fugitive, The (1993)\",\"Fight Club (1999)\",\"Dances with Wolves (1990)\",\"Seven (a.k.a. Se7en) (1995)\",\"Usual Suspects, The (1995)\",\"Lord of the Rings: The Fellowship of the Ring, The (2001)\",\"Godfather, The (1972)\",\"Lion King, The (1994)\",\"Apollo 13 (1995)\",\"True Lies (1994)\",\"Twelve Monkeys (a.k.a. 12 Monkeys) (1995)\",\"Batman (1989)\",\"Sixth Sense, The (1999)\",\"Saving Private Ryan (1998)\",\"Men in Black (a.k.a. MIB) (1997)\",\"Lord of the Rings: The Two Towers, The (2002)\",\"Speed (1994)\",\"Beauty and the Beast (1991)\",\"Lord of the Rings: The Return of the King, The (2003)\",\"Ace Ventura: Pet Detective (1994)\",\"Shrek (2001)\",\"Mission: Impossible (1996)\",\"Groundhog Day (1993)\",\"Titanic (1997)\",\"Princess Bride, The (1987)\",\"Gladiator (2000)\",\"E.T. the Extra-Terrestrial (1982)\",\"Dumb & Dumber (Dumb and Dumber) (1994)\",\"Terminator, The (1984)\",\"Mask, The (1994)\",\"Good Will Hunting (1997)\",\"Mrs. Doubtfire (1993)\",\"Die Hard (1988)\",\"Twister (1996)\",\"Babe (1995)\",\"Willy Wonka & the Chocolate Factory (1971)\",\"Pretty Woman (1990)\",\"Ghostbusters (a.k.a. Ghost Busters) (1984)\",\"Indiana Jones and the Last Crusade (1989)\",\"Blade Runner (1982)\",\"Stargate (1994)\",\"Monty Python and the Holy Grail (1975)\",\"One Flew Over the Cuckoo's Nest (1975)\",\"Die Hard: With a Vengeance (1995)\",\"Pirates of the Caribbean: The Curse of the Black Pearl (2003)\",\"Star Wars: Episode I - The Phantom Menace (1999)\",\"Truman Show, The (1998)\",\"Rock, The (1996)\",\"Godfather: Part II, The (1974)\",\"Spider-Man (2002)\",\"Ferris Bueller's Day Off (1986)\",\"Memento (2000)\",\"Reservoir Dogs (1992)\",\"L\\u00e9on: The Professional (a.k.a. The Professional) (L\\u00e9on) (1994)\",\"Goodfellas (1990)\",\"Monsters, Inc. (2001)\",\"Ocean's Eleven (2001)\",\"Home Alone (1990)\",\"Batman Forever (1995)\",\"X-Men (2000)\",\"Alien (1979)\",\"Ghost (1990)\",\"Incredibles, The (2004)\",\"Being John Malkovich (1999)\",\"Amelie (Fabuleux destin d'Am\\u00e9lie Poulain, Le) (2001)\",\"Toy Story 2 (1999)\",\"Interview with the Vampire: The Vampire Chronicles (1994)\",\"L.A. Confidential (1997)\",\"Aliens (1986)\",\"Sleepless in Seattle (1993)\",\"Trainspotting (1996)\",\"2001: A Space Odyssey (1968)\",\"There's Something About Mary (1998)\",\"Finding Nemo (2003)\",\"GoldenEye (1995)\",\"Four Weddings and a Funeral (1994)\",\"Clockwork Orange, A (1971)\",\"Shakespeare in Love (1998)\",\"Dark Knight, The (2008)\",\"Big Lebowski, The (1998)\",\"Clueless (1995)\",\"Rain Man (1988)\",\"Taxi Driver (1976)\",\"Fifth Element, The (1997)\",\"Casablanca (1942)\",\"Breakfast Club, The (1985)\",\"Wizard of Oz, The (1939)\",\"Minority Report (2002)\",\"Clear and Present Danger (1994)\",\"Beautiful Mind, A (2001)\",\"Crouching Tiger, Hidden Dragon (Wo hu cang long) (2000)\",\"Star Trek: Generations (1994)\",\"Armageddon (1998)\",\"Waterworld (1995)\",\"Apocalypse Now (1979)\",\"Stand by Me (1986)\",\"Austin Powers: The Spy Who Shagged Me (1999)\",\"Kill Bill: Vol. 1 (2003)\",\"American Pie (1999)\",\"Inception (2010)\",\"Outbreak (1995)\",\"Firm, The (1993)\",\"Clerks (1994)\",\"Jaws (1975)\",\"Who Framed Roger Rabbit? (1988)\",\"Big (1988)\",\"Austin Powers: International Man of Mystery (1997)\",\"Jumanji (1995)\",\"Natural Born Killers (1994)\",\"American History X (1998)\",\"Airplane! (1980)\",\"Eternal Sunshine of the Spotless Mind (2004)\",\"Cliffhanger (1993)\",\"Jerry Maguire (1996)\",\"Office Space (1999)\",\"Bug's Life, A (1998)\",\"Harry Potter and the Sorcerer's Stone (a.k.a. Harry Potter and the Philosopher's Stone) (2001)\",\"Batman Begins (2005)\",\"Dr. Strangelove or: How I Learned to Stop Worrying and Love the Bomb (1964)\",\"Total Recall (1990)\",\"Dead Man Walking (1995)\",\"Beetlejuice (1988)\",\"Heat (1995)\",\"Full Metal Jacket (1987)\",\"Green Mile, The (1999)\",\"Kill Bill: Vol. 2 (2004)\",\"Net, The (1995)\",\"Shining, The (1980)\",\"Leaving Las Vegas (1995)\",\"While You Were Sleeping (1995)\",\"Amadeus (1984)\",\"Bourne Identity, The (2002)\",\"Catch Me If You Can (2002)\",\"Life Is Beautiful (La Vita \\u00e8 bella) (1997)\",\"Chicken Run (2000)\",\"Back to the Future Part II (1989)\",\"Almost Famous (2000)\",\"As Good as It Gets (1997)\",\"Indiana Jones and the Temple of Doom (1984)\",\"Hunt for Red October, The (1990)\",\"O Brother, Where Art Thou? (2000)\",\"Cast Away (2000)\",\"Dead Poets Society (1989)\",\"Snatch (2000)\",\"Demolition Man (1993)\",\"Get Shorty (1995)\",\"Happy Gilmore (1996)\",\"Back to the Future Part III (1990)\",\"Blues Brothers, The (1980)\",\"Birdcage, The (1996)\",\"Donnie Darko (2001)\",\"Broken Arrow (1996)\",\"Contact (1997)\",\"Ace Ventura: When Nature Calls (1995)\",\"Rear Window (1954)\",\"Monty Python's Life of Brian (1979)\",\"Lethal Weapon (1987)\",\"Grease (1978)\",\"Quiz Show (1994)\",\"Nightmare Before Christmas, The (1993)\",\"Dave (1993)\",\"Graduate, The (1967)\",\"Fish Called Wanda, A (1988)\",\"Edward Scissorhands (1990)\",\"Casino (1995)\",\"What's Eating Gilbert Grape (1993)\",\"Meet the Parents (2000)\",\"High Fidelity (2000)\",\"Mr. Holland's Opus (1995)\",\"North by Northwest (1959)\",\"When Harry Met Sally... (1989)\",\"Philadelphia (1993)\",\"Sense and Sensibility (1995)\",\"Blair Witch Project, The (1999)\",\"Lost in Translation (2003)\",\"Erin Brockovich (2000)\",\"Citizen Kane (1941)\",\"Departed, The (2006)\",\"Harry Potter and the Prisoner of Azkaban (2004)\",\"Gattaca (1997)\",\"Spider-Man 2 (2004)\",\"Face/Off (1997)\",\"Star Wars: Episode II - Attack of the Clones (2002)\",\"Star Trek: First Contact (1996)\",\"This Is Spinal Tap (1984)\",\"Matrix Reloaded, The (2003)\",\"American President, The (1995)\",\"X2: X-Men United (2003)\",\"Shrek 2 (2004)\",\"Mission: Impossible II (2000)\",\"Harry Potter and the Chamber of Secrets (2002)\",\"Sound of Music, The (1965)\",\"To Kill a Mockingbird (1962)\",\"Crimson Tide (1995)\",\"In the Line of Fire (1993)\",\"Annie Hall (1977)\",\"Mars Attacks! (1996)\",\"Sin City (2005)\",\"Run Lola Run (Lola rennt) (1998)\",\"Election (1999)\",\"Charlie's Angels (2000)\",\"Mummy, The (1999)\",\"Dogma (1999)\",\"Little Mermaid, The (1989)\",\"Untouchables, The (1987)\",\"Ed Wood (1994)\",\"Piano, The (1993)\",\"Mary Poppins (1964)\",\"Psycho (1960)\",\"Game, The (1997)\",\"Little Miss Sunshine (2006)\",\"My Cousin Vinny (1992)\",\"Honey, I Shrunk the Kids (1989)\",\"WALL\\u00b7E (2008)\",\"Chinatown (1974)\",\"Ransom (1996)\",\"Few Good Men, A (1992)\",\"Iron Man (2008)\",\"Superman (1978)\",\"Christmas Story, A (1983)\",\"Wallace & Gromit: The Wrong Trousers (1993)\",\"South Park: Bigger, Longer and Uncut (1999)\",\"Butch Cassidy and the Sundance Kid (1969)\",\"Wayne's World (1992)\",\"Bourne Supremacy, The (2004)\",\"12 Angry Men (1957)\",\"English Patient, The (1996)\",\"Top Gun (1986)\",\"Lock, Stock & Two Smoking Barrels (1998)\",\"Young Frankenstein (1974)\",\"Addams Family Values (1993)\",\"Scream (1996)\",\"Legends of the Fall (1994)\",\"V for Vendetta (2006)\",\"Traffic (2000)\",\"Juno (2007)\",\"Starship Troopers (1997)\",\"Phenomenon (1996)\",\"Star Trek II: The Wrath of Khan (1982)\",\"It's a Wonderful Life (1946)\",\"Abyss, The (1989)\",\"Liar Liar (1997)\",\"Bridget Jones's Diary (2001)\",\"Snow White and the Seven Dwarfs (1937)\",\"Maverick (1994)\",\"True Romance (1993)\",\"Air Force One (1997)\",\"Client, The (1994)\",\"Shaun of the Dead (2004)\",\"Santa Clause, The (1994)\",\"Judge Dredd (1995)\",\"Raising Arizona (1987)\",\"Wedding Singer, The (1998)\",\"Vertigo (1958)\",\"City of God (Cidade de Deus) (2002)\",\"Eraser (1996)\",\"Requiem for a Dream (2000)\",\"Rocky (1976)\",\"Royal Tenenbaums, The (2001)\",\"Platoon (1986)\",\"Rushmore (1998)\",\"Gone with the Wind (1939)\",\"Nutty Professor, The (1996)\",\"Avatar (2009)\",\"Lost World: Jurassic Park, The (1997)\",\"Enemy of the State (1998)\",\"Field of Dreams (1989)\",\"Crow, The (1994)\",\"Naked Gun 33 1/3: The Final Insult (1994)\",\"Die Hard 2 (1990)\",\"Pinocchio (1940)\",\"Talented Mr. Ripley, The (1999)\",\"Sling Blade (1996)\",\"Some Like It Hot (1959)\",\"Patriot, The (2000)\",\"Robin Hood: Men in Tights (1993)\",\"Chasing Amy (1997)\",\"Galaxy Quest (1999)\",\"Star Trek IV: The Voyage Home (1986)\",\"Bridge on the River Kwai, The (1957)\",\"Million Dollar Baby (2004)\",\"Romancing the Stone (1984)\",\"Singin' in the Rain (1952)\",\"Fantasia (1940)\",\"Batman Returns (1992)\",\"Grosse Pointe Blank (1997)\",\"Exorcist, The (1973)\",\"Pleasantville (1998)\",\"Notting Hill (1999)\",\"Full Monty, The (1997)\",\"City Slickers II: The Legend of Curly's Gold (1994)\",\"Sting, The (1973)\",\"Rocky Horror Picture Show, The (1975)\",\"Eyes Wide Shut (1999)\",\"Congo (1995)\",\"Spirited Away (Sen to Chihiro no kamikakushi) (2001)\",\"Ice Age (2002)\",\"Desperado (1995)\",\"Boogie Nights (1997)\",\"Unbreakable (2000)\",\"Maltese Falcon, The (1941)\",\"Wallace & Gromit: A Close Shave (1995)\",\"Brazil (1985)\",\"Like Water for Chocolate (Como agua para chocolate) (1992)\",\"Star Wars: Episode III - Revenge of the Sith (2005)\",\"Arachnophobia (1990)\",\"Blazing Saddles (1974)\",\"Close Encounters of the Third Kind (1977)\",\"Dragonheart (1996)\",\"Casino Royale (2006)\",\"Bourne Ultimatum, The (2007)\",\"Executive Decision (1996)\",\"Heathers (1989)\",\"Pianist, The (2002)\",\"Up (2009)\",\"Pocahontas (1995)\",\"Hoop Dreams (1994)\",\"Truth About Cats & Dogs, The (1996)\",\"French Kiss (1995)\",\"Crocodile Dundee (1986)\",\"Kingpin (1996)\",\"You've Got Mail (1998)\",\"The Devil's Advocate (1997)\",\"Much Ado About Nothing (1993)\",\"Grumpier Old Men (1995)\",\"Con Air (1997)\",\"Hot Shots! Part Deux (1993)\",\"Inglourious Basterds (2009)\",\"Animal House (1978)\",\"Harry Potter and the Goblet of Fire (2005)\",\"300 (2007)\",\"Cable Guy, The (1996)\",\"Best in Show (2000)\",\"Wag the Dog (1997)\",\"Pirates of the Caribbean: Dead Man's Chest (2006)\",\"Ratatouille (2007)\",\"M*A*S*H (a.k.a. MASH) (1970)\",\"Blade (1998)\",\"RoboCop (1987)\",\"Garden State (2004)\",\"Casper (1995)\",\"Glory (1989)\",\"William Shakespeare's Romeo + Juliet (1996)\",\"Bowling for Columbine (2002)\",\"Spaceballs (1987)\",\"Good, the Bad and the Ugly, The (Buono, il brutto, il cattivo, Il) (1966)\",\"I, Robot (2004)\",\"Beverly Hills Cop III (1994)\",\"League of Their Own, A (1992)\",\"Jackie Brown (1997)\",\"Lethal Weapon 2 (1989)\",\"Magnolia (1999)\",\"Unforgiven (1992)\",\"10 Things I Hate About You (1999)\",\"Planet of the Apes (1968)\",\"Tombstone (1993)\",\"Muriel's Wedding (1994)\",\"Father of the Bride Part II (1995)\",\"Gone in 60 Seconds (2000)\",\"Witness (1985)\",\"Basic Instinct (1992)\",\"Bonnie and Clyde (1967)\",\"Cinderella (1950)\",\"Alien\\u00b3 (a.k.a. Alien 3) (1992)\",\"Moulin Rouge (2001)\",\"Big Fish (2003)\",\"Love Actually (2003)\",\"Mask of Zorro, The (1998)\",\"Coneheads (1993)\",\"A.I. Artificial Intelligence (2001)\",\"Italian Job, The (2003)\",\"Species (1995)\",\"Matrix Revolutions, The (2003)\",\"Signs (2002)\",\"Star Trek III: The Search for Spock (1984)\",\"Seven Samurai (Shichinin no samurai) (1954)\",\"Caddyshack (1980)\",\"Manhattan (1979)\",\"Dirty Dancing (1987)\",\"Antz (1998)\",\"District 9 (2009)\",\"Good Morning, Vietnam (1987)\",\"Goldfinger (1964)\",\"James and the Giant Peach (1996)\",\"Last Action Hero (1993)\",\"Miss Congeniality (2000)\",\"Sabrina (1995)\",\"Perfect Storm, The (2000)\",\"Predator (1987)\",\"Dracula (Bram Stoker's Dracula) (1992)\",\"About a Boy (2002)\",\"So I Married an Axe Murderer (1993)\",\"Prestige, The (2006)\",\"Sleepy Hollow (1999)\",\"Tin Cup (1996)\",\"Pan's Labyrinth (Laberinto del fauno, El) (2006)\",\"Splash (1984)\",\"Fast Times at Ridgemont High (1982)\",\"My Best Friend's Wedding (1997)\",\"Disclosure (1994)\",\"Slumdog Millionaire (2008)\",\"28 Days Later (2002)\",\"Army of Darkness (1993)\",\"Dark City (1998)\",\"Beverly Hills Cop (1984)\",\"Bowfinger (1999)\",\"Goonies, The (1985)\",\"Jerk, The (1979)\",\"School of Rock (2003)\",\"My Big Fat Greek Wedding (2002)\",\"Star Trek (2009)\",\"Lady and the Tramp (1955)\",\"40-Year-Old Virgin, The (2005)\",\"Little Women (1994)\",\"Birds, The (1963)\",\"Shutter Island (2010)\",\"Boot, Das (Boat, The) (1981)\",\"Sneakers (1992)\",\"American Psycho (2000)\",\"Mighty Aphrodite (1995)\",\"Cruel Intentions (1999)\",\"Analyze This (1999)\",\"My Fair Lady (1964)\",\"Chicago (2002)\",\"Lawrence of Arabia (1962)\",\"Bruce Almighty (2003)\",\"Go (1999)\",\"Crying Game, The (1992)\",\"Tommy Boy (1995)\",\"African Queen, The (1951)\",\"Three Musketeers, The (1993)\",\"Primal Fear (1996)\",\"Space Jam (1996)\",\"Raging Bull (1980)\",\"Rumble in the Bronx (Hont faan kui) (1995)\",\"Great Escape, The (1963)\",\"Manchurian Candidate, The (1962)\",\"Chronicles of Narnia: The Lion, the Witch and the Wardrobe, The (2005)\",\"Scarface (1983)\",\"That Thing You Do! (1996)\",\"Alice in Wonderland (1951)\",\"Hudsucker Proxy, The (1994)\",\"Black Hawk Down (2001)\",\"Tomorrow Never Dies (1997)\",\"No Country for Old Men (2007)\",\"Hunchback of Notre Dame, The (1996)\",\"Others, The (2001)\",\"Fatal Attraction (1987)\",\"Highlander (1986)\",\"Mr. & Mrs. Smith (2005)\",\"Time to Kill, A (1996)\",\"Men in Black II (a.k.a. MIIB) (a.k.a. MIB 2) (2002)\",\"The Butterfly Effect (2004)\",\"From Dusk Till Dawn (1996)\",\"Bridges of Madison County, The (1995)\",\"Rob Roy (1995)\",\"Crash (2004)\",\"Elizabeth (1998)\",\"Adventures of Priscilla, Queen of the Desert, The (1994)\",\"Escape from New York (1981)\",\"Patriot Games (1992)\",\"Nine Months (1995)\",\"Deer Hunter, The (1978)\",\"Dark Knight Rises, The (2012)\",\"Ring, The (2002)\",\"Johnny Mnemonic (1995)\",\"Trading Places (1983)\",\"Deep Impact (1998)\",\"Tron (1982)\",\"Batman & Robin (1997)\",\"Charlie and the Chocolate Factory (2005)\",\"Fly, The (1986)\",\"Say Anything... (1989)\",\"Wild Wild West (1999)\",\"Star Trek VI: The Undiscovered Country (1991)\",\"Gremlins (1984)\",\"X-Files: Fight the Future, The (1998)\",\"Star Trek: The Motion Picture (1979)\",\"Legally Blonde (2001)\",\"River Wild, The (1994)\",\"Ben-Hur (1959)\",\"Avengers, The (2012)\",\"Fahrenheit 9/11 (2004)\",\"Mystic River (2003)\",\"Remains of the Day, The (1993)\",\"Cool Hand Luke (1967)\",\"Sixteen Candles (1984)\",\"Gandhi (1982)\",\"Zoolander (2001)\",\"Three Kings (1999)\",\"Jungle Book, The (1967)\",\"Cinema Paradiso (Nuovo cinema Paradiso) (1989)\",\"Beavis and Butt-Head Do America (1996)\",\"French Connection, The (1971)\",\"Austin Powers in Goldmember (2002)\",\"Wallace & Gromit: The Best of Aardman Animation (1996)\",\"Misery (1990)\",\"Runaway Bride (1999)\",\"Last Samurai, The (2003)\",\"Right Stuff, The (1983)\",\"(500) Days of Summer (2009)\",\"Thelma & Louise (1991)\",\"Sideways (2004)\",\"Romy and Michele's High School Reunion (1997)\",\"Insider, The (1999)\",\"Napoleon Dynamite (2004)\",\"Chocolat (2000)\",\"Postman, The (Postino, Il) (1994)\",\"Searching for Bobby Fischer (1993)\",\"Super Size Me (2004)\",\"Little Shop of Horrors (1986)\",\"Alien: Resurrection (1997)\",\"West Side Story (1961)\",\"Nell (1994)\",\"Player, The (1992)\",\"Mallrats (1995)\",\"Planet of the Apes (2001)\",\"Django Unchained (2012)\",\"Breakfast at Tiffany's (1961)\",\"Specialist, The (1994)\",\"Superbad (2007)\",\"Conspiracy Theory (1997)\",\"Harold and Maude (1971)\",\"Fear and Loathing in Las Vegas (1998)\",\"Boys Don't Cry (1999)\",\"Hangover, The (2009)\",\"What Women Want (2000)\",\"Borat: Cultural Learnings of America for Make Benefit Glorious Nation of Kazakhstan (2006)\",\"Bull Durham (1988)\",\"Robin Hood: Prince of Thieves (1991)\",\"Last of the Mohicans, The (1992)\",\"To Die For (1995)\",\"Time Bandits (1981)\",\"Me, Myself & Irene (2000)\",\"Double Jeopardy (1999)\",\"Cocoon (1985)\",\"Heavenly Creatures (1994)\",\"Billy Elliot (2000)\",\"Social Network, The (2010)\",\"Strange Days (1995)\",\"Interstellar (2014)\",\"First Knight (1995)\",\"Rush Hour (1998)\",\"Ghostbusters II (1989)\",\"Bad Boys (1995)\",\"Hook (1991)\",\"Children of Men (2006)\",\"Walk the Line (2005)\",\"Iron Giant, The (1999)\",\"Aristocats, The (1970)\",\"Billy Madison (1995)\",\"Junior (1994)\",\"Wedding Crashers (2005)\",\"Risky Business (1983)\",\"Pretty in Pink (1986)\",\"Adaptation (2002)\",\"Chariots of Fire (1981)\",\"I Am Legend (2007)\",\"Toy Story 3 (2010)\",\"Mulan (1998)\",\"Lethal Weapon 4 (1998)\",\"JFK (1991)\",\"Roger & Me (1989)\",\"Dangerous Minds (1995)\",\"Dumbo (1941)\",\"Pearl Harbor (2001)\",\"Hot Fuzz (2007)\",\"Swingers (1996)\",\"Willow (1988)\",\"Brady Bunch Movie, The (1995)\",\"I.Q. (1994)\",\"Blue Velvet (1986)\",\"101 Dalmatians (One Hundred and One Dalmatians) (1961)\",\"Entrapment (1999)\",\"Bend It Like Beckham (2002)\",\"Frequency (2000)\",\"Emma (1996)\",\"War of the Worlds (2005)\",\"Bill & Ted's Excellent Adventure (1989)\",\"Driving Miss Daisy (1989)\",\"Bullets Over Broadway (1994)\",\"Stripes (1981)\",\"Fast and the Furious, The (2001)\",\"Sherlock Holmes (2009)\",\"Rebel Without a Cause (1955)\",\"Streetcar Named Desire, A (1951)\",\"Ronin (1998)\",\"King's Speech, The (2010)\",\"Fried Green Tomatoes (1991)\",\"Pi (1998)\",\"Serenity (2005)\",\"Grifters, The (1990)\",\"City of Lost Children, The (Cit\\u00e9 des enfants perdus, La) (1995)\",\"Collateral (2004)\",\"Patton (1970)\",\"Stranger than Fiction (2006)\",\"Thank You for Smoking (2006)\",\"Femme Nikita, La (Nikita) (1990)\",\"Midnight Cowboy (1969)\",\"Remember the Titans (2000)\",\"Thomas Crown Affair, The (1999)\",\"Grand Day Out with Wallace and Gromit, A (1989)\",\"Cape Fear (1991)\",\"Sleeper (1973)\",\"Mulholland Drive (2001)\",\"Wild Things (1998)\",\"American Pie 2 (2001)\",\"Sunset Blvd. (a.k.a. Sunset Boulevard) (1950)\",\"Lethal Weapon 3 (1992)\",\"Flintstones, The (1994)\",\"Striptease (1996)\",\"L.A. Story (1991)\",\"Madness of King George, The (1994)\",\"Cider House Rules, The (1999)\",\"Donnie Brasco (1997)\",\"All About Eve (1950)\",\"Harry Potter and the Order of the Phoenix (2007)\",\"American Graffiti (1973)\",\"Poltergeist (1982)\",\"The Hunger Games (2012)\",\"In Bruges (2008)\",\"Network (1976)\",\"Third Man, The (1949)\",\"Road to Perdition (2002)\",\"Princess Mononoke (Mononoke-hime) (1997)\",\"NeverEnding Story, The (1984)\",\"Superman II (1980)\",\"Shallow Grave (1994)\",\"Mortal Kombat (1995)\",\"Peter Pan (1953)\",\"Terminator 3: Rise of the Machines (2003)\",\"Karate Kid, The (1984)\",\"Copycat (1995)\",\"American Werewolf in London, An (1981)\",\"Shanghai Noon (2000)\",\"Arsenic and Old Lace (1944)\",\"Philadelphia Story, The (1940)\",\"101 Dalmatians (1996)\",\"Lives of Others, The (Das leben der Anderen) (2006)\",\"Blood Diamond (2006)\",\"Enemy at the Gates (2001)\",\"20,000 Leagues Under the Sea (1954)\",\"Carrie (1976)\",\"Training Day (2001)\",\"Vanilla Sky (2001)\",\"Blow (2001)\",\"Shine (1996)\",\"Simpsons Movie, The (2007)\",\"Zombieland (2009)\",\"Scary Movie (2000)\",\"Sister Act (1992)\",\"Fisher King, The (1991)\",\"Moonstruck (1987)\",\"Guardians of the Galaxy (2014)\",\"Road Trip (2000)\",\"Monty Python's The Meaning of Life (1983)\",\"Dazed and Confused (1993)\",\"Finding Neverland (2004)\",\"Terminal, The (2004)\",\"Dodgeball: A True Underdog Story (2004)\",\"Doors, The (1991)\",\"Weird Science (1985)\",\"Ghost World (2001)\",\"Rudy (1993)\",\"World Is Not Enough, The (1999)\",\"Gods Must Be Crazy, The (1980)\",\"Craft, The (1996)\",\"Gran Torino (2008)\",\"Thin Red Line, The (1998)\",\"Rounders (1998)\",\"Rosemary's Baby (1968)\",\"Broadcast News (1987)\",\"Planes, Trains & Automobiles (1987)\",\"Big Chill, The (1983)\",\"Labyrinth (1986)\",\"Arlington Road (1999)\",\"Mystery Men (1999)\",\"Grand Budapest Hotel, The (2014)\",\"Don Juan DeMarco (1995)\",\"National Treasure (2004)\",\"Natural, The (1984)\",\"Miracle on 34th Street (1994)\",\"Godfather: Part III, The (1990)\",\"Killing Fields, The (1984)\",\"Lara Croft: Tomb Raider (2001)\",\"Equilibrium (2002)\",\"Muppet Movie, The (1979)\",\"Lone Star (1996)\",\"Showgirls (1995)\",\"Never Been Kissed (1999)\",\"Man on the Moon (1999)\",\"Sleeping Beauty (1959)\",\"Mad Max (1979)\",\"Dirty Dozen, The (1967)\",\"Wonder Boys (2000)\",\"Naked Gun: From the Files of Police Squad!, The (1988)\",\"October Sky (1999)\",\"Addams Family, The (1991)\",\"Gangs of New York (2002)\",\"Da Vinci Code, The (2006)\",\"Saint, The (1997)\",\"Desperately Seeking Susan (1985)\",\"Prince of Egypt, The (1998)\",\"Dangerous Liaisons (1988)\",\"Duck Soup (1933)\",\"Bambi (1942)\",\"Aviator, The (2004)\",\"Deep Blue Sea (1999)\",\"Terms of Endearment (1983)\",\"Reality Bites (1994)\",\"Cell, The (2000)\",\"Master and Commander: The Far Side of the World (2003)\",\"Forget Paris (1995)\",\"Hitchhiker's Guide to the Galaxy, The (2005)\",\"Akira (1988)\",\"Ocean's Twelve (2004)\",\"Multiplicity (1996)\",\"Harry Potter and the Deathly Hallows: Part 2 (2011)\",\"Strictly Ballroom (1992)\",\"Black Swan (2010)\",\"Powder (1995)\",\"About Schmidt (2002)\",\"Anchorman: The Legend of Ron Burgundy (2004)\",\"Heavy Metal (1981)\",\"Mystery Science Theater 3000: The Movie (1996)\",\"Michael (1996)\",\"Producers, The (1968)\",\"Harry Potter and the Deathly Hallows: Part 1 (2010)\",\"Kung Fu Panda (2008)\",\"Apartment, The (1960)\",\"Englishman Who Went Up a Hill But Came Down a Mountain, The (1995)\",\"Negotiator, The (1998)\",\"Hannibal (2001)\",\"Hero (Ying xiong) (2002)\",\"Pirates of the Caribbean: At World's End (2007)\",\"Swordfish (2001)\",\"Sleepers (1996)\",\"Notebook, The (2004)\",\"Saw (2004)\",\"How to Train Your Dragon (2010)\",\"Thing, The (1982)\",\"Evil Dead II (Dead by Dawn) (1987)\",\"People vs. Larry Flynt, The (1996)\",\"Illusionist, The (2006)\",\"WarGames (1983)\",\"Crumb (1994)\",\"Old School (2003)\",\"Old Boy (2003)\",\"Hotel Rwanda (2004)\",\"Big Sleep, The (1946)\",\"Deliverance (1972)\",\"Kalifornia (1993)\",\"Mummy Returns, The (2001)\",\"From Russia with Love (1963)\",\"Repo Man (1984)\",\"Emperor's New Groove, The (2000)\",\"Do the Right Thing (1989)\",\"Indian in the Cupboard, The (1995)\",\"Backdraft (1991)\",\"Carlito's Way (1993)\",\"Nightmare on Elm Street, A (1984)\",\"Modern Times (1936)\",\"Payback (1999)\",\"Rocketeer, The (1991)\",\"The Imitation Game (2014)\",\"Scream 2 (1997)\",\"Hercules (1997)\",\"Troy (2004)\",\"Three Colors: Red (Trois couleurs: Rouge) (1994)\",\"Double Indemnity (1944)\",\"Jay and Silent Bob Strike Back (2001)\",\"General's Daughter, The (1999)\",\"Jewel of the Nile, The (1985)\",\"Kramer vs. Kramer (1979)\",\"Jurassic Park III (2001)\",\"Ordinary People (1980)\",\"Three Colors: Blue (Trois couleurs: Bleu) (1993)\",\"Simple Plan, A (1998)\",\"Taken (2008)\",\"Dr. No (1962)\",\"Lord of War (2005)\",\"Falling Down (1993)\",\"Secret Garden, The (1993)\",\"Grumpy Old Men (1993)\",\"Mad Max: Fury Road (2015)\",\"Home Alone 2: Lost in New York (1992)\",\"Bulworth (1998)\",\"Free Willy (1993)\",\"In the Name of the Father (1993)\",\"Transformers (2007)\",\"Courage Under Fire (1996)\",\"\\u00a1Three Amigos! (1986)\",\"Last Emperor, The (1987)\",\"Bob Roberts (1992)\",\"Nixon (1995)\",\"Room with a View, A (1986)\",\"Color Purple, The (1985)\",\"Die Another Day (2002)\",\"Into the Wild (2007)\",\"Grapes of Wrath, The (1940)\",\"Under Siege 2: Dark Territory (1995)\",\"Mr. Smith Goes to Washington (1939)\",\"Out of Africa (1985)\",\"Scent of a Woman (1992)\",\"Waking Ned Devine (a.k.a. Waking Ned) (1998)\",\"Curious Case of Benjamin Button, The (2008)\",\"I Know What You Did Last Summer (1997)\",\"Flashdance (1983)\",\"Hollow Man (2000)\",\"Amores Perros (Love's a Bitch) (2000)\",\"Babe: Pig in the City (1998)\",\"Dune (1984)\",\"Scrooged (1988)\",\"Mission to Mars (2000)\",\"Virgin Suicides, The (1999)\",\"Kick-Ass (2010)\",\"Burn After Reading (2008)\",\"Hard Day's Night, A (1964)\",\"Bringing Up Baby (1938)\",\"Mexican, The (2001)\",\"National Lampoon's Vacation (1983)\",\"Jungle Book, The (1994)\",\"21 Grams (2003)\",\"Long Kiss Goodnight, The (1996)\",\"Panic Room (2002)\",\"Treasure of the Sierra Madre, The (1948)\",\"Bone Collector, The (1999)\",\"Welcome to the Dollhouse (1995)\",\"Delicatessen (1991)\",\"To Catch a Thief (1955)\",\"Victor/Victoria (1982)\",\"Waiting for Guffman (1996)\",\"Robin Hood (1973)\",\"Sgt. Bilko (1996)\",\"Tootsie (1982)\",\"Iron Man 2 (2010)\",\"Midnight Run (1988)\",\"Cool Runnings (1993)\",\"How the Grinch Stole Christmas (a.k.a. The Grinch) (2000)\",\"Malcolm X (1992)\",\"Bodyguard, The (1992)\",\"On the Waterfront (1954)\",\"Dog Day Afternoon (1975)\",\"Wolf of Wall Street, The (2013)\",\"50 First Dates (2004)\",\"Harry Potter and the Half-Blood Prince (2009)\",\"Pee-wee's Big Adventure (1985)\",\"Out of Sight (1998)\",\"Brokeback Mountain (2005)\",\"Kiss Kiss Bang Bang (2005)\",\"Gosford Park (2001)\",\"Sex, Lies, and Videotape (1989)\",\"Road Warrior, The (Mad Max 2) (1981)\",\"She's All That (1999)\",\"What About Bob? (1991)\",\"Village, The (2004)\",\"When a Man Loves a Woman (1994)\",\"U-571 (2000)\",\"Life Aquatic with Steve Zissou, The (2004)\",\"Boiler Room (2000)\",\"Star Wars: Episode VII - The Force Awakens (2015)\",\"Gravity (2013)\",\"Big Daddy (1999)\",\"White Men Can't Jump (1992)\",\"Inside Man (2006)\",\"Godzilla (1998)\",\"Hellboy (2004)\",\"Moon (2009)\",\"Crimes and Misdemeanors (1989)\",\"Anaconda (1997)\",\"Young Guns (1988)\",\"X-Men: First Class (2011)\",\"My Left Foot (1989)\",\"On Golden Pond (1981)\",\"Wallace & Gromit in The Curse of the Were-Rabbit (2005)\",\"Walk in the Clouds, A (1995)\",\"River Runs Through It, A (1992)\",\"Dark Crystal, The (1982)\",\"Final Destination (2000)\",\"Madagascar (2005)\",\"Tarzan (1999)\",\"Ever After: A Cinderella Story (1998)\",\"Mean Girls (2004)\",\"Return of the Pink Panther, The (1975)\",\"Logan's Run (1976)\",\"Escape from L.A. (1996)\",\"Daredevil (2003)\",\"Fletch (1985)\",\"Patch Adams (1998)\",\"Being There (1979)\",\"Whiplash (2014)\",\"City Slickers (1991)\",\"Poseidon Adventure, The (1972)\",\"Benny & Joon (1993)\",\"Knight's Tale, A (2001)\",\"Elephant Man, The (1980)\",\"Phone Booth (2002)\",\"Mulholland Falls (1996)\",\"Weekend at Bernie's (1989)\",\"Glengarry Glen Ross (1992)\",\"Charade (1963)\",\"Dick Tracy (1990)\",\"Night of the Living Dead (1968)\",\"Serpico (1973)\",\"Coyote Ugly (2000)\",\"Boyz N the Hood (1991)\",\"Secret of NIMH, The (1982)\",\"Good Night, and Good Luck. (2005)\",\"Howl's Moving Castle (Hauru no ugoku shiro) (2004)\",\"Down Periscope (1996)\",\"Bound (1996)\",\"Naked Gun 2 1/2: The Smell of Fear, The (1991)\",\"Elf (2003)\",\"Stuart Little (1999)\",\"Red Dragon (2002)\",\"25th Hour (2002)\",\"Miller's Crossing (1990)\",\"Drugstore Cowboy (1989)\",\"Dr. Dolittle (1998)\",\"Beach, The (2000)\",\"Muppet Treasure Island (1996)\",\"Scream 3 (2000)\",\"Jaws 2 (1978)\",\"Lawnmower Man, The (1992)\",\"Hoosiers (a.k.a. Best Shot) (1986)\",\"Mary Shelley's Frankenstein (Frankenstein) (1994)\",\"Intouchables (2011)\",\"Ghost in the Shell (K\\u00f4kaku kid\\u00f4tai) (1995)\",\"Karate Kid, Part II, The (1986)\",\"G.I. Jane (1997)\",\"Monster's Ball (2001)\",\"And Your Mother Too (Y tu mam\\u00e1 tambi\\u00e9n) (2001)\",\"Pitch Black (2000)\",\"Juror, The (1996)\",\"Ran (1985)\",\"Airheads (1994)\",\"Rush Hour 2 (2001)\",\"Edge of Tomorrow (2014)\",\"Sliding Doors (1998)\",\"Insomnia (2002)\",\"Sophie's Choice (1982)\",\"Sword in the Stone, The (1963)\",\"Dial M for Murder (1954)\",\"Whole Nine Yards, The (2000)\",\"Metropolis (1927)\",\"Sherlock Holmes: A Game of Shadows (2011)\",\"Up in the Air (2009)\",\"Hurt Locker, The (2008)\",\"Secrets & Lies (1996)\",\"Lost in Space (1998)\",\"Halloween (1978)\",\"Motorcycle Diaries, The (Diarios de motocicleta) (2004)\",\"Brothers McMullen, The (1995)\",\"Watchmen (2009)\",\"Moonrise Kingdom (2012)\",\"Ex Machina (2015)\",\"What Lies Beneath (2000)\",\"Scott Pilgrim vs. the World (2010)\",\"My Neighbor Totoro (Tonari no Totoro) (1988)\",\"Wedding Planner, The (2001)\",\"Battle Royale (Batoru rowaiaru) (2000)\",\"American Tail, An (1986)\",\"Tank Girl (1995)\",\"Laura (1944)\",\"There Will Be Blood (2007)\",\"Waterboy, The (1998)\",\"Spy Game (2001)\",\"First Wives Club, The (1996)\",\"The Hunger Games: Catching Fire (2013)\",\"Short Cuts (1993)\",\"Devil in a Blue Dress (1995)\",\"Roman Holiday (1953)\",\"Four Rooms (1995)\",\"Hackers (1995)\",\"Finding Forrester (2000)\",\"His Girl Friday (1940)\",\"Live Free or Die Hard (2007)\",\"Shadowlands (1993)\",\"Meet the Fockers (2004)\",\"It Happened One Night (1934)\",\"Ocean's Thirteen (2007)\",\"Airplane II: The Sequel (1982)\",\"Working Girl (1988)\",\"Island of Dr. Moreau, The (1996)\",\"Hamlet (1996)\",\"Hobbit: An Unexpected Journey, The (2012)\",\"Six Degrees of Separation (1993)\",\"Dawn of the Dead (2004)\",\"Her (2013)\",\"Star Trek V: The Final Frontier (1989)\",\"Dolores Claiborne (1995)\",\"Christmas Vacation (National Lampoon's Christmas Vacation) (1989)\",\"Pelican Brief, The (1993)\",\"Age of Innocence, The (1993)\",\"Lucky Number Slevin (2006)\",\"Omen, The (1976)\",\"Easy Rider (1969)\",\"It Could Happen to You (1994)\",\"Any Given Sunday (1999)\",\"Gone Girl (2014)\",\"Cars (2006)\",\"Day After Tomorrow, The (2004)\",\"The Martian (2015)\",\"Amistad (1997)\",\"Seabiscuit (2003)\",\"Charlotte's Web (1973)\",\"In & Out (1997)\",\"Constantine (2005)\",\"Popeye (1980)\",\"13th Warrior, The (1999)\",\"Live and Let Die (1973)\",\"Pursuit of Happyness, The (2006)\",\"Smoke (1995)\",\"Stigmata (1999)\",\"Pink Floyd: The Wall (1982)\",\"Coming to America (1988)\",\"Punch-Drunk Love (2002)\",\"Born on the Fourth of July (1989)\",\"Running Man, The (1987)\",\"Munich (2005)\",\"Source Code (2011)\",\"8 Mile (2002)\",\"Opposite of Sex, The (1998)\",\"Eat Drink Man Woman (Yin shi nan nu) (1994)\",\"Blood Simple (1984)\",\"Conan the Barbarian (1982)\",\"Inside Out (2015)\",\"Rise of the Planet of the Apes (2011)\",\"Hitch (2005)\",\"Evil Dead, The (1981)\",\"K-PAX (2001)\",\"28 Days (2000)\",\"Superman III (1983)\",\"X-Men: Days of Future Past (2014)\",\"Better Off Dead... (1985)\",\"Footloose (1984)\",\"Jacob's Ladder (1990)\",\"Father of the Bride (1950)\",\"Knocked Up (2007)\",\"eXistenZ (1999)\",\"Frighteners, The (1996)\",\"Dead Again (1991)\",\"RoboCop 3 (1993)\",\"Charlie's Angels: Full Throttle (2003)\",\"Skyfall (2012)\",\"Quick and the Dead, The (1995)\",\"Indiana Jones and the Kingdom of the Crystal Skull (2008)\",\"Hustler, The (1961)\",\"Six Days Seven Nights (1998)\",\"Parenthood (1989)\",\"Perfect Murder, A (1998)\",\"Barton Fink (1991)\",\"Fantastic Mr. Fox (2009)\",\"Sweet Hereafter, The (1997)\",\"xXx (2002)\",\"Black Sheep (1996)\",\"Private Benjamin (1980)\",\"Titan A.E. (2000)\",\"Name of the Rose, The (Name der Rose, Der) (1986)\",\"City Lights (1931)\",\"Bronx Tale, A (1993)\",\"Identity (2003)\",\"Major League (1989)\",\"Dancer in the Dark (2000)\",\"City of Angels (1998)\",\"King Kong (2005)\",\"Spanish Prisoner, The (1997)\",\"Mickey Blue Eyes (1999)\",\"To Wong Foo, Thanks for Everything! Julie Newmar (1995)\",\"Conversation, The (1974)\",\"Pay It Forward (2000)\",\"Event Horizon (1997)\",\"Strangers on a Train (1951)\",\"Meet Joe Black (1998)\",\"Dirty Harry (1971)\",\"Gods and Monsters (1998)\",\"Happiness (1998)\",\"Kids (1995)\",\"Moonraker (1979)\",\"Up Close and Personal (1996)\",\"Sabrina (1954)\",\"Great Dictator, The (1940)\",\"King Kong (1933)\",\"Diamonds Are Forever (1971)\",\"Rebecca (1940)\",\"Spider-Man 3 (2007)\",\"Bicycle Thieves (a.k.a. The Bicycle Thief) (a.k.a. The Bicycle Thieves) (Ladri di biciclette) (1948)\",\"Private Parts (1997)\",\"Richard III (1995)\",\"Shallow Hal (2001)\",\"Stardust (2007)\",\"Snake Eyes (1998)\",\"Who's Afraid of Virginia Woolf? (1966)\",\"Menace II Society (1993)\",\"Homeward Bound: The Incredible Journey (1993)\",\"Speed 2: Cruise Control (1997)\",\"Man on Fire (2004)\",\"Anger Management (2003)\",\"127 Hours (2010)\",\"The Count of Monte Cristo (2002)\",\"Outsiders, The (1983)\",\"Once Upon a Time in America (1984)\",\"Radio Days (1987)\",\"Mighty Ducks, The (1992)\",\"Deuce Bigalow: Male Gigolo (1999)\",\"Dick (1999)\",\"Pineapple Express (2008)\",\"Band of Brothers (2001)\",\"Big Trouble in Little China (1986)\",\"Beautiful Girls (1996)\",\"Henry V (1989)\",\"Circle of Friends (1995)\",\"Friday (1995)\",\"Spy Who Loved Me, The (1977)\",\"Captain America: The First Avenger (2011)\",\"Red Violin, The (Violon rouge, Le) (1998)\",\"Bedknobs and Broomsticks (1971)\",\"American Gangster (2007)\",\"Matchstick Men (2003)\",\"Three Colors: White (Trzy kolory: Bialy) (1994)\",\"Hurricane, The (1999)\",\"Adventures in Babysitting (1987)\",\"Big Night (1996)\",\"Island, The (2005)\",\"Doctor Zhivago (1965)\",\"Diner (1982)\",\"Cabaret (1972)\",\"Anastasia (1997)\",\"Whale Rider (2002)\",\"Boondock Saints, The (2000)\",\"Blade II (2002)\",\"Milk Money (1994)\",\"Crocodile Dundee II (1988)\",\"Peggy Sue Got Married (1986)\",\"Evita (1996)\",\"Dude, Where's My Car? (2000)\",\"Police Academy (1984)\",\"Murder in the First (1995)\",\"Wayne's World 2 (1993)\",\"In the Heat of the Night (1967)\",\"Professional, The (Le professionnel) (1981)\",\"Body Heat (1981)\",\"Miracle on 34th Street (1947)\",\"Starman (1984)\",\"Forgetting Sarah Marshall (2008)\",\"Stir of Echoes (1999)\",\"X-Men: The Last Stand (2006)\",\"Assassins (1995)\",\"Faculty, The (1998)\",\"Sweet Home Alabama (2002)\",\"Money Pit, The (1986)\",\"Dante's Peak (1997)\",\"Laputa: Castle in the Sky (Tenk\\u00fb no shiro Rapyuta) (1986)\",\"Monty Python's And Now for Something Completely Different (1971)\",\"Silver Linings Playbook (2012)\",\"Harold and Kumar Go to White Castle (2004)\",\"Hobbit: The Desolation of Smaug, The (2013)\",\"True Grit (2010)\",\"Arrival, The (1996)\",\"Resident Evil (2002)\",\"U.S. Marshals (1998)\",\"Man in the Iron Mask, The (1998)\",\"Rosencrantz and Guildenstern Are Dead (1990)\",\"Spy Hard (1996)\",\"American in Paris, An (1951)\",\"Life of Pi (2012)\",\"Sandlot, The (1993)\",\"Midnight in Paris (2011)\",\"Tangled (2010)\",\"Good bye, Lenin! (2003)\",\"Nosferatu (Nosferatu, eine Symphonie des Grauens) (1922)\",\"M (1931)\",\"F/X (1986)\",\"Timecop (1994)\",\"High Noon (1952)\",\"Haunting, The (1999)\",\"Odd Couple, The (1968)\",\"Rocky III (1982)\",\"Nashville (1975)\",\"Bringing Out the Dead (1999)\",\"Commitments, The (1991)\",\"Notorious (1946)\",\"Cube (1997)\",\"Top Hat (1935)\",\"Big Hero 6 (2014)\",\"Around the World in 80 Days (1956)\",\"Darjeeling Limited, The (2007)\",\"Last Picture Show, The (1971)\",\"Manhattan Murder Mystery (1993)\",\"Parent Trap, The (1961)\",\"Man Without a Face, The (1993)\",\"Purple Rose of Cairo, The (1985)\",\"Underworld (2003)\",\"Papillon (1973)\",\"Basketball Diaries, The (1995)\",\"Hairspray (1988)\",\"Rocky IV (1985)\",\"Ray (2004)\",\"Battlestar Galactica (2003)\",\"Lake Placid (1999)\",\"Save the Last Dance (2001)\",\"Summer of Sam (1999)\",\"Barbarella (1968)\",\"Dallas Buyers Club (2013)\",\"Heaven Can Wait (1978)\",\"William Shakespeare's A Midsummer Night's Dream (1999)\",\"Family Man, The (2000)\",\"Corpse Bride (2005)\",\"EDtv (1999)\",\"King and I, The (1956)\",\"Blast from the Past (1999)\",\"Iron Man 3 (2013)\",\"Mission: Impossible III (2006)\",\"Mighty Wind, A (2003)\",\"Devil Wears Prada, The (2006)\",\"Yellow Submarine (1968)\",\"Ghost and the Darkness, The (1996)\",\"Fox and the Hound, The (1981)\",\"Death Becomes Her (1992)\",\"Nurse Betty (2000)\",\"Joy Luck Club, The (1993)\",\"Ladyhawke (1985)\",\"Lilo & Stitch (2002)\",\"Jackal, The (1997)\",\"City Hall (1996)\",\"Flirting With Disaster (1996)\",\"Gremlins 2: The New Batch (1990)\",\"Dirty Rotten Scoundrels (1988)\",\"Evolution (2001)\",\"Lost Highway (1997)\",\"My Favorite Year (1982)\",\"Vertical Limit (2000)\",\"6th Day, The (2000)\",\"Zodiac (2007)\",\"Forever Young (1992)\",\"Absolute Power (1997)\",\"Alice in Wonderland (2010)\",\"Ghost Dog: The Way of the Samurai (1999)\",\"All That Jazz (1979)\",\"Kiss the Girls (1997)\",\"Pushing Tin (1999)\",\"History of Violence, A (2005)\",\"Steel Magnolias (1989)\",\"All the President's Men (1976)\",\"Ruthless People (1986)\",\"Nausica\\u00e4 of the Valley of the Wind (Kaze no tani no Naushika) (1984)\",\"Lost Boys, The (1987)\",\"Wall Street (1987)\",\"Immortal Beloved (1994)\",\"Thin Blue Line, The (1988)\",\"Pride & Prejudice (2005)\",\"League of Extraordinary Gentlemen, The (a.k.a. LXG) (2003)\",\"Ice Age 2: The Meltdown (2006)\",\"Midnight in the Garden of Good and Evil (1997)\",\"Chronicles of Riddick, The (2004)\",\"Real Genius (1985)\",\"Star Trek Into Darkness (2013)\",\"Toys (1992)\",\"3:10 to Yuma (2007)\",\"All About My Mother (Todo sobre mi madre) (1999)\",\"From Hell (2001)\",\"Richie Rich (1994)\",\"Five Easy Pieces (1970)\",\"Paper, The (1994)\",\"Inspector Gadget (1999)\",\"Stalag 17 (1953)\",\"Girl, Interrupted (1999)\",\"Amazing Spider-Man, The (2012)\",\"Team America: World Police (2004)\",\"Breaking the Waves (1996)\",\"Day the Earth Stood Still, The (1951)\",\"Downfall (Untergang, Der) (2004)\",\"8 1/2 (8\\u00bd) (1963)\",\"Ideal Husband, An (1999)\",\"Bring It On (2000)\",\"Bio-Dome (1996)\",\"Dead Zone, The (1983)\",\"Looper (2012)\",\"From Here to Eternity (1953)\",\"Volcano (1997)\",\"Sudden Death (1995)\",\"Little Princess, A (1995)\",\"Flatliners (1990)\",\"Man Who Wasn't There, The (2001)\",\"Romeo Must Die (2000)\",\"Limitless (2011)\",\"Return to Me (2000)\",\"Cape Fear (1962)\",\"Grease 2 (1982)\",\"Blind Side, The  (2009)\",\"Spartacus (1960)\",\"Mr. Deeds (2002)\",\"Three Men and a Baby (1987)\",\"Cinderella Man (2005)\",\"Seven Years in Tibet (1997)\",\"Invasion of the Body Snatchers (1956)\",\"Capote (2005)\",\"Kung Fu Hustle (Gong fu) (2004)\",\"Absent-Minded Professor, The (1961)\",\"Mad Max Beyond Thunderdome (1985)\",\"Serendipity (2001)\",\"Bad Santa (2003)\",\"Closer (2004)\",\"Tropic Thunder (2008)\",\"Hancock (2008)\",\"The Machinist (2004)\",\"Cop Land (1997)\",\"'burbs, The (1989)\",\"Scary Movie 2 (2001)\",\"Final Fantasy: The Spirits Within (2001)\",\"End of Days (1999)\",\"Lord of the Rings, The (1978)\",\"Cloverfield (2008)\",\"Sweeney Todd: The Demon Barber of Fleet Street (2007)\",\"Awakenings (1990)\",\"Eastern Promises (2007)\",\"One Hour Photo (2002)\",\"Harvey (1950)\",\"Battlefield Earth (2000)\",\"RoboCop 2 (1990)\",\"Straight Story, The (1999)\",\"Blue Lagoon, The (1980)\",\"View to a Kill, A (1985)\",\"Police Academy 2: Their First Assignment (1985)\",\"Predator 2 (1990)\",\"Breaking Away (1979)\",\"Sphere (1998)\",\"Rocky V (1990)\",\"Karate Kid, Part III, The (1989)\",\"Inconvenient Truth, An (2006)\",\"Civil Action, A (1998)\",\"Fistful of Dollars, A (Per un pugno di dollari) (1964)\",\"Clue (1985)\",\"One Fine Day (1996)\",\"Raise the Red Lantern (Da hong deng long gao gao gua) (1991)\",\"Boomerang (1992)\",\"Bananas (1971)\",\"Down by Law (1986)\",\"Son in Law (1993)\",\"Touch of Evil (1958)\",\"Wolf (1994)\",\"Argo (2012)\",\"Old Yeller (1957)\",\"Wings of Desire (Himmel \\u00fcber Berlin, Der) (1987)\",\"Days of Thunder (1990)\",\"Cook the Thief His Wife & Her Lover, The (1989)\",\"Bed of Roses (1996)\",\"My Life as a Dog (Mitt liv som hund) (1985)\",\"Wreck-It Ralph (2012)\",\"Matilda (1996)\",\"Shall We Dance? (Shall We Dansu?) (1996)\",\"Red Rock West (1992)\",\"Saw II (2005)\",\"Red (2010)\",\"Adventures of Robin Hood, The (1938)\",\"Deadpool (2016)\",\"I Heart Huckabees (2004)\",\"Man with the Golden Gun, The (1974)\",\"Under Siege (1992)\",\"Living in Oblivion (1995)\",\"Golden Child, The (1986)\",\"Nutty Professor, The (1963)\",\"For Your Eyes Only (1981)\",\"Mosquito Coast, The (1986)\",\"Parent Trap, The (1998)\",\"Score, The (2001)\",\"War of the Worlds, The (1953)\",\"Somewhere in Time (1980)\",\"Wanted (2008)\",\"Princess Diaries, The (2001)\",\"Things to Do in Denver When You're Dead (1995)\",\"Night at the Museum (2006)\",\"Thirteenth Floor, The (1999)\",\"Bicentennial Man (1999)\",\"Teenage Mutant Ninja Turtles (1990)\",\"Diabolique (1996)\",\"First Blood (Rambo: First Blood) (1982)\",\"21 (2008)\",\"Clerks II (2006)\",\"Pete's Dragon (1977)\",\"Guess Who's Coming to Dinner (1967)\",\"Constant Gardener, The (2005)\",\"Escape to Witch Mountain (1975)\",\"Hellboy II: The Golden Army (2008)\",\"AVP: Alien vs. Predator (2004)\",\"Space Cowboys (2000)\",\"Persuasion (1995)\",\"History of the World: Part I (1981)\",\"Guys and Dolls (1955)\",\"Jack (1996)\",\"St. Elmo's Fire (1985)\",\"Phantom, The (1996)\",\"Little Nicky (2000)\",\"Mr. Mom (1983)\",\"Nobody's Fool (1994)\",\"Grindhouse (2007)\",\"Sliver (1993)\",\"Dracula: Dead and Loving It (1995)\",\"Serial Mom (1994)\",\"Pet Sematary (1989)\",\"8MM (1999)\",\"Kiki's Delivery Service (Majo no takky\\u00fbbin) (1989)\",\"Keeping the Faith (2000)\",\"Defending Your Life (1991)\",\"Little Big Man (1970)\",\"Before Sunrise (1995)\",\"Sommersby (1993)\",\"Thirteen Days (2000)\",\"Layer Cake (2004)\",\"Flight of the Navigator (1986)\",\"Verdict, The (1982)\",\"Transporter, The (2002)\",\"Rocky II (1979)\",\"Book of Eli, The (2010)\",\"Nick of Time (1995)\",\"Small Soldiers (1998)\",\"Bedazzled (2000)\",\"Kids in the Hall: Brain Candy (1996)\",\"Grand Canyon (1991)\",\"White Squall (1996)\",\"About Last Night... (1986)\",\"Quantum of Solace (2008)\",\"Local Hero (1983)\",\"Along Came a Spider (2001)\",\"Talladega Nights: The Ballad of Ricky Bobby (2006)\",\"Thunderball (1965)\",\"Celluloid Closet, The (1995)\",\"Secret of Roan Inish, The (1994)\",\"Licence to Kill (1989)\",\"Contender, The (2000)\",\"Bottle Rocket (1996)\",\"Marathon Man (1976)\",\"Jean de Florette (1986)\",\"Year of Living Dangerously, The (1982)\",\"George of the Jungle (1997)\",\"Point Break (1991)\",\"Ref, The (1994)\",\"Captain America: The Winter Soldier (2014)\",\"Mister Roberts (1955)\",\"Soylent Green (1973)\",\"Pump Up the Volume (1990)\",\"In America (2002)\",\"X-Men Origins: Wolverine (2009)\",\"Perfect World, A (1993)\",\"2012 (2009)\",\"Animatrix, The (2003)\",\"Limey, The (1999)\",\"Honeymoon in Vegas (1992)\",\"Ice Storm, The (1997)\",\"Star Trek: Insurrection (1998)\",\"Everyone Says I Love You (1996)\",\"Arthur (1981)\",\"Cat on a Hot Tin Roof (1958)\",\"Super Mario Bros. (1993)\",\"Hud (1963)\",\"American Splendor (2003)\",\"Howards End (1992)\",\"Ant-Man (2015)\",\"Swiss Family Robinson (1960)\",\"Texas Chainsaw Massacre, The (1974)\",\"Maria Full of Grace (Maria, Llena eres de gracia) (2004)\",\"13 Going on 30 (2004)\",\"Love Bug, The (1969)\",\"Wrestler, The (2008)\",\"Color of Money, The (1986)\",\"Starsky & Hutch (2004)\",\"Candyman (1992)\",\"Hand That Rocks the Cradle, The (1992)\",\"Before Sunset (2004)\",\"Winnie the Pooh and the Blustery Day (1968)\",\"House of Flying Daggers (Shi mian mai fu) (2004)\",\"Thin Man, The (1934)\",\"Town, The (2010)\",\"Honey, I Blew Up the Kid (1992)\",\"Fantasia 2000 (1999)\",\"Sum of All Fears, The (2002)\",\"Friday the 13th (1980)\",\"Unbearable Lightness of Being, The (1988)\",\"Incredible Hulk, The (2008)\",\"Cold Mountain (2003)\",\"Moneyball (2011)\",\"Married to the Mob (1988)\",\"Hulk (2003)\",\"Apostle, The (1997)\",\"Match Point (2005)\",\"Rashomon (Rash\\u00f4mon) (1950)\",\"Rising Sun (1993)\",\"Monster (2003)\",\"Lolita (1962)\",\"Drop Zone (1994)\",\"Cowboy Bebop: The Movie (Cowboy Bebop: Tengoku no Tobira) (2001)\",\"Spellbound (1945)\",\"Next Karate Kid, The (1994)\",\"EuroTrip (2004)\",\"Talk to Her (Hable con Ella) (2002)\",\"Siege, The (1998)\",\"With Honors (1994)\",\"Excalibur (1981)\",\"Affair to Remember, An (1957)\",\"Syriana (2005)\",\"Highlander III: The Sorcerer (a.k.a. Highlander: The Final Dimension) (1994)\",\"Spellbound (2002)\",\"Candidate, The (1972)\",\"2 Days in the Valley (1996)\",\"What's Love Got to Do with It? (1993)\",\"Prometheus (2012)\",\"Addicted to Love (1997)\",\"Monsoon Wedding (2001)\",\"World War Z (2013)\",\"27 Dresses (2008)\",\"Pacific Rim (2013)\",\"Alien Nation (1988)\",\"What Ever Happened to Baby Jane? (1962)\",\"Deconstructing Harry (1997)\",\"Angels and Insects (1995)\",\"Girl with the Dragon Tattoo, The (2011)\",\"Once Were Warriors (1994)\",\"You Can Count on Me (2000)\",\"Dr. Horrible's Sing-Along Blog (2008)\",\"Confessions of a Dangerous Mind (2002)\",\"Universal Soldier (1992)\",\"East of Eden (1955)\",\"American Hustle (2013)\",\"House on Haunted Hill (1999)\",\"Babel (2006)\",\"When We Were Kings (1996)\",\"Reign of Fire (2002)\",\"Time Machine, The (1960)\",\"European Vacation (aka National Lampoon's European Vacation) (1985)\",\"Flubber (1997)\",\"We Were Soldiers (2002)\",\"Quills (2000)\",\"Battleship Potemkin (1925)\",\"Cold Comfort Farm (1995)\",\"Once Upon a Time in the West (C'era una volta il West) (1968)\",\"Van Helsing (2004)\",\"Mouse Hunt (1997)\",\"Priest (1994)\",\"Prophecy, The (1995)\",\"Seventh Seal, The (Sjunde inseglet, Det) (1957)\",\"Auntie Mame (1958)\",\"48 Hrs. (1982)\",\"Despicable Me (2010)\",\"39 Steps, The (1935)\",\"Key Largo (1948)\",\"Manon of the Spring (Manon des sources) (1986)\",\"Beauty of the Day (Belle de jour) (1967)\",\"Three Days of the Condor (3 Days of the Condor) (1975)\",\"Screamers (1995)\",\"Shanghai Knights (2003)\",\"How to Lose a Guy in 10 Days (2003)\",\"Anatomy of a Murder (1959)\",\"Man Who Would Be King, The (1975)\",\"Of Mice and Men (1992)\",\"Mighty Morphin Power Rangers: The Movie (1995)\",\"Hannah and Her Sisters (1986)\",\"Freaky Friday (1977)\",\"Buffy the Vampire Slayer (1992)\",\"Enchanted (2007)\",\"Blues Brothers 2000 (1998)\",\"Blob, The (1958)\",\"Bill & Ted's Bogus Journey (1991)\",\"Airport (1970)\",\"Underworld: Evolution (2006)\",\"Legend (1985)\",\"Creepshow (1982)\",\"Pink Panther, The (1963)\",\"Birdman: Or (The Unexpected Virtue of Ignorance) (2014)\",\"Great Expectations (1998)\",\"Primary Colors (1998)\",\"Jumpin' Jack Flash (1986)\",\"Cheech and Chong's Up in Smoke (1978)\",\"Hugo (2011)\",\"Paths of Glory (1957)\",\"Far and Away (1992)\",\"Klute (1971)\",\"Goofy Movie, A (1995)\",\"Prizzi's Honor (1985)\",\"State and Main (2000)\",\"2010: The Year We Make Contact (1984)\",\"Children of a Lesser God (1986)\",\"Rainmaker, The (1997)\",\"War Room, The (1993)\",\"Boys on the Side (1995)\",\"Lemony Snicket's A Series of Unfortunate Events (2004)\",\"Barb Wire (1996)\",\"Dead Calm (1989)\",\"For Love of the Game (1999)\",\"Help, The (2011)\",\"Lars and the Real Girl (2007)\",\"Dead Men Don't Wear Plaid (1982)\",\"Fantastic Four (2005)\",\"Virtuosity (1995)\",\"Hope Floats (1998)\",\"Beverly Hillbillies, The (1993)\",\"Two Weeks Notice (2002)\",\"54 (1998)\",\"Drive (2011)\",\"Hours, The (2002)\",\"Spawn (1997)\",\"Maid in Manhattan (2002)\",\"Last King of Scotland, The (2006)\",\"Broken Flowers (2005)\",\"Police Academy 3: Back in Training (1986)\",\"Blow-Up (Blowup) (1966)\",\"Saved! (2004)\",\"Frankenstein (1931)\",\"Fog of War: Eleven Lessons from the Life of Robert S. McNamara, The (2003)\",\"About Time (2013)\",\"Over the Hedge (2006)\",\"Maltese Falcon, The (a.k.a. Dangerous Female) (1931)\",\"Indecent Proposal (1993)\",\"Oblivion (2013)\",\"Sister Act 2: Back in the Habit (1993)\",\"Angels & Demons (2009)\",\"Far from Heaven (2002)\",\"Naked (1993)\",\"Secretary (2002)\",\"Devil's Own, The (1997)\",\"Murder at 1600 (1997)\",\"Buffalo '66 (a.k.a. Buffalo 66) (1998)\",\"South Pacific (1958)\",\"Killer, The (Die xue shuang xiong) (1989)\",\"Thor (2011)\",\"Adventureland (2009)\",\"Short Circuit (1986)\",\"Vanya on 42nd Street (1994)\",\"Freaky Friday (2003)\",\"Grave of the Fireflies (Hotaru no haka) (1988)\",\"Cloud Atlas (2012)\",\"Goodbye Girl, The (1977)\",\"400 Blows, The (Les quatre cents coups) (1959)\",\"Reds (1981)\",\"Transporter 2 (2005)\",\"Mariachi, El (1992)\",\"Watership Down (1978)\",\"Brighton Beach Memoirs (1986)\",\"28 Weeks Later (2007)\",\"America's Sweethearts (2001)\",\"General, The (1926)\",\"Rambo: First Blood Part II (1985)\",\"She's the One (1996)\",\"Easy A (2010)\",\"Vegas Vacation (National Lampoon's Las Vegas Vacation) (1997)\",\"For a Few Dollars More (Per qualche dollaro in pi\\u00f9) (1965)\",\"Red Dawn (1984)\",\"Back to School (1986)\",\"Planet Terror (2007)\",\"I Am Sam (2001)\",\"Blades of Glory (2007)\",\"Muppet Christmas Carol, The (1992)\",\"American Movie (1999)\",\"Pecker (1998)\",\"Men of Honor (2000)\",\"Only You (1994)\",\"Intolerable Cruelty (2003)\",\"Blown Away (1994)\",\"Girl with the Dragon Tattoo, The (M\\u00e4n som hatar kvinnor) (2009)\",\"Aladdin and the King of Thieves (1996)\",\"Malice (1993)\",\"Re-Animator (1985)\",\"Very Brady Sequel, A (1996)\",\"Angel Heart (1987)\",\"Step Brothers (2008)\",\"Perks of Being a Wallflower, The (2012)\",\"Meet Me in St. Louis (1944)\",\"Proof of Life (2000)\",\"Look Who's Talking (1989)\",\"Oliver! (1968)\",\"All Quiet on the Western Front (1930)\",\"Replacements, The (2000)\",\"Crazy, Stupid, Love. (2011)\",\"Little Rascals, The (1994)\",\"Stepford Wives, The (1975)\",\"Gone Baby Gone (2007)\",\"Role Models (2008)\",\"Rescuers, The (1977)\",\"Something to Talk About (1995)\",\"Croupier (1998)\",\"Little Shop of Horrors, The (1960)\",\"Scanner Darkly, A (2006)\",\"Kinsey (2004)\",\"Fly, The (1958)\",\"Bandits (2001)\",\"Revenge of the Nerds (1984)\",\"Nutty Professor II: The Klumps (2000)\",\"Peacemaker, The (1997)\",\"Spy Kids (2001)\",\"Homeward Bound II: Lost in San Francisco (1996)\",\"Young Guns II (1990)\",\"In the Company of Men (1997)\",\"Swimming with Sharks (1995)\",\"Magnificent Seven, The (1960)\",\"Women on the Verge of a Nervous Breakdown (Mujeres al borde de un ataque de nervios) (1988)\",\"Searchers, The (1956)\",\"Angels in the Outfield (1994)\",\"Wild Bunch, The (1969)\",\"21 Jump Street (2012)\",\"Ponyo (Gake no ue no Ponyo) (2008)\",\"Boxing Helena (1993)\",\"Recruit, The (2003)\",\"Interpreter, The (2005)\",\"Resident Evil: Apocalypse (2004)\",\"Police Academy 4: Citizens on Patrol (1987)\",\"Fly Away Home (1996)\",\"Lady Vanishes, The (1938)\",\"Home for the Holidays (1995)\",\"Brick (2005)\",\"Empire of the Sun (1987)\",\"Can't Hardly Wait (1998)\",\"Elysium (2013)\",\"Practical Magic (1998)\",\"Tin Men (1987)\",\"Prince of Tides, The (1991)\",\"Diva (1981)\",\"Eraserhead (1977)\",\"Memphis Belle (1990)\",\"Beverly Hills Cop II (1987)\",\"Enchanted April (1992)\",\"Bachelor, The (1999)\",\"Station Agent, The (2003)\",\"Twilight (2008)\",\"My Bodyguard (1980)\",\"The Falcon and the Snowman (1985)\",\"My Blue Heaven (1990)\",\"Kingsman: The Secret Service (2015)\",\"Mis\\u00e9rables, Les (1998)\",\"Pacific Heights (1990)\",\"Corrina, Corrina (1994)\",\"Avengers: Age of Ultron (2015)\",\"Coming Home (1978)\",\"Snow Falling on Cedars (1999)\",\"Avengers, The (1998)\",\"Girl Next Door, The (2004)\",\"Terminator Salvation (2009)\",\"Yes Man (2008)\",\"Hero (1992)\",\"Shaft (2000)\",\"Cabin in the Woods, The (2012)\",\"Smoke Signals (1998)\",\"Guns of Navarone, The (1961)\",\"Badlands (1973)\",\"Cabinet of Dr. Caligari, The (Cabinet des Dr. Caligari., Das) (1920)\",\"Ten Commandments, The (1956)\",\"Love and Death (1975)\",\"Grudge, The (2004)\",\"Along Came Polly (2004)\",\"Ninotchka (1939)\",\"Shrek the Third (2007)\",\"Death Proof (2007)\",\"Dinosaur (2000)\",\"Kindergarten Cop (1990)\",\"Romeo and Juliet (1968)\",\"Renaissance Man (1994)\",\"Wyatt Earp (1994)\",\"Triplets of Belleville, The (Les triplettes de Belleville) (2003)\",\"Varsity Blues (1999)\",\"Return of Jafar, The (1994)\",\"Eight Men Out (1988)\",\"Aeon Flux (2005)\",\"Lord of Illusions (1995)\",\"Manchurian Candidate, The (2004)\",\"Lolita (1997)\",\"1984 (Nineteen Eighty-Four) (1984)\",\"True Grit (1969)\",\"Midnight Express (1978)\",\"Man with Two Brains, The (1983)\",\"D\\u00e9j\\u00e0 Vu (Deja Vu) (2006)\",\"Holiday, The (2006)\",\"Brave (2012)\",\"Fiddler on the Roof (1971)\",\"Last Temptation of Christ, The (1988)\",\"Ringu (Ring) (1998)\",\"Quiet Man, The (1952)\",\"I Still Know What You Did Last Summer (1998)\",\"Jane Eyre (1996)\",\"Chain Reaction (1996)\",\"Outlaw Josey Wales, The (1976)\",\"Frida (2002)\",\"Rambo III (1988)\",\"Drop Dead Gorgeous (1999)\",\"Lord of the Flies (1963)\",\"Barcelona (1994)\",\"Get Smart (2008)\",\"Adventures of Baron Munchausen, The (1988)\",\"Buena Vista Social Club (1999)\",\"Breakdown (1997)\",\"Bourne Identity, The (1988)\",\"Sexy Beast (2000)\",\"Mis\\u00e9rables, Les (1995)\",\"Psycho (1998)\",\"First Strike (Police Story 4: First Strike) (Ging chaat goo si 4: Ji gaan daan yam mo) (1996)\",\"Very Bad Things (1998)\",\"Superman Returns (2006)\",\"Robots (2005)\",\"Koyaanisqatsi (a.k.a. Koyaanisqatsi: Life Out of Balance) (1983)\",\"Police Academy 5: Assignment: Miami Beach (1988)\",\"...And Justice for All (1979)\",\"Nightcrawler (2014)\",\"Crucible, The (1996)\",\"Roxanne (1987)\",\"Tender Mercies (1983)\",\"Escape from the Planet of the Apes (1971)\",\"Spice World (1997)\",\"Not Another Teen Movie (2001)\",\"Houseguest (1994)\",\"Zack and Miri Make a Porno (2008)\",\"What Dreams May Come (1998)\",\"Gaslight (1944)\",\"Money Train (1995)\",\"Men in Black III (M.III.B.) (M.I.B.\\u00b3) (2012)\",\"Paradise Lost: The Child Murders at Robin Hood Hills (1996)\",\"My Life in Pink (Ma vie en rose) (1997)\",\"Fallen (1998)\",\"Serious Man, A (2009)\",\"Tremors (1990)\",\"Mirror Has Two Faces, The (1996)\",\"Major Payne (1995)\",\"Just Cause (1995)\",\"The Lego Movie (2014)\",\"Jarhead (2005)\",\"40 Days and 40 Nights (2002)\",\"Exotica (1994)\",\"Amityville Horror, The (1979)\",\"50/50 (2011)\",\"How the Grinch Stole Christmas! (1966)\",\"Waiting to Exhale (1995)\",\"Westworld (1973)\",\"Tron: Legacy (2010)\",\"Annie (1982)\",\"Superman IV: The Quest for Peace (1987)\",\"Hangover Part II, The (2011)\",\"Harriet the Spy (1996)\",\"Rope (1948)\",\"Metropolitan (1990)\",\"Fun with Dick and Jane (2005)\",\"Some Folks Call It a Sling Blade (1993)\",\"Night on Earth (1991)\",\"Grand Illusion (La grande illusion) (1937)\",\"Salt (2010)\",\"American Tail: Fievel Goes West, An (1991)\",\"Scooby-Doo (2002)\",\"Ninth Gate, The (1999)\",\"Alive (1993)\",\"Top Secret! (1984)\",\"Good Girl, The (2002)\",\"Rescuers Down Under, The (1990)\",\"Daylight (1996)\",\"I Love Trouble (1994)\",\"Sky High (2005)\",\"Time Machine, The (2002)\",\"Restoration (1995)\",\"Ip Man (2008)\",\"Jaws 3-D (1983)\",\"Blade: Trinity (2004)\",\"How to Make an American Quilt (1995)\",\"Forces of Nature (1999)\",\"Tom Jones (1963)\",\"Paris, Texas (1984)\",\"Porky's (1982)\",\"Mary Reilly (1996)\",\"This Is the End (2013)\",\"Dead Ringers (1988)\",\"Marty (1955)\",\"Some Kind of Wonderful (1987)\",\"Behind Enemy Lines (2001)\",\"Body Snatchers (1993)\",\"Michael Clayton (2007)\",\"BASEketball (1998)\",\"Passion of the Christ, The (2004)\",\"Coraline (2009)\",\"You Don't Mess with the Zohan (2008)\",\"Howard the Duck (1986)\",\"Oliver & Company (1988)\",\"Made in America (1993)\",\"Soapdish (1991)\",\"Adjustment Bureau, The (2011)\",\"Born Yesterday (1950)\",\"Ghost and Mrs. Muir, The (1947)\",\"Igby Goes Down (2002)\",\"Doctor Dolittle (1967)\",\"Frozen (2013)\",\"The Theory of Everything (2014)\",\"Sicko (2007)\",\"My Own Private Idaho (1991)\",\"Transformers: Revenge of the Fallen (2009)\",\"Michael Collins (1996)\",\"Zero Effect (1998)\",\"Mannequin (1987)\",\"Tao of Steve, The (2000)\",\"2 Fast 2 Furious (Fast and the Furious 2, The) (2003)\",\"Death and the Maiden (1994)\",\"Atlantic City (1980)\",\"Ready to Wear (Pret-A-Porter) (1994)\",\"Exit to Eden (1994)\",\"The Revenant (2015)\",\"Man Who Knew Too Little, The (1997)\",\"Funny Face (1957)\",\"Lara Croft Tomb Raider: The Cradle of Life (2003)\",\"Thirty-Two Short Films About Glenn Gould (1993)\",\"Singles (1992)\",\"Porco Rosso (Crimson Pig) (Kurenai no buta) (1992)\",\"Scary Movie 3 (2003)\",\"Center Stage (2000)\",\"Titanic (1953)\",\"Red Planet (2000)\",\"Everest (1998)\",\"Speechless (1994)\",\"Twin Peaks: Fire Walk with Me (1992)\",\"Supercop (Police Story 3: Supercop) (Jing cha gu shi III: Chao ji jing cha) (1992)\",\"On Her Majesty's Secret Service (1969)\",\"Primer (2004)\",\"Bonfire of the Vanities (1990)\",\"Fountain, The (2006)\",\"Black Cauldron, The (1985)\",\"Shop Around the Corner, The (1940)\",\"Something's Gotta Give (2003)\",\"12 Years a Slave (2013)\",\"Super 8 (2011)\",\"Exit Through the Gift Shop (2010)\",\"Barry Lyndon (1975)\",\"Police Academy 6: City Under Siege (1989)\",\"Bucket List, The (2007)\",\"Sweet and Lowdown (1999)\",\"Bamba, La (1987)\",\"A-Team, The (2010)\",\"Another Stakeout (1993)\",\"Throw Momma from the Train (1987)\",\"Vicky Cristina Barcelona (2008)\",\"Bad Taste (1987)\",\"Inherit the Wind (1960)\",\"Flintstones in Viva Rock Vegas, The (2000)\",\"Fearless (1993)\",\"Where the Heart Is (2000)\",\"Bolt (2008)\",\"Big Kahuna, The (2000)\",\"Milk (2008)\",\"Shall We Dance (1937)\",\"Wes Craven's New Nightmare (Nightmare on Elm Street Part 7: Freddy's Finale, A) (1994)\",\"Reindeer Games (2000)\",\"Fall, The (2006)\",\"Muppets Take Manhattan, The (1984)\",\"Sky Captain and the World of Tomorrow (2004)\",\"Bank Job, The (2008)\",\"Gladiator (1992)\",\"Skulls, The (2000)\",\"Shark Tale (2004)\",\"You Only Live Twice (1967)\",\"Black Beauty (1994)\",\"Gold Rush, The (1925)\",\"Single White Female (1992)\",\"White Christmas (1954)\",\"Cellular (2004)\",\"Children of the Corn (1984)\",\"No Way Out (1987)\",\"Apple Dumpling Gang, The (1975)\",\"Cutting Edge, The (1992)\",\"Mystery Train (1989)\",\"Jumper (2008)\",\"American Gigolo (1980)\",\"Passion Fish (1992)\",\"Seven Pounds (2008)\",\"Little Voice (1998)\",\"Horrible Bosses (2011)\",\"Blue in the Face (1995)\",\"Crow: City of Angels, The (1996)\",\"Ender's Game (2013)\",\"Thor: The Dark World (2013)\",\"Fletch Lives (1989)\",\"Spitfire Grill, The (1996)\",\"Mississippi Burning (1988)\",\"King Kong (1976)\",\"Teaching Mrs. Tingle (1999)\",\"Godzilla (Gojira) (1954)\",\"Dead Alive (Braindead) (1992)\",\"Dish, The (2001)\",\"Celebration, The (Festen) (1998)\",\"Central Station (Central do Brasil) (1998)\",\"Mona Lisa (1986)\",\"U Turn (1997)\",\"Muse, The (1999)\",\"Sid and Nancy (1986)\",\"Letters from Iwo Jima (2006)\",\"Innerspace (1987)\",\"Capturing the Friedmans (2003)\",\"Very Long Engagement, A (Un long dimanche de fian\\u00e7ailles) (2004)\",\"Drive Me Crazy (1999)\",\"Pledge, The (2001)\",\"Officer and a Gentleman, An (1982)\",\"Divergent (2014)\",\"Man Who Shot Liberty Valance, The (1962)\",\"Idiocracy (2006)\",\"Gift, The (2000)\",\"Jackass: The Movie (2002)\",\"Cutthroat Island (1995)\",\"Airport '77 (1977)\",\"Man of Steel (2013)\",\"Jingle All the Way (1996)\",\"Memoirs of a Geisha (2005)\",\"Super Troopers (2001)\",\"Carrington (1995)\",\"Vampire Hunter D: Bloodlust (Banpaia hant\\u00e2 D) (2000)\",\"Fighter, The (2010)\",\"Out-of-Towners, The (1999)\",\"Waking Life (2001)\",\"Megamind (2010)\",\"Don't Say a Word (2001)\",\"Flightplan (2005)\",\"National Lampoon's Van Wilder (2002)\",\"Brothers Grimm, The (2005)\",\"Dead Man (1995)\",\"The Scorpion King (2002)\",\"Rush (2013)\",\"Hot Shots! (1991)\",\"Vampire in Brooklyn (1995)\",\"Cyrano de Bergerac (1990)\",\"Accepted (2006)\",\"Mr. Wrong (1996)\",\"Twins (1988)\",\"Killing, The (1956)\",\"Saturday Night Fever (1977)\",\"Threesome (1994)\",\"Astronaut's Wife, The (1999)\",\"Anna and the King (1999)\",\"Mercury Rising (1998)\",\"Angela's Ashes (1999)\",\"Ninja Scroll (J\\u00fbbei ninp\\u00fbch\\u00f4) (1995)\",\"Gigi (1958)\",\"Miracle (2004)\",\"Paprika (Papurika) (2006)\",\"Blame It on Rio (1984)\",\"Cat Ballou (1965)\",\"Father of the Bride (1991)\",\"Stand and Deliver (1988)\",\"Once (2006)\",\"Night at the Opera, A (1935)\",\"Road to Wellville, The (1994)\",\"Anywhere But Here (1999)\",\"Giant (1956)\",\"Holiday Inn (1942)\",\"My Man Godfrey (1936)\",\"Lifeboat (1944)\",\"Adventures of Buckaroo Banzai Across the 8th Dimension, The (1984)\",\"Longest Day, The (1962)\",\"Pollock (2000)\",\"Hellraiser (1987)\",\"Best Years of Our Lives, The (1946)\",\"Sydney (Hard Eight) (1996)\",\"17 Again (2009)\",\"Bad Boys II (2003)\",\"Brewster's Millions (1985)\",\"Zero Dark Thirty (2012)\",\"Gay Divorcee, The (1934)\",\"Help! (1965)\",\"102 Dalmatians (2000)\",\"Sunshine (2007)\",\"Story of Us, The (1999)\",\"Everything You Always Wanted to Know About Sex * But Were Afraid to Ask (1972)\",\"Kid in King Arthur's Court, A (1995)\",\"Urban Legend (1998)\",\"Legend of Drunken Master, The (Jui kuen II) (1994)\",\"Drop Dead Fred (1991)\",\"Way We Were, The (1973)\",\"Christmas Carol, A (1938)\",\"Click (2006)\",\"Grizzly Man (2005)\",\"Agnes of God (1985)\",\"Shadow of a Doubt (1943)\",\"Mommie Dearest (1981)\",\"Substitute, The (1996)\",\"Affliction (1997)\",\"SLC Punk! (1998)\",\"Lady Eve, The (1941)\",\"End of the Affair, The (1999)\",\"Green Street Hooligans (a.k.a. Hooligans) (2005)\",\"To Be or Not to Be (1942)\",\"Squid and the Whale, The (2005)\",\"Swamp Thing (1982)\",\"World's End, The (2013)\",\"Andalusian Dog, An (Chien andalou, Un) (1929)\",\"Volver (2006)\",\"Great Muppet Caper, The (1981)\",\"Last Detail, The (1973)\",\"Towering Inferno, The (1974)\",\"Slums of Beverly Hills, The (1998)\",\"Killing Zoe (1994)\",\"Pollyanna (1960)\",\"Now You See Me (2013)\",\"Operation Dumbo Drop (1995)\",\"All Dogs Go to Heaven 2 (1996)\",\"Snakes on a Plane (2006)\",\"Medicine Man (1992)\",\"They Shoot Horses, Don't They? (1969)\",\"Tequila Sunrise (1988)\",\"Lincoln Lawyer, The (2011)\",\"Sirens (1994)\",\"Disturbia (2007)\",\"Celebrity (1998)\",\"Batman: Mask of the Phantasm (1993)\",\"Kingdom of Heaven (2005)\",\"All Dogs Go to Heaven (1989)\",\"Blue Streak (1999)\",\"Hard-Boiled (Lat sau san taam) (1992)\",\"Buddy Holly Story, The (1978)\",\"Stop! Or My Mom Will Shoot (1992)\",\"Fright Night (1985)\",\"Elektra (2005)\",\"Romeo Is Bleeding (1993)\",\"Mission, The (1986)\",\"Messenger: The Story of Joan of Arc, The (1999)\",\"Flamingo Kid, The (1984)\",\"Jack Frost (1998)\",\"Jules and Jim (Jules et Jim) (1961)\",\"Halloween H20: 20 Years Later (Halloween 7: The Revenge of Laurie Strode) (1998)\",\"Tora! Tora! Tora! (1970)\",\"Swing Kids (1993)\",\"Captain Phillips (2013)\",\"Dredd (2012)\",\"Jagged Edge (1985)\",\"Prisoners (2013)\",\"Raisin in the Sun, A (1961)\",\"Song of the South (1946)\",\"Trekkies (1997)\",\"Shaggy Dog, The (1959)\",\"Majestic, The (2001)\",\"Marvin's Room (1996)\",\"In the Bedroom (2001)\",\"Child's Play (1988)\",\"Strange Brew (1983)\",\"Small Time Crooks (2000)\",\"World According to Garp, The (1982)\",\"Monty Python Live at the Hollywood Bowl (1982)\",\"Mimic (1997)\",\"RocknRolla (2008)\",\"The Hunger Games: Mockingjay - Part 1 (2014)\",\"Message in a Bottle (1999)\",\"Star Trek: Nemesis (2002)\",\"Pirates of the Caribbean: On Stranger Tides (2011)\",\"Iron Monkey (Siu nin Wong Fei-hung ji: Tit Ma Lau) (1993)\",\"Joe Dirt (2001)\",\"In the Mouth of Madness (1995)\",\"Secondhand Lions (2003)\",\"Once Upon a Time in Mexico (2003)\",\"Legend of Bagger Vance, The (2000)\",\"Half Baked (1998)\",\"Solaris (Solyaris) (1972)\",\"Bounce (2000)\",\"Madonna: Truth or Dare (1991)\",\"Shane (1953)\",\"One, The (2001)\",\"Dungeons & Dragons (2000)\",\"Uncle Buck (1989)\",\"Man for All Seasons, A (1966)\",\"Antonia's Line (Antonia) (1995)\",\"Night of the Hunter, The (1955)\",\"Joe Versus the Volcano (1990)\",\"Funny Games (1997)\",\"Big Short, The (2015)\",\"Hot Tub Time Machine (2010)\",\"Take the Money and Run (1969)\",\"Walkabout (1971)\",\"Mother (1996)\",\"Borrowers, The (1997)\",\"Shattered Glass (2003)\",\"Frost/Nixon (2008)\",\"Two if by Sea (1996)\",\"Little Buddha (1993)\",\"King of Comedy, The (1983)\",\"Fantastic Voyage (1966)\",\"Crossing Guard, The (1995)\",\"Elephant (2003)\",\"Pieces of April (2003)\",\"Runaway Jury (2003)\",\"Rabbit-Proof Fence (2002)\",\"Fools Rush In (1997)\",\"Frailty (2001)\",\"Inside Job (2010)\",\"Endless Summer, The (1966)\",\"Changing Lanes (2002)\",\"The Hobbit: The Battle of the Five Armies (2014)\",\"Edge, The (1997)\",\"Heartbreakers (2001)\",\"9 1/2 Weeks (Nine 1/2 Weeks) (1986)\",\"Unzipped (1995)\",\"Stepford Wives, The (2004)\",\"Breathless (\\u00c0 bout de souffle) (1960)\",\"Clash of the Titans (1981)\",\"Ted (2012)\",\"Teenage Mutant Ninja Turtles II: The Secret of the Ooze (1991)\",\"Manhunter (1986)\",\"Touching the Void (2003)\",\"Mutiny on the Bounty (1935)\",\"NeverEnding Story III, The (1994)\",\"Chronicle (2012)\",\"Creature Comforts (1989)\",\"Fanny and Alexander (Fanny och Alexander) (1982)\",\"Brotherhood of the Wolf (Pacte des loups, Le) (2001)\",\"House of Sand and Fog (2003)\",\"Mrs. Brown (a.k.a. Her Majesty, Mrs. Brown) (1997)\",\"That Darn Cat! (1965)\",\"Paycheck (2003)\",\"Chronicles of Narnia: Prince Caspian, The (2008)\",\"Pirate Radio (2009)\",\"In the Loop (2009)\",\"Tales from the Hood (1995)\",\"Village of the Damned (1995)\",\"Kate & Leopold (2001)\",\"Green Lantern (2011)\",\"Orange County (2002)\",\"Dawn of the Dead (1978)\",\"John Wick (2014)\",\"Return of Martin Guerre, The (Retour de Martin Guerre, Le) (1982)\",\"Shadow of the Vampire (2000)\",\"American Wedding (American Pie 3) (2003)\",\"Shanghai Triad (Yao a yao yao dao waipo qiao) (1995)\",\"Mary and Max (2009)\",\"Walk to Remember, A (2002)\",\"S.W.A.T. (2003)\",\"Quiet American, The (2002)\",\"Wings of the Dove, The (1997)\",\"D2: The Mighty Ducks (1994)\",\"Stalker (1979)\",\"Freeway (1996)\",\"Empire Records (1995)\",\"Tango & Cash (1989)\",\"Dirty Pretty Things (2002)\",\"Kelly's Heroes (1970)\",\"Transcendence (2014)\",\"Beyond Rangoon (1995)\",\"Analyze That (2002)\",\"Air America (1990)\",\"Aguirre: The Wrath of God (Aguirre, der Zorn Gottes) (1972)\",\"Crazy/Beautiful (2001)\",\"Last Days of Disco, The (1998)\",\"Places in the Heart (1984)\",\"Flight (2012)\",\"Orlando (1992)\",\"Shampoo (1975)\",\"Kentucky Fried Movie, The (1977)\",\"Breaker Morant (1980)\",\"Hostage (2005)\",\"Lion in Winter, The (1968)\",\"Taking of Pelham 1 2 3, The (2009)\",\"42 Up (1998)\",\"Science of Sleep, The (La science des r\\u00eaves) (2006)\",\"Friends with Benefits (2011)\",\"Transformers: Dark of the Moon (2011)\",\"Last Supper, The (1995)\",\"Horse Feathers (1932)\",\"Total Recall (2012)\",\"Double Life of Veronique, The (Double Vie de V\\u00e9ronique, La) (1991)\",\"Big One, The (1997)\",\"Butcher Boy, The (1997)\",\"Before Night Falls (2000)\",\"Mortal Kombat: Annihilation (1997)\",\"In Time (2011)\",\"Anchorman 2: The Legend Continues (2013)\",\"Eragon (2006)\",\"High Plains Drifter (1973)\",\"Don't Tell Mom the Babysitter's Dead (1991)\",\"Elmer Gantry (1960)\",\"Random Hearts (1999)\",\"Phantasm (1979)\",\"Pagemaster, The (1994)\",\"Adventures of Milo and Otis, The (Koneko monogatari) (1986)\",\"Andromeda Strain, The (1971)\",\"Tommy (1975)\",\"I'm Gonna Git You Sucka (1988)\",\"Eddie Murphy Raw (1987)\",\"Ides of March, The (2011)\",\"Burnt by the Sun (Utomlyonnye solntsem) (1994)\",\"Daybreakers (2010)\",\"Spanking the Monkey (1994)\",\"Down with Love (2003)\",\"Living Out Loud (1998)\",\"Halloween: The Curse of Michael Myers (Halloween 6: The Curse of Michael Myers) (1995)\",\"House of Yes, The (1997)\",\"Home Alone 3 (1997)\",\"Terminal Velocity (1994)\",\"Transformers: The Movie (1986)\",\"Nine to Five (a.k.a. 9 to 5) (1980)\",\"Little Children (2006)\",\"Hairspray (2007)\",\"Yojimbo (1961)\",\"Object of My Affection, The (1998)\",\"This Is England (2006)\",\"Romper Stomper (1992)\",\"Final Destination 2 (2003)\",\"Suicide Kings (1997)\",\"Mission: Impossible - Ghost Protocol (2011)\",\"American Werewolf in Paris, An (1997)\",\"Bank Dick, The (1940)\",\"Tigerland (2000)\",\"In Good Company (2004)\",\"Judgment at Nuremberg (1961)\",\"Funny Farm (1988)\",\"Perfume: The Story of a Murderer (2006)\",\"Replacement Killers, The (1998)\",\"Informant!, The (2009)\",\"Bubba Ho-tep (2002)\",\"Love Affair (1994)\",\"Cloudy with a Chance of Meatballs (2009)\",\"Discreet Charm of the Bourgeoisie, The (Charme discret de la bourgeoisie, Le) (1972)\",\"Striking Distance (1993)\",\"Paris Is Burning (1990)\",\"Spotlight (2015)\",\"Crash (1996)\",\"Tucker: The Man and His Dream (1988)\",\"Open Your Eyes (Abre los ojos) (1997)\",\"Needful Things (1993)\",\"Cujo (1983)\",\"Looking for Richard (1996)\",\"Dreamlife of Angels, The (Vie r\\u00eav\\u00e9e des anges, La) (1998)\",\"Senna (2010)\",\"Zootopia (2016)\",\"Postman Always Rings Twice, The (1981)\",\"East is East (1999)\",\"Cookie's Fortune (1999)\",\"On the Town (1949)\",\"Mrs. Parker and the Vicious Circle (1994)\",\"Hard Target (1993)\",\"Jurassic World (2015)\",\"Futurama: Bender's Big Score (2007)\",\"Friday the 13th Part 2 (1981)\",\"Enter the Dragon (1973)\",\"Mildred Pierce (1945)\",\"Flipper (1996)\",\"Louis C.K.: Shameless (2007)\",\"March of the Penguins (Marche de l'empereur, La) (2005)\",\"Fabulous Baker Boys, The (1989)\",\"Fierce Creatures (1997)\",\"Dead Presidents (1995)\",\"Let the Right One In (L\\u00e5t den r\\u00e4tte komma in) (2008)\",\"Beverly Hills Ninja (1997)\",\"American Sniper (2014)\",\"Herbie Rides Again (1974)\",\"Night Shift (1982)\",\"Freaks (1932)\",\"Harry and the Hendersons (1987)\",\"16 Blocks (2006)\",\"Trip to Bountiful, The (1985)\",\"Cabin Boy (1994)\",\"Airport 1975 (1974)\",\"Cat People (1982)\",\"Return to Oz (1985)\",\"Soul Man (1986)\",\"Forbidden Planet (1956)\",\"Fatal Instinct (1993)\",\"Eyes of Laura Mars (1978)\",\"Farewell My Concubine (Ba wang bie ji) (1993)\",\"Blink (1994)\",\"Blue Angel, The (Blaue Engel, Der) (1930)\",\"Caine Mutiny, The (1954)\",\"No Man's Land (2001)\",\"I Shot Andy Warhol (1996)\",\"Black Hole, The (1979)\",\"Wing Commander (1999)\",\"Dracula (1931)\",\"Spanglish (2004)\",\"Dreamers, The (2003)\",\"I Love You, Man (2009)\",\"War of the Roses, The (1989)\",\"Atonement (2007)\",\"Persona (1966)\",\"My Dog Skip (1999)\",\"Attack of the Killer Tomatoes! (1978)\",\"Frenzy (1972)\",\"Fear (1996)\",\"Young Sherlock Holmes (1985)\",\"Plan 9 from Outer Space (1959)\",\"Expendables, The (2010)\",\"NeverEnding Story II: The Next Chapter, The (1990)\",\"Persepolis (2007)\",\"Bird on a Wire (1990)\",\"Kolya (Kolja) (1996)\",\"You Can't Take It with You (1938)\",\"Great Santini, The (1979)\",\"American Buffalo (1996)\",\"Man Who Knew Too Much, The (1956)\",\"King of Kong, The (2007)\",\"Undercover Brother (2002)\",\"Seven Psychopaths (2012)\",\"Phantom of the Opera, The (2004)\",\"Hate (Haine, La) (1995)\",\"Tucker & Dale vs Evil (2010)\",\"Jade (1995)\",\"Dragon: The Bruce Lee Story (1993)\",\"Bad Teacher (2011)\",\"Saving Mr. Banks (2013)\",\"Moll Flanders (1996)\",\"Knight and Day (2010)\",\"Green Hornet, The (2011)\",\"Beneath the Planet of the Apes (1970)\",\"Fever Pitch (2005)\",\"Cowboys & Aliens (2011)\",\"Cocoon: The Return (1988)\",\"Animal, The (2001)\",\"Holes (2003)\",\"Lilies of the Field (1963)\",\"Hostel (2005)\",\"No Strings Attached (2011)\",\"Always (1989)\",\"Witness for the Prosecution (1957)\",\"Christine (1983)\",\"In the Mood For Love (Fa yeung nin wa) (2000)\",\"Bride of Frankenstein, The (Bride of Frankenstein) (1935)\",\"Tuxedo, The (2002)\",\"Balto (1995)\",\"Lean on Me (1989)\",\"Saving Silverman (Evil Woman) (2001)\",\"Selena (1997)\",\"15 Minutes (2001)\",\"Corporation, The (2003)\",\"Side Effects (2013)\",\"Get Him to the Greek (2010)\",\"Ulee's Gold (1997)\",\"Paul (2011)\",\"Contagion (2011)\",\"True Crime (1999)\",\"Deep End of the Ocean, The (1999)\",\"Storytelling (2001)\",\"Beerfest (2006)\",\"Ghosts of Mississippi (1996)\",\"Just Like Heaven (2005)\",\"Slap Shot (1977)\",\"Tea with Mussolini (1999)\",\"Clockers (1995)\",\"Basquiat (1996)\",\"Antwone Fisher (2002)\",\"Sweetest Thing, The (2002)\",\"Narc (2002)\",\"Gung Ho (1986)\",\"Bridesmaids (2011)\",\"Three Men and a Little Lady (1990)\",\"Murder by Numbers (2002)\",\"Cat's Eye (1985)\",\"Mighty Joe Young (1998)\",\"Free Willy 2: The Adventure Home (1995)\",\"Husbands and Wives (1992)\",\"French Twist (Gazon maudit) (1995)\",\"Canadian Bacon (1995)\",\"Coal Miner's Daughter (1980)\",\"Final Fantasy VII: Advent Children (2004)\",\"Home Fries (1998)\",\"Fame (1980)\",\"Battle: Los Angeles (2011)\",\"Wild Strawberries (Smultronst\\u00e4llet) (1957)\",\"Rat Race (2001)\",\"Despicable Me 2 (2013)\",\"Batman v Superman: Dawn of Justice (2016)\",\"UHF (1989)\",\"Pink Flamingos (1972)\",\"Solaris (2002)\",\"Hanna (2011)\",\"Kazaam (1996)\",\"Ghost Writer, The (2010)\",\"Life as a House (2001)\",\"Apocalypto (2006)\",\"Cemetery Man (Dellamorte Dellamore) (1994)\",\"Spy Kids 2: The Island of Lost Dreams (2002)\",\"Inside Llewyn Davis (2013)\",\"Citizen Ruth (1996)\",\"Family Guy Presents Stewie Griffin: The Untold Story (2005)\",\"Paperman (2012)\",\"Ong-Bak: The Thai Warrior (Ong Bak) (2003)\",\"22 Jump Street (2014)\",\"Bad Education (La mala educaci\\u00f3n) (2004)\",\"Dogville (2003)\",\"Elite Squad (Tropa de Elite) (2007)\",\"Bridget Jones: The Edge of Reason (2004)\",\"Old Man and the Sea, The (1958)\",\"Great Race, The (1965)\",\"Be Kind Rewind (2008)\",\"John Carter (2012)\",\"Encino Man (1992)\",\"Beowulf (2007)\",\"How to Train Your Dragon 2 (2014)\",\"After Hours (1985)\",\"Mist, The (2007)\",\"Nightmare on Elm Street 2: Freddy's Revenge, A (1985)\",\"Henry: Portrait of a Serial Killer (1986)\",\"Mr. Death: The Rise and Fall of Fred A. Leuchter, Jr. (1999)\",\"Benji (1974)\",\"Trouble with Harry, The (1955)\",\"Tin Drum, The (Blechtrommel, Die) (1979)\",\"Simon Birch (1998)\",\"Howling, The (1980)\",\"Mona Lisa Smile (2003)\",\"Microcosmos (Microcosmos: Le peuple de l'herbe) (1996)\",\"Prince of the City (1981)\",\"In the Realm of the Senses (Ai no corrida) (1976)\",\"Caligula (1979)\",\"War, The (1994)\",\"Carnal Knowledge (1971)\",\"Resident Evil: Extinction (2007)\",\"How Green Was My Valley (1941)\",\"Return to Paradise (1998)\",\"Thirteen (2003)\",\"Baraka (1992)\",\"Boy in the Striped Pajamas, The (Boy in the Striped Pyjamas, The) (2008)\",\"Play It Again, Sam (1972)\",\"Dying Young (1991)\",\"Fury (2014)\",\"10,000 BC (2008)\",\"Kid, The (1921)\",\"Horton Hears a Who! (2008)\",\"Cat from Outer Space, The (1978)\",\"Darby O'Gill and the Little People (1959)\",\"She's Gotta Have It (1986)\",\"Widows' Peak (1994)\",\"King Arthur (2004)\",\"Last Starfighter, The (1984)\",\"And the Band Played On (1993)\",\"Bear, The (Ours, L') (1988)\",\"Newsies (1992)\",\"Night to Remember, A (1958)\",\"Jane Austen's Mafia! (1998)\",\"To Sir with Love (1967)\",\"Halloween II (1981)\",\"Man Bites Dog (C'est arriv\\u00e9 pr\\u00e8s de chez vous) (1992)\",\"Halloween III: Season of the Witch (1982)\",\"Big Momma's House (2000)\",\"Poltergeist II: The Other Side (1986)\",\"House of the Spirits, The (1993)\",\"Dawn of the Planet of the Apes (2014)\",\"Madagascar: Escape 2 Africa (2008)\",\"Bell, Book and Candle (1958)\",\"Princess Diaries 2: Royal Engagement, The (2004)\",\"Beautiful Thing (1996)\",\"Bad Lieutenant (1992)\",\"Murphy's Romance (1985)\",\"Last Man Standing (1996)\",\"Dolce Vita, La (1960)\",\"Jin Roh: The Wolf Brigade (Jin-R\\u00f4) (1998)\",\"Tales from the Crypt Presents: Demon Knight (1995)\",\"He's Just Not That Into You (2009)\",\"World's Fastest Indian, The (2005)\",\"Way of the Gun, The (2000)\",\"Mad City (1997)\",\"Kurt & Courtney (1998)\",\"Antitrust (2001)\",\"House of Games (1987)\",\"Meet the Robinsons (2007)\",\"Music and Lyrics (2007)\",\"Gilda (1946)\",\"Jack Reacher (2012)\",\"The Hateful Eight (2015)\",\"Night at the Roxbury, A (1998)\",\"Seventh Sign, The (1988)\",\"Fantastic Four: Rise of the Silver Surfer (2007)\",\"Stranger Than Paradise (1984)\",\"Little Princess, The (1939)\",\"Melvin and Howard (1980)\",\"Stardust Memories (1980)\",\"Billy Jack (1971)\",\"Men Who Stare at Goats, The (2009)\",\"Three to Tango (1999)\",\"Unsinkable Molly Brown, The (1964)\",\"Shaolin Soccer (Siu lam juk kau) (2001)\",\"Pink Panther Strikes Again, The (1976)\",\"Bean (1997)\",\"Hearts of Darkness: A Filmmakers Apocalypse (1991)\",\"Barefoot in the Park (1967)\",\"Life Less Ordinary, A (1997)\",\"Jesus Christ Superstar (1973)\",\"Species II (1998)\",\"Teen Wolf (1985)\",\"Brave Little Toaster, The (1987)\",\"Mumford (1999)\",\"Eye for an Eye (1996)\",\"Bringing Down the House (2003)\",\"Throne of Blood (Kumonosu j\\u00f4) (1957)\",\"Drowning Mona (2000)\",\"Idiots, The (Idioterne) (1998)\",\"Bridge Too Far, A (1977)\",\"Tomorrowland (2015)\",\"Tears of the Sun (2003)\",\"Babysitter, The (1995)\",\"Mystic Pizza (1988)\",\"It's a Mad, Mad, Mad, Mad World (1963)\",\"Piano Teacher, The (La pianiste) (2001)\",\"Rules of Engagement (2000)\",\"Day at the Races, A (1937)\",\"Boyhood (2014)\",\"Maze Runner, The (2014)\",\"Babylon 5: In the Beginning (1998)\",\"Everything Is Illuminated (2005)\",\"Idle Hands (1999)\",\"Clean Slate (1994)\",\"200 Cigarettes (1999)\",\"Little Man Tate (1991)\",\"Jacket, The (2005)\",\"Mean Streets (1973)\",\"Bill Cosby, Himself (1983)\",\"Conquest of the Planet of the Apes (1972)\",\"Blind Swordsman: Zatoichi, The (Zat\\u00f4ichi) (2003)\",\"Sanjuro (Tsubaki Sanj\\u00fbr\\u00f4) (1962)\",\"Stevie (2002)\",\"Now and Then (1995)\",\"Born into Brothels (2004)\",\"Monsters University (2013)\",\"Lucas (1986)\",\"Mothman Prophecies, The (2002)\",\"Splendor in the Grass (1961)\",\"Snowpiercer (2013)\",\"Lord of the Flies (1990)\",\"Flesh and Bone (1993)\",\"Descent, The (2005)\",\"Flash Gordon (1980)\",\"Death Wish (1974)\",\"Birdy (1984)\",\"*batteries not included (1987)\",\"Mystery, Alaska (1999)\",\"Conformist, The (Conformista, Il) (1970)\",\"Heist (2001)\",\"Reversal of Fortune (1990)\",\"Even Cowgirls Get the Blues (1993)\",\"Secret Life of Walter Mitty, The (2013)\",\"Guilty as Sin (1993)\",\"Catwoman (2004)\",\"Woodsman, The (2004)\",\"Asphalt Jungle, The (1950)\",\"Air Up There, The (1994)\",\"To Live (Huozhe) (1994)\",\"Never Say Never Again (1983)\",\"Freddy Got Fingered (2001)\",\"Paper Chase, The (1973)\",\"Family Thing, A (1996)\",\"Terminator Genisys (2015)\",\"Earth Girls Are Easy (1988)\",\"One False Move (1992)\",\"Strawberry and Chocolate (Fresa y chocolate) (1993)\",\"7th Voyage of Sinbad, The (1958)\",\"Ichi the Killer (Koroshiya 1) (2001)\",\"Win a Date with Tad Hamilton! (2004)\",\"Muppets From Space (1999)\",\"Lucy (2014)\",\"Topsy-Turvy (1999)\",\"Hedwig and the Angry Inch (2000)\",\"Frances (1982)\",\"Godzilla (2014)\",\"Ace in the Hole (Big Carnival, The) (1951)\",\"Witches, The (1990)\",\"Gallipoli (1981)\",\"Sweet Smell of Success (1957)\",\"Beauty and the Beast (La belle et la b\\u00eate) (1946)\",\"Mansfield Park (1999)\",\"Poison Ivy (1992)\",\"Captain America: Civil War (2016)\",\"Garden of the Finzi-Continis, The (Giardino dei Finzi-Contini, Il) (1970)\",\"Cooler, The (2003)\",\"McCabe & Mrs. Miller (1971)\",\"Jesus' Son (1999)\",\"Chungking Express (Chung Hing sam lam) (1994)\",\"Bully (2001)\",\"Witches of Eastwick, The (1987)\",\"Accused, The (1988)\",\"North (1994)\",\"Cheaper by the Dozen (2003)\",\"Pok\\u00e9mon: The First Movie (1998)\",\"How to Marry a Millionaire (1953)\",\"Invasion of the Body Snatchers (1978)\",\"Videodrome (1983)\",\"Polar Express, The (2004)\",\"Norma Rae (1979)\",\"Get Carter (2000)\",\"Rock Star (2001)\",\"Higher Learning (1995)\",\"Angus (1995)\",\"Krull (1983)\",\"Fair Game (1995)\",\"Shall We Dance? (2004)\",\"Magnum Force (1973)\",\"Punisher, The (2004)\",\"Treasure Planet (2002)\",\"Red Eye (2005)\",\"Coffee and Cigarettes (2003)\",\"Bewitched (2005)\",\"Mission: Impossible - Rogue Nation (2015)\",\"Swan Princess, The (1994)\",\"Mysterious Skin (2004)\",\"Queen Margot (Reine Margot, La) (1994)\",\"Hellraiser: Bloodline (1996)\",\"Hidalgo (2004)\",\"Enron: The Smartest Guys in the Room (2005)\",\"Bitter Moon (1992)\",\"Spartan (2004)\",\"K-19: The Widowmaker (2002)\",\"Mrs. Winterbourne (1996)\",\"Crooklyn (1994)\",\"Omega Man, The (1971)\",\"Boys from Brazil, The (1978)\",\"Ladykillers, The (2004)\",\"Sicario (2015)\",\"Italian Job, The (1969)\",\"The Man from U.N.C.L.E. (2015)\",\"Believers, The (1987)\",\"Pandorum (2009)\",\"Valkyrie (2008)\",\"State of Play (2009)\",\"Associate, The (1996)\",\"Picnic at Hanging Rock (1975)\",\"Soldier (1998)\",\"Knowing (2009)\",\"Grand Hotel (1932)\",\"Lost Weekend, The (1945)\",\"Nacho Libre (2006)\",\"Gentleman's Agreement (1947)\",\"Hilary and Jackie (1998)\",\"Underworld: Rise of the Lycans (2009)\",\"Ghost Rider (2007)\",\"Battleship (2012)\",\"Out of the Past (1947)\",\"Inventing the Abbotts (1997)\",\"Warm Bodies (2013)\",\"Black Mirror (2011)\",\"Shooter (2007)\",\"Other Guys, The (2010)\",\"Beautician and the Beast, The (1997)\",\"Boy Who Could Fly, The (1986)\",\"Nick and Norah's Infinite Playlist (2008)\",\"Babes in Toyland (1961)\",\"Trees Lounge (1996)\",\"Fly II, The (1989)\",\"Lincoln (2012)\",\"High Art (1998)\",\"Twelfth Night (1996)\",\"Air Bud (1997)\",\"Picture Perfect (1997)\",\"Crazy Heart (2009)\",\"Shame (2011)\",\"Joe's Apartment (1996)\",\"Crank (2006)\",\"Eyes Without a Face (Yeux sans visage, Les) (1959)\",\"Adventures of Tintin, The (2011)\",\"Withnail & I (1987)\",\"Postman, The (1997)\",\"RocketMan (a.k.a. Rocket Man) (1997)\",\"Horse Whisperer, The (1998)\",\"Surrogates (2009)\",\"Invention of Lying, The (2009)\",\"Hard Rain (1998)\",\"Paranormal Activity (2009)\",\"Bourne Legacy, The (2012)\",\"Secret in Their Eyes, The (El secreto de sus ojos) (2009)\",\"Saw III (2006)\",\"Flushed Away (2006)\",\"Julie & Julia (2009)\",\"Imaginarium of Doctor Parnassus, The (2009)\",\"Public Enemies (2009)\",\"Nights of Cabiria (Notti di Cabiria, Le) (1957)\",\"Green Zone (2010)\",\"Fast and the Furious: Tokyo Drift, The (Fast and the Furious 3, The) (2006)\",\"Major League: Back to the Minors (1998)\",\"Hocus Pocus (1993)\",\"Pale Rider (1985)\",\"Bee Movie (2007)\",\"Preacher's Wife, The (1996)\",\"Dirty Work (1998)\",\"D3: The Mighty Ducks (1996)\",\"1408 (2007)\",\"Death at a Funeral (2007)\",\"Steamboat Willie (1928)\",\"Rango (2011)\",\"I Now Pronounce You Chuck and Larry (2007)\",\"April Fool's Day (1986)\",\"Ultraviolet (2006)\",\"Pitch Perfect (2012)\",\"Until the End of the World (Bis ans Ende der Welt) (1991)\",\"Tourist, The (2010)\",\"National Treasure: Book of Secrets (2007)\",\"Meet John Doe (1941)\",\"30 Days of Night (2007)\",\"Charlie Wilson's War (2007)\",\"Your Friends and Neighbors (1998)\",\"Clockwatchers (1997)\",\"Babadook, The (2014)\",\"Soldier's Story, A (1984)\",\"Music Man, The (1962)\",\"Wild Man Blues (1997)\",\"Proposal, The (2009)\",\"Interiors (1978)\",\"The Amazing Spider-Man 2 (2014)\",\"Hunt, The (Jagten) (2012)\",\"Wild at Heart (1990)\",\"Jackass Number Two (2006)\",\"Mr. Nice Guy (Yat goh ho yan) (1997)\",\"Good Shepherd, The (2006)\",\"Precious (2009)\",\"Saving Grace (2000)\",\"Man from Earth, The (2007)\",\"House (1986)\",\"Ice Age: Dawn of the Dinosaurs (2009)\",\"Last Boy Scout, The (1991)\",\"Original Kings of Comedy, The (2000)\",\"Chef (2014)\",\"Runaway Train (1985)\",\"Eye of the Beholder (1999)\",\"House Party (1990)\",\"Peter Pan (2003)\",\"Kung Fury (2015)\",\"Trick (1999)\",\"Margin Call (2011)\",\"Fog, The (1980)\",\"Fantastic Four (2015)\",\"Naked Lunch (1991)\",\"Adam's Rib (1949)\",\"Brothers Bloom, The (2008)\",\"Velvet Goldmine (1998)\",\"Little Big League (1994)\",\"Pitch Perfect 2 (2015)\",\"Insomnia (1997)\",\"Almost Heroes (1998)\",\"Sea Inside, The (Mar adentro) (2004)\",\"Amarcord (1973)\",\"Chorus, The (Choristes, Les) (2004)\",\"Miss Congeniality 2: Armed and Fabulous (2005)\",\"Barbarian Invasions, The (Les invasions barbares) (2003)\",\"The Fault in Our Stars (2014)\",\"Foxfire (1996)\",\"San Andreas (2015)\",\"Pallbearer, The (1996)\",\"Dan in Real Life (2007)\",\"Yards, The (2000)\",\"Thomas Crown Affair, The (1968)\",\"Tokyo Story (T\\u00f4ky\\u00f4 monogatari) (1953)\",\"Red Sonja (1985)\",\"Education, An (2009)\",\"Freddy vs. Jason (2003)\",\"Where the Wild Things Are (2009)\",\"Detroit Rock City (1999)\",\"Jesus Camp (2006)\",\"Crimes of the Heart (1986)\",\"Maleficent (2014)\",\"Black Dynamite (2009)\",\"Law Abiding Citizen (2009)\",\"Magdalene Sisters, The (2002)\",\"Titus (1999)\",\"Next Friday (2000)\",\"Saw IV (2007)\",\"Holy Smoke (1999)\",\"G.I. Joe: The Rise of Cobra (2009)\",\"Candyman: Farewell to the Flesh (1995)\",\"Iron Eagle (1986)\",\"Perfect Blue (1997)\",\"Poison Ivy II (1996)\",\"Loaded Weapon 1 (National Lampoon's Loaded Weapon 1) (1993)\",\"Love and Death on Long Island (1997)\",\"Phantom of the Opera (1943)\",\"Legally Blonde 2: Red, White & Blonde (2003)\",\"Adventures of Rocky and Bullwinkle, The (2000)\",\"Final Conflict, The (a.k.a. Omen III: The Final Conflict) (1981)\",\"Ikiru (1952)\",\"9 (2009)\",\"Philomena (2013)\",\"Lassie (1994)\",\"Duplex (2003)\",\"Day of the Dead (1985)\",\"Paper Moon (1973)\",\"Cradle Will Rock (1999)\",\"How Stella Got Her Groove Back (1998)\",\"Rescue Dawn (2006)\",\"Jakob the Liar (1999)\",\"Tom & Viv (1994)\",\"Bad Girls (1994)\",\"Road to El Dorado, The (2000)\",\"Safety Not Guaranteed (2012)\",\"Fracture (2007)\",\"Never Cry Wolf (1983)\",\"Force 10 from Navarone (1978)\",\"Spring, Summer, Fall, Winter... and Spring (Bom yeoreum gaeul gyeoul geurigo bom) (2003)\",\"Boys Life (1995)\",\"Where the Money Is (2000)\",\"Zelig (1983)\",\"Penelope (2006)\",\"Hidden Fortress, The (Kakushi-toride no san-akunin) (1958)\",\"Jennifer 8 (1992)\",\"RoboCop (2014)\",\"Limelight (1952)\",\"Max Payne (2008)\",\"Fitzcarraldo (1982)\",\"Human Traffic (1999)\",\"Semi-Pro (2008)\",\"Woodstock (1970)\",\"Dark Shadows (2012)\",\"Hamlet (2000)\",\"Shadow, The (1994)\",\"Butcher's Wife, The (1991)\",\"It Follows (2014)\",\"Computer Wore Tennis Shoes, The (1969)\",\"Harold & Kumar Escape from Guantanamo Bay (2008)\",\"Band Wagon, The (1953)\",\"Campaign, The (2012)\",\"On the Beach (1959)\",\"All of Me (1984)\",\"Under the Skin (2013)\",\"Meatballs (1979)\",\"Journey of Natty Gann, The (1985)\",\"What Happens in Vegas... (2008)\",\"Class (1983)\",\"Jungle Fever (1991)\",\"Something Wicked This Way Comes (1983)\",\"Happening, The (2008)\",\"Non-Stop (2014)\",\"Police Academy: Mission to Moscow (1994)\",\"Herbie Goes Bananas (1980)\",\"Coma (1978)\",\"Chamber, The (1996)\",\"Mamma Mia! (2008)\",\"Condorman (1981)\",\"Waking the Dead (2000)\",\"Futurama: Bender's Game (2008)\",\"Vantage Point (2008)\",\"Changeling (2008)\",\"Someone to Watch Over Me (1987)\",\"Greatest Show on Earth, The (1952)\",\"All the King's Men (1949)\",\"Audition (\\u00d4dishon) (1999)\",\"Radioland Murders (1994)\",\"Bride of Chucky (Child's Play 4) (1998)\",\"Hamlet (1948)\",\"Superstar (1999)\",\"Backbeat (1993)\",\"Rambo (Rambo 4) (2008)\",\"Mis\\u00e9rables, Les (2012)\",\"The Interview (2014)\",\"Noah (2014)\",\"Futurama: Into the Wild Green Yonder (2009)\",\"Chappie (2015)\",\"Ali G Indahouse (2002)\",\"Girl Who Leapt Through Time, The (Toki o kakeru sh\\u00f4jo) (2006)\",\"Happy, Texas (1999)\",\"To Have and Have Not (1944)\",\"Battle of Algiers, The (La battaglia di Algeri) (1966)\",\"Endless Summer 2, The (1994)\",\"Matewan (1987)\",\"Maximum Overdrive (1986)\",\"Secret Window (2004)\",\"Snow Day (2000)\",\"Definitely, Maybe (2008)\",\"Jeremiah Johnson (1972)\",\"Animal Crackers (1930)\",\"Seven Days in May (1964)\",\"Pride and Prejudice (1995)\",\"Them! (1954)\",\"Oklahoma! (1955)\",\"Samoura\\u00ef, Le (Godson, The) (1967)\",\"Friday the 13th Part IV: The Final Chapter (1984)\",\"Indochine (1992)\",\"Hanging Up (2000)\",\"Jersey Girl (2004)\",\"Friday the 13th Part 3: 3D (1982)\",\"Day the Earth Stood Still, The (2008)\",\"Sullivan's Travels (1941)\",\"Days of Heaven (1978)\",\"Fresh (1994)\",\"Half Nelson (2006)\",\"Revolutionary Road (2008)\",\"Ella Enchanted (2004)\",\"Drunken Master (Jui kuen) (1978)\",\"The Raid: Redemption (2011)\",\"Ruby in Paradise (1993)\",\"Dead Man on Campus (1998)\",\"Barbershop (2002)\",\"It's Kind of a Funny Story (2010)\",\"Jet Li's Fearless (Huo Yuan Jia) (2006)\",\"Jeffrey (1995)\",\"Quest, The (1996)\",\"30 Minutes or Less (2011)\",\"Unfaithful (2002)\",\"Ghosts of Mars (2001)\",\"Anniversary Party, The (2001)\",\"Gentlemen Prefer Blondes (1953)\",\"Seven Year Itch, The (1955)\",\"Atlantis: The Lost Empire (2001)\",\"Date Night (2010)\",\"Aristocrats, The (2005)\",\"Last Waltz, The (1978)\",\"Amateur (1994)\",\"Pillow Book, The (1996)\",\"Kicking and Screaming (1995)\"],\"x\":{\"__ndarray__\":\"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\",\"dtype\":\"float32\",\"shape\":[3000]},\"y\":{\"__ndarray__\":\"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\",\"dtype\":\"float32\",\"shape\":[3000]}}},\"id\":\"4c7e6ee7-24c0-4fa7-9771-5c0d5917fed7\",\"type\":\"ColumnDataSource\"},{\"attributes\":{},\"id\":\"e5873e01-e9be-4d42-b857-2004b10f4bdb\",\"type\":\"SaveTool\"},{\"attributes\":{\"callback\":null},\"id\":\"62e89c5d-e5f4-40a7-ad0a-c49de2c2b54d\",\"type\":\"DataRange1d\"},{\"attributes\":{},\"id\":\"a86a5188-9804-49f4-921d-6de1cbfc1faf\",\"type\":\"LinearScale\"},{\"attributes\":{\"active_drag\":\"auto\",\"active_inspect\":\"auto\",\"active_scroll\":\"auto\",\"active_tap\":\"auto\",\"tools\":[{\"id\":\"1041076b-021f-4298-9aef-2d728971c886\",\"type\":\"PanTool\"},{\"id\":\"d1a1b537-eed1-4211-aee7-0966dc1050ee\",\"type\":\"WheelZoomTool\"},{\"id\":\"9a000ead-343a-44f0-ba35-3ce878a91c16\",\"type\":\"BoxZoomTool\"},{\"id\":\"bae8aca2-285e-4ff3-b12f-59bfbf292060\",\"type\":\"ResetTool\"},{\"id\":\"04555d00-6e9c-4a80-a0df-3778ea67f432\",\"type\":\"HoverTool\"},{\"id\":\"e5873e01-e9be-4d42-b857-2004b10f4bdb\",\"type\":\"SaveTool\"}]},\"id\":\"488a15dc-6a6a-4be3-b718-f21d89523b01\",\"type\":\"Toolbar\"},{\"attributes\":{\"overlay\":{\"id\":\"4e5c133a-0a05-4d2b-a625-8e000a017df7\",\"type\":\"BoxAnnotation\"}},\"id\":\"9a000ead-343a-44f0-ba35-3ce878a91c16\",\"type\":\"BoxZoomTool\"},{\"attributes\":{\"bottom_units\":\"screen\",\"fill_alpha\":{\"value\":0.5},\"fill_color\":{\"value\":\"lightgrey\"},\"left_units\":\"screen\",\"level\":\"overlay\",\"line_alpha\":{\"value\":1.0},\"line_color\":{\"value\":\"black\"},\"line_dash\":[4,4],\"line_width\":{\"value\":2},\"plot\":null,\"render_mode\":\"css\",\"right_units\":\"screen\",\"top_units\":\"screen\"},\"id\":\"4e5c133a-0a05-4d2b-a625-8e000a017df7\",\"type\":\"BoxAnnotation\"},{\"attributes\":{\"data_source\":{\"id\":\"4c7e6ee7-24c0-4fa7-9771-5c0d5917fed7\",\"type\":\"ColumnDataSource\"},\"glyph\":{\"id\":\"90788ef7-38bf-4e4a-ad13-f874c2dc9cba\",\"type\":\"Circle\"},\"hover_glyph\":null,\"muted_glyph\":null,\"nonselection_glyph\":{\"id\":\"4f0b2319-f59f-4fdd-a314-f2046978aea7\",\"type\":\"Circle\"},\"selection_glyph\":null,\"view\":{\"id\":\"ada135d9-f765-4893-8b70-6498aaac4fc7\",\"type\":\"CDSView\"}},\"id\":\"92b0fda4-e599-4e12-b82b-f7ba1fd89b90\",\"type\":\"GlyphRenderer\"},{\"attributes\":{\"callback\":null,\"tooltips\":[[\"content\",\"Title: @title\"]]},\"id\":\"04555d00-6e9c-4a80-a0df-3778ea67f432\",\"type\":\"HoverTool\"}],\"root_ids\":[\"73877b31-8fd4-484a-b131-284c4eb78f45\"]},\"title\":\"Bokeh Application\",\"version\":\"0.12.10\"}};\n",
       "    var render_items = [{\"docid\":\"90e57480-c1ca-4269-b1fd-b2a07bd28d82\",\"elementid\":\"5e4ec07f-d88c-4a43-87f9-c9f3e45182b7\",\"modelid\":\"73877b31-8fd4-484a-b131-284c4eb78f45\"}];\n",
       "\n",
       "    root.Bokeh.embed.embed_items(docs_json, render_items);\n",
       "  }\n",
       "\n",
       "  if (root.Bokeh !== undefined) {\n",
       "    embed_document(root);\n",
       "  } else {\n",
       "    var attempts = 0;\n",
       "    var timer = setInterval(function(root) {\n",
       "      if (root.Bokeh !== undefined) {\n",
       "        embed_document(root);\n",
       "        clearInterval(timer);\n",
       "      }\n",
       "      attempts++;\n",
       "      if (attempts > 100) {\n",
       "        console.log(\"Bokeh: ERROR: Unable to embed document because BokehJS library is missing\")\n",
       "        clearInterval(timer);\n",
       "      }\n",
       "    }, 10, root)\n",
       "  }\n",
       "})(window);"
      ],
      "application/vnd.bokehjs_exec.v0+json": ""
     },
     "metadata": {
      "application/vnd.bokehjs_exec.v0+json": {
       "id": "73877b31-8fd4-484a-b131-284c4eb78f45"
      }
     },
     "output_type": "display_data"
    },
    {
     "name": "stderr",
     "output_type": "stream",
     "text": [
      "/home/ec2-user/anaconda3/envs/fastai/lib/python3.6/site-packages/bokeh/io/saving.py:125: UserWarning: save() called but no resources were supplied and output_file(...) was never called, defaulting to resources.CDN\n",
      "  warn(\"save() called but no resources were supplied and output_file(...) was never called, defaulting to resources.CDN\")\n",
      "/home/ec2-user/anaconda3/envs/fastai/lib/python3.6/site-packages/bokeh/io/saving.py:138: UserWarning: save() called but no title was supplied and output_file(...) was never called, using default title 'Bokeh Plot'\n",
      "  warn(\"save() called but no title was supplied and output_file(...) was never called, using default title 'Bokeh Plot'\")\n"
     ]
    },
    {
     "data": {
      "text/plain": [
       "'/home/ec2-user/projects/collaborative-filtering/t-SNE_emb.html'"
      ]
     },
     "execution_count": 103,
     "metadata": {},
     "output_type": "execute_result"
    }
   ],
   "source": [
    "    title = 'T-SNE visualization of embeddings'\n",
    "\n",
    "    plot_lda = figure(plot_width=1000, plot_height=600,\n",
    "                         title=title, tools=\"pan,wheel_zoom,box_zoom,reset,hover,previewsave\",\n",
    "                         x_axis_type=None, y_axis_type=None, min_border=1)\n",
    "\n",
    "    plot_lda.scatter(x='x', y='y',source=source,\n",
    "                    alpha=0.4, size=10)\n",
    "\n",
    "    # hover tools\n",
    "    hover = plot_lda.select(dict(type=HoverTool))\n",
    "    hover.tooltips = {\"content\": \"Title: @title\"}\n",
    "    \n",
    "\n",
    "    show(plot_lda)\n",
    "    save(plot_lda, 't-SNE_emb.html') #this will save the plot as html"
   ]
  },
  {
   "cell_type": "markdown",
   "metadata": {},
   "source": [
    "---"
   ]
  },
  {
   "cell_type": "markdown",
   "metadata": {},
   "source": [
    "### Cosine similarity in embedding space"
   ]
  },
  {
   "cell_type": "markdown",
   "metadata": {},
   "source": [
    "Here I'm trying to find the most similar movies based on cosine similarity between the embedding vector of a given movie and each of the remaining movies"
   ]
  },
  {
   "cell_type": "code",
   "execution_count": 27,
   "metadata": {},
   "outputs": [],
   "source": [
    "def cos_sim(a, b):\n",
    "\t\"\"\"Takes 2 vectors a, b and returns the cosine similarity according \n",
    "\tto the definition of the dot product\n",
    "\t\"\"\"\n",
    "\tdot_product = np.dot(a, b)\n",
    "\tnorm_a = np.linalg.norm(a)\n",
    "\tnorm_b = np.linalg.norm(b)\n",
    "\treturn dot_product / (norm_a * norm_b)"
   ]
  },
  {
   "cell_type": "code",
   "execution_count": 28,
   "metadata": {},
   "outputs": [],
   "source": [
    "title2emb = pd.DataFrame([movie_names[i] for i in topMovies])\n",
    "title2emb.columns = ['title']\n",
    "title2emb = pd.concat([title2emb,pd.DataFrame(movie_emb)],axis =1)"
   ]
  },
  {
   "cell_type": "code",
   "execution_count": 31,
   "metadata": {},
   "outputs": [
    {
     "data": {
      "text/html": [
       "<div>\n",
       "<style scoped>\n",
       "    .dataframe tbody tr th:only-of-type {\n",
       "        vertical-align: middle;\n",
       "    }\n",
       "\n",
       "    .dataframe tbody tr th {\n",
       "        vertical-align: top;\n",
       "    }\n",
       "\n",
       "    .dataframe thead th {\n",
       "        text-align: right;\n",
       "    }\n",
       "</style>\n",
       "<table border=\"1\" class=\"dataframe\">\n",
       "  <thead>\n",
       "    <tr style=\"text-align: right;\">\n",
       "      <th></th>\n",
       "      <th>title</th>\n",
       "      <th>0</th>\n",
       "      <th>1</th>\n",
       "      <th>2</th>\n",
       "      <th>3</th>\n",
       "      <th>4</th>\n",
       "      <th>5</th>\n",
       "      <th>6</th>\n",
       "      <th>7</th>\n",
       "      <th>8</th>\n",
       "      <th>...</th>\n",
       "      <th>40</th>\n",
       "      <th>41</th>\n",
       "      <th>42</th>\n",
       "      <th>43</th>\n",
       "      <th>44</th>\n",
       "      <th>45</th>\n",
       "      <th>46</th>\n",
       "      <th>47</th>\n",
       "      <th>48</th>\n",
       "      <th>49</th>\n",
       "    </tr>\n",
       "  </thead>\n",
       "  <tbody>\n",
       "    <tr>\n",
       "      <th>0</th>\n",
       "      <td>Forrest Gump (1994)</td>\n",
       "      <td>0.132553</td>\n",
       "      <td>-0.463755</td>\n",
       "      <td>-0.358955</td>\n",
       "      <td>0.191023</td>\n",
       "      <td>-0.294693</td>\n",
       "      <td>-0.035143</td>\n",
       "      <td>-0.076551</td>\n",
       "      <td>-0.119772</td>\n",
       "      <td>0.236667</td>\n",
       "      <td>...</td>\n",
       "      <td>-0.112795</td>\n",
       "      <td>0.352216</td>\n",
       "      <td>-0.145015</td>\n",
       "      <td>0.056974</td>\n",
       "      <td>0.034254</td>\n",
       "      <td>-0.063725</td>\n",
       "      <td>0.132152</td>\n",
       "      <td>-0.156047</td>\n",
       "      <td>0.163847</td>\n",
       "      <td>0.283221</td>\n",
       "    </tr>\n",
       "    <tr>\n",
       "      <th>1</th>\n",
       "      <td>Pulp Fiction (1994)</td>\n",
       "      <td>-0.415060</td>\n",
       "      <td>-0.023127</td>\n",
       "      <td>-0.141066</td>\n",
       "      <td>-0.327475</td>\n",
       "      <td>0.051329</td>\n",
       "      <td>-0.144074</td>\n",
       "      <td>0.227163</td>\n",
       "      <td>0.225916</td>\n",
       "      <td>0.267689</td>\n",
       "      <td>...</td>\n",
       "      <td>0.317953</td>\n",
       "      <td>-0.149422</td>\n",
       "      <td>0.231067</td>\n",
       "      <td>-0.445028</td>\n",
       "      <td>-0.095614</td>\n",
       "      <td>-0.143240</td>\n",
       "      <td>0.186093</td>\n",
       "      <td>0.053340</td>\n",
       "      <td>-0.092111</td>\n",
       "      <td>-0.035886</td>\n",
       "    </tr>\n",
       "    <tr>\n",
       "      <th>2</th>\n",
       "      <td>Shawshank Redemption, The (1994)</td>\n",
       "      <td>-0.433478</td>\n",
       "      <td>-0.714720</td>\n",
       "      <td>-0.398814</td>\n",
       "      <td>-0.207088</td>\n",
       "      <td>-0.421486</td>\n",
       "      <td>0.053935</td>\n",
       "      <td>-0.014080</td>\n",
       "      <td>-0.153374</td>\n",
       "      <td>0.046320</td>\n",
       "      <td>...</td>\n",
       "      <td>0.118761</td>\n",
       "      <td>-0.196672</td>\n",
       "      <td>0.308081</td>\n",
       "      <td>0.001527</td>\n",
       "      <td>-0.316373</td>\n",
       "      <td>-0.197614</td>\n",
       "      <td>0.143832</td>\n",
       "      <td>-0.137705</td>\n",
       "      <td>0.008196</td>\n",
       "      <td>-0.254397</td>\n",
       "    </tr>\n",
       "    <tr>\n",
       "      <th>3</th>\n",
       "      <td>Silence of the Lambs, The (1991)</td>\n",
       "      <td>-0.623644</td>\n",
       "      <td>-0.143302</td>\n",
       "      <td>-0.114493</td>\n",
       "      <td>-0.128616</td>\n",
       "      <td>0.305142</td>\n",
       "      <td>-0.049059</td>\n",
       "      <td>0.051439</td>\n",
       "      <td>-0.151523</td>\n",
       "      <td>-0.277529</td>\n",
       "      <td>...</td>\n",
       "      <td>-0.045791</td>\n",
       "      <td>0.120306</td>\n",
       "      <td>-0.205398</td>\n",
       "      <td>-0.350030</td>\n",
       "      <td>-0.031686</td>\n",
       "      <td>-0.499647</td>\n",
       "      <td>-0.059803</td>\n",
       "      <td>-0.082755</td>\n",
       "      <td>0.264671</td>\n",
       "      <td>0.182469</td>\n",
       "    </tr>\n",
       "    <tr>\n",
       "      <th>4</th>\n",
       "      <td>Star Wars: Episode IV - A New Hope (1977)</td>\n",
       "      <td>-0.367971</td>\n",
       "      <td>-0.200984</td>\n",
       "      <td>-0.150570</td>\n",
       "      <td>-0.244955</td>\n",
       "      <td>0.450810</td>\n",
       "      <td>-0.258104</td>\n",
       "      <td>0.374088</td>\n",
       "      <td>-0.195119</td>\n",
       "      <td>-0.262306</td>\n",
       "      <td>...</td>\n",
       "      <td>0.064634</td>\n",
       "      <td>0.372440</td>\n",
       "      <td>0.144534</td>\n",
       "      <td>-0.068486</td>\n",
       "      <td>0.178061</td>\n",
       "      <td>-0.168988</td>\n",
       "      <td>0.563224</td>\n",
       "      <td>0.436979</td>\n",
       "      <td>0.056429</td>\n",
       "      <td>0.035499</td>\n",
       "    </tr>\n",
       "  </tbody>\n",
       "</table>\n",
       "<p>5 rows × 51 columns</p>\n",
       "</div>"
      ],
      "text/plain": [
       "                                       title         0         1         2  \\\n",
       "0                        Forrest Gump (1994)  0.132553 -0.463755 -0.358955   \n",
       "1                        Pulp Fiction (1994) -0.415060 -0.023127 -0.141066   \n",
       "2           Shawshank Redemption, The (1994) -0.433478 -0.714720 -0.398814   \n",
       "3           Silence of the Lambs, The (1991) -0.623644 -0.143302 -0.114493   \n",
       "4  Star Wars: Episode IV - A New Hope (1977) -0.367971 -0.200984 -0.150570   \n",
       "\n",
       "          3         4         5         6         7         8    ...     \\\n",
       "0  0.191023 -0.294693 -0.035143 -0.076551 -0.119772  0.236667    ...      \n",
       "1 -0.327475  0.051329 -0.144074  0.227163  0.225916  0.267689    ...      \n",
       "2 -0.207088 -0.421486  0.053935 -0.014080 -0.153374  0.046320    ...      \n",
       "3 -0.128616  0.305142 -0.049059  0.051439 -0.151523 -0.277529    ...      \n",
       "4 -0.244955  0.450810 -0.258104  0.374088 -0.195119 -0.262306    ...      \n",
       "\n",
       "         40        41        42        43        44        45        46  \\\n",
       "0 -0.112795  0.352216 -0.145015  0.056974  0.034254 -0.063725  0.132152   \n",
       "1  0.317953 -0.149422  0.231067 -0.445028 -0.095614 -0.143240  0.186093   \n",
       "2  0.118761 -0.196672  0.308081  0.001527 -0.316373 -0.197614  0.143832   \n",
       "3 -0.045791  0.120306 -0.205398 -0.350030 -0.031686 -0.499647 -0.059803   \n",
       "4  0.064634  0.372440  0.144534 -0.068486  0.178061 -0.168988  0.563224   \n",
       "\n",
       "         47        48        49  \n",
       "0 -0.156047  0.163847  0.283221  \n",
       "1  0.053340 -0.092111 -0.035886  \n",
       "2 -0.137705  0.008196 -0.254397  \n",
       "3 -0.082755  0.264671  0.182469  \n",
       "4  0.436979  0.056429  0.035499  \n",
       "\n",
       "[5 rows x 51 columns]"
      ]
     },
     "execution_count": 31,
     "metadata": {},
     "output_type": "execute_result"
    }
   ],
   "source": [
    "title2emb.head()"
   ]
  },
  {
   "cell_type": "code",
   "execution_count": 40,
   "metadata": {},
   "outputs": [
    {
     "data": {
      "text/plain": [
       "[('Gone Girl (2014)', 1.0000001),\n",
       " ('Fish Called Wanda, A (1988)', 0.64800227),\n",
       " ('Michael Clayton (2007)', 0.6277588),\n",
       " ('Kick-Ass (2010)', 0.56094319),\n",
       " ('Perks of Being a Wallflower, The (2012)', 0.54713261),\n",
       " ('Moneyball (2011)', 0.54281408),\n",
       " ('Raging Bull (1980)', 0.53750366),\n",
       " ('Wolf of Wall Street, The (2013)', 0.52780879),\n",
       " ('Black Mirror (2011)', 0.51961553),\n",
       " ('*batteries not included (1987)', 0.51567692),\n",
       " ('Quiz Show (1994)', 0.51305813),\n",
       " ('Broadcast News (1987)', 0.50754493),\n",
       " ('Nightcrawler (2014)', 0.50734043),\n",
       " ('Midnight Cowboy (1969)', 0.50710261),\n",
       " ('When Harry Met Sally... (1989)', 0.50631022)]"
      ]
     },
     "execution_count": 40,
     "metadata": {},
     "output_type": "execute_result"
    }
   ],
   "source": [
    "base_movie = 'Gone Girl (2014)'\n",
    "base_emb = title2emb[title2emb['title']==base_movie].iloc[:,1:].values #embedding vector for the base movie\n",
    "movie_list = title2emb.title\n",
    "cos_sim_dict = {i:cos_sim(np.squeeze(base_emb),np.squeeze(title2emb[title2emb['title']==i].iloc[:,1:].values)) for i in movie_list}\n",
    "sorted(cos_sim_dict.items(), key=itemgetter(1),reverse=True)[:15] #movies sorted by cosine similarity to the base movie"
   ]
  },
  {
   "cell_type": "markdown",
   "metadata": {},
   "source": [
    "---"
   ]
  },
  {
   "cell_type": "markdown",
   "metadata": {},
   "source": [
    "### Movie bias"
   ]
  },
  {
   "cell_type": "markdown",
   "metadata": {},
   "source": [
    "Movie bias can be considered as a measure of actual ranking of movie adjusting for the different behavior and rating patterns of different users. Some users tend to rate conservatively and some very liberally"
   ]
  },
  {
   "cell_type": "code",
   "execution_count": 28,
   "metadata": {},
   "outputs": [],
   "source": [
    "movie_bias = to_np(m.ib(V(topMovieIdx))) #extracting the movie bias from the trained model for 3000 movies"
   ]
  },
  {
   "cell_type": "code",
   "execution_count": 29,
   "metadata": {},
   "outputs": [
    {
     "data": {
      "text/plain": [
       "array([[ 0.56386],\n",
       "       [ 0.58052],\n",
       "       [ 0.89905],\n",
       "       ..., \n",
       "       [ 0.17783],\n",
       "       [-0.05643],\n",
       "       [ 0.24458]], dtype=float32)"
      ]
     },
     "execution_count": 29,
     "metadata": {},
     "output_type": "execute_result"
    }
   ],
   "source": [
    "movie_bias"
   ]
  },
  {
   "cell_type": "code",
   "execution_count": 43,
   "metadata": {},
   "outputs": [],
   "source": [
    "movie_ratings = [(b[0], movie_names[i]) for i,b in zip(topMovies,movie_bias)]"
   ]
  },
  {
   "cell_type": "code",
   "execution_count": 44,
   "metadata": {},
   "outputs": [
    {
     "data": {
      "text/plain": [
       "[(-0.65091091, 'Battlefield Earth (2000)'),\n",
       " (-0.55419731, 'Super Mario Bros. (1993)'),\n",
       " (-0.48237324, 'Inspector Gadget (1999)'),\n",
       " (-0.48013669, 'Congo (1995)'),\n",
       " (-0.47606534, 'Anaconda (1997)'),\n",
       " (-0.46266866, 'Wild Wild West (1999)'),\n",
       " (-0.45456645, \"Joe's Apartment (1996)\"),\n",
       " (-0.4406811, 'Speed 2: Cruise Control (1997)'),\n",
       " (-0.42358428, 'Dungeons & Dragons (2000)'),\n",
       " (-0.41145059, 'Avengers, The (1998)'),\n",
       " (-0.40174344, 'Vertical Limit (2000)'),\n",
       " (-0.40039924, 'Halloween III: Season of the Witch (1982)'),\n",
       " (-0.39847854, 'Howard the Duck (1986)'),\n",
       " (-0.3946788, 'Batman & Robin (1997)'),\n",
       " (-0.39254996,\n",
       "  'Halloween: The Curse of Michael Myers (Halloween 6: The Curse of Michael Myers) (1995)')]"
      ]
     },
     "execution_count": 44,
     "metadata": {},
     "output_type": "execute_result"
    }
   ],
   "source": [
    "sorted(movie_ratings, key=lambda o: o[0])[:15] #worst movies based on bias ranking"
   ]
  },
  {
   "cell_type": "code",
   "execution_count": 45,
   "metadata": {},
   "outputs": [
    {
     "data": {
      "text/plain": [
       "[(0.93213588, 'Shawshank Redemption, The (1994)'),\n",
       " (0.6943925, 'Usual Suspects, The (1995)'),\n",
       " (0.65349036, 'Silence of the Lambs, The (1991)'),\n",
       " (0.63245183, 'Godfather, The (1972)'),\n",
       " (0.63078701, 'Pulp Fiction (1994)'),\n",
       " (0.62218958, 'Matrix, The (1999)'),\n",
       " (0.61202615, \"Schindler's List (1993)\"),\n",
       " (0.61053628,\n",
       "  'Léon: The Professional (a.k.a. The Professional) (Léon) (1994)'),\n",
       " (0.60196024, 'American Beauty (1999)'),\n",
       " (0.5965603, '12 Angry Men (1957)'),\n",
       " (0.58712071, 'Princess Bride, The (1987)'),\n",
       " (0.5869571, 'Fargo (1996)'),\n",
       " (0.58132416, 'Godfather: Part II, The (1974)'),\n",
       " (0.57270211, 'Star Wars: Episode IV - A New Hope (1977)'),\n",
       " (0.56373489, 'Pianist, The (2002)')]"
      ]
     },
     "execution_count": 45,
     "metadata": {},
     "output_type": "execute_result"
    }
   ],
   "source": [
    "sorted(movie_ratings, key=lambda o: o[0], reverse=True)[:15] #top movies based on bias ranking"
   ]
  },
  {
   "cell_type": "markdown",
   "metadata": {},
   "source": [
    "---"
   ]
  },
  {
   "cell_type": "markdown",
   "metadata": {},
   "source": [
    "### Looking at a particular user"
   ]
  },
  {
   "cell_type": "markdown",
   "metadata": {},
   "source": [
    "In this section we'll look at a particular user and then cluster the movie embedding vectors by the ratings assigned by that particular user and look for any patterns"
   ]
  },
  {
   "cell_type": "code",
   "execution_count": 88,
   "metadata": {},
   "outputs": [],
   "source": [
    "u=ratings.groupby('userId')['rating'].count()\n",
    "topusers=u.sort_values(ascending=False).index.values[:100]\n",
    "topusersIdx = np.array([cf.user2idx[o] for o in topusers])"
   ]
  },
  {
   "cell_type": "code",
   "execution_count": 90,
   "metadata": {},
   "outputs": [
    {
     "data": {
      "text/plain": [
       "array([547, 564, 624,  15,  73, 452, 468, 380, 311,  30, 294, 509, 580, 213, 212, 472, 388,  23, 457, 518,\n",
       "       461, 232, 102, 262, 475, 306, 119, 654, 358, 529, 575, 105,  56, 353, 664,  48, 587, 596, 165, 384,\n",
       "       195, 463, 605, 481, 665, 607,  19, 199, 285, 150, 405, 268, 242, 505, 615, 480, 514, 130, 299,  17,\n",
       "       423, 574, 111, 346, 157, 187, 407, 128, 402,  77, 382, 598, 134, 355, 537, 243, 430, 534, 313, 585,\n",
       "        95, 608, 561, 427, 239, 220, 247, 312, 460, 387, 577, 292, 544, 431, 652,  78, 439, 176, 648,  88])"
      ]
     },
     "execution_count": 90,
     "metadata": {},
     "output_type": "execute_result"
    }
   ],
   "source": [
    "topusers"
   ]
  },
  {
   "cell_type": "code",
   "execution_count": 46,
   "metadata": {},
   "outputs": [],
   "source": [
    "user_547 = ratings[ratings['userId']==547] #user with the highest number of ratings\n",
    "u547MovieIdx = np.array([cf.item2idx[o] for o in user_547.movieId]) #id for the top movies to link it to the embedding and bias matrix created by the model\n",
    "u547Ratings = user_547.rating\n",
    "movie_emb_u547 = to_np(m.i(V(u547MovieIdx))) #converting the torch embedding to numpy matrix"
   ]
  },
  {
   "cell_type": "code",
   "execution_count": 50,
   "metadata": {},
   "outputs": [],
   "source": [
    "df_combine_u547 = pd.DataFrame([movie_names[i] for i in user_547.movieId])\n",
    "df_combine_u547.columns = ['title']\n",
    "df_combine_u547 = pd.concat([df_combine_u547,pd.DataFrame(movie_emb_u547)],axis=1)"
   ]
  },
  {
   "cell_type": "code",
   "execution_count": 54,
   "metadata": {},
   "outputs": [
    {
     "data": {
      "text/html": [
       "<div>\n",
       "<style scoped>\n",
       "    .dataframe tbody tr th:only-of-type {\n",
       "        vertical-align: middle;\n",
       "    }\n",
       "\n",
       "    .dataframe tbody tr th {\n",
       "        vertical-align: top;\n",
       "    }\n",
       "\n",
       "    .dataframe thead th {\n",
       "        text-align: right;\n",
       "    }\n",
       "</style>\n",
       "<table border=\"1\" class=\"dataframe\">\n",
       "  <thead>\n",
       "    <tr style=\"text-align: right;\">\n",
       "      <th></th>\n",
       "      <th>title</th>\n",
       "      <th>0</th>\n",
       "      <th>1</th>\n",
       "      <th>2</th>\n",
       "      <th>3</th>\n",
       "      <th>4</th>\n",
       "      <th>5</th>\n",
       "      <th>6</th>\n",
       "      <th>7</th>\n",
       "      <th>8</th>\n",
       "      <th>...</th>\n",
       "      <th>40</th>\n",
       "      <th>41</th>\n",
       "      <th>42</th>\n",
       "      <th>43</th>\n",
       "      <th>44</th>\n",
       "      <th>45</th>\n",
       "      <th>46</th>\n",
       "      <th>47</th>\n",
       "      <th>48</th>\n",
       "      <th>49</th>\n",
       "    </tr>\n",
       "  </thead>\n",
       "  <tbody>\n",
       "    <tr>\n",
       "      <th>0</th>\n",
       "      <td>Toy Story (1995)</td>\n",
       "      <td>-0.319952</td>\n",
       "      <td>-0.153453</td>\n",
       "      <td>0.402057</td>\n",
       "      <td>0.046731</td>\n",
       "      <td>-0.198464</td>\n",
       "      <td>0.082833</td>\n",
       "      <td>0.091520</td>\n",
       "      <td>-0.055316</td>\n",
       "      <td>0.091780</td>\n",
       "      <td>...</td>\n",
       "      <td>0.270638</td>\n",
       "      <td>0.101837</td>\n",
       "      <td>-0.097867</td>\n",
       "      <td>-0.194169</td>\n",
       "      <td>0.140290</td>\n",
       "      <td>-0.058537</td>\n",
       "      <td>0.290413</td>\n",
       "      <td>-0.172116</td>\n",
       "      <td>0.450979</td>\n",
       "      <td>0.154015</td>\n",
       "    </tr>\n",
       "    <tr>\n",
       "      <th>1</th>\n",
       "      <td>Heat (1995)</td>\n",
       "      <td>0.173140</td>\n",
       "      <td>-0.374734</td>\n",
       "      <td>-0.034256</td>\n",
       "      <td>-0.325415</td>\n",
       "      <td>-0.285656</td>\n",
       "      <td>-0.067157</td>\n",
       "      <td>0.110015</td>\n",
       "      <td>-0.135461</td>\n",
       "      <td>-0.213825</td>\n",
       "      <td>...</td>\n",
       "      <td>0.329661</td>\n",
       "      <td>-0.080686</td>\n",
       "      <td>0.282866</td>\n",
       "      <td>0.038345</td>\n",
       "      <td>0.025007</td>\n",
       "      <td>-0.156560</td>\n",
       "      <td>0.132324</td>\n",
       "      <td>-0.038206</td>\n",
       "      <td>0.203375</td>\n",
       "      <td>0.262010</td>\n",
       "    </tr>\n",
       "    <tr>\n",
       "      <th>2</th>\n",
       "      <td>Sabrina (1995)</td>\n",
       "      <td>0.031411</td>\n",
       "      <td>0.169822</td>\n",
       "      <td>-0.277031</td>\n",
       "      <td>-0.150907</td>\n",
       "      <td>0.241624</td>\n",
       "      <td>0.081316</td>\n",
       "      <td>0.059789</td>\n",
       "      <td>0.058588</td>\n",
       "      <td>-0.177269</td>\n",
       "      <td>...</td>\n",
       "      <td>-0.056116</td>\n",
       "      <td>0.288322</td>\n",
       "      <td>0.080993</td>\n",
       "      <td>0.302002</td>\n",
       "      <td>0.158289</td>\n",
       "      <td>0.286157</td>\n",
       "      <td>0.115834</td>\n",
       "      <td>-0.100609</td>\n",
       "      <td>0.204727</td>\n",
       "      <td>-0.077644</td>\n",
       "    </tr>\n",
       "    <tr>\n",
       "      <th>3</th>\n",
       "      <td>American President, The (1995)</td>\n",
       "      <td>0.159103</td>\n",
       "      <td>-0.156947</td>\n",
       "      <td>-0.169002</td>\n",
       "      <td>-0.211603</td>\n",
       "      <td>-0.106786</td>\n",
       "      <td>0.012457</td>\n",
       "      <td>-0.168632</td>\n",
       "      <td>0.035421</td>\n",
       "      <td>-0.417987</td>\n",
       "      <td>...</td>\n",
       "      <td>-0.245929</td>\n",
       "      <td>-0.401398</td>\n",
       "      <td>-0.217543</td>\n",
       "      <td>-0.074168</td>\n",
       "      <td>0.436061</td>\n",
       "      <td>0.047165</td>\n",
       "      <td>0.330946</td>\n",
       "      <td>0.106014</td>\n",
       "      <td>0.198659</td>\n",
       "      <td>0.191297</td>\n",
       "    </tr>\n",
       "    <tr>\n",
       "      <th>4</th>\n",
       "      <td>Nixon (1995)</td>\n",
       "      <td>0.177666</td>\n",
       "      <td>0.312977</td>\n",
       "      <td>0.018249</td>\n",
       "      <td>-0.119018</td>\n",
       "      <td>0.022998</td>\n",
       "      <td>-0.216762</td>\n",
       "      <td>0.073691</td>\n",
       "      <td>-0.037366</td>\n",
       "      <td>-0.060351</td>\n",
       "      <td>...</td>\n",
       "      <td>0.090738</td>\n",
       "      <td>0.097473</td>\n",
       "      <td>0.432303</td>\n",
       "      <td>-0.063113</td>\n",
       "      <td>-0.137830</td>\n",
       "      <td>0.001271</td>\n",
       "      <td>0.103631</td>\n",
       "      <td>0.191715</td>\n",
       "      <td>-0.044846</td>\n",
       "      <td>0.205121</td>\n",
       "    </tr>\n",
       "  </tbody>\n",
       "</table>\n",
       "<p>5 rows × 51 columns</p>\n",
       "</div>"
      ],
      "text/plain": [
       "                            title         0         1         2         3  \\\n",
       "0                Toy Story (1995) -0.319952 -0.153453  0.402057  0.046731   \n",
       "1                     Heat (1995)  0.173140 -0.374734 -0.034256 -0.325415   \n",
       "2                  Sabrina (1995)  0.031411  0.169822 -0.277031 -0.150907   \n",
       "3  American President, The (1995)  0.159103 -0.156947 -0.169002 -0.211603   \n",
       "4                    Nixon (1995)  0.177666  0.312977  0.018249 -0.119018   \n",
       "\n",
       "          4         5         6         7         8    ...           40  \\\n",
       "0 -0.198464  0.082833  0.091520 -0.055316  0.091780    ...     0.270638   \n",
       "1 -0.285656 -0.067157  0.110015 -0.135461 -0.213825    ...     0.329661   \n",
       "2  0.241624  0.081316  0.059789  0.058588 -0.177269    ...    -0.056116   \n",
       "3 -0.106786  0.012457 -0.168632  0.035421 -0.417987    ...    -0.245929   \n",
       "4  0.022998 -0.216762  0.073691 -0.037366 -0.060351    ...     0.090738   \n",
       "\n",
       "         41        42        43        44        45        46        47  \\\n",
       "0  0.101837 -0.097867 -0.194169  0.140290 -0.058537  0.290413 -0.172116   \n",
       "1 -0.080686  0.282866  0.038345  0.025007 -0.156560  0.132324 -0.038206   \n",
       "2  0.288322  0.080993  0.302002  0.158289  0.286157  0.115834 -0.100609   \n",
       "3 -0.401398 -0.217543 -0.074168  0.436061  0.047165  0.330946  0.106014   \n",
       "4  0.097473  0.432303 -0.063113 -0.137830  0.001271  0.103631  0.191715   \n",
       "\n",
       "         48        49  \n",
       "0  0.450979  0.154015  \n",
       "1  0.203375  0.262010  \n",
       "2  0.204727 -0.077644  \n",
       "3  0.198659  0.191297  \n",
       "4 -0.044846  0.205121  \n",
       "\n",
       "[5 rows x 51 columns]"
      ]
     },
     "execution_count": 54,
     "metadata": {},
     "output_type": "execute_result"
    }
   ],
   "source": [
    "df_combine_u547.head()"
   ]
  },
  {
   "cell_type": "code",
   "execution_count": 56,
   "metadata": {
    "scrolled": true
   },
   "outputs": [
    {
     "name": "stdout",
     "output_type": "stream",
     "text": [
      "[t-SNE] Computing 91 nearest neighbors...\n",
      "[t-SNE] Indexed 2391 samples in 0.004s...\n",
      "[t-SNE] Computed neighbors for 2391 samples in 0.705s...\n",
      "[t-SNE] Computed conditional probabilities for sample 1000 / 2391\n",
      "[t-SNE] Computed conditional probabilities for sample 2000 / 2391\n",
      "[t-SNE] Computed conditional probabilities for sample 2391 / 2391\n",
      "[t-SNE] Mean sigma: 0.170253\n",
      "[t-SNE] KL divergence after 50 iterations with early exaggeration: 75.806282\n",
      "[t-SNE] Error after 1000 iterations: 2.133561\n"
     ]
    }
   ],
   "source": [
    "tsne = TSNE(n_components=2, verbose=1, perplexity=30, n_iter=1000,learning_rate=10)\n",
    "tsne_results = tsne.fit_transform(movie_emb_u547)"
   ]
  },
  {
   "cell_type": "code",
   "execution_count": 57,
   "metadata": {},
   "outputs": [],
   "source": [
    "df_combine_u547['x-tsne'] = tsne_results[:,0]\n",
    "df_combine_u547['y-tsne'] = tsne_results[:,1]"
   ]
  },
  {
   "cell_type": "code",
   "execution_count": 59,
   "metadata": {},
   "outputs": [
    {
     "data": {
      "text/html": [
       "<div>\n",
       "<style scoped>\n",
       "    .dataframe tbody tr th:only-of-type {\n",
       "        vertical-align: middle;\n",
       "    }\n",
       "\n",
       "    .dataframe tbody tr th {\n",
       "        vertical-align: top;\n",
       "    }\n",
       "\n",
       "    .dataframe thead th {\n",
       "        text-align: right;\n",
       "    }\n",
       "</style>\n",
       "<table border=\"1\" class=\"dataframe\">\n",
       "  <thead>\n",
       "    <tr style=\"text-align: right;\">\n",
       "      <th></th>\n",
       "      <th>title</th>\n",
       "      <th>0</th>\n",
       "      <th>1</th>\n",
       "      <th>2</th>\n",
       "      <th>3</th>\n",
       "      <th>4</th>\n",
       "      <th>5</th>\n",
       "      <th>6</th>\n",
       "      <th>7</th>\n",
       "      <th>8</th>\n",
       "      <th>...</th>\n",
       "      <th>42</th>\n",
       "      <th>43</th>\n",
       "      <th>44</th>\n",
       "      <th>45</th>\n",
       "      <th>46</th>\n",
       "      <th>47</th>\n",
       "      <th>48</th>\n",
       "      <th>49</th>\n",
       "      <th>x-tsne</th>\n",
       "      <th>y-tsne</th>\n",
       "    </tr>\n",
       "  </thead>\n",
       "  <tbody>\n",
       "    <tr>\n",
       "      <th>0</th>\n",
       "      <td>Toy Story (1995)</td>\n",
       "      <td>-0.319952</td>\n",
       "      <td>-0.153453</td>\n",
       "      <td>0.402057</td>\n",
       "      <td>0.046731</td>\n",
       "      <td>-0.198464</td>\n",
       "      <td>0.082833</td>\n",
       "      <td>0.091520</td>\n",
       "      <td>-0.055316</td>\n",
       "      <td>0.091780</td>\n",
       "      <td>...</td>\n",
       "      <td>-0.097867</td>\n",
       "      <td>-0.194169</td>\n",
       "      <td>0.140290</td>\n",
       "      <td>-0.058537</td>\n",
       "      <td>0.290413</td>\n",
       "      <td>-0.172116</td>\n",
       "      <td>0.450979</td>\n",
       "      <td>0.154015</td>\n",
       "      <td>16.954386</td>\n",
       "      <td>13.342017</td>\n",
       "    </tr>\n",
       "    <tr>\n",
       "      <th>1</th>\n",
       "      <td>Heat (1995)</td>\n",
       "      <td>0.173140</td>\n",
       "      <td>-0.374734</td>\n",
       "      <td>-0.034256</td>\n",
       "      <td>-0.325415</td>\n",
       "      <td>-0.285656</td>\n",
       "      <td>-0.067157</td>\n",
       "      <td>0.110015</td>\n",
       "      <td>-0.135461</td>\n",
       "      <td>-0.213825</td>\n",
       "      <td>...</td>\n",
       "      <td>0.282866</td>\n",
       "      <td>0.038345</td>\n",
       "      <td>0.025007</td>\n",
       "      <td>-0.156560</td>\n",
       "      <td>0.132324</td>\n",
       "      <td>-0.038206</td>\n",
       "      <td>0.203375</td>\n",
       "      <td>0.262010</td>\n",
       "      <td>2.029821</td>\n",
       "      <td>-23.294428</td>\n",
       "    </tr>\n",
       "    <tr>\n",
       "      <th>2</th>\n",
       "      <td>Sabrina (1995)</td>\n",
       "      <td>0.031411</td>\n",
       "      <td>0.169822</td>\n",
       "      <td>-0.277031</td>\n",
       "      <td>-0.150907</td>\n",
       "      <td>0.241624</td>\n",
       "      <td>0.081316</td>\n",
       "      <td>0.059789</td>\n",
       "      <td>0.058588</td>\n",
       "      <td>-0.177269</td>\n",
       "      <td>...</td>\n",
       "      <td>0.080993</td>\n",
       "      <td>0.302002</td>\n",
       "      <td>0.158289</td>\n",
       "      <td>0.286157</td>\n",
       "      <td>0.115834</td>\n",
       "      <td>-0.100609</td>\n",
       "      <td>0.204727</td>\n",
       "      <td>-0.077644</td>\n",
       "      <td>14.385095</td>\n",
       "      <td>3.537281</td>\n",
       "    </tr>\n",
       "    <tr>\n",
       "      <th>3</th>\n",
       "      <td>American President, The (1995)</td>\n",
       "      <td>0.159103</td>\n",
       "      <td>-0.156947</td>\n",
       "      <td>-0.169002</td>\n",
       "      <td>-0.211603</td>\n",
       "      <td>-0.106786</td>\n",
       "      <td>0.012457</td>\n",
       "      <td>-0.168632</td>\n",
       "      <td>0.035421</td>\n",
       "      <td>-0.417987</td>\n",
       "      <td>...</td>\n",
       "      <td>-0.217543</td>\n",
       "      <td>-0.074168</td>\n",
       "      <td>0.436061</td>\n",
       "      <td>0.047165</td>\n",
       "      <td>0.330946</td>\n",
       "      <td>0.106014</td>\n",
       "      <td>0.198659</td>\n",
       "      <td>0.191297</td>\n",
       "      <td>13.703283</td>\n",
       "      <td>8.344221</td>\n",
       "    </tr>\n",
       "    <tr>\n",
       "      <th>4</th>\n",
       "      <td>Nixon (1995)</td>\n",
       "      <td>0.177666</td>\n",
       "      <td>0.312977</td>\n",
       "      <td>0.018249</td>\n",
       "      <td>-0.119018</td>\n",
       "      <td>0.022998</td>\n",
       "      <td>-0.216762</td>\n",
       "      <td>0.073691</td>\n",
       "      <td>-0.037366</td>\n",
       "      <td>-0.060351</td>\n",
       "      <td>...</td>\n",
       "      <td>0.432303</td>\n",
       "      <td>-0.063113</td>\n",
       "      <td>-0.137830</td>\n",
       "      <td>0.001271</td>\n",
       "      <td>0.103631</td>\n",
       "      <td>0.191715</td>\n",
       "      <td>-0.044846</td>\n",
       "      <td>0.205121</td>\n",
       "      <td>8.496047</td>\n",
       "      <td>6.152605</td>\n",
       "    </tr>\n",
       "  </tbody>\n",
       "</table>\n",
       "<p>5 rows × 53 columns</p>\n",
       "</div>"
      ],
      "text/plain": [
       "                            title         0         1         2         3  \\\n",
       "0                Toy Story (1995) -0.319952 -0.153453  0.402057  0.046731   \n",
       "1                     Heat (1995)  0.173140 -0.374734 -0.034256 -0.325415   \n",
       "2                  Sabrina (1995)  0.031411  0.169822 -0.277031 -0.150907   \n",
       "3  American President, The (1995)  0.159103 -0.156947 -0.169002 -0.211603   \n",
       "4                    Nixon (1995)  0.177666  0.312977  0.018249 -0.119018   \n",
       "\n",
       "          4         5         6         7         8    ...            42  \\\n",
       "0 -0.198464  0.082833  0.091520 -0.055316  0.091780    ...     -0.097867   \n",
       "1 -0.285656 -0.067157  0.110015 -0.135461 -0.213825    ...      0.282866   \n",
       "2  0.241624  0.081316  0.059789  0.058588 -0.177269    ...      0.080993   \n",
       "3 -0.106786  0.012457 -0.168632  0.035421 -0.417987    ...     -0.217543   \n",
       "4  0.022998 -0.216762  0.073691 -0.037366 -0.060351    ...      0.432303   \n",
       "\n",
       "         43        44        45        46        47        48        49  \\\n",
       "0 -0.194169  0.140290 -0.058537  0.290413 -0.172116  0.450979  0.154015   \n",
       "1  0.038345  0.025007 -0.156560  0.132324 -0.038206  0.203375  0.262010   \n",
       "2  0.302002  0.158289  0.286157  0.115834 -0.100609  0.204727 -0.077644   \n",
       "3 -0.074168  0.436061  0.047165  0.330946  0.106014  0.198659  0.191297   \n",
       "4 -0.063113 -0.137830  0.001271  0.103631  0.191715 -0.044846  0.205121   \n",
       "\n",
       "      x-tsne     y-tsne  \n",
       "0  16.954386  13.342017  \n",
       "1   2.029821 -23.294428  \n",
       "2  14.385095   3.537281  \n",
       "3  13.703283   8.344221  \n",
       "4   8.496047   6.152605  \n",
       "\n",
       "[5 rows x 53 columns]"
      ]
     },
     "execution_count": 59,
     "metadata": {},
     "output_type": "execute_result"
    }
   ],
   "source": [
    "df_combine_u547.head()"
   ]
  },
  {
   "cell_type": "code",
   "execution_count": 60,
   "metadata": {},
   "outputs": [],
   "source": [
    "df_combine_u547['rating'] = user_547.rating.reset_index()['rating']"
   ]
  },
  {
   "cell_type": "code",
   "execution_count": 61,
   "metadata": {},
   "outputs": [
    {
     "data": {
      "text/html": [
       "<div>\n",
       "<style scoped>\n",
       "    .dataframe tbody tr th:only-of-type {\n",
       "        vertical-align: middle;\n",
       "    }\n",
       "\n",
       "    .dataframe tbody tr th {\n",
       "        vertical-align: top;\n",
       "    }\n",
       "\n",
       "    .dataframe thead th {\n",
       "        text-align: right;\n",
       "    }\n",
       "</style>\n",
       "<table border=\"1\" class=\"dataframe\">\n",
       "  <thead>\n",
       "    <tr style=\"text-align: right;\">\n",
       "      <th></th>\n",
       "      <th>title</th>\n",
       "      <th>0</th>\n",
       "      <th>1</th>\n",
       "      <th>2</th>\n",
       "      <th>3</th>\n",
       "      <th>4</th>\n",
       "      <th>5</th>\n",
       "      <th>6</th>\n",
       "      <th>7</th>\n",
       "      <th>8</th>\n",
       "      <th>...</th>\n",
       "      <th>43</th>\n",
       "      <th>44</th>\n",
       "      <th>45</th>\n",
       "      <th>46</th>\n",
       "      <th>47</th>\n",
       "      <th>48</th>\n",
       "      <th>49</th>\n",
       "      <th>x-tsne</th>\n",
       "      <th>y-tsne</th>\n",
       "      <th>rating</th>\n",
       "    </tr>\n",
       "  </thead>\n",
       "  <tbody>\n",
       "    <tr>\n",
       "      <th>0</th>\n",
       "      <td>Toy Story (1995)</td>\n",
       "      <td>-0.319952</td>\n",
       "      <td>-0.153453</td>\n",
       "      <td>0.402057</td>\n",
       "      <td>0.046731</td>\n",
       "      <td>-0.198464</td>\n",
       "      <td>0.082833</td>\n",
       "      <td>0.091520</td>\n",
       "      <td>-0.055316</td>\n",
       "      <td>0.091780</td>\n",
       "      <td>...</td>\n",
       "      <td>-0.194169</td>\n",
       "      <td>0.140290</td>\n",
       "      <td>-0.058537</td>\n",
       "      <td>0.290413</td>\n",
       "      <td>-0.172116</td>\n",
       "      <td>0.450979</td>\n",
       "      <td>0.154015</td>\n",
       "      <td>16.954386</td>\n",
       "      <td>13.342017</td>\n",
       "      <td>3.5</td>\n",
       "    </tr>\n",
       "    <tr>\n",
       "      <th>1</th>\n",
       "      <td>Heat (1995)</td>\n",
       "      <td>0.173140</td>\n",
       "      <td>-0.374734</td>\n",
       "      <td>-0.034256</td>\n",
       "      <td>-0.325415</td>\n",
       "      <td>-0.285656</td>\n",
       "      <td>-0.067157</td>\n",
       "      <td>0.110015</td>\n",
       "      <td>-0.135461</td>\n",
       "      <td>-0.213825</td>\n",
       "      <td>...</td>\n",
       "      <td>0.038345</td>\n",
       "      <td>0.025007</td>\n",
       "      <td>-0.156560</td>\n",
       "      <td>0.132324</td>\n",
       "      <td>-0.038206</td>\n",
       "      <td>0.203375</td>\n",
       "      <td>0.262010</td>\n",
       "      <td>2.029821</td>\n",
       "      <td>-23.294428</td>\n",
       "      <td>2.5</td>\n",
       "    </tr>\n",
       "    <tr>\n",
       "      <th>2</th>\n",
       "      <td>Sabrina (1995)</td>\n",
       "      <td>0.031411</td>\n",
       "      <td>0.169822</td>\n",
       "      <td>-0.277031</td>\n",
       "      <td>-0.150907</td>\n",
       "      <td>0.241624</td>\n",
       "      <td>0.081316</td>\n",
       "      <td>0.059789</td>\n",
       "      <td>0.058588</td>\n",
       "      <td>-0.177269</td>\n",
       "      <td>...</td>\n",
       "      <td>0.302002</td>\n",
       "      <td>0.158289</td>\n",
       "      <td>0.286157</td>\n",
       "      <td>0.115834</td>\n",
       "      <td>-0.100609</td>\n",
       "      <td>0.204727</td>\n",
       "      <td>-0.077644</td>\n",
       "      <td>14.385095</td>\n",
       "      <td>3.537281</td>\n",
       "      <td>2.0</td>\n",
       "    </tr>\n",
       "    <tr>\n",
       "      <th>3</th>\n",
       "      <td>American President, The (1995)</td>\n",
       "      <td>0.159103</td>\n",
       "      <td>-0.156947</td>\n",
       "      <td>-0.169002</td>\n",
       "      <td>-0.211603</td>\n",
       "      <td>-0.106786</td>\n",
       "      <td>0.012457</td>\n",
       "      <td>-0.168632</td>\n",
       "      <td>0.035421</td>\n",
       "      <td>-0.417987</td>\n",
       "      <td>...</td>\n",
       "      <td>-0.074168</td>\n",
       "      <td>0.436061</td>\n",
       "      <td>0.047165</td>\n",
       "      <td>0.330946</td>\n",
       "      <td>0.106014</td>\n",
       "      <td>0.198659</td>\n",
       "      <td>0.191297</td>\n",
       "      <td>13.703283</td>\n",
       "      <td>8.344221</td>\n",
       "      <td>3.0</td>\n",
       "    </tr>\n",
       "    <tr>\n",
       "      <th>4</th>\n",
       "      <td>Nixon (1995)</td>\n",
       "      <td>0.177666</td>\n",
       "      <td>0.312977</td>\n",
       "      <td>0.018249</td>\n",
       "      <td>-0.119018</td>\n",
       "      <td>0.022998</td>\n",
       "      <td>-0.216762</td>\n",
       "      <td>0.073691</td>\n",
       "      <td>-0.037366</td>\n",
       "      <td>-0.060351</td>\n",
       "      <td>...</td>\n",
       "      <td>-0.063113</td>\n",
       "      <td>-0.137830</td>\n",
       "      <td>0.001271</td>\n",
       "      <td>0.103631</td>\n",
       "      <td>0.191715</td>\n",
       "      <td>-0.044846</td>\n",
       "      <td>0.205121</td>\n",
       "      <td>8.496047</td>\n",
       "      <td>6.152605</td>\n",
       "      <td>3.5</td>\n",
       "    </tr>\n",
       "  </tbody>\n",
       "</table>\n",
       "<p>5 rows × 54 columns</p>\n",
       "</div>"
      ],
      "text/plain": [
       "                            title         0         1         2         3  \\\n",
       "0                Toy Story (1995) -0.319952 -0.153453  0.402057  0.046731   \n",
       "1                     Heat (1995)  0.173140 -0.374734 -0.034256 -0.325415   \n",
       "2                  Sabrina (1995)  0.031411  0.169822 -0.277031 -0.150907   \n",
       "3  American President, The (1995)  0.159103 -0.156947 -0.169002 -0.211603   \n",
       "4                    Nixon (1995)  0.177666  0.312977  0.018249 -0.119018   \n",
       "\n",
       "          4         5         6         7         8   ...          43  \\\n",
       "0 -0.198464  0.082833  0.091520 -0.055316  0.091780   ...   -0.194169   \n",
       "1 -0.285656 -0.067157  0.110015 -0.135461 -0.213825   ...    0.038345   \n",
       "2  0.241624  0.081316  0.059789  0.058588 -0.177269   ...    0.302002   \n",
       "3 -0.106786  0.012457 -0.168632  0.035421 -0.417987   ...   -0.074168   \n",
       "4  0.022998 -0.216762  0.073691 -0.037366 -0.060351   ...   -0.063113   \n",
       "\n",
       "         44        45        46        47        48        49     x-tsne  \\\n",
       "0  0.140290 -0.058537  0.290413 -0.172116  0.450979  0.154015  16.954386   \n",
       "1  0.025007 -0.156560  0.132324 -0.038206  0.203375  0.262010   2.029821   \n",
       "2  0.158289  0.286157  0.115834 -0.100609  0.204727 -0.077644  14.385095   \n",
       "3  0.436061  0.047165  0.330946  0.106014  0.198659  0.191297  13.703283   \n",
       "4 -0.137830  0.001271  0.103631  0.191715 -0.044846  0.205121   8.496047   \n",
       "\n",
       "      y-tsne  rating  \n",
       "0  13.342017     3.5  \n",
       "1 -23.294428     2.5  \n",
       "2   3.537281     2.0  \n",
       "3   8.344221     3.0  \n",
       "4   6.152605     3.5  \n",
       "\n",
       "[5 rows x 54 columns]"
      ]
     },
     "execution_count": 61,
     "metadata": {},
     "output_type": "execute_result"
    }
   ],
   "source": [
    "df_combine_u547.head()"
   ]
  },
  {
   "cell_type": "markdown",
   "metadata": {},
   "source": [
    "### Visualizing t-SNE components of embeddings using Bokeh"
   ]
  },
  {
   "cell_type": "code",
   "execution_count": 63,
   "metadata": {},
   "outputs": [],
   "source": [
    "df_combine_u547['rating_bin'] = pd.cut(df_combine_u547.rating,5,labels=[0,1,2,3,4]) #creating bins from the ratings"
   ]
  },
  {
   "cell_type": "code",
   "execution_count": 64,
   "metadata": {},
   "outputs": [
    {
     "data": {
      "text/html": [
       "<div>\n",
       "<style scoped>\n",
       "    .dataframe tbody tr th:only-of-type {\n",
       "        vertical-align: middle;\n",
       "    }\n",
       "\n",
       "    .dataframe tbody tr th {\n",
       "        vertical-align: top;\n",
       "    }\n",
       "\n",
       "    .dataframe thead th {\n",
       "        text-align: right;\n",
       "    }\n",
       "</style>\n",
       "<table border=\"1\" class=\"dataframe\">\n",
       "  <thead>\n",
       "    <tr style=\"text-align: right;\">\n",
       "      <th></th>\n",
       "      <th>title</th>\n",
       "      <th>0</th>\n",
       "      <th>1</th>\n",
       "      <th>2</th>\n",
       "      <th>3</th>\n",
       "      <th>4</th>\n",
       "      <th>5</th>\n",
       "      <th>6</th>\n",
       "      <th>7</th>\n",
       "      <th>8</th>\n",
       "      <th>...</th>\n",
       "      <th>44</th>\n",
       "      <th>45</th>\n",
       "      <th>46</th>\n",
       "      <th>47</th>\n",
       "      <th>48</th>\n",
       "      <th>49</th>\n",
       "      <th>x-tsne</th>\n",
       "      <th>y-tsne</th>\n",
       "      <th>rating</th>\n",
       "      <th>rating_bin</th>\n",
       "    </tr>\n",
       "  </thead>\n",
       "  <tbody>\n",
       "    <tr>\n",
       "      <th>0</th>\n",
       "      <td>Toy Story (1995)</td>\n",
       "      <td>-0.319952</td>\n",
       "      <td>-0.153453</td>\n",
       "      <td>0.402057</td>\n",
       "      <td>0.046731</td>\n",
       "      <td>-0.198464</td>\n",
       "      <td>0.082833</td>\n",
       "      <td>0.091520</td>\n",
       "      <td>-0.055316</td>\n",
       "      <td>0.091780</td>\n",
       "      <td>...</td>\n",
       "      <td>0.140290</td>\n",
       "      <td>-0.058537</td>\n",
       "      <td>0.290413</td>\n",
       "      <td>-0.172116</td>\n",
       "      <td>0.450979</td>\n",
       "      <td>0.154015</td>\n",
       "      <td>16.954386</td>\n",
       "      <td>13.342017</td>\n",
       "      <td>3.5</td>\n",
       "      <td>3</td>\n",
       "    </tr>\n",
       "    <tr>\n",
       "      <th>1</th>\n",
       "      <td>Heat (1995)</td>\n",
       "      <td>0.173140</td>\n",
       "      <td>-0.374734</td>\n",
       "      <td>-0.034256</td>\n",
       "      <td>-0.325415</td>\n",
       "      <td>-0.285656</td>\n",
       "      <td>-0.067157</td>\n",
       "      <td>0.110015</td>\n",
       "      <td>-0.135461</td>\n",
       "      <td>-0.213825</td>\n",
       "      <td>...</td>\n",
       "      <td>0.025007</td>\n",
       "      <td>-0.156560</td>\n",
       "      <td>0.132324</td>\n",
       "      <td>-0.038206</td>\n",
       "      <td>0.203375</td>\n",
       "      <td>0.262010</td>\n",
       "      <td>2.029821</td>\n",
       "      <td>-23.294428</td>\n",
       "      <td>2.5</td>\n",
       "      <td>2</td>\n",
       "    </tr>\n",
       "    <tr>\n",
       "      <th>2</th>\n",
       "      <td>Sabrina (1995)</td>\n",
       "      <td>0.031411</td>\n",
       "      <td>0.169822</td>\n",
       "      <td>-0.277031</td>\n",
       "      <td>-0.150907</td>\n",
       "      <td>0.241624</td>\n",
       "      <td>0.081316</td>\n",
       "      <td>0.059789</td>\n",
       "      <td>0.058588</td>\n",
       "      <td>-0.177269</td>\n",
       "      <td>...</td>\n",
       "      <td>0.158289</td>\n",
       "      <td>0.286157</td>\n",
       "      <td>0.115834</td>\n",
       "      <td>-0.100609</td>\n",
       "      <td>0.204727</td>\n",
       "      <td>-0.077644</td>\n",
       "      <td>14.385095</td>\n",
       "      <td>3.537281</td>\n",
       "      <td>2.0</td>\n",
       "      <td>1</td>\n",
       "    </tr>\n",
       "    <tr>\n",
       "      <th>3</th>\n",
       "      <td>American President, The (1995)</td>\n",
       "      <td>0.159103</td>\n",
       "      <td>-0.156947</td>\n",
       "      <td>-0.169002</td>\n",
       "      <td>-0.211603</td>\n",
       "      <td>-0.106786</td>\n",
       "      <td>0.012457</td>\n",
       "      <td>-0.168632</td>\n",
       "      <td>0.035421</td>\n",
       "      <td>-0.417987</td>\n",
       "      <td>...</td>\n",
       "      <td>0.436061</td>\n",
       "      <td>0.047165</td>\n",
       "      <td>0.330946</td>\n",
       "      <td>0.106014</td>\n",
       "      <td>0.198659</td>\n",
       "      <td>0.191297</td>\n",
       "      <td>13.703283</td>\n",
       "      <td>8.344221</td>\n",
       "      <td>3.0</td>\n",
       "      <td>2</td>\n",
       "    </tr>\n",
       "    <tr>\n",
       "      <th>4</th>\n",
       "      <td>Nixon (1995)</td>\n",
       "      <td>0.177666</td>\n",
       "      <td>0.312977</td>\n",
       "      <td>0.018249</td>\n",
       "      <td>-0.119018</td>\n",
       "      <td>0.022998</td>\n",
       "      <td>-0.216762</td>\n",
       "      <td>0.073691</td>\n",
       "      <td>-0.037366</td>\n",
       "      <td>-0.060351</td>\n",
       "      <td>...</td>\n",
       "      <td>-0.137830</td>\n",
       "      <td>0.001271</td>\n",
       "      <td>0.103631</td>\n",
       "      <td>0.191715</td>\n",
       "      <td>-0.044846</td>\n",
       "      <td>0.205121</td>\n",
       "      <td>8.496047</td>\n",
       "      <td>6.152605</td>\n",
       "      <td>3.5</td>\n",
       "      <td>3</td>\n",
       "    </tr>\n",
       "  </tbody>\n",
       "</table>\n",
       "<p>5 rows × 55 columns</p>\n",
       "</div>"
      ],
      "text/plain": [
       "                            title         0         1         2         3  \\\n",
       "0                Toy Story (1995) -0.319952 -0.153453  0.402057  0.046731   \n",
       "1                     Heat (1995)  0.173140 -0.374734 -0.034256 -0.325415   \n",
       "2                  Sabrina (1995)  0.031411  0.169822 -0.277031 -0.150907   \n",
       "3  American President, The (1995)  0.159103 -0.156947 -0.169002 -0.211603   \n",
       "4                    Nixon (1995)  0.177666  0.312977  0.018249 -0.119018   \n",
       "\n",
       "          4         5         6         7         8     ...            44  \\\n",
       "0 -0.198464  0.082833  0.091520 -0.055316  0.091780     ...      0.140290   \n",
       "1 -0.285656 -0.067157  0.110015 -0.135461 -0.213825     ...      0.025007   \n",
       "2  0.241624  0.081316  0.059789  0.058588 -0.177269     ...      0.158289   \n",
       "3 -0.106786  0.012457 -0.168632  0.035421 -0.417987     ...      0.436061   \n",
       "4  0.022998 -0.216762  0.073691 -0.037366 -0.060351     ...     -0.137830   \n",
       "\n",
       "         45        46        47        48        49     x-tsne     y-tsne  \\\n",
       "0 -0.058537  0.290413 -0.172116  0.450979  0.154015  16.954386  13.342017   \n",
       "1 -0.156560  0.132324 -0.038206  0.203375  0.262010   2.029821 -23.294428   \n",
       "2  0.286157  0.115834 -0.100609  0.204727 -0.077644  14.385095   3.537281   \n",
       "3  0.047165  0.330946  0.106014  0.198659  0.191297  13.703283   8.344221   \n",
       "4  0.001271  0.103631  0.191715 -0.044846  0.205121   8.496047   6.152605   \n",
       "\n",
       "   rating  rating_bin  \n",
       "0     3.5           3  \n",
       "1     2.5           2  \n",
       "2     2.0           1  \n",
       "3     3.0           2  \n",
       "4     3.5           3  \n",
       "\n",
       "[5 rows x 55 columns]"
      ]
     },
     "execution_count": 64,
     "metadata": {},
     "output_type": "execute_result"
    }
   ],
   "source": [
    "df_combine_u547.head()"
   ]
  },
  {
   "cell_type": "code",
   "execution_count": 94,
   "metadata": {},
   "outputs": [],
   "source": [
    "cluster_colors = {0: 'blue', 1: 'green', 2: 'yellow', 3: 'red', 4: 'black'} #assigning colors for each bin"
   ]
  },
  {
   "cell_type": "code",
   "execution_count": 95,
   "metadata": {},
   "outputs": [],
   "source": [
    "df_combine_u547['colors'] = df_combine_u547['rating_bin'].apply(lambda l: cluster_colors[l]) #creating color column in the df"
   ]
  },
  {
   "cell_type": "code",
   "execution_count": 96,
   "metadata": {},
   "outputs": [
    {
     "data": {
      "text/html": [
       "<div>\n",
       "<style scoped>\n",
       "    .dataframe tbody tr th:only-of-type {\n",
       "        vertical-align: middle;\n",
       "    }\n",
       "\n",
       "    .dataframe tbody tr th {\n",
       "        vertical-align: top;\n",
       "    }\n",
       "\n",
       "    .dataframe thead th {\n",
       "        text-align: right;\n",
       "    }\n",
       "</style>\n",
       "<table border=\"1\" class=\"dataframe\">\n",
       "  <thead>\n",
       "    <tr style=\"text-align: right;\">\n",
       "      <th></th>\n",
       "      <th>title</th>\n",
       "      <th>0</th>\n",
       "      <th>1</th>\n",
       "      <th>2</th>\n",
       "      <th>3</th>\n",
       "      <th>4</th>\n",
       "      <th>5</th>\n",
       "      <th>6</th>\n",
       "      <th>7</th>\n",
       "      <th>8</th>\n",
       "      <th>...</th>\n",
       "      <th>45</th>\n",
       "      <th>46</th>\n",
       "      <th>47</th>\n",
       "      <th>48</th>\n",
       "      <th>49</th>\n",
       "      <th>x-tsne</th>\n",
       "      <th>y-tsne</th>\n",
       "      <th>rating</th>\n",
       "      <th>rating_bin</th>\n",
       "      <th>colors</th>\n",
       "    </tr>\n",
       "  </thead>\n",
       "  <tbody>\n",
       "    <tr>\n",
       "      <th>0</th>\n",
       "      <td>Toy Story (1995)</td>\n",
       "      <td>-0.319952</td>\n",
       "      <td>-0.153453</td>\n",
       "      <td>0.402057</td>\n",
       "      <td>0.046731</td>\n",
       "      <td>-0.198464</td>\n",
       "      <td>0.082833</td>\n",
       "      <td>0.091520</td>\n",
       "      <td>-0.055316</td>\n",
       "      <td>0.091780</td>\n",
       "      <td>...</td>\n",
       "      <td>-0.058537</td>\n",
       "      <td>0.290413</td>\n",
       "      <td>-0.172116</td>\n",
       "      <td>0.450979</td>\n",
       "      <td>0.154015</td>\n",
       "      <td>16.954386</td>\n",
       "      <td>13.342017</td>\n",
       "      <td>3.5</td>\n",
       "      <td>3</td>\n",
       "      <td>red</td>\n",
       "    </tr>\n",
       "    <tr>\n",
       "      <th>1</th>\n",
       "      <td>Heat (1995)</td>\n",
       "      <td>0.173140</td>\n",
       "      <td>-0.374734</td>\n",
       "      <td>-0.034256</td>\n",
       "      <td>-0.325415</td>\n",
       "      <td>-0.285656</td>\n",
       "      <td>-0.067157</td>\n",
       "      <td>0.110015</td>\n",
       "      <td>-0.135461</td>\n",
       "      <td>-0.213825</td>\n",
       "      <td>...</td>\n",
       "      <td>-0.156560</td>\n",
       "      <td>0.132324</td>\n",
       "      <td>-0.038206</td>\n",
       "      <td>0.203375</td>\n",
       "      <td>0.262010</td>\n",
       "      <td>2.029821</td>\n",
       "      <td>-23.294428</td>\n",
       "      <td>2.5</td>\n",
       "      <td>2</td>\n",
       "      <td>yellow</td>\n",
       "    </tr>\n",
       "    <tr>\n",
       "      <th>2</th>\n",
       "      <td>Sabrina (1995)</td>\n",
       "      <td>0.031411</td>\n",
       "      <td>0.169822</td>\n",
       "      <td>-0.277031</td>\n",
       "      <td>-0.150907</td>\n",
       "      <td>0.241624</td>\n",
       "      <td>0.081316</td>\n",
       "      <td>0.059789</td>\n",
       "      <td>0.058588</td>\n",
       "      <td>-0.177269</td>\n",
       "      <td>...</td>\n",
       "      <td>0.286157</td>\n",
       "      <td>0.115834</td>\n",
       "      <td>-0.100609</td>\n",
       "      <td>0.204727</td>\n",
       "      <td>-0.077644</td>\n",
       "      <td>14.385095</td>\n",
       "      <td>3.537281</td>\n",
       "      <td>2.0</td>\n",
       "      <td>1</td>\n",
       "      <td>green</td>\n",
       "    </tr>\n",
       "    <tr>\n",
       "      <th>3</th>\n",
       "      <td>American President, The (1995)</td>\n",
       "      <td>0.159103</td>\n",
       "      <td>-0.156947</td>\n",
       "      <td>-0.169002</td>\n",
       "      <td>-0.211603</td>\n",
       "      <td>-0.106786</td>\n",
       "      <td>0.012457</td>\n",
       "      <td>-0.168632</td>\n",
       "      <td>0.035421</td>\n",
       "      <td>-0.417987</td>\n",
       "      <td>...</td>\n",
       "      <td>0.047165</td>\n",
       "      <td>0.330946</td>\n",
       "      <td>0.106014</td>\n",
       "      <td>0.198659</td>\n",
       "      <td>0.191297</td>\n",
       "      <td>13.703283</td>\n",
       "      <td>8.344221</td>\n",
       "      <td>3.0</td>\n",
       "      <td>2</td>\n",
       "      <td>yellow</td>\n",
       "    </tr>\n",
       "    <tr>\n",
       "      <th>4</th>\n",
       "      <td>Nixon (1995)</td>\n",
       "      <td>0.177666</td>\n",
       "      <td>0.312977</td>\n",
       "      <td>0.018249</td>\n",
       "      <td>-0.119018</td>\n",
       "      <td>0.022998</td>\n",
       "      <td>-0.216762</td>\n",
       "      <td>0.073691</td>\n",
       "      <td>-0.037366</td>\n",
       "      <td>-0.060351</td>\n",
       "      <td>...</td>\n",
       "      <td>0.001271</td>\n",
       "      <td>0.103631</td>\n",
       "      <td>0.191715</td>\n",
       "      <td>-0.044846</td>\n",
       "      <td>0.205121</td>\n",
       "      <td>8.496047</td>\n",
       "      <td>6.152605</td>\n",
       "      <td>3.5</td>\n",
       "      <td>3</td>\n",
       "      <td>red</td>\n",
       "    </tr>\n",
       "  </tbody>\n",
       "</table>\n",
       "<p>5 rows × 56 columns</p>\n",
       "</div>"
      ],
      "text/plain": [
       "                            title         0         1         2         3  \\\n",
       "0                Toy Story (1995) -0.319952 -0.153453  0.402057  0.046731   \n",
       "1                     Heat (1995)  0.173140 -0.374734 -0.034256 -0.325415   \n",
       "2                  Sabrina (1995)  0.031411  0.169822 -0.277031 -0.150907   \n",
       "3  American President, The (1995)  0.159103 -0.156947 -0.169002 -0.211603   \n",
       "4                    Nixon (1995)  0.177666  0.312977  0.018249 -0.119018   \n",
       "\n",
       "          4         5         6         7         8   ...          45  \\\n",
       "0 -0.198464  0.082833  0.091520 -0.055316  0.091780   ...   -0.058537   \n",
       "1 -0.285656 -0.067157  0.110015 -0.135461 -0.213825   ...   -0.156560   \n",
       "2  0.241624  0.081316  0.059789  0.058588 -0.177269   ...    0.286157   \n",
       "3 -0.106786  0.012457 -0.168632  0.035421 -0.417987   ...    0.047165   \n",
       "4  0.022998 -0.216762  0.073691 -0.037366 -0.060351   ...    0.001271   \n",
       "\n",
       "         46        47        48        49     x-tsne     y-tsne  rating  \\\n",
       "0  0.290413 -0.172116  0.450979  0.154015  16.954386  13.342017     3.5   \n",
       "1  0.132324 -0.038206  0.203375  0.262010   2.029821 -23.294428     2.5   \n",
       "2  0.115834 -0.100609  0.204727 -0.077644  14.385095   3.537281     2.0   \n",
       "3  0.330946  0.106014  0.198659  0.191297  13.703283   8.344221     3.0   \n",
       "4  0.103631  0.191715 -0.044846  0.205121   8.496047   6.152605     3.5   \n",
       "\n",
       "   rating_bin  colors  \n",
       "0           3     red  \n",
       "1           2  yellow  \n",
       "2           1   green  \n",
       "3           2  yellow  \n",
       "4           3     red  \n",
       "\n",
       "[5 rows x 56 columns]"
      ]
     },
     "execution_count": 96,
     "metadata": {},
     "output_type": "execute_result"
    }
   ],
   "source": [
    "df_combine_u547.head()"
   ]
  },
  {
   "cell_type": "code",
   "execution_count": 97,
   "metadata": {},
   "outputs": [],
   "source": [
    "top_labels = {0: 'V. Low', 1:'Low', 2:'Medium', 3:'High',4:'V.High'} #actual range of bins"
   ]
  },
  {
   "cell_type": "code",
   "execution_count": 104,
   "metadata": {},
   "outputs": [],
   "source": [
    "source = ColumnDataSource(dict(\n",
    "    x=df_combine_u547['x-tsne'],\n",
    "    y=df_combine_u547['y-tsne'],\n",
    "    title= df_combine_u547['title'], #title for tool tip\n",
    "    colors = df_combine_u547['colors'], #colors for each point according to cluster/bin\n",
    "    label=df_combine_u547['rating_bin'].apply(lambda l: top_labels[l]) #label for each cluster/bin\n",
    "))"
   ]
  },
  {
   "cell_type": "code",
   "execution_count": 105,
   "metadata": {},
   "outputs": [
    {
     "data": {
      "text/html": [
       "\n",
       "<div class=\"bk-root\">\n",
       "    <div class=\"bk-plotdiv\" id=\"64ee9118-be27-49cb-aa76-c3cce4e6d961\"></div>\n",
       "</div>"
      ]
     },
     "metadata": {},
     "output_type": "display_data"
    },
    {
     "data": {
      "application/javascript": [
       "(function(root) {\n",
       "  function embed_document(root) {\n",
       "    var docs_json = {\"d85b6139-478b-4e7c-8fd0-fafffd5ff370\":{\"roots\":{\"references\":[{\"attributes\":{\"callback\":null,\"column_names\":[\"x\",\"y\",\"title\",\"colors\",\"label\"],\"data\":{\"colors\":[\"red\",\"yellow\",\"green\",\"yellow\",\"red\",\"red\",\"black\",\"red\",\"black\",\"red\",\"red\",\"red\",\"yellow\",\"red\",\"red\",\"red\",\"red\",\"yellow\",\"red\",\"black\",\"black\",\"red\",\"black\",\"blue\",\"green\",\"red\",\"green\",\"green\",\"yellow\",\"blue\",\"yellow\",\"yellow\",\"black\",\"black\",\"blue\",\"yellow\",\"red\",\"black\",\"green\",\"blue\",\"yellow\",\"blue\",\"red\",\"red\",\"red\",\"blue\",\"black\",\"red\",\"blue\",\"red\",\"red\",\"red\",\"red\",\"blue\",\"red\",\"red\",\"green\",\"black\",\"black\",\"yellow\",\"yellow\",\"black\",\"blue\",\"black\",\"red\",\"blue\",\"yellow\",\"yellow\",\"red\",\"yellow\",\"green\",\"black\",\"blue\",\"yellow\",\"yellow\",\"black\",\"green\",\"green\",\"yellow\",\"green\",\"yellow\",\"yellow\",\"red\",\"yellow\",\"red\",\"green\",\"red\",\"black\",\"black\",\"yellow\",\"yellow\",\"red\",\"blue\",\"red\",\"red\",\"black\",\"yellow\",\"green\",\"green\",\"red\",\"yellow\",\"red\",\"yellow\",\"blue\",\"black\",\"blue\",\"yellow\",\"blue\",\"black\",\"red\",\"yellow\",\"blue\",\"red\",\"red\",\"yellow\",\"red\",\"yellow\",\"black\",\"yellow\",\"blue\",\"green\",\"black\",\"yellow\",\"yellow\",\"yellow\",\"blue\",\"black\",\"black\",\"red\",\"red\",\"red\",\"black\",\"red\",\"red\",\"yellow\",\"green\",\"yellow\",\"green\",\"yellow\",\"yellow\",\"green\",\"green\",\"black\",\"yellow\",\"red\",\"red\",\"red\",\"yellow\",\"red\",\"green\",\"yellow\",\"green\",\"yellow\",\"green\",\"yellow\",\"red\",\"black\",\"black\",\"black\",\"yellow\",\"black\",\"black\",\"black\",\"red\",\"red\",\"black\",\"black\",\"black\",\"green\",\"black\",\"black\",\"yellow\",\"red\",\"red\",\"black\",\"black\",\"red\",\"black\",\"black\",\"black\",\"black\",\"black\",\"black\",\"yellow\",\"red\",\"red\",\"green\",\"yellow\",\"black\",\"black\",\"red\",\"yellow\",\"red\",\"red\",\"black\",\"yellow\",\"red\",\"black\",\"black\",\"black\",\"red\",\"black\",\"yellow\",\"black\",\"yellow\",\"black\",\"green\",\"red\",\"red\",\"red\",\"green\",\"red\",\"yellow\",\"yellow\",\"yellow\",\"black\",\"black\",\"blue\",\"red\",\"black\",\"black\",\"red\",\"green\",\"green\",\"yellow\",\"red\",\"red\",\"red\",\"red\",\"red\",\"black\",\"red\",\"green\",\"black\",\"yellow\",\"red\",\"black\",\"yellow\",\"black\",\"black\",\"red\",\"red\",\"red\",\"black\",\"red\",\"red\",\"red\",\"red\",\"black\",\"black\",\"yellow\",\"yellow\",\"red\",\"yellow\",\"black\",\"green\",\"green\",\"yellow\",\"yellow\",\"blue\",\"red\",\"red\",\"yellow\",\"black\",\"blue\",\"yellow\",\"black\",\"black\",\"yellow\",\"black\",\"yellow\",\"green\",\"black\",\"blue\",\"red\",\"yellow\",\"red\",\"green\",\"yellow\",\"green\",\"red\",\"red\",\"red\",\"black\",\"yellow\",\"black\",\"black\",\"yellow\",\"black\",\"black\",\"red\",\"black\",\"black\",\"green\",\"red\",\"black\",\"green\",\"yellow\",\"yellow\",\"blue\",\"red\",\"black\",\"black\",\"blue\",\"black\",\"red\",\"yellow\",\"red\",\"black\",\"blue\",\"black\",\"black\",\"yellow\",\"red\",\"black\",\"black\",\"red\",\"black\",\"black\",\"black\",\"green\",\"green\",\"black\",\"black\",\"black\",\"yellow\",\"black\",\"yellow\",\"black\",\"red\",\"red\",\"black\",\"black\",\"red\",\"black\",\"black\",\"red\",\"red\",\"yellow\",\"black\",\"red\",\"yellow\",\"red\",\"black\",\"black\",\"black\",\"black\",\"yellow\",\"red\",\"black\",\"black\",\"black\",\"black\",\"red\",\"blue\",\"green\",\"black\",\"green\",\"red\",\"black\",\"red\",\"green\",\"yellow\",\"green\",\"yellow\",\"black\",\"red\",\"red\",\"black\",\"red\",\"blue\",\"green\",\"yellow\",\"yellow\",\"red\",\"blue\",\"yellow\",\"red\",\"green\",\"black\",\"yellow\",\"red\",\"red\",\"red\",\"black\",\"green\",\"yellow\",\"black\",\"red\",\"red\",\"red\",\"black\",\"black\",\"yellow\",\"red\",\"yellow\",\"green\",\"red\",\"green\",\"red\",\"blue\",\"green\",\"red\",\"blue\",\"red\",\"red\",\"blue\",\"green\",\"yellow\",\"red\",\"red\",\"black\",\"red\",\"yellow\",\"black\",\"blue\",\"red\",\"yellow\",\"black\",\"yellow\",\"yellow\",\"yellow\",\"red\",\"red\",\"black\",\"yellow\",\"red\",\"red\",\"red\",\"yellow\",\"blue\",\"red\",\"black\",\"black\",\"black\",\"red\",\"red\",\"red\",\"yellow\",\"red\",\"green\",\"red\",\"red\",\"black\",\"blue\",\"yellow\",\"blue\",\"yellow\",\"black\",\"yellow\",\"yellow\",\"blue\",\"black\",\"green\",\"red\",\"green\",\"red\",\"red\",\"red\",\"red\",\"red\",\"black\",\"yellow\",\"yellow\",\"yellow\",\"black\",\"black\",\"black\",\"black\",\"black\",\"yellow\",\"black\",\"black\",\"green\",\"red\",\"black\",\"yellow\",\"red\",\"yellow\",\"red\",\"red\",\"red\",\"red\",\"blue\",\"yellow\",\"yellow\",\"black\",\"yellow\",\"blue\",\"blue\",\"green\",\"blue\",\"red\",\"yellow\",\"black\",\"black\",\"black\",\"green\",\"green\",\"red\",\"red\",\"yellow\",\"red\",\"red\",\"black\",\"yellow\",\"black\",\"black\",\"red\",\"green\",\"black\",\"red\",\"red\",\"yellow\",\"red\",\"green\",\"red\",\"red\",\"green\",\"green\",\"green\",\"red\",\"red\",\"black\",\"blue\",\"yellow\",\"red\",\"green\",\"black\",\"green\",\"red\",\"red\",\"yellow\",\"red\",\"blue\",\"red\",\"red\",\"red\",\"red\",\"black\",\"green\",\"green\",\"black\",\"red\",\"red\",\"red\",\"green\",\"black\",\"black\",\"red\",\"black\",\"blue\",\"green\",\"blue\",\"yellow\",\"red\",\"red\",\"black\",\"black\",\"black\",\"red\",\"red\",\"black\",\"red\",\"black\",\"red\",\"blue\",\"black\",\"black\",\"red\",\"red\",\"red\",\"green\",\"black\",\"black\",\"red\",\"blue\",\"black\",\"yellow\",\"red\",\"red\",\"yellow\",\"red\",\"black\",\"red\",\"black\",\"green\",\"yellow\",\"black\",\"yellow\",\"green\",\"blue\",\"yellow\",\"green\",\"red\",\"red\",\"green\",\"black\",\"green\",\"red\",\"yellow\",\"red\",\"green\",\"blue\",\"yellow\",\"blue\",\"yellow\",\"green\",\"yellow\",\"yellow\",\"yellow\",\"blue\",\"red\",\"green\",\"black\",\"blue\",\"red\",\"yellow\",\"red\",\"green\",\"red\",\"black\",\"blue\",\"green\",\"yellow\",\"yellow\",\"red\",\"yellow\",\"yellow\",\"red\",\"green\",\"black\",\"black\",\"red\",\"red\",\"red\",\"red\",\"green\",\"yellow\",\"blue\",\"blue\",\"red\",\"red\",\"red\",\"red\",\"green\",\"green\",\"yellow\",\"green\",\"yellow\",\"green\",\"red\",\"red\",\"green\",\"green\",\"black\",\"red\",\"black\",\"red\",\"black\",\"black\",\"blue\",\"red\",\"red\",\"yellow\",\"green\",\"yellow\",\"red\",\"red\",\"red\",\"red\",\"red\",\"yellow\",\"red\",\"red\",\"red\",\"black\",\"red\",\"red\",\"black\",\"yellow\",\"yellow\",\"green\",\"yellow\",\"green\",\"yellow\",\"yellow\",\"black\",\"red\",\"black\",\"yellow\",\"green\",\"black\",\"green\",\"blue\",\"blue\",\"yellow\",\"black\",\"red\",\"green\",\"red\",\"black\",\"red\",\"red\",\"black\",\"red\",\"yellow\",\"red\",\"yellow\",\"red\",\"red\",\"yellow\",\"yellow\",\"black\",\"red\",\"black\",\"yellow\",\"yellow\",\"red\",\"yellow\",\"yellow\",\"green\",\"black\",\"yellow\",\"red\",\"red\",\"red\",\"red\",\"black\",\"red\",\"red\",\"black\",\"red\",\"black\",\"yellow\",\"black\",\"yellow\",\"black\",\"black\",\"yellow\",\"green\",\"green\",\"yellow\",\"green\",\"black\",\"green\",\"yellow\",\"yellow\",\"red\",\"red\",\"black\",\"black\",\"green\",\"green\",\"green\",\"red\",\"yellow\",\"yellow\",\"green\",\"yellow\",\"black\",\"black\",\"red\",\"black\",\"red\",\"black\",\"green\",\"yellow\",\"red\",\"yellow\",\"green\",\"green\",\"red\",\"green\",\"red\",\"green\",\"red\",\"yellow\",\"black\",\"red\",\"black\",\"black\",\"yellow\",\"yellow\",\"red\",\"black\",\"red\",\"green\",\"green\",\"yellow\",\"red\",\"green\",\"red\",\"yellow\",\"red\",\"yellow\",\"green\",\"red\",\"yellow\",\"red\",\"blue\",\"black\",\"red\",\"yellow\",\"black\",\"yellow\",\"blue\",\"red\",\"blue\",\"red\",\"yellow\",\"green\",\"red\",\"red\",\"green\",\"black\",\"black\",\"red\",\"red\",\"red\",\"yellow\",\"red\",\"yellow\",\"blue\",\"red\",\"red\",\"blue\",\"red\",\"yellow\",\"black\",\"black\",\"yellow\",\"red\",\"yellow\",\"red\",\"green\",\"yellow\",\"green\",\"black\",\"blue\",\"yellow\",\"yellow\",\"black\",\"blue\",\"red\",\"black\",\"yellow\",\"blue\",\"red\",\"red\",\"green\",\"blue\",\"yellow\",\"yellow\",\"red\",\"black\",\"black\",\"black\",\"red\",\"red\",\"black\",\"red\",\"red\",\"black\",\"green\",\"yellow\",\"yellow\",\"black\",\"red\",\"black\",\"yellow\",\"blue\",\"yellow\",\"yellow\",\"red\",\"green\",\"yellow\",\"black\",\"green\",\"green\",\"yellow\",\"black\",\"black\",\"yellow\",\"green\",\"yellow\",\"yellow\",\"red\",\"yellow\",\"green\",\"blue\",\"red\",\"green\",\"red\",\"red\",\"blue\",\"blue\",\"blue\",\"red\",\"black\",\"blue\",\"red\",\"red\",\"green\",\"yellow\",\"red\",\"green\",\"black\",\"yellow\",\"black\",\"red\",\"yellow\",\"red\",\"red\",\"black\",\"yellow\",\"green\",\"red\",\"green\",\"green\",\"red\",\"black\",\"black\",\"green\",\"red\",\"blue\",\"blue\",\"red\",\"blue\",\"red\",\"yellow\",\"black\",\"black\",\"red\",\"black\",\"red\",\"red\",\"green\",\"black\",\"red\",\"yellow\",\"red\",\"yellow\",\"yellow\",\"red\",\"yellow\",\"red\",\"red\",\"red\",\"red\",\"green\",\"blue\",\"red\",\"black\",\"yellow\",\"yellow\",\"green\",\"red\",\"black\",\"green\",\"red\",\"yellow\",\"yellow\",\"green\",\"red\",\"blue\",\"red\",\"yellow\",\"red\",\"red\",\"blue\",\"yellow\",\"black\",\"red\",\"black\",\"yellow\",\"black\",\"yellow\",\"red\",\"yellow\",\"red\",\"red\",\"green\",\"red\",\"yellow\",\"red\",\"blue\",\"green\",\"red\",\"red\",\"yellow\",\"red\",\"red\",\"yellow\",\"yellow\",\"red\",\"green\",\"yellow\",\"yellow\",\"yellow\",\"red\",\"red\",\"red\",\"yellow\",\"red\",\"yellow\",\"green\",\"yellow\",\"red\",\"red\",\"red\",\"black\",\"black\",\"green\",\"blue\",\"black\",\"yellow\",\"yellow\",\"green\",\"black\",\"yellow\",\"green\",\"green\",\"red\",\"yellow\",\"red\",\"blue\",\"red\",\"green\",\"yellow\",\"red\",\"blue\",\"blue\",\"yellow\",\"yellow\",\"green\",\"green\",\"yellow\",\"red\",\"black\",\"black\",\"red\",\"green\",\"yellow\",\"black\",\"green\",\"yellow\",\"green\",\"yellow\",\"blue\",\"black\",\"red\",\"black\",\"red\",\"red\",\"black\",\"black\",\"red\",\"green\",\"red\",\"yellow\",\"red\",\"green\",\"blue\",\"yellow\",\"green\",\"blue\",\"blue\",\"green\",\"yellow\",\"yellow\",\"yellow\",\"yellow\",\"red\",\"red\",\"green\",\"blue\",\"green\",\"blue\",\"red\",\"blue\",\"red\",\"green\",\"green\",\"red\",\"green\",\"yellow\",\"blue\",\"red\",\"blue\",\"red\",\"black\",\"green\",\"blue\",\"yellow\",\"blue\",\"blue\",\"yellow\",\"yellow\",\"red\",\"yellow\",\"green\",\"blue\",\"yellow\",\"green\",\"green\",\"black\",\"yellow\",\"yellow\",\"red\",\"black\",\"yellow\",\"black\",\"red\",\"yellow\",\"red\",\"black\",\"green\",\"yellow\",\"yellow\",\"red\",\"green\",\"red\",\"red\",\"blue\",\"blue\",\"yellow\",\"yellow\",\"yellow\",\"red\",\"red\",\"yellow\",\"blue\",\"yellow\",\"red\",\"black\",\"green\",\"red\",\"green\",\"black\",\"red\",\"green\",\"yellow\",\"black\",\"black\",\"black\",\"yellow\",\"black\",\"red\",\"yellow\",\"yellow\",\"red\",\"blue\",\"yellow\",\"red\",\"red\",\"yellow\",\"red\",\"yellow\",\"green\",\"red\",\"yellow\",\"black\",\"green\",\"yellow\",\"yellow\",\"green\",\"black\",\"green\",\"yellow\",\"black\",\"yellow\",\"yellow\",\"yellow\",\"red\",\"red\",\"red\",\"yellow\",\"red\",\"red\",\"yellow\",\"yellow\",\"yellow\",\"yellow\",\"red\",\"black\",\"green\",\"red\",\"yellow\",\"red\",\"red\",\"red\",\"yellow\",\"blue\",\"green\",\"red\",\"black\",\"yellow\",\"green\",\"green\",\"red\",\"red\",\"red\",\"red\",\"red\",\"black\",\"yellow\",\"red\",\"red\",\"red\",\"yellow\",\"yellow\",\"yellow\",\"black\",\"red\",\"yellow\",\"red\",\"green\",\"blue\",\"red\",\"green\",\"blue\",\"yellow\",\"red\",\"green\",\"yellow\",\"red\",\"red\",\"yellow\",\"red\",\"red\",\"yellow\",\"red\",\"red\",\"black\",\"blue\",\"yellow\",\"green\",\"black\",\"red\",\"blue\",\"red\",\"red\",\"yellow\",\"red\",\"yellow\",\"green\",\"yellow\",\"red\",\"red\",\"black\",\"yellow\",\"yellow\",\"green\",\"yellow\",\"green\",\"red\",\"yellow\",\"green\",\"red\",\"yellow\",\"yellow\",\"red\",\"yellow\",\"black\",\"red\",\"black\",\"red\",\"red\",\"black\",\"yellow\",\"red\",\"red\",\"yellow\",\"red\",\"red\",\"yellow\",\"black\",\"yellow\",\"blue\",\"yellow\",\"blue\",\"black\",\"red\",\"red\",\"red\",\"red\",\"red\",\"red\",\"red\",\"green\",\"red\",\"blue\",\"red\",\"yellow\",\"black\",\"black\",\"red\",\"red\",\"green\",\"yellow\",\"red\",\"red\",\"yellow\",\"yellow\",\"yellow\",\"red\",\"yellow\",\"green\",\"red\",\"red\",\"red\",\"yellow\",\"yellow\",\"green\",\"red\",\"yellow\",\"yellow\",\"green\",\"red\",\"yellow\",\"red\",\"yellow\",\"yellow\",\"red\",\"black\",\"red\",\"black\",\"yellow\",\"black\",\"yellow\",\"yellow\",\"green\",\"yellow\",\"red\",\"yellow\",\"red\",\"yellow\",\"black\",\"red\",\"red\",\"green\",\"black\",\"red\",\"red\",\"blue\",\"yellow\",\"yellow\",\"red\",\"red\",\"black\",\"yellow\",\"green\",\"yellow\",\"black\",\"black\",\"red\",\"black\",\"yellow\",\"red\",\"blue\",\"blue\",\"green\",\"red\",\"black\",\"red\",\"red\",\"red\",\"red\",\"red\",\"yellow\",\"red\",\"red\",\"yellow\",\"yellow\",\"red\",\"red\",\"red\",\"yellow\",\"red\",\"red\",\"red\",\"yellow\",\"red\",\"red\",\"yellow\",\"black\",\"yellow\",\"green\",\"red\",\"black\",\"yellow\",\"red\",\"black\",\"yellow\",\"red\",\"yellow\",\"red\",\"red\",\"yellow\",\"green\",\"yellow\",\"red\",\"blue\",\"red\",\"red\",\"red\",\"green\",\"yellow\",\"yellow\",\"red\",\"yellow\",\"black\",\"black\",\"yellow\",\"yellow\",\"yellow\",\"yellow\",\"black\",\"black\",\"black\",\"black\",\"black\",\"green\",\"yellow\",\"black\",\"black\",\"red\",\"red\",\"black\",\"red\",\"red\",\"black\",\"red\",\"black\",\"green\",\"red\",\"yellow\",\"yellow\",\"green\",\"red\",\"yellow\",\"red\",\"black\",\"yellow\",\"red\",\"red\",\"yellow\",\"red\",\"black\",\"red\",\"red\",\"red\",\"yellow\",\"yellow\",\"green\",\"yellow\",\"yellow\",\"red\",\"red\",\"red\",\"black\",\"blue\",\"red\",\"yellow\",\"yellow\",\"yellow\",\"red\",\"yellow\",\"black\",\"black\",\"red\",\"yellow\",\"yellow\",\"red\",\"yellow\",\"black\",\"yellow\",\"black\",\"red\",\"black\",\"red\",\"black\",\"red\",\"blue\",\"red\",\"green\",\"yellow\",\"red\",\"red\",\"red\",\"red\",\"blue\",\"black\",\"black\",\"blue\",\"red\",\"yellow\",\"red\",\"yellow\",\"red\",\"red\",\"green\",\"green\",\"yellow\",\"yellow\",\"red\",\"red\",\"black\",\"yellow\",\"red\",\"yellow\",\"yellow\",\"yellow\",\"red\",\"red\",\"black\",\"red\",\"green\",\"red\",\"red\",\"red\",\"red\",\"red\",\"green\",\"yellow\",\"green\",\"red\",\"green\",\"yellow\",\"black\",\"red\",\"yellow\",\"black\",\"red\",\"red\",\"yellow\",\"yellow\",\"red\",\"red\",\"red\",\"yellow\",\"yellow\",\"green\",\"black\",\"black\",\"yellow\",\"red\",\"red\",\"red\",\"red\",\"yellow\",\"yellow\",\"red\",\"green\",\"red\",\"red\",\"yellow\",\"red\",\"yellow\",\"black\",\"yellow\",\"red\",\"yellow\",\"black\",\"black\",\"green\",\"red\",\"yellow\",\"green\",\"red\",\"yellow\",\"green\",\"red\",\"green\",\"black\",\"yellow\",\"black\",\"yellow\",\"yellow\",\"red\",\"yellow\",\"red\",\"red\",\"yellow\",\"yellow\",\"red\",\"red\",\"red\",\"red\",\"red\",\"red\",\"red\",\"red\",\"yellow\",\"green\",\"red\",\"red\",\"green\",\"red\",\"red\",\"red\",\"red\",\"yellow\",\"yellow\",\"yellow\",\"red\",\"green\",\"yellow\",\"yellow\",\"red\",\"red\",\"yellow\",\"red\",\"red\",\"red\",\"red\",\"black\",\"black\",\"red\",\"red\",\"black\",\"red\",\"yellow\",\"yellow\",\"yellow\",\"red\",\"red\",\"red\",\"red\",\"yellow\",\"red\",\"red\",\"red\",\"yellow\",\"red\",\"red\",\"red\",\"red\",\"yellow\",\"black\",\"red\",\"red\",\"red\",\"yellow\",\"red\",\"red\",\"red\",\"yellow\",\"yellow\",\"red\",\"black\",\"red\",\"red\",\"green\",\"red\",\"black\",\"black\",\"yellow\",\"yellow\",\"red\",\"black\",\"red\",\"red\",\"yellow\",\"red\",\"black\",\"blue\",\"red\",\"black\",\"red\",\"yellow\",\"red\",\"red\",\"red\",\"red\",\"green\",\"red\",\"yellow\",\"red\",\"black\",\"yellow\",\"yellow\",\"red\",\"black\",\"yellow\",\"green\",\"yellow\",\"blue\",\"yellow\",\"blue\",\"yellow\",\"blue\",\"green\",\"black\",\"black\",\"red\",\"red\",\"red\",\"red\",\"green\",\"red\",\"red\",\"yellow\",\"green\",\"red\",\"red\",\"black\",\"red\",\"red\",\"green\",\"yellow\",\"yellow\",\"black\",\"red\",\"red\",\"yellow\",\"red\",\"red\",\"red\",\"black\",\"red\",\"red\",\"red\",\"black\",\"black\",\"black\",\"green\",\"red\",\"yellow\",\"red\",\"yellow\",\"yellow\",\"green\",\"blue\",\"red\",\"blue\",\"red\",\"yellow\",\"red\",\"red\",\"yellow\",\"red\",\"red\",\"yellow\",\"red\",\"red\",\"red\",\"yellow\",\"black\",\"red\",\"red\",\"red\",\"red\",\"red\",\"red\",\"red\",\"yellow\",\"red\",\"blue\",\"blue\",\"yellow\",\"red\",\"red\",\"yellow\",\"yellow\",\"red\",\"yellow\",\"black\",\"red\",\"yellow\",\"yellow\",\"yellow\",\"yellow\",\"red\",\"yellow\",\"red\",\"yellow\",\"yellow\",\"blue\",\"red\",\"black\",\"yellow\",\"yellow\",\"black\",\"black\",\"red\",\"yellow\",\"green\",\"black\",\"red\",\"yellow\",\"red\",\"red\",\"yellow\",\"red\",\"red\",\"red\",\"yellow\",\"black\",\"yellow\",\"black\",\"red\",\"red\",\"red\",\"red\",\"red\",\"yellow\",\"red\",\"yellow\",\"red\",\"red\",\"red\",\"yellow\",\"green\",\"red\",\"red\",\"red\",\"red\",\"black\",\"yellow\",\"yellow\",\"green\",\"red\",\"green\",\"green\",\"red\",\"yellow\",\"green\",\"red\",\"yellow\",\"red\",\"green\",\"blue\",\"black\",\"yellow\",\"blue\",\"red\",\"yellow\",\"red\",\"green\",\"yellow\",\"red\",\"red\",\"red\",\"yellow\",\"black\",\"red\",\"red\",\"yellow\",\"yellow\",\"black\",\"red\",\"green\",\"red\",\"yellow\",\"blue\",\"red\",\"yellow\",\"yellow\",\"yellow\",\"black\",\"yellow\",\"green\",\"red\",\"red\",\"red\",\"red\",\"red\",\"black\",\"yellow\",\"black\",\"red\",\"red\",\"black\",\"yellow\",\"red\",\"red\",\"green\",\"red\",\"red\",\"yellow\",\"black\",\"yellow\",\"red\",\"black\",\"red\",\"yellow\",\"red\",\"red\",\"yellow\",\"yellow\",\"yellow\",\"red\",\"yellow\",\"red\",\"yellow\",\"black\",\"red\",\"red\",\"yellow\",\"red\",\"red\",\"black\",\"red\",\"yellow\",\"yellow\",\"black\",\"red\",\"red\",\"black\",\"red\",\"red\",\"red\",\"black\",\"black\",\"red\",\"red\",\"red\",\"black\",\"black\",\"yellow\",\"red\",\"black\",\"red\",\"yellow\",\"yellow\",\"red\",\"black\",\"red\",\"red\",\"red\",\"red\",\"red\",\"black\",\"black\",\"black\",\"red\",\"black\",\"green\",\"red\",\"red\",\"red\",\"red\",\"black\",\"red\",\"yellow\",\"black\",\"black\",\"red\",\"red\",\"red\",\"red\",\"red\",\"red\",\"blue\",\"yellow\",\"red\",\"black\",\"green\",\"red\",\"yellow\",\"red\",\"red\",\"red\",\"yellow\",\"red\",\"red\",\"red\",\"black\",\"red\",\"yellow\",\"yellow\",\"yellow\",\"black\",\"yellow\",\"red\",\"red\",\"red\",\"red\",\"red\",\"red\",\"yellow\",\"yellow\",\"red\",\"red\",\"red\",\"black\",\"yellow\",\"red\",\"red\",\"green\",\"yellow\",\"green\",\"blue\",\"yellow\",\"yellow\",\"red\",\"red\",\"yellow\",\"red\",\"red\",\"yellow\",\"red\",\"red\",\"red\",\"blue\",\"yellow\",\"red\",\"red\",\"yellow\",\"black\",\"red\",\"red\",\"red\",\"yellow\",\"black\",\"red\",\"red\",\"green\",\"red\",\"green\",\"red\",\"yellow\",\"red\",\"black\",\"red\",\"yellow\",\"yellow\",\"red\",\"yellow\",\"yellow\",\"red\",\"red\",\"yellow\",\"red\",\"yellow\",\"red\",\"red\",\"yellow\",\"red\",\"black\",\"red\",\"red\",\"black\",\"red\",\"red\",\"red\",\"yellow\",\"red\",\"black\",\"red\",\"red\",\"red\",\"red\",\"yellow\",\"red\",\"green\",\"yellow\",\"black\",\"red\",\"yellow\",\"red\",\"yellow\",\"yellow\",\"black\",\"green\",\"red\",\"black\",\"yellow\",\"red\",\"red\",\"yellow\",\"red\",\"red\",\"green\",\"black\",\"red\",\"yellow\",\"yellow\",\"red\",\"red\",\"black\",\"red\",\"red\",\"red\",\"red\",\"red\",\"red\",\"yellow\",\"red\",\"blue\",\"black\",\"yellow\",\"black\",\"red\",\"red\",\"red\",\"yellow\",\"red\",\"red\",\"red\",\"red\",\"black\",\"black\",\"red\",\"red\",\"green\",\"green\",\"red\",\"green\",\"black\",\"red\",\"yellow\",\"yellow\",\"yellow\",\"red\",\"yellow\",\"red\",\"red\",\"red\",\"red\",\"red\",\"red\",\"green\",\"yellow\",\"red\",\"red\",\"red\",\"green\",\"black\",\"red\",\"red\",\"red\",\"red\",\"yellow\",\"red\",\"red\",\"yellow\",\"red\",\"yellow\",\"red\",\"yellow\",\"black\",\"black\",\"yellow\",\"red\",\"red\",\"yellow\",\"green\",\"black\",\"red\",\"yellow\",\"yellow\",\"red\",\"yellow\",\"red\",\"yellow\",\"black\",\"red\",\"black\",\"red\",\"yellow\",\"red\",\"red\",\"yellow\",\"red\",\"black\",\"red\",\"red\",\"red\",\"red\",\"red\",\"red\",\"green\",\"red\",\"red\",\"red\",\"red\",\"yellow\",\"red\",\"red\",\"red\",\"yellow\",\"red\",\"red\",\"black\",\"red\",\"red\",\"red\",\"red\",\"black\",\"yellow\",\"black\",\"red\",\"black\",\"red\",\"green\",\"red\",\"yellow\",\"red\",\"yellow\",\"black\",\"yellow\",\"red\",\"red\",\"black\",\"red\",\"yellow\",\"yellow\",\"yellow\",\"yellow\",\"red\",\"red\",\"red\",\"yellow\",\"green\",\"yellow\",\"red\",\"green\",\"black\",\"black\",\"red\",\"black\",\"red\",\"red\",\"red\",\"red\",\"red\",\"red\",\"yellow\",\"red\",\"red\",\"red\",\"red\",\"red\",\"yellow\",\"black\",\"yellow\",\"red\",\"red\",\"red\",\"red\",\"red\",\"red\",\"green\",\"yellow\",\"black\",\"red\",\"red\",\"black\",\"black\",\"red\",\"red\",\"red\",\"red\",\"yellow\",\"red\",\"red\",\"red\",\"red\",\"red\",\"black\",\"black\",\"red\",\"black\",\"yellow\",\"yellow\",\"red\",\"green\",\"red\",\"red\",\"red\",\"black\",\"yellow\",\"yellow\",\"green\",\"red\",\"yellow\",\"black\",\"green\",\"red\",\"yellow\",\"red\",\"yellow\",\"yellow\",\"red\",\"green\",\"red\",\"red\",\"black\",\"black\",\"red\",\"black\",\"green\",\"red\",\"red\",\"black\",\"red\",\"red\",\"black\",\"yellow\",\"red\",\"red\",\"yellow\",\"red\",\"yellow\",\"red\",\"yellow\",\"red\",\"red\",\"red\",\"red\",\"red\",\"black\",\"red\",\"red\",\"red\",\"black\",\"black\",\"red\",\"yellow\",\"red\",\"red\",\"red\",\"red\",\"red\",\"red\",\"red\",\"yellow\",\"yellow\",\"yellow\",\"black\",\"red\",\"red\",\"yellow\",\"black\",\"red\",\"black\",\"red\",\"yellow\",\"black\",\"black\",\"green\",\"red\",\"red\",\"red\",\"red\",\"red\",\"red\",\"green\",\"red\",\"yellow\",\"black\",\"yellow\",\"red\",\"red\",\"red\",\"red\",\"red\",\"red\",\"red\",\"yellow\",\"red\",\"yellow\",\"red\",\"red\",\"red\",\"green\",\"red\",\"red\",\"green\",\"red\",\"red\",\"red\",\"green\",\"red\",\"red\",\"red\",\"yellow\",\"black\",\"red\",\"black\",\"black\",\"red\",\"red\",\"yellow\",\"red\",\"red\",\"yellow\",\"black\"],\"label\":[\"High\",\"Medium\",\"Low\",\"Medium\",\"High\",\"High\",\"V.High\",\"High\",\"V.High\",\"High\",\"High\",\"High\",\"Medium\",\"High\",\"High\",\"High\",\"High\",\"Medium\",\"High\",\"V.High\",\"V.High\",\"High\",\"V.High\",\"V. Low\",\"Low\",\"High\",\"Low\",\"Low\",\"Medium\",\"V. Low\",\"Medium\",\"Medium\",\"V.High\",\"V.High\",\"V. Low\",\"Medium\",\"High\",\"V.High\",\"Low\",\"V. Low\",\"Medium\",\"V. Low\",\"High\",\"High\",\"High\",\"V. Low\",\"V.High\",\"High\",\"V. Low\",\"High\",\"High\",\"High\",\"High\",\"V. Low\",\"High\",\"High\",\"Low\",\"V.High\",\"V.High\",\"Medium\",\"Medium\",\"V.High\",\"V. Low\",\"V.High\",\"High\",\"V. Low\",\"Medium\",\"Medium\",\"High\",\"Medium\",\"Low\",\"V.High\",\"V. Low\",\"Medium\",\"Medium\",\"V.High\",\"Low\",\"Low\",\"Medium\",\"Low\",\"Medium\",\"Medium\",\"High\",\"Medium\",\"High\",\"Low\",\"High\",\"V.High\",\"V.High\",\"Medium\",\"Medium\",\"High\",\"V. Low\",\"High\",\"High\",\"V.High\",\"Medium\",\"Low\",\"Low\",\"High\",\"Medium\",\"High\",\"Medium\",\"V. Low\",\"V.High\",\"V. Low\",\"Medium\",\"V. Low\",\"V.High\",\"High\",\"Medium\",\"V. Low\",\"High\",\"High\",\"Medium\",\"High\",\"Medium\",\"V.High\",\"Medium\",\"V. Low\",\"Low\",\"V.High\",\"Medium\",\"Medium\",\"Medium\",\"V. Low\",\"V.High\",\"V.High\",\"High\",\"High\",\"High\",\"V.High\",\"High\",\"High\",\"Medium\",\"Low\",\"Medium\",\"Low\",\"Medium\",\"Medium\",\"Low\",\"Low\",\"V.High\",\"Medium\",\"High\",\"High\",\"High\",\"Medium\",\"High\",\"Low\",\"Medium\",\"Low\",\"Medium\",\"Low\",\"Medium\",\"High\",\"V.High\",\"V.High\",\"V.High\",\"Medium\",\"V.High\",\"V.High\",\"V.High\",\"High\",\"High\",\"V.High\",\"V.High\",\"V.High\",\"Low\",\"V.High\",\"V.High\",\"Medium\",\"High\",\"High\",\"V.High\",\"V.High\",\"High\",\"V.High\",\"V.High\",\"V.High\",\"V.High\",\"V.High\",\"V.High\",\"Medium\",\"High\",\"High\",\"Low\",\"Medium\",\"V.High\",\"V.High\",\"High\",\"Medium\",\"High\",\"High\",\"V.High\",\"Medium\",\"High\",\"V.High\",\"V.High\",\"V.High\",\"High\",\"V.High\",\"Medium\",\"V.High\",\"Medium\",\"V.High\",\"Low\",\"High\",\"High\",\"High\",\"Low\",\"High\",\"Medium\",\"Medium\",\"Medium\",\"V.High\",\"V.High\",\"V. Low\",\"High\",\"V.High\",\"V.High\",\"High\",\"Low\",\"Low\",\"Medium\",\"High\",\"High\",\"High\",\"High\",\"High\",\"V.High\",\"High\",\"Low\",\"V.High\",\"Medium\",\"High\",\"V.High\",\"Medium\",\"V.High\",\"V.High\",\"High\",\"High\",\"High\",\"V.High\",\"High\",\"High\",\"High\",\"High\",\"V.High\",\"V.High\",\"Medium\",\"Medium\",\"High\",\"Medium\",\"V.High\",\"Low\",\"Low\",\"Medium\",\"Medium\",\"V. Low\",\"High\",\"High\",\"Medium\",\"V.High\",\"V. Low\",\"Medium\",\"V.High\",\"V.High\",\"Medium\",\"V.High\",\"Medium\",\"Low\",\"V.High\",\"V. Low\",\"High\",\"Medium\",\"High\",\"Low\",\"Medium\",\"Low\",\"High\",\"High\",\"High\",\"V.High\",\"Medium\",\"V.High\",\"V.High\",\"Medium\",\"V.High\",\"V.High\",\"High\",\"V.High\",\"V.High\",\"Low\",\"High\",\"V.High\",\"Low\",\"Medium\",\"Medium\",\"V. Low\",\"High\",\"V.High\",\"V.High\",\"V. Low\",\"V.High\",\"High\",\"Medium\",\"High\",\"V.High\",\"V. Low\",\"V.High\",\"V.High\",\"Medium\",\"High\",\"V.High\",\"V.High\",\"High\",\"V.High\",\"V.High\",\"V.High\",\"Low\",\"Low\",\"V.High\",\"V.High\",\"V.High\",\"Medium\",\"V.High\",\"Medium\",\"V.High\",\"High\",\"High\",\"V.High\",\"V.High\",\"High\",\"V.High\",\"V.High\",\"High\",\"High\",\"Medium\",\"V.High\",\"High\",\"Medium\",\"High\",\"V.High\",\"V.High\",\"V.High\",\"V.High\",\"Medium\",\"High\",\"V.High\",\"V.High\",\"V.High\",\"V.High\",\"High\",\"V. Low\",\"Low\",\"V.High\",\"Low\",\"High\",\"V.High\",\"High\",\"Low\",\"Medium\",\"Low\",\"Medium\",\"V.High\",\"High\",\"High\",\"V.High\",\"High\",\"V. Low\",\"Low\",\"Medium\",\"Medium\",\"High\",\"V. Low\",\"Medium\",\"High\",\"Low\",\"V.High\",\"Medium\",\"High\",\"High\",\"High\",\"V.High\",\"Low\",\"Medium\",\"V.High\",\"High\",\"High\",\"High\",\"V.High\",\"V.High\",\"Medium\",\"High\",\"Medium\",\"Low\",\"High\",\"Low\",\"High\",\"V. Low\",\"Low\",\"High\",\"V. Low\",\"High\",\"High\",\"V. Low\",\"Low\",\"Medium\",\"High\",\"High\",\"V.High\",\"High\",\"Medium\",\"V.High\",\"V. Low\",\"High\",\"Medium\",\"V.High\",\"Medium\",\"Medium\",\"Medium\",\"High\",\"High\",\"V.High\",\"Medium\",\"High\",\"High\",\"High\",\"Medium\",\"V. Low\",\"High\",\"V.High\",\"V.High\",\"V.High\",\"High\",\"High\",\"High\",\"Medium\",\"High\",\"Low\",\"High\",\"High\",\"V.High\",\"V. Low\",\"Medium\",\"V. Low\",\"Medium\",\"V.High\",\"Medium\",\"Medium\",\"V. Low\",\"V.High\",\"Low\",\"High\",\"Low\",\"High\",\"High\",\"High\",\"High\",\"High\",\"V.High\",\"Medium\",\"Medium\",\"Medium\",\"V.High\",\"V.High\",\"V.High\",\"V.High\",\"V.High\",\"Medium\",\"V.High\",\"V.High\",\"Low\",\"High\",\"V.High\",\"Medium\",\"High\",\"Medium\",\"High\",\"High\",\"High\",\"High\",\"V. Low\",\"Medium\",\"Medium\",\"V.High\",\"Medium\",\"V. Low\",\"V. Low\",\"Low\",\"V. Low\",\"High\",\"Medium\",\"V.High\",\"V.High\",\"V.High\",\"Low\",\"Low\",\"High\",\"High\",\"Medium\",\"High\",\"High\",\"V.High\",\"Medium\",\"V.High\",\"V.High\",\"High\",\"Low\",\"V.High\",\"High\",\"High\",\"Medium\",\"High\",\"Low\",\"High\",\"High\",\"Low\",\"Low\",\"Low\",\"High\",\"High\",\"V.High\",\"V. Low\",\"Medium\",\"High\",\"Low\",\"V.High\",\"Low\",\"High\",\"High\",\"Medium\",\"High\",\"V. Low\",\"High\",\"High\",\"High\",\"High\",\"V.High\",\"Low\",\"Low\",\"V.High\",\"High\",\"High\",\"High\",\"Low\",\"V.High\",\"V.High\",\"High\",\"V.High\",\"V. Low\",\"Low\",\"V. Low\",\"Medium\",\"High\",\"High\",\"V.High\",\"V.High\",\"V.High\",\"High\",\"High\",\"V.High\",\"High\",\"V.High\",\"High\",\"V. Low\",\"V.High\",\"V.High\",\"High\",\"High\",\"High\",\"Low\",\"V.High\",\"V.High\",\"High\",\"V. Low\",\"V.High\",\"Medium\",\"High\",\"High\",\"Medium\",\"High\",\"V.High\",\"High\",\"V.High\",\"Low\",\"Medium\",\"V.High\",\"Medium\",\"Low\",\"V. Low\",\"Medium\",\"Low\",\"High\",\"High\",\"Low\",\"V.High\",\"Low\",\"High\",\"Medium\",\"High\",\"Low\",\"V. Low\",\"Medium\",\"V. Low\",\"Medium\",\"Low\",\"Medium\",\"Medium\",\"Medium\",\"V. Low\",\"High\",\"Low\",\"V.High\",\"V. Low\",\"High\",\"Medium\",\"High\",\"Low\",\"High\",\"V.High\",\"V. Low\",\"Low\",\"Medium\",\"Medium\",\"High\",\"Medium\",\"Medium\",\"High\",\"Low\",\"V.High\",\"V.High\",\"High\",\"High\",\"High\",\"High\",\"Low\",\"Medium\",\"V. Low\",\"V. Low\",\"High\",\"High\",\"High\",\"High\",\"Low\",\"Low\",\"Medium\",\"Low\",\"Medium\",\"Low\",\"High\",\"High\",\"Low\",\"Low\",\"V.High\",\"High\",\"V.High\",\"High\",\"V.High\",\"V.High\",\"V. Low\",\"High\",\"High\",\"Medium\",\"Low\",\"Medium\",\"High\",\"High\",\"High\",\"High\",\"High\",\"Medium\",\"High\",\"High\",\"High\",\"V.High\",\"High\",\"High\",\"V.High\",\"Medium\",\"Medium\",\"Low\",\"Medium\",\"Low\",\"Medium\",\"Medium\",\"V.High\",\"High\",\"V.High\",\"Medium\",\"Low\",\"V.High\",\"Low\",\"V. Low\",\"V. Low\",\"Medium\",\"V.High\",\"High\",\"Low\",\"High\",\"V.High\",\"High\",\"High\",\"V.High\",\"High\",\"Medium\",\"High\",\"Medium\",\"High\",\"High\",\"Medium\",\"Medium\",\"V.High\",\"High\",\"V.High\",\"Medium\",\"Medium\",\"High\",\"Medium\",\"Medium\",\"Low\",\"V.High\",\"Medium\",\"High\",\"High\",\"High\",\"High\",\"V.High\",\"High\",\"High\",\"V.High\",\"High\",\"V.High\",\"Medium\",\"V.High\",\"Medium\",\"V.High\",\"V.High\",\"Medium\",\"Low\",\"Low\",\"Medium\",\"Low\",\"V.High\",\"Low\",\"Medium\",\"Medium\",\"High\",\"High\",\"V.High\",\"V.High\",\"Low\",\"Low\",\"Low\",\"High\",\"Medium\",\"Medium\",\"Low\",\"Medium\",\"V.High\",\"V.High\",\"High\",\"V.High\",\"High\",\"V.High\",\"Low\",\"Medium\",\"High\",\"Medium\",\"Low\",\"Low\",\"High\",\"Low\",\"High\",\"Low\",\"High\",\"Medium\",\"V.High\",\"High\",\"V.High\",\"V.High\",\"Medium\",\"Medium\",\"High\",\"V.High\",\"High\",\"Low\",\"Low\",\"Medium\",\"High\",\"Low\",\"High\",\"Medium\",\"High\",\"Medium\",\"Low\",\"High\",\"Medium\",\"High\",\"V. Low\",\"V.High\",\"High\",\"Medium\",\"V.High\",\"Medium\",\"V. Low\",\"High\",\"V. Low\",\"High\",\"Medium\",\"Low\",\"High\",\"High\",\"Low\",\"V.High\",\"V.High\",\"High\",\"High\",\"High\",\"Medium\",\"High\",\"Medium\",\"V. Low\",\"High\",\"High\",\"V. Low\",\"High\",\"Medium\",\"V.High\",\"V.High\",\"Medium\",\"High\",\"Medium\",\"High\",\"Low\",\"Medium\",\"Low\",\"V.High\",\"V. Low\",\"Medium\",\"Medium\",\"V.High\",\"V. Low\",\"High\",\"V.High\",\"Medium\",\"V. Low\",\"High\",\"High\",\"Low\",\"V. Low\",\"Medium\",\"Medium\",\"High\",\"V.High\",\"V.High\",\"V.High\",\"High\",\"High\",\"V.High\",\"High\",\"High\",\"V.High\",\"Low\",\"Medium\",\"Medium\",\"V.High\",\"High\",\"V.High\",\"Medium\",\"V. Low\",\"Medium\",\"Medium\",\"High\",\"Low\",\"Medium\",\"V.High\",\"Low\",\"Low\",\"Medium\",\"V.High\",\"V.High\",\"Medium\",\"Low\",\"Medium\",\"Medium\",\"High\",\"Medium\",\"Low\",\"V. Low\",\"High\",\"Low\",\"High\",\"High\",\"V. Low\",\"V. Low\",\"V. Low\",\"High\",\"V.High\",\"V. Low\",\"High\",\"High\",\"Low\",\"Medium\",\"High\",\"Low\",\"V.High\",\"Medium\",\"V.High\",\"High\",\"Medium\",\"High\",\"High\",\"V.High\",\"Medium\",\"Low\",\"High\",\"Low\",\"Low\",\"High\",\"V.High\",\"V.High\",\"Low\",\"High\",\"V. Low\",\"V. Low\",\"High\",\"V. Low\",\"High\",\"Medium\",\"V.High\",\"V.High\",\"High\",\"V.High\",\"High\",\"High\",\"Low\",\"V.High\",\"High\",\"Medium\",\"High\",\"Medium\",\"Medium\",\"High\",\"Medium\",\"High\",\"High\",\"High\",\"High\",\"Low\",\"V. Low\",\"High\",\"V.High\",\"Medium\",\"Medium\",\"Low\",\"High\",\"V.High\",\"Low\",\"High\",\"Medium\",\"Medium\",\"Low\",\"High\",\"V. Low\",\"High\",\"Medium\",\"High\",\"High\",\"V. Low\",\"Medium\",\"V.High\",\"High\",\"V.High\",\"Medium\",\"V.High\",\"Medium\",\"High\",\"Medium\",\"High\",\"High\",\"Low\",\"High\",\"Medium\",\"High\",\"V. Low\",\"Low\",\"High\",\"High\",\"Medium\",\"High\",\"High\",\"Medium\",\"Medium\",\"High\",\"Low\",\"Medium\",\"Medium\",\"Medium\",\"High\",\"High\",\"High\",\"Medium\",\"High\",\"Medium\",\"Low\",\"Medium\",\"High\",\"High\",\"High\",\"V.High\",\"V.High\",\"Low\",\"V. Low\",\"V.High\",\"Medium\",\"Medium\",\"Low\",\"V.High\",\"Medium\",\"Low\",\"Low\",\"High\",\"Medium\",\"High\",\"V. Low\",\"High\",\"Low\",\"Medium\",\"High\",\"V. Low\",\"V. Low\",\"Medium\",\"Medium\",\"Low\",\"Low\",\"Medium\",\"High\",\"V.High\",\"V.High\",\"High\",\"Low\",\"Medium\",\"V.High\",\"Low\",\"Medium\",\"Low\",\"Medium\",\"V. Low\",\"V.High\",\"High\",\"V.High\",\"High\",\"High\",\"V.High\",\"V.High\",\"High\",\"Low\",\"High\",\"Medium\",\"High\",\"Low\",\"V. Low\",\"Medium\",\"Low\",\"V. Low\",\"V. Low\",\"Low\",\"Medium\",\"Medium\",\"Medium\",\"Medium\",\"High\",\"High\",\"Low\",\"V. Low\",\"Low\",\"V. Low\",\"High\",\"V. Low\",\"High\",\"Low\",\"Low\",\"High\",\"Low\",\"Medium\",\"V. Low\",\"High\",\"V. Low\",\"High\",\"V.High\",\"Low\",\"V. Low\",\"Medium\",\"V. Low\",\"V. Low\",\"Medium\",\"Medium\",\"High\",\"Medium\",\"Low\",\"V. Low\",\"Medium\",\"Low\",\"Low\",\"V.High\",\"Medium\",\"Medium\",\"High\",\"V.High\",\"Medium\",\"V.High\",\"High\",\"Medium\",\"High\",\"V.High\",\"Low\",\"Medium\",\"Medium\",\"High\",\"Low\",\"High\",\"High\",\"V. Low\",\"V. Low\",\"Medium\",\"Medium\",\"Medium\",\"High\",\"High\",\"Medium\",\"V. Low\",\"Medium\",\"High\",\"V.High\",\"Low\",\"High\",\"Low\",\"V.High\",\"High\",\"Low\",\"Medium\",\"V.High\",\"V.High\",\"V.High\",\"Medium\",\"V.High\",\"High\",\"Medium\",\"Medium\",\"High\",\"V. Low\",\"Medium\",\"High\",\"High\",\"Medium\",\"High\",\"Medium\",\"Low\",\"High\",\"Medium\",\"V.High\",\"Low\",\"Medium\",\"Medium\",\"Low\",\"V.High\",\"Low\",\"Medium\",\"V.High\",\"Medium\",\"Medium\",\"Medium\",\"High\",\"High\",\"High\",\"Medium\",\"High\",\"High\",\"Medium\",\"Medium\",\"Medium\",\"Medium\",\"High\",\"V.High\",\"Low\",\"High\",\"Medium\",\"High\",\"High\",\"High\",\"Medium\",\"V. Low\",\"Low\",\"High\",\"V.High\",\"Medium\",\"Low\",\"Low\",\"High\",\"High\",\"High\",\"High\",\"High\",\"V.High\",\"Medium\",\"High\",\"High\",\"High\",\"Medium\",\"Medium\",\"Medium\",\"V.High\",\"High\",\"Medium\",\"High\",\"Low\",\"V. Low\",\"High\",\"Low\",\"V. Low\",\"Medium\",\"High\",\"Low\",\"Medium\",\"High\",\"High\",\"Medium\",\"High\",\"High\",\"Medium\",\"High\",\"High\",\"V.High\",\"V. Low\",\"Medium\",\"Low\",\"V.High\",\"High\",\"V. Low\",\"High\",\"High\",\"Medium\",\"High\",\"Medium\",\"Low\",\"Medium\",\"High\",\"High\",\"V.High\",\"Medium\",\"Medium\",\"Low\",\"Medium\",\"Low\",\"High\",\"Medium\",\"Low\",\"High\",\"Medium\",\"Medium\",\"High\",\"Medium\",\"V.High\",\"High\",\"V.High\",\"High\",\"High\",\"V.High\",\"Medium\",\"High\",\"High\",\"Medium\",\"High\",\"High\",\"Medium\",\"V.High\",\"Medium\",\"V. Low\",\"Medium\",\"V. Low\",\"V.High\",\"High\",\"High\",\"High\",\"High\",\"High\",\"High\",\"High\",\"Low\",\"High\",\"V. Low\",\"High\",\"Medium\",\"V.High\",\"V.High\",\"High\",\"High\",\"Low\",\"Medium\",\"High\",\"High\",\"Medium\",\"Medium\",\"Medium\",\"High\",\"Medium\",\"Low\",\"High\",\"High\",\"High\",\"Medium\",\"Medium\",\"Low\",\"High\",\"Medium\",\"Medium\",\"Low\",\"High\",\"Medium\",\"High\",\"Medium\",\"Medium\",\"High\",\"V.High\",\"High\",\"V.High\",\"Medium\",\"V.High\",\"Medium\",\"Medium\",\"Low\",\"Medium\",\"High\",\"Medium\",\"High\",\"Medium\",\"V.High\",\"High\",\"High\",\"Low\",\"V.High\",\"High\",\"High\",\"V. Low\",\"Medium\",\"Medium\",\"High\",\"High\",\"V.High\",\"Medium\",\"Low\",\"Medium\",\"V.High\",\"V.High\",\"High\",\"V.High\",\"Medium\",\"High\",\"V. Low\",\"V. Low\",\"Low\",\"High\",\"V.High\",\"High\",\"High\",\"High\",\"High\",\"High\",\"Medium\",\"High\",\"High\",\"Medium\",\"Medium\",\"High\",\"High\",\"High\",\"Medium\",\"High\",\"High\",\"High\",\"Medium\",\"High\",\"High\",\"Medium\",\"V.High\",\"Medium\",\"Low\",\"High\",\"V.High\",\"Medium\",\"High\",\"V.High\",\"Medium\",\"High\",\"Medium\",\"High\",\"High\",\"Medium\",\"Low\",\"Medium\",\"High\",\"V. Low\",\"High\",\"High\",\"High\",\"Low\",\"Medium\",\"Medium\",\"High\",\"Medium\",\"V.High\",\"V.High\",\"Medium\",\"Medium\",\"Medium\",\"Medium\",\"V.High\",\"V.High\",\"V.High\",\"V.High\",\"V.High\",\"Low\",\"Medium\",\"V.High\",\"V.High\",\"High\",\"High\",\"V.High\",\"High\",\"High\",\"V.High\",\"High\",\"V.High\",\"Low\",\"High\",\"Medium\",\"Medium\",\"Low\",\"High\",\"Medium\",\"High\",\"V.High\",\"Medium\",\"High\",\"High\",\"Medium\",\"High\",\"V.High\",\"High\",\"High\",\"High\",\"Medium\",\"Medium\",\"Low\",\"Medium\",\"Medium\",\"High\",\"High\",\"High\",\"V.High\",\"V. Low\",\"High\",\"Medium\",\"Medium\",\"Medium\",\"High\",\"Medium\",\"V.High\",\"V.High\",\"High\",\"Medium\",\"Medium\",\"High\",\"Medium\",\"V.High\",\"Medium\",\"V.High\",\"High\",\"V.High\",\"High\",\"V.High\",\"High\",\"V. Low\",\"High\",\"Low\",\"Medium\",\"High\",\"High\",\"High\",\"High\",\"V. Low\",\"V.High\",\"V.High\",\"V. Low\",\"High\",\"Medium\",\"High\",\"Medium\",\"High\",\"High\",\"Low\",\"Low\",\"Medium\",\"Medium\",\"High\",\"High\",\"V.High\",\"Medium\",\"High\",\"Medium\",\"Medium\",\"Medium\",\"High\",\"High\",\"V.High\",\"High\",\"Low\",\"High\",\"High\",\"High\",\"High\",\"High\",\"Low\",\"Medium\",\"Low\",\"High\",\"Low\",\"Medium\",\"V.High\",\"High\",\"Medium\",\"V.High\",\"High\",\"High\",\"Medium\",\"Medium\",\"High\",\"High\",\"High\",\"Medium\",\"Medium\",\"Low\",\"V.High\",\"V.High\",\"Medium\",\"High\",\"High\",\"High\",\"High\",\"Medium\",\"Medium\",\"High\",\"Low\",\"High\",\"High\",\"Medium\",\"High\",\"Medium\",\"V.High\",\"Medium\",\"High\",\"Medium\",\"V.High\",\"V.High\",\"Low\",\"High\",\"Medium\",\"Low\",\"High\",\"Medium\",\"Low\",\"High\",\"Low\",\"V.High\",\"Medium\",\"V.High\",\"Medium\",\"Medium\",\"High\",\"Medium\",\"High\",\"High\",\"Medium\",\"Medium\",\"High\",\"High\",\"High\",\"High\",\"High\",\"High\",\"High\",\"High\",\"Medium\",\"Low\",\"High\",\"High\",\"Low\",\"High\",\"High\",\"High\",\"High\",\"Medium\",\"Medium\",\"Medium\",\"High\",\"Low\",\"Medium\",\"Medium\",\"High\",\"High\",\"Medium\",\"High\",\"High\",\"High\",\"High\",\"V.High\",\"V.High\",\"High\",\"High\",\"V.High\",\"High\",\"Medium\",\"Medium\",\"Medium\",\"High\",\"High\",\"High\",\"High\",\"Medium\",\"High\",\"High\",\"High\",\"Medium\",\"High\",\"High\",\"High\",\"High\",\"Medium\",\"V.High\",\"High\",\"High\",\"High\",\"Medium\",\"High\",\"High\",\"High\",\"Medium\",\"Medium\",\"High\",\"V.High\",\"High\",\"High\",\"Low\",\"High\",\"V.High\",\"V.High\",\"Medium\",\"Medium\",\"High\",\"V.High\",\"High\",\"High\",\"Medium\",\"High\",\"V.High\",\"V. Low\",\"High\",\"V.High\",\"High\",\"Medium\",\"High\",\"High\",\"High\",\"High\",\"Low\",\"High\",\"Medium\",\"High\",\"V.High\",\"Medium\",\"Medium\",\"High\",\"V.High\",\"Medium\",\"Low\",\"Medium\",\"V. Low\",\"Medium\",\"V. Low\",\"Medium\",\"V. Low\",\"Low\",\"V.High\",\"V.High\",\"High\",\"High\",\"High\",\"High\",\"Low\",\"High\",\"High\",\"Medium\",\"Low\",\"High\",\"High\",\"V.High\",\"High\",\"High\",\"Low\",\"Medium\",\"Medium\",\"V.High\",\"High\",\"High\",\"Medium\",\"High\",\"High\",\"High\",\"V.High\",\"High\",\"High\",\"High\",\"V.High\",\"V.High\",\"V.High\",\"Low\",\"High\",\"Medium\",\"High\",\"Medium\",\"Medium\",\"Low\",\"V. Low\",\"High\",\"V. Low\",\"High\",\"Medium\",\"High\",\"High\",\"Medium\",\"High\",\"High\",\"Medium\",\"High\",\"High\",\"High\",\"Medium\",\"V.High\",\"High\",\"High\",\"High\",\"High\",\"High\",\"High\",\"High\",\"Medium\",\"High\",\"V. Low\",\"V. Low\",\"Medium\",\"High\",\"High\",\"Medium\",\"Medium\",\"High\",\"Medium\",\"V.High\",\"High\",\"Medium\",\"Medium\",\"Medium\",\"Medium\",\"High\",\"Medium\",\"High\",\"Medium\",\"Medium\",\"V. Low\",\"High\",\"V.High\",\"Medium\",\"Medium\",\"V.High\",\"V.High\",\"High\",\"Medium\",\"Low\",\"V.High\",\"High\",\"Medium\",\"High\",\"High\",\"Medium\",\"High\",\"High\",\"High\",\"Medium\",\"V.High\",\"Medium\",\"V.High\",\"High\",\"High\",\"High\",\"High\",\"High\",\"Medium\",\"High\",\"Medium\",\"High\",\"High\",\"High\",\"Medium\",\"Low\",\"High\",\"High\",\"High\",\"High\",\"V.High\",\"Medium\",\"Medium\",\"Low\",\"High\",\"Low\",\"Low\",\"High\",\"Medium\",\"Low\",\"High\",\"Medium\",\"High\",\"Low\",\"V. Low\",\"V.High\",\"Medium\",\"V. Low\",\"High\",\"Medium\",\"High\",\"Low\",\"Medium\",\"High\",\"High\",\"High\",\"Medium\",\"V.High\",\"High\",\"High\",\"Medium\",\"Medium\",\"V.High\",\"High\",\"Low\",\"High\",\"Medium\",\"V. Low\",\"High\",\"Medium\",\"Medium\",\"Medium\",\"V.High\",\"Medium\",\"Low\",\"High\",\"High\",\"High\",\"High\",\"High\",\"V.High\",\"Medium\",\"V.High\",\"High\",\"High\",\"V.High\",\"Medium\",\"High\",\"High\",\"Low\",\"High\",\"High\",\"Medium\",\"V.High\",\"Medium\",\"High\",\"V.High\",\"High\",\"Medium\",\"High\",\"High\",\"Medium\",\"Medium\",\"Medium\",\"High\",\"Medium\",\"High\",\"Medium\",\"V.High\",\"High\",\"High\",\"Medium\",\"High\",\"High\",\"V.High\",\"High\",\"Medium\",\"Medium\",\"V.High\",\"High\",\"High\",\"V.High\",\"High\",\"High\",\"High\",\"V.High\",\"V.High\",\"High\",\"High\",\"High\",\"V.High\",\"V.High\",\"Medium\",\"High\",\"V.High\",\"High\",\"Medium\",\"Medium\",\"High\",\"V.High\",\"High\",\"High\",\"High\",\"High\",\"High\",\"V.High\",\"V.High\",\"V.High\",\"High\",\"V.High\",\"Low\",\"High\",\"High\",\"High\",\"High\",\"V.High\",\"High\",\"Medium\",\"V.High\",\"V.High\",\"High\",\"High\",\"High\",\"High\",\"High\",\"High\",\"V. Low\",\"Medium\",\"High\",\"V.High\",\"Low\",\"High\",\"Medium\",\"High\",\"High\",\"High\",\"Medium\",\"High\",\"High\",\"High\",\"V.High\",\"High\",\"Medium\",\"Medium\",\"Medium\",\"V.High\",\"Medium\",\"High\",\"High\",\"High\",\"High\",\"High\",\"High\",\"Medium\",\"Medium\",\"High\",\"High\",\"High\",\"V.High\",\"Medium\",\"High\",\"High\",\"Low\",\"Medium\",\"Low\",\"V. Low\",\"Medium\",\"Medium\",\"High\",\"High\",\"Medium\",\"High\",\"High\",\"Medium\",\"High\",\"High\",\"High\",\"V. Low\",\"Medium\",\"High\",\"High\",\"Medium\",\"V.High\",\"High\",\"High\",\"High\",\"Medium\",\"V.High\",\"High\",\"High\",\"Low\",\"High\",\"Low\",\"High\",\"Medium\",\"High\",\"V.High\",\"High\",\"Medium\",\"Medium\",\"High\",\"Medium\",\"Medium\",\"High\",\"High\",\"Medium\",\"High\",\"Medium\",\"High\",\"High\",\"Medium\",\"High\",\"V.High\",\"High\",\"High\",\"V.High\",\"High\",\"High\",\"High\",\"Medium\",\"High\",\"V.High\",\"High\",\"High\",\"High\",\"High\",\"Medium\",\"High\",\"Low\",\"Medium\",\"V.High\",\"High\",\"Medium\",\"High\",\"Medium\",\"Medium\",\"V.High\",\"Low\",\"High\",\"V.High\",\"Medium\",\"High\",\"High\",\"Medium\",\"High\",\"High\",\"Low\",\"V.High\",\"High\",\"Medium\",\"Medium\",\"High\",\"High\",\"V.High\",\"High\",\"High\",\"High\",\"High\",\"High\",\"High\",\"Medium\",\"High\",\"V. Low\",\"V.High\",\"Medium\",\"V.High\",\"High\",\"High\",\"High\",\"Medium\",\"High\",\"High\",\"High\",\"High\",\"V.High\",\"V.High\",\"High\",\"High\",\"Low\",\"Low\",\"High\",\"Low\",\"V.High\",\"High\",\"Medium\",\"Medium\",\"Medium\",\"High\",\"Medium\",\"High\",\"High\",\"High\",\"High\",\"High\",\"High\",\"Low\",\"Medium\",\"High\",\"High\",\"High\",\"Low\",\"V.High\",\"High\",\"High\",\"High\",\"High\",\"Medium\",\"High\",\"High\",\"Medium\",\"High\",\"Medium\",\"High\",\"Medium\",\"V.High\",\"V.High\",\"Medium\",\"High\",\"High\",\"Medium\",\"Low\",\"V.High\",\"High\",\"Medium\",\"Medium\",\"High\",\"Medium\",\"High\",\"Medium\",\"V.High\",\"High\",\"V.High\",\"High\",\"Medium\",\"High\",\"High\",\"Medium\",\"High\",\"V.High\",\"High\",\"High\",\"High\",\"High\",\"High\",\"High\",\"Low\",\"High\",\"High\",\"High\",\"High\",\"Medium\",\"High\",\"High\",\"High\",\"Medium\",\"High\",\"High\",\"V.High\",\"High\",\"High\",\"High\",\"High\",\"V.High\",\"Medium\",\"V.High\",\"High\",\"V.High\",\"High\",\"Low\",\"High\",\"Medium\",\"High\",\"Medium\",\"V.High\",\"Medium\",\"High\",\"High\",\"V.High\",\"High\",\"Medium\",\"Medium\",\"Medium\",\"Medium\",\"High\",\"High\",\"High\",\"Medium\",\"Low\",\"Medium\",\"High\",\"Low\",\"V.High\",\"V.High\",\"High\",\"V.High\",\"High\",\"High\",\"High\",\"High\",\"High\",\"High\",\"Medium\",\"High\",\"High\",\"High\",\"High\",\"High\",\"Medium\",\"V.High\",\"Medium\",\"High\",\"High\",\"High\",\"High\",\"High\",\"High\",\"Low\",\"Medium\",\"V.High\",\"High\",\"High\",\"V.High\",\"V.High\",\"High\",\"High\",\"High\",\"High\",\"Medium\",\"High\",\"High\",\"High\",\"High\",\"High\",\"V.High\",\"V.High\",\"High\",\"V.High\",\"Medium\",\"Medium\",\"High\",\"Low\",\"High\",\"High\",\"High\",\"V.High\",\"Medium\",\"Medium\",\"Low\",\"High\",\"Medium\",\"V.High\",\"Low\",\"High\",\"Medium\",\"High\",\"Medium\",\"Medium\",\"High\",\"Low\",\"High\",\"High\",\"V.High\",\"V.High\",\"High\",\"V.High\",\"Low\",\"High\",\"High\",\"V.High\",\"High\",\"High\",\"V.High\",\"Medium\",\"High\",\"High\",\"Medium\",\"High\",\"Medium\",\"High\",\"Medium\",\"High\",\"High\",\"High\",\"High\",\"High\",\"V.High\",\"High\",\"High\",\"High\",\"V.High\",\"V.High\",\"High\",\"Medium\",\"High\",\"High\",\"High\",\"High\",\"High\",\"High\",\"High\",\"Medium\",\"Medium\",\"Medium\",\"V.High\",\"High\",\"High\",\"Medium\",\"V.High\",\"High\",\"V.High\",\"High\",\"Medium\",\"V.High\",\"V.High\",\"Low\",\"High\",\"High\",\"High\",\"High\",\"High\",\"High\",\"Low\",\"High\",\"Medium\",\"V.High\",\"Medium\",\"High\",\"High\",\"High\",\"High\",\"High\",\"High\",\"High\",\"Medium\",\"High\",\"Medium\",\"High\",\"High\",\"High\",\"Low\",\"High\",\"High\",\"Low\",\"High\",\"High\",\"High\",\"Low\",\"High\",\"High\",\"High\",\"Medium\",\"V.High\",\"High\",\"V.High\",\"V.High\",\"High\",\"High\",\"Medium\",\"High\",\"High\",\"Medium\",\"V.High\"],\"title\":[\"Toy Story (1995)\",\"Heat (1995)\",\"Sabrina (1995)\",\"American President, The (1995)\",\"Nixon (1995)\",\"Casino (1995)\",\"Sense and Sensibility (1995)\",\"Get Shorty (1995)\",\"Leaving Las Vegas (1995)\",\"Twelve Monkeys (a.k.a. 12 Monkeys) (1995)\",\"Babe (1995)\",\"Dead Man Walking (1995)\",\"Clueless (1995)\",\"To Die For (1995)\",\"Seven (a.k.a. Se7en) (1995)\",\"Usual Suspects, The (1995)\",\"Home for the Holidays (1995)\",\"Angels and Insects (1995)\",\"Beautiful Girls (1996)\",\"Taxi Driver (1976)\",\"Anne Frank Remembered (1995)\",\"Chungking Express (Chung Hing sam lam) (1994)\",\"Flirting With Disaster (1996)\",\"Birdcage, The (1996)\",\"Brothers McMullen, The (1995)\",\"Apollo 13 (1995)\",\"Batman Forever (1995)\",\"Beyond Rangoon (1995)\",\"Blue in the Face (1995)\",\"Crimson Tide (1995)\",\"Crumb (1994)\",\"Devil in a Blue Dress (1995)\",\"Die Hard: With a Vengeance (1995)\",\"Living in Oblivion (1995)\",\"Mallrats (1995)\",\"Nine Months (1995)\",\"Showgirls (1995)\",\"Smoke (1995)\",\"To Wong Foo, Thanks for Everything! Julie Newmar (1995)\",\"Unzipped (1995)\",\"Circle of Friends (1995)\",\"Clerks (1994)\",\"Eat Drink Man Woman (Yin shi nan nu) (1994)\",\"Exotica (1994)\",\"Ed Wood (1994)\",\"Forget Paris (1995)\",\"Hoop Dreams (1994)\",\"Heavenly Creatures (1994)\",\"Interview with the Vampire: The Vampire Chronicles (1994)\",\"Little Women (1994)\",\"Like Water for Chocolate (Como agua para chocolate) (1992)\",\"Legends of the Fall (1994)\",\"Madness of King George, The (1994)\",\"My Family (1995)\",\"Nobody's Fool (1994)\",\"Natural Born Killers (1994)\",\"Only You (1994)\",\"Pulp Fiction (1994)\",\"Quiz Show (1994)\",\"Three Colors: Blue (Trois couleurs: Bleu) (1993)\",\"Three Colors: White (Trzy kolory: Bialy) (1994)\",\"Shawshank Redemption, The (1994)\",\"Vanya on 42nd Street (1994)\",\"What's Eating Gilbert Grape (1993)\",\"Muriel's Wedding (1994)\",\"Ace Ventura: Pet Detective (1994)\",\"Adventures of Priscilla, Queen of the Desert, The (1994)\",\"Backbeat (1993)\",\"Clear and Present Danger (1994)\",\"Client, The (1994)\",\"Forrest Gump (1994)\",\"Four Weddings and a Funeral (1994)\",\"It Could Happen to You (1994)\",\"Little Buddha (1993)\",\"Mrs. Parker and the Vicious Circle (1994)\",\"Naked Gun 33 1/3: The Final Insult (1994)\",\"Paper, The (1994)\",\"Reality Bites (1994)\",\"Red Rock West (1992)\",\"Speed (1994)\",\"True Lies (1994)\",\"When a Man Loves a Woman (1994)\",\"Faster Pussycat! Kill! Kill! (1965)\",\"Age of Innocence, The (1993)\",\"Bronx Tale, A (1993)\",\"Cliffhanger (1993)\",\"Dave (1993)\",\"Dazed and Confused (1993)\",\"Fearless (1993)\",\"Flesh and Bone (1993)\",\"Firm, The (1993)\",\"Fugitive, The (1993)\",\"Go Fish (1994)\",\"In the Line of Fire (1993)\",\"In the Name of the Father (1993)\",\"What's Love Got to Do with It? (1993)\",\"Jurassic Park (1993)\",\"Malice (1993)\",\"Manhattan Murder Mystery (1993)\",\"In the Realm of the Senses (Ai no corrida) (1976)\",\"What Happened Was... (1994)\",\"Mrs. Doubtfire (1993)\",\"Philadelphia (1993)\",\"Piano, The (1993)\",\"Remains of the Day, The (1993)\",\"Road to Wellville, The (1994)\",\"Ruby in Paradise (1993)\",\"Rudy (1993)\",\"Schindler's List (1993)\",\"Searching for Bobby Fischer (1993)\",\"Short Cuts (1993)\",\"Simple Twist of Fate, A (1994)\",\"Sirens (1994)\",\"Six Degrees of Separation (1993)\",\"Sleepless in Seattle (1993)\",\"Blade Runner (1982)\",\"Thirty-Two Short Films About Glenn Gould (1993)\",\"True Romance (1993)\",\"War Room, The (1993)\",\"Welcome to the Dollhouse (1995)\",\"Spanking the Monkey (1994)\",\"Celluloid Closet, The (1995)\",\"Home Alone (1990)\",\"Ghost (1990)\",\"Dances with Wolves (1990)\",\"Batman (1989)\",\"Silence of the Lambs, The (1991)\",\"Snow White and the Seven Dwarfs (1937)\",\"Beauty and the Beast (1991)\",\"Pinocchio (1940)\",\"Pretty Woman (1990)\",\"Fargo (1996)\",\"Primal Fear (1996)\",\"Mystery Science Theater 3000: The Movie (1996)\",\"Barbarella (1968)\",\"It's My Party (1996)\",\"Truth About Cats & Dogs, The (1996)\",\"Wallace & Gromit: The Best of Aardman Animation (1996)\",\"Cold Comfort Farm (1995)\",\"Twister (1996)\",\"Wallace & Gromit: A Close Shave (1995)\",\"Force of Evil (1948)\",\"Dr. Strangelove or: How I Learned to Stop Worrying and Love the Bomb (1964)\",\"I Shot Andy Warhol (1996)\",\"Trainspotting (1996)\",\"Independence Day (a.k.a. ID4) (1996)\",\"Stealing Beauty (1996)\",\"Lone Star (1996)\",\"Walking and Talking (1996)\",\"She's the One (1996)\",\"Time to Kill, A (1996)\",\"Kaspar Hauser (1993)\",\"Emma (1996)\",\"Spitfire Grill, The (1996)\",\"Basquiat (1996)\",\"Godfather, The (1972)\",\"Bound (1996)\",\"Philadelphia Story, The (1940)\",\"Singin' in the Rain (1952)\",\"American in Paris, An (1951)\",\"Breakfast at Tiffany's (1961)\",\"Vertigo (1958)\",\"Rear Window (1954)\",\"It Happened One Night (1934)\",\"Gaslight (1944)\",\"North by Northwest (1959)\",\"Apartment, The (1960)\",\"Some Like It Hot (1959)\",\"Charade (1963)\",\"Casablanca (1942)\",\"Maltese Falcon, The (1941)\",\"Sabrina (1954)\",\"Little Princess, The (1939)\",\"Meet Me in St. Louis (1944)\",\"Wizard of Oz, The (1939)\",\"Gone with the Wind (1939)\",\"My Favorite Year (1982)\",\"Sunset Blvd. (a.k.a. Sunset Boulevard) (1950)\",\"Citizen Kane (1941)\",\"2001: A Space Odyssey (1968)\",\"All About Eve (1950)\",\"Women, The (1939)\",\"Rebecca (1940)\",\"Foreign Correspondent (1940)\",\"Notorious (1946)\",\"Spellbound (1945)\",\"Affair to Remember, An (1957)\",\"To Catch a Thief (1955)\",\"Gigi (1958)\",\"Laura (1944)\",\"Top Hat (1935)\",\"My Man Godfrey (1936)\",\"Giant (1956)\",\"East of Eden (1955)\",\"Thin Man, The (1934)\",\"His Girl Friday (1940)\",\"Around the World in 80 Days (1956)\",\"It's a Wonderful Life (1946)\",\"Mr. Smith Goes to Washington (1939)\",\"Bringing Up Baby (1938)\",\"Night of the Living Dead (1968)\",\"African Queen, The (1951)\",\"Beat the Devil (1953)\",\"Cat on a Hot Tin Roof (1958)\",\"Grace of My Heart (1996)\",\"Big Night (1996)\",\"2 Days in the Valley (1996)\",\"Old Yeller (1957)\",\"Parent Trap, The (1961)\",\"Pollyanna (1960)\",\"Homeward Bound: The Incredible Journey (1993)\",\"Swiss Family Robinson (1960)\",\"That Darn Cat! (1965)\",\"Cinderella (1950)\",\"Winnie the Pooh and the Blustery Day (1968)\",\"Mary Poppins (1964)\",\"Dumbo (1941)\",\"Pete's Dragon (1977)\",\"Alice in Wonderland (1951)\",\"Sound of Music, The (1965)\",\"Die Hard (1988)\",\"Secrets & Lies (1996)\",\"That Thing You Do! (1996)\",\"To Gillian on Her 37th Birthday (1996)\",\"Looking for Richard (1996)\",\"Trees Lounge (1996)\",\"William Shakespeare's Romeo + Juliet (1996)\",\"Swingers (1996)\",\"Crossfire (1947)\",\"Murder, My Sweet (1944)\",\"Sleeper (1973)\",\"Bananas (1971)\",\"Fish Called Wanda, A (1988)\",\"Monty Python's Life of Brian (1979)\",\"Victor/Victoria (1982)\",\"Candidate, The (1972)\",\"Bonnie and Clyde (1967)\",\"Dial M for Murder (1954)\",\"Dirty Dancing (1987)\",\"Reservoir Dogs (1992)\",\"Platoon (1986)\",\"Basic Instinct (1992)\",\"Doors, The (1991)\",\"Crying Game, The (1992)\",\"Glengarry Glen Ross (1992)\",\"Sophie's Choice (1982)\",\"E.T. the Extra-Terrestrial (1982)\",\"Christmas Carol, A (1938)\",\"Rebel Without a Cause (1955)\",\"Streetcar Named Desire, A (1951)\",\"People vs. Larry Flynt, The (1996)\",\"On Golden Pond (1981)\",\"Escape from New York (1981)\",\"Private Benjamin (1980)\",\"When We Were Kings (1996)\",\"Wallace & Gromit: The Wrong Trousers (1993)\",\"Return of Martin Guerre, The (Retour de Martin Guerre, Le) (1982)\",\"He Walked by Night (1948)\",\"Raw Deal (1948)\",\"T-Men (1947)\",\"Tin Drum, The (Blechtrommel, Die) (1979)\",\"Ruling Class, The (1972)\",\"Bob Roberts (1992)\",\"Cinema Paradiso (Nuovo cinema Paradiso) (1989)\",\"Cook the Thief His Wife & Her Lover, The (1989)\",\"Enchanted April (1992)\",\"Grifters, The (1990)\",\"English Patient, The (1996)\",\"My Left Foot (1989)\",\"Sex, Lies, and Videotape (1989)\",\"Passion Fish (1992)\",\"Strictly Ballroom (1992)\",\"Thin Blue Line, The (1988)\",\"Tie Me Up! Tie Me Down! (\\u00a1\\u00c1tame!) (1990)\",\"Madonna: Truth or Dare (1991)\",\"Paris Is Burning (1990)\",\"One Flew Over the Cuckoo's Nest (1975)\",\"Cheech and Chong's Up in Smoke (1978)\",\"Star Wars: Episode V - The Empire Strikes Back (1980)\",\"Raiders of the Lost Ark (Indiana Jones and the Raiders of the Lost Ark) (1981)\",\"Brazil (1985)\",\"Aliens (1986)\",\"12 Angry Men (1957)\",\"Lawrence of Arabia (1962)\",\"Clockwork Orange, A (1971)\",\"To Kill a Mockingbird (1962)\",\"Apocalypse Now (1979)\",\"Star Wars: Episode VI - Return of the Jedi (1983)\",\"Third Man, The (1949)\",\"Goodfellas (1990)\",\"Alien (1979)\",\"Ran (1985)\",\"Psycho (1960)\",\"Blues Brothers, The (1980)\",\"Godfather: Part II, The (1974)\",\"Full Metal Jacket (1987)\",\"Grand Day Out with Wallace and Gromit, A (1989)\",\"Amadeus (1984)\",\"Quiet Man, The (1952)\",\"Once Upon a Time in America (1984)\",\"Raging Bull (1980)\",\"Annie Hall (1977)\",\"Right Stuff, The (1983)\",\"Boot, Das (Boat, The) (1981)\",\"Sting, The (1973)\",\"Harold and Maude (1971)\",\"Trust (1990)\",\"Local Hero (1983)\",\"Manhattan (1979)\",\"Dead Poets Society (1989)\",\"Graduate, The (1967)\",\"Touch of Evil (1958)\",\"Femme Nikita, La (Nikita) (1990)\",\"Bridge on the River Kwai, The (1957)\",\"8 1/2 (8\\u00bd) (1963)\",\"Chinatown (1974)\",\"Day the Earth Stood Still, The (1951)\",\"Treasure of the Sierra Madre, The (1948)\",\"Duck Soup (1933)\",\"Shining, The (1980)\",\"Stand by Me (1986)\",\"Evil Dead II (Dead by Dawn) (1987)\",\"Deer Hunter, The (1978)\",\"Diva (1981)\",\"Groundhog Day (1993)\",\"Unforgiven (1992)\",\"Manchurian Candidate, The (1962)\",\"Pump Up the Volume (1990)\",\"Arsenic and Old Lace (1944)\",\"Back to the Future (1985)\",\"Fried Green Tomatoes (1991)\",\"Cool Hand Luke (1967)\",\"Young Frankenstein (1974)\",\"Night on Earth (1991)\",\"Raise the Red Lantern (Da hong deng long gao gao gua) (1991)\",\"Fantasia (1940)\",\"Big Sleep, The (1946)\",\"Heathers (1989)\",\"Somewhere in Time (1980)\",\"This Is Spinal Tap (1984)\",\"Koyaanisqatsi (a.k.a. Koyaanisqatsi: Life Out of Balance) (1983)\",\"Some Kind of Wonderful (1987)\",\"Being There (1979)\",\"Gandhi (1982)\",\"Unbearable Lightness of Being, The (1988)\",\"Room with a View, A (1986)\",\"Killing Fields, The (1984)\",\"My Life as a Dog (Mitt liv som hund) (1985)\",\"Field of Dreams (1989)\",\"Man Who Would Be King, The (1975)\",\"Butch Cassidy and the Sundance Kid (1969)\",\"Paris, Texas (1984)\",\"When Harry Met Sally... (1989)\",\"American Werewolf in London, An (1981)\",\"Audrey Rose (1977)\",\"Believers, The (1987)\",\"Birds, The (1963)\",\"Blob, The (1958)\",\"Body Snatcher, The (1945)\",\"Bride of Frankenstein, The (Bride of Frankenstein) (1935)\",\"Cape Fear (1991)\",\"Cape Fear (1962)\",\"Carrie (1976)\",\"Cat People (1982)\",\"Nightmare on Elm Street, A (1984)\",\"Nosferatu (Nosferatu, eine Symphonie des Grauens) (1922)\",\"Shine (1996)\",\"Sling Blade (1996)\",\"Paradise Lost: The Child Murders at Robin Hood Hills (1996)\",\"Die Hard 2 (1990)\",\"Star Trek: The Motion Picture (1979)\",\"Star Trek II: The Wrath of Khan (1982)\",\"Batman Returns (1992)\",\"Grease (1978)\",\"Jaws (1975)\",\"Mars Attacks! (1996)\",\"Citizen Ruth (1996)\",\"Jerry Maguire (1996)\",\"Raising Arizona (1987)\",\"Tin Men (1987)\",\"Sneakers (1992)\",\"Marvin's Room (1996)\",\"Beavis and Butt-Head Do America (1996)\",\"Scream (1996)\",\"Hamlet (1996)\",\"Whole Wide World, The (1996)\",\"Evita (1996)\",\"Walkabout (1971)\",\"Benny & Joon (1993)\",\"Waiting for Guffman (1996)\",\"Lost Highway (1997)\",\"Donnie Brasco (1997)\",\"Kama Sutra: A Tale of Love (1996)\",\"Private Parts (1997)\",\"Daytrippers, The (1996)\",\"Selena (1997)\",\"Inventing the Abbotts (1997)\",\"Grosse Pointe Blank (1997)\",\"Austin Powers: International Man of Mystery (1997)\",\"My Best Friend's Wedding (1997)\",\"Face/Off (1997)\",\"Men in Black (a.k.a. MIB) (1997)\",\"Contact (1997)\",\"Conan the Barbarian (1982)\",\"Cop Land (1997)\",\"In the Company of Men (1997)\",\"Career Girls (1997)\",\"She's So Lovely (1997)\",\"Hunt for Red October, The (1990)\",\"My Own Private Idaho (1991)\",\"In & Out (1997)\",\"L.A. Confidential (1997)\",\"Game, The (1997)\",\"Ulee's Gold (1997)\",\"Ice Storm, The (1997)\",\"Chasing Amy (1997)\",\"Full Monty, The (1997)\",\"Fast, Cheap & Out of Control (1997)\",\"Year of the Horse (1997)\",\"Eve's Bayou (1997)\",\"Boogie Nights (1997)\",\"Witness (1985)\",\"Joy Luck Club, The (1993)\",\"Sliding Doors (1998)\",\"Truman Show, The (1998)\",\"Wings of the Dove, The (1997)\",\"Amistad (1997)\",\"Apostle, The (1997)\",\"Flubber (1997)\",\"Good Will Hunting (1997)\",\"Midnight in the Garden of Good and Evil (1997)\",\"Sweet Hereafter, The (1997)\",\"Titanic (1997)\",\"Jackie Brown (1997)\",\"Big Lebowski, The (1998)\",\"My Life in Pink (Ma vie en rose) (1997)\",\"Wag the Dog (1997)\",\"Fallen Angels (Duo luo tian shi) (1995)\",\"Wedding Singer, The (1998)\",\"As Good as It Gets (1997)\",\"Hush (1998)\",\"Wild Things (1998)\",\"Primary Colors (1998)\",\"Spanish Prisoner, The (1997)\",\"Last Days of Disco, The (1998)\",\"Kurt & Courtney (1998)\",\"Wild Man Blues (1997)\",\"Bulworth (1998)\",\"Opposite of Sex, The (1998)\",\"High Art (1998)\",\"X-Files: Fight the Future, The (1998)\",\"Out of Sight (1998)\",\"Picnic at Hanging Rock (1975)\",\"Smoke Signals (1998)\",\"Buffalo '66 (a.k.a. Buffalo 66) (1998)\",\"Pi (1998)\",\"There's Something About Mary (1998)\",\"Plan 9 from Outer Space (1959)\",\"You Can't Take It with You (1938)\",\"Mrs. Miniver (1942)\",\"Lost Weekend, The (1945)\",\"Best Years of Our Lives, The (1946)\",\"Gentleman's Agreement (1947)\",\"Greatest Show on Earth, The (1952)\",\"From Here to Eternity (1953)\",\"On the Waterfront (1954)\",\"Marty (1955)\",\"West Side Story (1961)\",\"Tom Jones (1963)\",\"In the Heat of the Night (1967)\",\"Oliver! (1968)\",\"Midnight Cowboy (1969)\",\"French Connection, The (1971)\",\"Rocky (1976)\",\"Kramer vs. Kramer (1979)\",\"Ordinary People (1980)\",\"Terms of Endearment (1983)\",\"Last Emperor, The (1987)\",\"Rain Man (1988)\",\"Driving Miss Daisy (1989)\",\"Take the Money and Run (1969)\",\"Klute (1971)\",\"Repo Man (1984)\",\"Metropolitan (1990)\",\"Breakfast Club, The (1985)\",\"Prom Night (1980)\",\"Poltergeist (1982)\",\"Exorcist, The (1973)\",\"Back to the Future Part II (1989)\",\"Back to the Future Part III (1990)\",\"Poseidon Adventure, The (1972)\",\"Freaky Friday (1977)\",\"Absent-Minded Professor, The (1961)\",\"Babes in Toyland (1961)\",\"Bambi (1942)\",\"Seven Samurai (Shichinin no samurai) (1954)\",\"Dangerous Liaisons (1988)\",\"Dune (1984)\",\"Godfather: Part III, The (1990)\",\"Lolita (1997)\",\"Darby O'Gill and the Little People (1959)\",\"Happiest Millionaire, The (1967)\",\"In Search of the Castaways (1962)\",\"Incredible Journey, The (1963)\",\"Roger & Me (1989)\",\"Purple Rose of Cairo, The (1985)\",\"Out of the Past (1947)\",\"Doctor Zhivago (1965)\",\"Tender Mercies (1983)\",\"'burbs, The (1989)\",\"Blue Velvet (1986)\",\"Jungle Book, The (1967)\",\"Lady and the Tramp (1955)\",\"101 Dalmatians (One Hundred and One Dalmatians) (1961)\",\"Peter Pan (1953)\",\"Popeye (1980)\",\"Sleeping Beauty (1959)\",\"L.A. Story (1991)\",\"Dead Men Don't Wear Plaid (1982)\",\"Man with Two Brains, The (1983)\",\"Grand Canyon (1991)\",\"Ever After: A Cinderella Story (1998)\",\"Atlantic City (1980)\",\"Who's Afraid of Virginia Woolf? (1966)\",\"Doctor Dolittle (1967)\",\"Sixteen Candles (1984)\",\"Pretty in Pink (1986)\",\"St. Elmo's Fire (1985)\",\"Gods Must Be Crazy, The (1980)\",\"Slums of Beverly Hills, The (1998)\",\"Rosemary's Baby (1968)\",\"Your Friends and Neighbors (1998)\",\"Return to Paradise (1998)\",\"Next Stop Wonderland (1998)\",\"Beetlejuice (1988)\",\"Rope (1948)\",\"Marnie (1964)\",\"Man Who Knew Too Much, The (1956)\",\"Trouble with Harry, The (1955)\",\"Strangers on a Train (1951)\",\"54 (1998)\",\"Untouchables, The (1987)\",\"Shadow of a Doubt (1943)\",\"Saboteur (1942)\",\"Suspicion (1941)\",\"Lady Vanishes, The (1938)\",\"Swept Away (Travolti da un insolito destino nell'azzurro mare d'Agosto) (1975)\",\"Broadcast News (1987)\",\"Working Girl (1988)\",\"Married to the Mob (1988)\",\"Say Anything... (1989)\",\"Blame It on Rio (1984)\",\"Wisdom (1986)\",\"About Last Night... (1986)\",\"Few Good Men, A (1992)\",\"Permanent Midnight (1998)\",\"One True Thing (1998)\",\"Sheltering Sky, The (1990)\",\"If.... (1968)\",\"Player, The (1992)\",\"Stardust Memories (1980)\",\"Edward Scissorhands (1990)\",\"Producers, The (1968)\",\"My Cousin Vinny (1992)\",\"Nashville (1975)\",\"Elephant Man, The (1980)\",\"Happiness (1998)\",\"Pleasantville (1998)\",\"Life Is Beautiful (La Vita \\u00e8 bella) (1997)\",\"American History X (1998)\",\"Gods and Monsters (1998)\",\"Elizabeth (1998)\",\"Sid and Nancy (1986)\",\"Mona Lisa (1986)\",\"Big Chill, The (1983)\",\"Enemy of the State (1998)\",\"Celebrity (1998)\",\"Central Station (Central do Brasil) (1998)\",\"Celebration, The (Festen) (1998)\",\"Glen or Glenda (1953)\",\"Godzilla (Gojira) (1954)\",\"Godzilla 1985: The Legend Is Reborn (Gojira) (Godzilla) (Return of Godzilla, The) (1984)\",\"King Kong (1933)\",\"Desperately Seeking Susan (1985)\",\"Babe: Pig in the City (1998)\",\"Simple Plan, A (1998)\",\"Rushmore (1998)\",\"Shakespeare in Love (1998)\",\"Miracle on 34th Street (1947)\",\"Romancing the Stone (1984)\",\"Back to School (1986)\",\"You've Got Mail (1998)\",\"Hi-Lo Country, The (1998)\",\"In Dreams (1999)\",\"Fly, The (1958)\",\"Fly, The (1986)\",\"Ruthless People (1986)\",\"Color of Money, The (1986)\",\"She's All That (1999)\",\"October Sky (1999)\",\"Office Space (1999)\",\"Long Goodbye, The (1973)\",\"Airport (1970)\",\"Earthquake (1974)\",\"Analyze This (1999)\",\"Lock, Stock & Two Smoking Barrels (1998)\",\"Relax... It's Just Sex (1998)\",\"Deep End of the Ocean, The (1999)\",\"Haunting, The (1963)\",\"Dead Ringers (1988)\",\"King and I, The (1956)\",\"Walk on the Moon, A (1999)\",\"Matrix, The (1999)\",\"10 Things I Hate About You (1999)\",\"Go (1999)\",\"Cookie's Fortune (1999)\",\"Hideous Kinky (1998)\",\"Pushing Tin (1999)\",\"Election (1999)\",\"eXistenZ (1999)\",\"Three Seasons (1999)\",\"Mildred Pierce (1945)\",\"Dick Tracy (1990)\",\"Mummy, The (1999)\",\"Xiu Xiu: The Sent-Down Girl (Tian yu) (1998)\",\"Frogs for Snakes (1998)\",\"Mummy, The (1932)\",\"Mummy, The (1959)\",\"Mummy's Curse, The (1944)\",\"Mommie Dearest (1981)\",\"Superman (1978)\",\"Dracula (1931)\",\"Frankenstein (1931)\",\"Frankenstein Meets the Wolf Man (1943)\",\"Wolf Man, The (1941)\",\"Rocky Horror Picture Show, The (1975)\",\"Invasion of the Body Snatchers (1956)\",\"Notting Hill (1999)\",\"Desert Blue (1998)\",\"Austin Powers: The Spy Who Shagged Me (1999)\",\"General's Daughter, The (1999)\",\"Get Bruce (1999)\",\"Ideal Husband, An (1999)\",\"Run Lola Run (Lola rennt) (1998)\",\"Dinner Game, The (D\\u00eener de cons, Le) (1998)\",\"My Son the Fanatic (1997)\",\"Arachnophobia (1990)\",\"South Park: Bigger, Longer and Uncut (1999)\",\"Summer of Sam (1999)\",\"Arlington Road (1999)\",\"Blair Witch Project, The (1999)\",\"Eyes Wide Shut (1999)\",\"Ghostbusters (a.k.a. Ghost Busters) (1984)\",\"Ghostbusters II (1989)\",\"Runaway Bride (1999)\",\"Killing, The (1956)\",\"Killer's Kiss (1955)\",\"Spartacus (1960)\",\"Lolita (1962)\",\"400 Blows, The (Les quatre cents coups) (1959)\",\"Jules and Jim (Jules et Jim) (1961)\",\"Crimes of the Heart (1986)\",\"Color Purple, The (1985)\",\"Mission, The (1986)\",\"Radio Days (1987)\",\"Light of Day (1987)\",\"Frances (1982)\",\"Dick (1999)\",\"Sixth Sense, The (1999)\",\"Thomas Crown Affair, The (1999)\",\"Thomas Crown Affair, The (1968)\",\"Bowfinger (1999)\",\"Heaven Can Wait (1978)\",\"Raven, The (1963)\",\"Pit and the Pendulum (1961)\",\"Monty Python's And Now for Something Completely Different (1971)\",\"Airplane! (1980)\",\"Airplane II: The Sequel (1982)\",\"National Lampoon's Vacation (1983)\",\"Big (1988)\",\"Tequila Sunrise (1988)\",\"Christmas Story, A (1983)\",\"Love Stinks (1999)\",\"Three Days of the Condor (3 Days of the Condor) (1975)\",\"Stigmata (1999)\",\"Soldier's Story, A (1984)\",\"I Saw What You Did (1965)\",\"American Beauty (1999)\",\"Stop Making Sense (1984)\",\"Hard Day's Night, A (1964)\",\"Buddy Holly Story, The (1978)\",\"Barefoot in the Park (1967)\",\"Deliverance (1972)\",\"Sommersby (1993)\",\"Tommy (1975)\",\"Hell Night (1981)\",\"Mumford (1999)\",\"Three Kings (1999)\",\"Boys Don't Cry (1999)\",\"Risky Business (1983)\",\"Total Recall (1990)\",\"Body Heat (1981)\",\"Ferris Bueller's Day Off (1986)\",\"Year of Living Dangerously, The (1982)\",\"Conformist, The (Conformista, Il) (1970)\",\"Hairspray (1988)\",\"Razor's Edge, The (1984)\",\"Reds (1981)\",\"Days of Heaven (1978)\",\"Lady Eve, The (1941)\",\"Palm Beach Story, The (1942)\",\"Niagara (1953)\",\"Gilda (1946)\",\"South Pacific (1958)\",\"Flashdance (1983)\",\"Help! (1965)\",\"Goldfinger (1964)\",\"Someone to Watch Over Me (1987)\",\"Fight Club (1999)\",\"Straight Story, The (1999)\",\"Bad Seed, The (1956)\",\"Fitzcarraldo (1982)\",\"All That Jazz (1979)\",\"Crimes and Misdemeanors (1989)\",\"Bringing Out the Dead (1999)\",\"Who Framed Roger Rabbit? (1988)\",\"Melvin and Howard (1980)\",\"Thunderball (1965)\",\"Being John Malkovich (1999)\",\"Bone Collector, The (1999)\",\"Insider, The (1999)\",\"American Movie (1999)\",\"They Shoot Horses, Don't They? (1969)\",\"Drugstore Cowboy (1989)\",\"Falling Down (1993)\",\"General, The (1926)\",\"Taming of the Shrew, The (1967)\",\"Little Big Man (1970)\",\"Face in the Crowd, A (1957)\",\"Trading Places (1983)\",\"Dead Again (1991)\",\"Peter's Friends (1992)\",\"Anywhere But Here (1999)\",\"Dogma (1999)\",\"Commitments, The (1991)\",\"Holiday Inn (1942)\",\"Verdict, The (1982)\",\"Effect of Gamma Rays on Man-in-the-Moon Marigolds, The (1972)\",\"Moonstruck (1987)\",\"Repulsion (1965)\",\"42 Up (1998)\",\"Harvey (1950)\",\"Matewan (1987)\",\"McCabe & Mrs. Miller (1971)\",\"Maurice (1987)\",\"Grapes of Wrath, The (1940)\",\"My Man Godfrey (1957)\",\"Shop Around the Corner, The (1940)\",\"Natural, The (1984)\",\"Shampoo (1975)\",\"River Runs Through It, A (1992)\",\"Fatal Attraction (1987)\",\"Jagged Edge (1985)\",\"Midnight Run (1988)\",\"Awakenings (1990)\",\"Fisher King, The (1991)\",\"Flawless (1999)\",\"Tumbleweeds (1999)\",\"Hitch-Hiker, The (1953)\",\"End of the Affair, The (1999)\",\"Map of the World, A (1999)\",\"Bonfire of the Vanities (1990)\",\"Great Santini, The (1979)\",\"Stealing Home (1988)\",\"U2: Rattle and Hum (1988)\",\"Glass Bottom Boat, The (1966)\",\"Green Mile, The (1999)\",\"Cider House Rules, The (1999)\",\"Last Picture Show, The (1971)\",\"Magnolia (1999)\",\"Carnal Knowledge (1971)\",\"Easy Rider (1969)\",\"The Falcon and the Snowman (1985)\",\"Man on the Moon (1999)\",\"Galaxy Quest (1999)\",\"Talented Mr. Ripley, The (1999)\",\"Mr. Death: The Rise and Fall of Fred A. Leuchter, Jr. (1999)\",\"Third Miracle, The (1999)\",\"Girl, Interrupted (1999)\",\"Life and Times of Hank Greenberg, The (1998)\",\"Way We Were, The (1973)\",\"Pal Joey (1957)\",\"Last Detail, The (1973)\",\"Five Easy Pieces (1970)\",\"Dead Calm (1989)\",\"Against All Odds (1984)\",\"Fast Times at Ridgemont High (1982)\",\"Cry in the Dark, A (1988)\",\"Pacific Heights (1990)\",\"Goodbye Girl, The (1977)\",\"Sister Act (1992)\",\"Wayne's World (1992)\",\"Wayne's World 2 (1993)\",\"League of Their Own, A (1992)\",\"Howards End (1992)\",\"Singles (1992)\",\"Twin Peaks: Fire Walk with Me (1992)\",\"White Men Can't Jump (1992)\",\"Forever Young (1992)\",\"Of Mice and Men (1992)\",\"Single White Female (1992)\",\"Beach, The (2000)\",\"Big Combo, The (1955)\",\"To Sir with Love (1967)\",\"Whole Nine Yards, The (2000)\",\"City Lights (1931)\",\"Kid, The (1921)\",\"Wonder Boys (2000)\",\"Ghost Dog: The Way of the Samurai (1999)\",\"Splendor in the Grass (1961)\",\"Key Largo (1948)\",\"Bride of the Monster (1955)\",\"Born Yesterday (1950)\",\"And God Created Woman (1988)\",\"Never Cry Wolf (1983)\",\"Raisin in the Sun, A (1961)\",\"Defending Your Life (1991)\",\"Breaking Away (1979)\",\"Hoosiers (a.k.a. Best Shot) (1986)\",\"Bull Durham (1988)\",\"Dog Day Afternoon (1975)\",\"American Graffiti (1973)\",\"Asphalt Jungle, The (1950)\",\"Searchers, The (1956)\",\"Hangmen Also Die! (1943)\",\"On the Beach (1959)\",\"Railroaded! (1947)\",\"Volunteers (1985)\",\"JFK (1991)\",\"Nadine (1987)\",\"Night to Remember, A (1958)\",\"Erin Brockovich (2000)\",\"Thelma & Louise (1991)\",\"...And Justice for All (1979)\",\"She's Gotta Have It (1986)\",\"Do the Right Thing (1989)\",\"Jungle Fever (1991)\",\"Death Wish (1974)\",\"Double Indemnity (1944)\",\"Eyes of Laura Mars (1978)\",\"Good Morning, Vietnam (1987)\",\"Grumpy Old Men (1993)\",\"Guess Who's Coming to Dinner (1967)\",\"Waking the Dead (2000)\",\"Lord of the Flies (1963)\",\"Modern Times (1936)\",\"Hud (1963)\",\"Hustler, The (1961)\",\"Inherit the Wind (1960)\",\"Close Encounters of the Third Kind (1977)\",\"Place in the Sun, A (1951)\",\"Jacob's Ladder (1990)\",\"Bamba, La (1987)\",\"High Fidelity (2000)\",\"Hook (1991)\",\"True Grit (1969)\",\"Misery (1990)\",\"Network (1976)\",\"No Way Out (1987)\",\"Odd Couple, The (1968)\",\"Outlaw Josey Wales, The (1976)\",\"Return to Me (2000)\",\"Bell, Book and Candle (1958)\",\"Mystery Train (1989)\",\"Arthur (1981)\",\"Parenthood (1989)\",\"Prince of Tides, The (1991)\",\"Keeping the Faith (2000)\",\"Where the Money Is (2000)\",\"Passion of Mind (2000)\",\"Diner (1982)\",\"Cabaret (1972)\",\"What Ever Happened to Baby Jane? (1962)\",\"Marathon Man (1976)\",\"Where the Heart Is (2000)\",\"Time Code (2000)\",\"Gladiator (2000)\",\"Gypsy (1962)\",\"On the Town (1949)\",\"Things Change (1988)\",\"Honeymoon in Vegas (1992)\",\"Twelve Chairs, The (1970)\",\"American Gigolo (1980)\",\"Endless Summer, The (1966)\",\"Romeo and Juliet (1968)\",\"White Christmas (1954)\",\"Eraserhead (1977)\",\"Magnum Force (1973)\",\"Blood Simple (1984)\",\"Fabulous Baker Boys, The (1989)\",\"Prizzi's Honor (1985)\",\"Starman (1984)\",\"Brother from Another Planet, The (1984)\",\"Angel Heart (1987)\",\"9 1/2 Weeks (Nine 1/2 Weeks) (1986)\",\"Soapdish (1991)\",\"Long Walk Home, The (1990)\",\"Coming Home (1978)\",\"One False Move (1992)\",\"Conversation, The (1974)\",\"Cutter's Way (1981)\",\"Prince of the City (1981)\",\"Serpico (1973)\",\"Ace in the Hole (Big Carnival, The) (1951)\",\"Badlands (1973)\",\"Chicken Run (2000)\",\"Me, Myself & Irene (2000)\",\"F/X (1986)\",\"Blow-Up (Blowup) (1966)\",\"What Lies Beneath (2000)\",\"Anatomy of a Murder (1959)\",\"What About Bob? (1991)\",\"Everything You Always Wanted to Know About Sex * But Were Afraid to Ask (1972)\",\"Interiors (1978)\",\"Love and Death (1975)\",\"Coyote Ugly (2000)\",\"Hollow Man (2000)\",\"Brain That Wouldn't Die, The (1962)\",\"Bronco Billy (1980)\",\"Steel Magnolias (1989)\",\"Tao of Steve, The (2000)\",\"Naked Gun: From the Files of Police Squad!, The (1988)\",\"Naked Gun 2 1/2: The Smell of Fear, The (1991)\",\"Shane (1953)\",\"Suddenly, Last Summer (1959)\",\"Cat Ballou (1965)\",\"Steal This Movie! (2000)\",\"Nurse Betty (2000)\",\"Almost Famous (2000)\",\"Best in Show (2000)\",\"Remember the Titans (2000)\",\"Stranger Than Paradise (1984)\",\"Fantastic Voyage (1966)\",\"Abbott and Costello Meet Frankenstein (1948)\",\"Bank Dick, The (1940)\",\"Creature from the Black Lagoon, The (1954)\",\"Invisible Man, The (1933)\",\"Meet the Parents (2000)\",\"Requiem for a Dream (2000)\",\"Contender, The (2000)\",\"Billy Jack (1971)\",\"Unsinkable Molly Brown, The (1964)\",\"Strange Love of Martha Ivers, The (1946)\",\"Detour (1945)\",\"Billy Elliot (2000)\",\"Pay It Forward (2000)\",\"Charlie's Angels (2000)\",\"You Can Count on Me (2000)\",\"One Day in September (1999)\",\"Unbreakable (2000)\",\"Crouching Tiger, Hidden Dragon (Wo hu cang long) (2000)\",\"Proof of Life (2000)\",\"Planes, Trains & Automobiles (1987)\",\"Born on the Fourth of July (1989)\",\"Talk Radio (1988)\",\"Snatch (2000)\",\"Chocolat (2000)\",\"Gift, The (2000)\",\"Before Night Falls (2000)\",\"Cast Away (2000)\",\"Family Man, The (2000)\",\"House of Mirth, The (2000)\",\"O Brother, Where Art Thou? (2000)\",\"State and Main (2000)\",\"Traffic (2000)\",\"Shadow of the Vampire (2000)\",\"House of Games (1987)\",\"Officer and a Gentleman, An (1982)\",\"At Close Range (1986)\",\"Save the Last Dance (2001)\",\"Panic (2000)\",\"Pledge, The (2001)\",\"The Man in the Moon (1991)\",\"Mystic Pizza (1988)\",\"Prelude to a Kiss (1992)\",\"I'm Gonna Git You Sucka (1988)\",\"Untamed Heart (1993)\",\"Baby Boom (1987)\",\"Beverly Hills Cop (1984)\",\"Big Easy, The (1987)\",\"Dead, The (1987)\",\"Five Corners (1987)\",\"Hollywood Shuffle (1987)\",\"Innerspace (1987)\",\"Ishtar (1987)\",\"In the Mood For Love (Fa yeung nin wa) (2000)\",\"Mexican, The (2001)\",\"Avalon (1990)\",\"Gray's Anatomy (1996)\",\"Unbelievable Truth, The (1989)\",\"Elvis: That's the Way It Is (1970)\",\"Lilies of the Field (1963)\",\"Hans Christian Andersen (1952)\",\"Elmer Gantry (1960)\",\"Alfie (1966)\",\"I Know Where I'm Going! (1945)\",\"Mermaids (1990)\",\"Manhunter (1986)\",\"Reversal of Fortune (1990)\",\"Longtime Companion (1990)\",\"4 Little Girls (1997)\",\"River's Edge (1986)\",\"Memento (2000)\",\"Heartbreakers (2001)\",\"Someone Like You (2001)\",\"Amores Perros (Love's a Bitch) (2000)\",\"Keep the River on Your Right: A Modern Cannibal Tale (2000)\",\"Blow (2001)\",\"Bridget Jones's Diary (2001)\",\"Days of Wine and Roses (1962)\",\"Mummy Returns, The (2001)\",\"Lost in America (1985)\",\"True Believer (1989)\",\"World According to Garp, The (1982)\",\"Candy (1968)\",\"For the Boys (1991)\",\"Nine to Five (a.k.a. 9 to 5) (1980)\",\"Norma Rae (1979)\",\"Love Story (1970)\",\"Shrek (2001)\",\"Moulin Rouge (2001)\",\"Pearl Harbor (2001)\",\"Postcards From the Edge (1990)\",\"City Slickers (1991)\",\"Eight Men Out (1988)\",\"Suspect (1987)\",\"Throw Momma from the Train (1987)\",\"Evolution (2001)\",\"Swordfish (2001)\",\"Anniversary Party, The (2001)\",\"Catch-22 (1970)\",\"Gentlemen Prefer Blondes (1953)\",\"How to Marry a Millionaire (1953)\",\"Seven Year Itch, The (1955)\",\"Tootsie (1982)\",\"Lara Croft: Tomb Raider (2001)\",\"A.I. Artificial Intelligence (2001)\",\"Alice (1990)\",\"Fall of the House of Usher, The (House of Usher) (1960)\",\"Shadows and Fog (1991)\",\"Something Wild (1986)\",\"X: The Man with the X-Ray Eyes (1963)\",\"Cries and Whispers (Viskningar och rop) (1972)\",\"Garden of the Finzi-Continis, The (Giardino dei Finzi-Contini, Il) (1970)\",\"Kiss Me Deadly (1955)\",\"Misfits, The (1961)\",\"Sweet Smell of Success (1957)\",\"Written on the Wind (1956)\",\"Legally Blonde (2001)\",\"Score, The (2001)\",\"Accidental Tourist, The (1988)\",\"Accused, The (1988)\",\"Beaches (1988)\",\"Cocktail (1988)\",\"Coming to America (1988)\",\"Crossing Delancey (1988)\",\"D.O.A. (1988)\",\"Dirty Rotten Scoundrels (1988)\",\"Everybody's All-American (1988)\",\"Gorillas in the Mist (1988)\",\"Imagine: John Lennon (1988)\",\"Milagro Beanfield War (1988)\",\"Bagdad Cafe (Out of Rosenheim) (1987)\",\"Running on Empty (1988)\",\"Vanishing, The (Spoorloos) (1988)\",\"Torch Song Trilogy (1988)\",\"Tucker: The Man and His Dream (1988)\",\"Always (1989)\",\"Bill & Ted's Excellent Adventure (1989)\",\"Dream Team, The (1989)\",\"Earth Girls Are Easy (1988)\",\"Enemies: A Love Story (1989)\",\"Immediate Family (1989)\",\"Look Who's Talking (1989)\",\"Major League (1989)\",\"Miss Firecracker (1989)\",\"New York Stories (1989)\",\"America's Sweethearts (2001)\",\"Ghost World (2001)\",\"Road House (1989)\",\"Scandal (1989)\",\"Sea of Love (1989)\",\"Slaves of New York (1989)\",\"Tap (1989)\",\"Uncle Buck (1989)\",\"Worth Winning (1989)\",\"Cotton Club, The (1984)\",\"Hotel New Hampshire, The (1984)\",\"Original Sin (2001)\",\"Chocolat (1988)\",\"Hatari! (1962)\",\"Cage aux Folles, La (1978)\",\"Bad Timing: A Sensual Obsession (1980)\",\"Others, The (2001)\",\"Rock Star (2001)\",\"L.I.E. (2001)\",\"Training Day (2001)\",\"French Lieutenant's Woman, The (1981)\",\"Little Man Tate (1991)\",\"It's a Mad, Mad, Mad, Mad World (1963)\",\"Little Foxes, The (1941)\",\"Play Misty for Me (1971)\",\"Silkwood (1983)\",\"I Never Promised You a Rose Garden (1977)\",\"Don't Say a Word (2001)\",\"Zoolander (2001)\",\"Joy Ride (2001)\",\"Serendipity (2001)\",\"Can't Stop the Music (1980)\",\"Carny (1980)\",\"Coal Miner's Daughter (1980)\",\"Last Metro, The (Dernier m\\u00e9tro, Le) (1980)\",\"Bandits (2001)\",\"Mulholland Drive (2001)\",\"Dirty Harry (1971)\",\"Kansas (1988)\",\"Waking Life (2001)\",\"K-PAX (2001)\",\"Donnie Darko (2001)\",\"Life as a House (2001)\",\"Man Who Wasn't There, The (2001)\",\"Heist (2001)\",\"Shallow Hal (2001)\",\"Spy Game (2001)\",\"In the Bedroom (2001)\",\"Funny Girl (1968)\",\"Breathless (\\u00c0 bout de souffle) (1960)\",\"Now, Voyager (1942)\",\"Little Women (1933)\",\"Last Wave, The (1977)\",\"Fame (1980)\",\"I Bury the Living (1958)\",\"Ocean's Eleven (a.k.a. Ocean's 11) (1960)\",\"Ocean's Eleven (2001)\",\"Business of Strangers, The (2001)\",\"And Then There Were None (1945)\",\"Blue Angel, The (Blaue Engel, Der) (1930)\",\"Amelie (Fabuleux destin d'Am\\u00e9lie Poulain, Le) (2001)\",\"Vanilla Sky (2001)\",\"Iris (2001)\",\"Lantana (2001)\",\"Royal Tenenbaums, The (2001)\",\"Kate & Leopold (2001)\",\"Lord of the Rings: The Fellowship of the Ring, The (2001)\",\"Beautiful Mind, A (2001)\",\"Dodsworth (1936)\",\"Party, The (1968)\",\"Witness for the Prosecution (1957)\",\"Ali (2001)\",\"Yentl (1983)\",\"Gosford Park (2001)\",\"Monster's Ball (2001)\",\"Big Heat, The (1953)\",\"Russia House, The (1990)\",\"Truly, Madly, Deeply (1991)\",\"48 Hrs. (1982)\",\"Enigma of Kaspar Hauser, The (a.k.a. Mystery of Kaspar Hauser, The) (Jeder f\\u00fcr sich und Gott Gegen Alle) (1974)\",\"M*A*S*H (a.k.a. MASH) (1970)\",\"Mrs. Soffel (1984)\",\"Get Out Your Handkerchiefs (Pr\\u00e9parez vos mouchoirs) (1978)\",\"Going Places (Valseuses, Les) (1974)\",\"Bright Eyes (1934)\",\"Dimples (1936)\",\"Heidi (1937)\",\"Don't Look Now (1973)\",\"Bad and the Beautiful, The (1952)\",\"Saturday Night and Sunday Morning (1960)\",\"Sleuth (1972)\",\"Stroszek (1977)\",\"Monsoon Wedding (2001)\",\"Magnificent Ambersons, The (1942)\",\"Honeysuckle Rose (a.k.a. On the Road Again) (1980)\",\"Jazz Singer, The (1980)\",\"Long Riders, The (1980)\",\"And Your Mother Too (Y tu mam\\u00e1 tambi\\u00e9n) (2001)\",\"Return of the Secaucus 7 (1980)\",\"Serial (1980)\",\"Stir Crazy (1980)\",\"Death to Smoochy (2002)\",\"Atomic Cafe, The (1982)\",\"Rashomon (Rash\\u00f4mon) (1950)\",\"Changing Lanes (2002)\",\"My Big Fat Greek Wedding (2002)\",\"Joe Versus the Volcano (1990)\",\"Three Men and a Baby (1987)\",\"Husbands and Wives (1992)\",\"Lenny (1974)\",\"Spider-Man (2002)\",\"Rambling Rose (1991)\",\"Survivors, The (1983)\",\"Unfaithful (2002)\",\"My Beautiful Laundrette (1985)\",\"About a Boy (2002)\",\"Importance of Being Earnest, The (2002)\",\"I Want to Live! (1958)\",\"Last Waltz, The (1978)\",\"Insomnia (2002)\",\"Thirteen Conversations About One Thing (a.k.a. 13 Conversations) (2001)\",\"Bourne Identity, The (2002)\",\"Sorry, Wrong Number (1948)\",\"Minority Report (2002)\",\"Sunshine State (2002)\",\"Lovely & Amazing (2001)\",\"Z (1969)\",\"Kid Stays in the Picture, The (2002)\",\"Nosferatu the Vampyre (Nosferatu: Phantom der Nacht) (1979)\",\"Signs (2002)\",\"Good Girl, The (2002)\",\"Principal, The (1987)\",\"One Hour Photo (2002)\",\"Time After Time (1979)\",\"Secretary (2002)\",\"Godzilla vs. Mothra (Mosura tai Gojira) (1964)\",\"Moderns, The (1988)\",\"Pride of the Yankees, The (1942)\",\"Valmont (1989)\",\"Strange Brew (1983)\",\"Incredible Mr. Limpet, The (1964)\",\"Rules of Attraction, The (2002)\",\"White Oleander (2002)\",\"Bowling for Columbine (2002)\",\"Punch-Drunk Love (2002)\",\"Ring, The (2002)\",\"Auto Focus (2002)\",\"Saturday Night Fever (1977)\",\"Staying Alive (1983)\",\"Absence of Malice (1981)\",\"Endless Love (1981)\",\"My Dinner with Andr\\u00e9 (1981)\",\"Pennies from Heaven (1981)\",\"Roger Dodger (2002)\",\"Big Knife, The (1955)\",\"Russians Are Coming, the Russians Are Coming, The (1966)\",\"8 Mile (2002)\",\"Far from Heaven (2002)\",\"Standing in the Shadows of Motown (2002)\",\"Ragtime (1981)\",\"Personal Velocity (2002)\",\"Quiet American, The (2002)\",\"Last Seduction, The (1994)\",\"Adaptation (2002)\",\"Burden of Dreams (1982)\",\"Come Back to the Five and Dime, Jimmy Dean, Jimmy Dean (1982)\",\"Deathtrap (1982)\",\"Eating Raoul (1982)\",\"Maid in Manhattan (2002)\",\"About Schmidt (2002)\",\"25th Hour (2002)\",\"Two Weeks Notice (2002)\",\"Children's Hour, The (1961)\",\"Kiss Before Dying, A (1956)\",\"Fat City (1972)\",\"Catch Me If You Can (2002)\",\"Chicago (2002)\",\"Hours, The (2002)\",\"Pianist, The (2002)\",\"King of Comedy, The (1983)\",\"Confessions of a Dangerous Mind (2002)\",\"City of God (Cidade de Deus) (2002)\",\"American Friend, The (Amerikanische Freund, Der) (1977)\",\"Dogfight (1991)\",\"Imitation of Life (1959)\",\"Dead Reckoning (1947)\",\"Harder They Come, The (1973)\",\"Lost in La Mancha (2002)\",\"Harder They Fall, The (1956)\",\"Midsummer Night's Sex Comedy, A (1982)\",\"Missing (1982)\",\"Moonlighting (1982)\",\"One from the Heart (1982)\",\"Personal Best (1982)\",\"Shoot the Moon (1982)\",\"State of Things, The (Stand der Dinge, Der) (1982)\",\"Black Stallion, The (1979)\",\"Patch of Blue, A (1965)\",\"Old School (2003)\",\"Laurel Canyon (2002)\",\"Bend It Like Beckham (2002)\",\"Bang the Drum Slowly (1973)\",\"Born Free (1966)\",\"Green Card (1990)\",\"Women in Love (1969)\",\"View from the Top (2003)\",\"Awful Truth, The (1937)\",\"Stevie (2002)\",\"Day for Night (La Nuit Am\\u00e9ricaine) (1973)\",\"In a Lonely Place (1950)\",\"Phone Booth (2002)\",\"Mighty Wind, A (2003)\",\"Legal Eagles (1986)\",\"Identity (2003)\",\"Decade Under the Influence, A (2003)\",\"Spellbound (2002)\",\"Shape of Things, The (2003)\",\"Chorus Line, A (1985)\",\"High Society (1956)\",\"Kiss Me Kate (1953)\",\"Down with Love (2003)\",\"Bruce Almighty (2003)\",\"Italian Job, The (2003)\",\"Capturing the Friedmans (2003)\",\"Whale Rider (2002)\",\"Murder on a Sunday Morning (Un coupable id\\u00e9al) (2001)\",\"Car Wash (1976)\",\"Electric Horseman, The (1979)\",\"Mr. & Mrs. Bridge (1990)\",\"Shenandoah (1965)\",\"This Boy's Life (1993)\",\"Barton Fink (1991)\",\"Long, Hot Summer, The (1958)\",\"Mississippi Masala (1991)\",\"Song of Bernadette, The (1943)\",\"Thoroughly Modern Millie (1967)\",\"Nuts (1987)\",\"Start the Revolution Without Me (1970)\",\"Tenant, The (Locataire, Le) (1976)\",\"What's Up, Doc? (1972)\",\"Swimming Pool (2003)\",\"Pirates of the Caribbean: The Curse of the Black Pearl (2003)\",\"Dirty Pretty Things (2002)\",\"What's Up, Tiger Lily? (1966)\",\"Secret Lives of Dentists, The (2002)\",\"Divorce, Le (2003)\",\"Double Life, A (1947)\",\"Brother's Keeper (1992)\",\"American Splendor (2003)\",\"House of Wax (1953)\",\"Valley Girl (1983)\",\"Wait Until Dark (1967)\",\"Valley of the Dolls (1967)\",\"Kind Hearts and Coronets (1949)\",\"10 (1979)\",\"Pink Panther, The (1963)\",\"Pink Panther Strikes Again, The (1976)\",\"Discreet Charm of the Bourgeoisie, The (Charme discret de la bourgeoisie, Le) (1972)\",\"Angel at My Table, An (1990)\",\"Incident at Oglala (1992)\",\"Death in Venice (Morte a Venezia) (1971)\",\"Matchstick Men (2003)\",\"Lost in Translation (2003)\",\"Paper Moon (1973)\",\"Ugly American, The (1963)\",\"Day of the Dead (1985)\",\"Rose, The (1979)\",\"Triplets of Belleville, The (Les triplettes de Belleville) (2003)\",\"Judgment at Nuremberg (1961)\",\"Kiss of the Spider Woman (1985)\",\"All the President's Men (1976)\",\"Angie (1994)\",\"Boyz N the Hood (1991)\",\"Bugsy (1991)\",\"Sleeping with the Enemy (1991)\",\"Ghost and Mr. Chicken, The (1966)\",\"Gas, Food, Lodging (1992)\",\"In Cold Blood (1967)\",\"Yankee Doodle Dandy (1942)\",\"Knife in the Water (N\\u00f3z w wodzie) (1962)\",\"Station Agent, The (2003)\",\"Wonderland (2003)\",\"Mystic River (2003)\",\"Intolerable Cruelty (2003)\",\"Pieces of April (2003)\",\"Elephant (2003)\",\"That Was Then... This Is Now (1985)\",\"Shattered Glass (2003)\",\"Revolution Will Not Be Televised, The (a.k.a. Chavez: Inside the Coup) (2003)\",\"Love Actually (2003)\",\"My Architect: A Son's Journey (2003)\",\"21 Grams (2003)\",\"Barbarian Invasions, The (Les invasions barbares) (2003)\",\"Bad Santa (2003)\",\"Dance with a Stranger (1985)\",\"Desk Set (1957)\",\"Freshman, The (1990)\",\"New Jack City (1991)\",\"WarGames (1983)\",\"Cabinet of Dr. Caligari, The (Cabinet des Dr. Caligari., Das) (1920)\",\"Guarding Tess (1994)\",\"Hannah and Her Sisters (1986)\",\"Invasion of the Body Snatchers (1978)\",\"Last Tango in Paris (Ultimo tango a Parigi) (1972)\",\"Lorenzo's Oil (1992)\",\"Lover, The (Amant, L') (1992)\",\"Night of the Hunter, The (1955)\",\"Presumed Innocent (1990)\",\"Proof (1991)\",\"Wedding Banquet, The (Xi yan) (1993)\",\"Silverado (1985)\",\"Things You Can Tell Just by Looking at Her (2000)\",\"To Live and Die in L.A. (1985)\",\"Betty Blue (37\\u00b02 le matin) (1986)\",\"Wild at Heart (1990)\",\"Witches, The (1990)\",\"Witches of Eastwick, The (1987)\",\"Jesus Christ Superstar (1973)\",\"Dark Victory (1939)\",\"Birdman of Alcatraz (1962)\",\"Aguirre: The Wrath of God (Aguirre, der Zorn Gottes) (1972)\",\"Juliet of the Spirits (Giulietta degli spiriti) (1965)\",\"Last Year at Marienbad (L'Ann\\u00e9e derni\\u00e8re \\u00e0 Marienbad) (1961)\",\"Macbeth (a.k.a. Tragedy of Macbeth, The) (1971)\",\"Woman Under the Influence, A (1974)\",\"Shot in the Dark, A (1964)\",\"Court Jester, The (1956)\",\"Jezebel (1938)\",\"Hunchback of Notre Dame, The (1939)\",\"42nd Street (1933)\",\"Sweet Dreams (1985)\",\"Play It Again, Sam (1972)\",\"Passage to India, A (1984)\",\"Black Orpheus (Orfeu Negro) (1959)\",\"Amarcord (1973)\",\"Horse Feathers (1932)\",\"Dragnet (1987)\",\"Foul Play (1978)\",\"Ryan's Daughter (1970)\",\"Diabolique (Les diaboliques) (1955)\",\"King of Hearts (1966)\",\"Spring Forward (1999)\",\"Killing of a Chinese Bookie, The (1976)\",\"Darling (1965)\",\"Summer Place, A (1959)\",\"Night at the Opera, A (1935)\",\"Stolen Kisses (Baisers vol\\u00e9s) (1968)\",\"In America (2002)\",\"Honey (2003)\",\"Big Fish (2003)\",\"Something's Gotta Give (2003)\",\"Stuck on You (2003)\",\"Mona Lisa Smile (2003)\",\"Fog of War: Eleven Lessons from the Life of Robert S. McNamara, The (2003)\",\"House of Sand and Fog (2003)\",\"Monster (2003)\",\"Cold Mountain (2003)\",\"Company, The (2003)\",\"Aileen: Life and Death of a Serial Killer (2003)\",\"Odds Against Tomorrow (1959)\",\"Lord Love a Duck (1966)\",\"Jane Eyre (1970)\",\"To Have and Have Not (1944)\",\"High Sierra (1941)\",\"Dark Passage (1947)\",\"They Drive by Night (1940)\",\"Reefer Madness (a.k.a. Tell Your Children) (1938)\",\"D.O.A. (1950)\",\"Chitty Chitty Bang Bang (1968)\",\"Suriyothai (a.k.a. Legend of Suriyothai, The) (2001)\",\"Win a Date with Tad Hamilton! (2004)\",\"Dreamers, The (2003)\",\"Lost Skeleton of Cadavra, The (2002)\",\"Thirteen (2003)\",\"Vanishing Point (1971)\",\"Starsky & Hutch (2004)\",\"Persona (1966)\",\"Front, The (1976)\",\"Spartan (2004)\",\"Mad Dog and Glory (1993)\",\"Peyton Place (1957)\",\"Searching for Debra Winger (2002)\",\"Dawn of the Dead (2004)\",\"Eternal Sunshine of the Spotless Mind (2004)\",\"Ten Commandments, The (1956)\",\"Dawn of the Dead (1978)\",\"Those Magnificent Men in Their Flying Machines (1965)\",\"Scenes From a Marriage (Scener ur ett \\u00e4ktenskap) (1973)\",\"Late Show, The (1977)\",\"After Hours (1985)\",\"Mean Girls (2004)\",\"Swimming to Cambodia (1987)\",\"Gimme Shelter (1970)\",\"Henry & June (1990)\",\"Three Faces of Eve, The (1957)\",\"28 Up (1985)\",\"Blue Gardenia, The (1953)\",\"Magic Flute, The (Trollfl\\u00f6jten) (1975)\",\"In This Our Life (1942)\",\"Summertime (1955)\",\"White Palace (1990)\",\"Oklahoma! (1955)\",\"Desert Hearts (1985)\",\"Miracle Worker, The (1962)\",\"Monster in a Box (1992)\",\"Raising Cain (1992)\",\"Pride and Prejudice (1995)\",\"China Syndrome, The (1979)\",\"Look Who's Talking Too (1990)\",\"Animal Crackers (1930)\",\"Cat People (1942)\",\"Camelot (1967)\",\"Postman Always Rings Twice, The (1946)\",\"Throne of Blood (Kumonosu j\\u00f4) (1957)\",\"Best of Youth, The (La meglio giovent\\u00f9) (2003)\",\"Internal Affairs (1990)\",\"True Stories (1986)\",\"Another Thin Man (1939)\",\"Shadow of the Thin Man (1941)\",\"After the Thin Man (1936)\",\"Song of the Thin Man (1947)\",\"Woodstock (1970)\",\"Getting It Right (1989)\",\"White Zombie (1932)\",\"I Walked with a Zombie (1943)\",\"Devil's Rain, The (1975)\",\"Valachi Papers,The (1972)\",\"Zelig (1983)\",\"Face to Face (Ansikte mot ansikte) (1976)\",\"Killers, The (1946)\",\"Night of the Iguana, The (1964)\",\"Reflections in a Golden Eye (1967)\",\"Wise Blood (1979)\",\"Bloody Mama (1970)\",\"Trip, The (1967)\",\"Monterey Pop (1968)\",\"Infernal Affairs (Mou gaan dou) (2002)\",\"Broadway Danny Rose (1984)\",\"Wild Angels, The (1966)\",\"Bedlam (1946)\",\"Weather Underground, The (2002)\",\"Getaway, The (1972)\",\"How to Steal a Million (1966)\",\"Mean Streets (1973)\",\"I Am a Fugitive from a Chain Gang (1932)\",\"Harper (1966)\",\"Sammy and Rosie Get Laid (1987)\",\"Sunrise: A Song of Two Humans (1927)\",\"Wasp Woman, The (1959)\",\"Charly (1968)\",\"Rush (1991)\",\"Educating Rita (1983)\",\"Sansho the Bailiff (Sansh\\u00f4 day\\u00fb) (1954)\",\"Anne of the Thousand Days (1969)\",\"Baby Doll (1956)\",\"Beyond the Valley of the Dolls (1970)\",\"Hiroshima Mon Amour (1959)\",\"3 Women (Three Women) (1977)\",\"Grey Gardens (1975)\",\"Purple Rain (1984)\",\"Man Who Came to Dinner, The (1942)\",\"Caine Mutiny, The (1954)\",\"Shrek 2 (2004)\",\"Baadasssss! (How to Get the Man's Foot Outta Your Ass) (2003)\",\"Saved! (2004)\",\"Stepford Wives, The (2004)\",\"Ring of Bright Water (1969)\",\"Fool for Love (1985)\",\"Suddenly (1954)\",\"Possessed (1947)\",\"Kings Row (1942)\",\"Heiress, The (1949)\",\"Executive Suite (1954)\",\"Super Size Me (2004)\",\"Johnny Eager (1942)\",\"Jet\\u00e9e, La (1962)\",\"Please Don't Eat the Daisies (1960)\",\"White Heat (1949)\",\"Christmas Carol, A (Scrooge) (1951)\",\"Pretty Baby (1978)\",\"Freaks (1932)\",\"My Little Chickadee (1940)\",\"Ugly Dachshund, The (1966)\",\"Dodgeball: A True Underdog Story (2004)\",\"Terminal, The (2004)\",\"Dear Frankie (2004)\",\"Notebook, The (2004)\",\"De-Lovely (2004)\",\"Day at the Races, A (1937)\",\"Bob & Carol & Ted & Alice (1969)\",\"Littlest Rebel, The (1935)\",\"Clock, The (1945)\",\"All of Me (1984)\",\"Lassie Come Home (1943)\",\"Butterfield 8 (1960)\",\"Johnny Guitar (1954)\",\"Fahrenheit 9/11 (2004)\",\"Roxanne (1987)\",\"Same River Twice, The (2003)\",\"Spider-Man 2 (2004)\",\"Anchorman: The Legend of Ron Burgundy (2004)\",\"Long Day's Journey Into Night (1962)\",\"How the West Was Won (1962)\",\"Bourne Supremacy, The (2004)\",\"A Home at the End of the World (2004)\",\"My Favorite Wife (1940)\",\"Leopard, The (Gattopardo, Il) (1963)\",\"Goodbye, Columbus (1969)\",\"Day of the Locust, The (1975)\",\"Set-Up, The (1949)\",\"Three Lives of Thomasina, The (1964)\",\"One and Only, Genuine, Original Family Band, The (1968)\",\"Criss Cross (1949)\",\"Spy Who Came in from the Cold, The (1965)\",\"Manchurian Candidate, The (2004)\",\"Garden State (2004)\",\"Collateral (2004)\",\"We Don't Live Here Anymore (2004)\",\"Dead Ringer (1964)\",\"Alice Doesn't Live Here Anymore (1974)\",\"Smile (1975)\",\"Small Circle of Friends, A (1980)\",\"Shaun of the Dead (2004)\",\"Boston Strangler, The (1968)\",\"Terror, The (1963)\",\"Shark Tale (2004)\",\"Team America: World Police (2004)\",\"Tess (1979)\",\"Decline of the American Empire, The (D\\u00e9clin de l'empire am\\u00e9ricain, Le) (1986)\",\"Alfie (2004)\",\"Sideways (2004)\",\"Ray (2004)\",\"Kinsey (2004)\",\"Finding Neverland (2004)\",\"Guerrilla: The Taking of Patty Hearst (2004)\",\"Closer (2004)\",\"Ocean's Twelve (2004)\",\"Bush's Brain (2004)\",\"That's Entertainment (1974)\",\"Ruby Gentry (1952)\",\"Steamboat Bill, Jr. (1928)\",\"Little Caesar (1931)\",\"Monkey Business (1931)\",\"Scarface (1932)\",\"Dinner at Eight (1933)\",\"Fury (1936)\",\"Petrified Forest, The (1936)\",\"Stage Door (1937)\",\"Topper (1937)\",\"Holiday (1938)\",\"Wuthering Heights (1939)\",\"Letter, The (1940)\",\"Never Give a Sucker an Even Break (1941)\",\"Hard Way, The (1943)\",\"Random Harvest (1942)\",\"Curse of the Cat People, The (1944)\",\"Ministry of Fear (1944)\",\"Mr. Skeffington (1944)\",\"Blue Dahlia, The (1946)\",\"Nightmare Alley (1947)\",\"Odd Man Out (1947)\",\"Easter Parade (1948)\",\"Lady from Shanghai, The (1947)\",\"Letter from an Unknown Woman (1948)\",\"They Live by Night (1949)\",\"Unfaithfully Yours (1948)\",\"Letter to Three Wives, A (1949)\",\"Summer Stock (1950)\",\"Clash by Night (1952)\",\"Star Is Born, A (1954)\",\"The Wild One (1953)\",\"Carousel (1956)\",\"Rodan (Sora no daikaij\\u00fb Radon) (1956)\",\"David and Lisa (1962)\",\"Music Man, The (1962)\",\"Occurrence at Owl Creek Bridge, An (La rivi\\u00e8re du hibou) (1962)\",\"Wonderful World of the Brothers Grimm, The (1962)\",\"Hush... Hush, Sweet Charlotte (1964)\",\"Killers, The (1964)\",\"Thousand Clowns, A (1965)\",\"Manos: The Hands of Fate (1966)\",\"Don't Look Back (1967)\",\"Two for the Road (1967)\",\"Up the Down Staircase (1967)\",\"Yours, Mine and Ours (1968)\",\"Alice's Restaurant (1969)\",\"Landlord, The (1970)\",\"Duel (1971)\",\"Mon Oncle Antoine (1971)\",\"Topo, El (1970)\",\"Lady Sings the Blues (1972)\",\"Sisters (1973)\",\"California Split (1974)\",\"Groove Tube, The (1974)\",\"Cousin cousine (1975)\",\"Story of Adele H., The (Histoire d'Ad\\u00e8le H., L') (1975)\",\"Night Moves (1975)\",\"Passenger, The (Professione: reporter) (1975)\",\"The Missouri Breaks (1976)\",\"New York, New York (1977)\",\"In Praise of Older Women (1978)\",\"Luna, La (1979)\",\"Starting Over (1979)\",\"Day After, The (1983)\",\"Norte, El (1984)\",\"Rumble Fish (1983)\",\"Star 80 (1983)\",\"Choose Me (1984)\",\"Comfort and Joy (1984)\",\"Times of Harvey Milk, The (1984)\",\"Anne of Green Gables (1985)\",\"White Nights (1985)\",\"'Round Midnight (1986)\",\"Sherman's March (1985)\",\"Dominick and Eugene (1988)\",\"Lonesome Dove (1989)\",\"Cry-Baby (1990)\",\"Havana (1990)\",\"Ju Dou (1990)\",\"35 Up (1991)\",\"Hearts of Darkness: A Filmmakers Apocalypse (1991)\",\"Homicide (1991)\",\"Light Sleeper (1992)\",\"Johnny Suede (1991)\",\"Mambo Kings, The (1992)\",\"Night and the City (1992)\",\"Visions of Light: The Art of Cinematography (1992)\",\"Positively True Adventures of the Alleged Texas Cheerleader-Murdering Mom, The (1993)\",\"Snapper, The (1993)\",\"Gia (1998)\",\"Paradise Lost 2: Revelations (2000)\",\"61* (2001)\",\"Infernal Affairs 2 (Mou gaan dou II) (2003)\",\"Festival Express (2003)\",\"Interpreter, The (2005)\",\"Born into Brothels (2004)\",\"Scanner Darkly, A (2006)\",\"Million Dollar Baby (2004)\",\"Narrow Margin, The (1952)\",\"Hotel Rwanda (2004)\",\"Life Aquatic with Steve Zissou, The (2004)\",\"Aviator, The (2004)\",\"Woodsman, The (2004)\",\"Upside of Anger, The (2005)\",\"Hester Street (1975)\",\"Bigamist, The (1953)\",\"Marriage of Maria Braun, The (Ehe der Maria Braun, Die) (1979)\",\"Constantine (2005)\",\"Bunny Lake Is Missing (1965)\",\"The Boyfriend School (1990)\",\"Bed & Board (Domicile conjugal) (1970)\",\"Gunner Palace (2004)\",\"Brian's Song (1971)\",\"Julia (1977)\",\"Stella Dallas (1937)\",\"Panic in the Streets (1950)\",\"Call Northside 777 (1948)\",\"Carmen (1983)\",\"Wild Parrots of Telegraph Hill, The (2003)\",\"Fever Pitch (2005)\",\"Little Girl Who Lives Down the Lane, The (1976)\",\"Big Store, The (1941)\",\"Trip to the Moon, A (Voyage dans la lune, Le) (1902)\",\"Life Is Sweet (1990)\",\"Enron: The Smartest Guys in the Room (2005)\",\"Crash (2004)\",\"Mysterious Skin (2004)\",\"Off the Map (2003)\",\"Uninvited, The (1944)\",\"Madagascar (2005)\",\"Mad Hot Ballroom (2005)\",\"Cinderella Man (2005)\",\"Mr. & Mrs. Smith (2005)\",\"Bewitched (2005)\",\"Me and You and Everyone We Know (2005)\",\"Unmarried Woman, An (1978)\",\"Member of the Wedding, The (1952)\",\"Room Service (1938)\",\"At the Circus (1939)\",\"War of the Worlds (2005)\",\"Wedding Crashers (2005)\",\"Aristocrats, The (2005)\",\"Georgy Girl (1966)\",\"This Is My Life (1992)\",\"Broken Flowers (2005)\",\"Grizzly Man (2005)\",\"Best of Everything, The (1959)\",\"40-Year-Old Virgin, The (2005)\",\"Dreamchild (1985)\",\"Constant Gardener, The (2005)\",\"Go West (1940)\",\"Why We Fight (2005)\",\"200 Motels (1971)\",\"History of Violence, A (2005)\",\"Capote (2005)\",\"Prize Winner of Defiance Ohio, The (2005)\",\"Kiss Kiss Bang Bang (2005)\",\"No Direction Home: Bob Dylan (2005)\",\"Angels in America (2003)\",\"In Her Shoes (2005)\",\"Squid and the Whale, The (2005)\",\"Separate Lies (2005)\",\"Brokeback Mountain (2005)\",\"Good Night, and Good Luck. (2005)\",\"Dreamer: Inspired by a True Story (2005)\",\"Proposition, The (2005)\",\"Shopgirl (2005)\",\"Where the Truth Lies (2005)\",\"Tarzan and His Mate (1934)\",\"Love on the Run (Amour en fuite, L') (1979)\",\"Syriana (2005)\",\"Derailed (2005)\",\"Pride & Prejudice (2005)\",\"Dinner with Friends (2001)\",\"Walk the Line (2005)\",\"Rent (2005)\",\"Sounder (1972)\",\"Chronicles of Narnia: The Lion, the Witch and the Wardrobe, The (2005)\",\"Dona Flor and Her Two Husbands (Dona Flor e Seus Dois Maridos) (1976)\",\"Three Burials of Melquiades Estrada, The (2006)\",\"Looking for Comedy in the Muslim World (2005)\",\"Water (2005)\",\"Temptations, The (1998)\",\"Bye Bye Birdie (1963)\",\"Block Party (a.k.a. Dave Chappelle's Block Party) (2005)\",\"Neil Young: Heart of Gold (2006)\",\"Eight Below (2006)\",\"Stromboli (1950)\",\"Thank You for Smoking (2006)\",\"Inside Man (2006)\",\"Tsotsi (2005)\",\"Personal Journey with Martin Scorsese Through American Movies, A (1995)\",\"Lives of Others, The (Das leben der Anderen) (2006)\",\"Devil and Daniel Johnston, The (2005)\",\"Lucky Number Slevin (2006)\",\"Volver (2006)\",\"Akeelah and the Bee (2006)\",\"Basic Instinct 2 (2006)\",\"Brick (2005)\",\"This Film Is Not Yet Rated (2006)\",\"Friends with Money (2006)\",\"Magic (1978)\",\"Prairie Home Companion, A (2006)\",\"Sentinel, The (2006)\",\"Glass Key, The (1942)\",\"Mission: Impossible III (2006)\",\"RV (2006)\",\"United 93 (2006)\",\"Down in the Valley (2005)\",\"Break-Up, The (2006)\",\"Seventh Victim, The (1943)\",\"Devil Wears Prada, The (2006)\",\"Pirates of the Caribbean: Dead Man's Chest (2006)\",\"Let It Be (1970)\",\"Marie Antoinette (2006)\",\"Mother and the Whore, The (Maman et la putain, La) (1973)\",\"Inconvenient Truth, An (2006)\",\"Chuck Berry Hail! Hail! Rock 'n' Roll (1987)\",\"Leonard Cohen: I'm Your Man (2005)\",\"Little Miss Sunshine (2006)\",\"Babel (2006)\",\"Wordplay (2006)\",\"Snakes on a Plane (2006)\",\"Stranger than Fiction (2006)\",\"On Dangerous Ground (1952)\",\"Pursuit of Happyness, The (2006)\",\"Rainmaker, The (1956)\",\"Secret Life of Words, The (2005)\",\"Night Listener, The (2006)\",\"Dirty Mary Crazy Larry (1974)\",\"Half Nelson (2006)\",\"Cabin in the Sky (1943)\",\"Captain January (1936)\",\"Illusionist, The (2006)\",\"The Queen (2006)\",\"Red Balloon, The (Ballon rouge, Le) (1956)\",\"Wind That Shakes the Barley, The (2006)\",\"Hollywoodland (2006)\",\"SherryBaby (2006)\",\"Bridge, The (2006)\",\"Empire Falls (2005)\",\"Borat: Cultural Learnings of America for Make Benefit Glorious Nation of Kazakhstan (2006)\",\"Departed, The (2006)\",\"Running With Scissors (2006)\",\"Little Children (2006)\",\"Last King of Scotland, The (2006)\",\"U.S. vs. John Lennon, The (2006)\",\"Children of Men (2006)\",\"Prestige, The (2006)\",\"Shut Up & Sing (2006)\",\"For Your Consideration (2006)\",\"Holiday, The (2006)\",\"Blood Diamond (2006)\",\"Painted Veil, The (2006)\",\"Good Shepherd, The (2006)\",\"Dreamgirls (2006)\",\"Freedom Writers (2007)\",\"Notes on a Scandal (2006)\",\"Alice in the Cities (Alice in den Stadten) (1974)\",\"49 Up (2005)\",\"Waitress (2007)\",\"Breach (2007)\",\"Zodiac (2007)\",\"300 (2007)\",\"America, America (1963)\",\"Namesake, The (2006)\",\"Lookout, The (2007)\",\"No Way Out (1950)\",\"How the Grinch Stole Christmas! (1966)\",\"Spider-Man 3 (2007)\",\"21 Up (1977)\",\"Sylvia Scarlett (1935)\",\"Away from Her (2006)\",\"Knocked Up (2007)\",\"Hairspray (2007)\",\"28 Weeks Later (2007)\",\"Jonestown: The Life and Death of Peoples Temple (2006)\",\"Once (2006)\",\"Gracie (2007)\",\"Ocean's Thirteen (2007)\",\"O Lucky Man! (1973)\",\"Live Free or Die Hard (2007)\",\"Sterile Cuckoo, The (1969)\",\"Simpsons Movie, The (2007)\",\"Tell No One (Ne le dis \\u00e0 personne) (2006)\",\"Talk to Me (2007)\",\"King of Kong, The (2007)\",\"Atonement (2007)\",\"My Winnipeg (2007)\",\"Far from the Madding Crowd (1967)\",\"Eastern Promises (2007)\",\"Unreasonable Man, An (2006)\",\"Into the Wild (2007)\",\"Lust, Caution (Se, jie) (2007)\",\"Dan in Real Life (2007)\",\"Darjeeling Limited, The (2007)\",\"Michael Clayton (2007)\",\"Gone Baby Gone (2007)\",\"Chilly Scenes of Winter (Head Over Heels) (1979)\",\"American Gangster (2007)\",\"Before the Devil Knows You're Dead (2007)\",\"No Country for Old Men (2007)\",\"Crazy Love (2007)\",\"Desperate Hours, The (1955)\",\"Enchanted (2007)\",\"I'm Not There (2007)\",\"Savages, The (2007)\",\"Juno (2007)\",\"Kite Runner, The (2007)\",\"There Will Be Blood (2007)\",\"Charlie Wilson's War (2007)\",\"Walk Hard: The Dewey Cox Story (2007)\",\"27 Dresses (2008)\",\"Band's Visit, The (Bikur Ha-Tizmoret) (2007)\",\"Cloverfield (2008)\",\"Rachel, Rachel (1968)\",\"Welcome to L.A. (1976)\",\"In Bruges (2008)\",\"Chicago 10 (2007)\",\"Dark Knight, The (2008)\",\"Napol\\u00e9on (1927)\",\"Shine a Light (2008)\",\"Chan Is Missing (1982)\",\"Forgetting Sarah Marshall (2008)\",\"Visitor, The (2007)\",\"Happy-Go-Lucky (2008)\",\"Tarzan Finds a Son! (1939)\",\"Iron Man (2008)\",\"Taken (2008)\",\"Following Sean (2005)\",\"Sex and the City (2008)\",\"WALL\\u00b7E (2008)\",\"Wanted (2008)\",\"Surfwise (2007)\",\"Wee Willie Winkie (1937)\",\"Roman Polanski: Wanted and Desired (2008)\",\"Step Brothers (2008)\",\"Man on Wire (2008)\",\"Frozen River (2008)\",\"Pineapple Express (2008)\",\"Tropic Thunder (2008)\",\"Burn After Reading (2008)\",\"Trouble the Water (2008)\",\"Son of Lassie (1945)\",\"Ghost Town (2008)\",\"Rachel Getting Married (2008)\",\"Synecdoche, New York (2008)\",\"Slumdog Millionaire (2008)\",\"Quantum of Solace (2008)\",\"Cinderella (1997)\",\"Fanny (1961)\",\"Class, The (Entre les murs) (2008)\",\"Milk (2008)\",\"Twilight (2008)\",\"Cadillac Records (2008)\",\"Gypsy (1993)\",\"Doubt (2008)\",\"Gran Torino (2008)\",\"Frost/Nixon (2008)\",\"Reader, The (2008)\",\"Wrestler, The (2008)\",\"Pete Seeger: The Power of Song (2007)\",\"Revolutionary Road (2008)\",\"Dear Zachary: A Letter to a Son About His Father (2008)\",\"Marley & Me (2008)\",\"Wendy and Lucy (2008)\",\"Last Chance Harvey (2008)\",\"Bride Wars (2009)\",\"Two Lovers (2008)\",\"Funny People (2009)\",\"Away We Go (2009)\",\"Unsuspected, The (1947)\",\"Dr. Horrible's Sing-Along Blog (2008)\",\"I Love You, Man (2009)\",\"Duplicity (2009)\",\"Knowing (2009)\",\"Girl with the Dragon Tattoo, The (M\\u00e4n som hatar kvinnor) (2009)\",\"Sita Sings the Blues (2008)\",\"Adventureland (2009)\",\"Confessions of a Shopaholic (2009)\",\"Superstar: The Karen Carpenter Story (1988)\",\"Inglourious Basterds (2009)\",\"Stanley Kubrick: A Life in Pictures (2001)\",\"Seduction of Joe Tynan, The (1979)\",\"Every Little Step (2008)\",\"Brothers Bloom, The (2008)\",\"Chop Shop (2007)\",\"Hangover, The (2009)\",\"Tyson (2008)\",\"Hurt Locker, The (2008)\",\"File on Thelma Jordan, The (1950)\",\"Prison Break: The Final Break (2009)\",\"My Sister's Keeper (2009)\",\"(500) Days of Summer (2009)\",\"Men of War (1994)\",\"Group, The (1966)\",\"Wild River (1960)\",\"High Hopes (1988)\",\"District 9 (2009)\",\"Julie & Julia (2009)\",\"Introducing Dorothy Dandridge (1999)\",\"Little Richard (2000)\",\"White Ribbon, The (Das wei\\u00dfe Band) (2009)\",\"Men Who Stare at Goats, The (2009)\",\"Informant!, The (2009)\",\"3 Worlds of Gulliver, The (1960)\",\"Serious Man, A (2009)\",\"Zombieland (2009)\",\"Education, An (2009)\",\"Reckless (1984)\",\"Up in the Air (2009)\",\"Michael Jackson's This Is It (2009)\",\"Good Hair (2009)\",\"Fantastic Mr. Fox (2009)\",\"Grey Gardens (2009)\",\"Precious (2009)\",\"Blind Side, The  (2009)\",\"Single Man, A (2009)\",\"Avatar (2009)\",\"Crazy Heart (2009)\",\"Girl Who Kicked the Hornet's Nest, The (Luftslottet som spr\\u00e4ngdes) (2009)\",\"Mr. Warmth: The Don Rickles Project (2007)\",\"Rudolph, the Red-Nosed Reindeer (1964)\",\"Peter Pan (1960)\",\"Anne of Green Gables: The Sequel (a.k.a. Anne of Avonlea) (1987)\",\"Shutter Island (2010)\",\"Girl Who Played with Fire, The (Flickan som lekte med elden) (2009)\",\"Ghost Writer, The (2010)\",\"Tom Thumb (1958)\",\"Green Zone (2010)\",\"Greenberg (2010)\",\"Leaves of Grass (2009)\",\"Apprenticeship of Duddy Kravitz, The (1974)\",\"Date Night (2010)\",\"Runaways, The (2010)\",\"Cyrus (2010)\",\"Iron Man 2 (2010)\",\"Bobby Deerfield (1977)\",\"Blue Valentine (2010)\",\"Artists and Models (1955)\",\"Please Give (2010)\",\"Toy Story 3 (2010)\",\"Joan Rivers: A Piece of Work (2010)\",\"Winter's Bone (2010)\",\"Everyone Else (Alle Anderen) (2009)\",\"24: Redemption (2008)\",\"Island of Dr. Moreau, The (1977)\",\"Inception (2010)\",\"Grown Ups (2010)\",\"Kids Are All Right, The (2010)\",\"Other Guys, The (2010)\",\"Scott Pilgrim vs. the World (2010)\",\"Animal Kingdom (2010)\",\"Song to Remember, A (1945)\",\"Social Network, The (2010)\",\"Town, The (2010)\",\"Catfish (2010)\",\"Never Let Me Go (2010)\",\"Hereafter (2010)\",\"127 Hours (2010)\",\"Black Swan (2010)\",\"Fair Game (2010)\",\"Morning Glory (2010)\",\"King's Speech, The (2010)\",\"Agony and the Ecstasy of Phil Spector, The (2009)\",\"Fighter, The (2010)\",\"All Good Things (2010)\",\"True Grit (2010)\",\"Another Year (2010)\",\"Who Is Harry Nilsson (And Why Is Everybody Talkin' About Him?) (2010)\",\"Phone Call from a Stranger (1952)\",\"Lincoln Lawyer, The (2011)\",\"Emma (2009)\",\"Cropsey (2009)\",\"Source Code (2011)\",\"Win Win (2011)\",\"Melancholia (2011)\",\"Mildred Pierce (2011)\",\"Bridesmaids (2011)\",\"Mothra (Mosura) (1961)\",\"Hangover Part II, The (2011)\",\"Destroy All Monsters (Kaij\\u00fb s\\u00f4shingeki) (1968)\",\"He Ran All the Way (1951)\",\"Everything Must Go (2010)\",\"Beginners (2010)\",\"Super 8 (2011)\",\"Curly Top (1935)\",\"Dolly Sisters, The (1945)\",\"To Sleep with Anger (1990)\",\"Drive (2011)\",\"Crazy, Stupid, Love. (2011)\",\"Guard, The (2011)\",\"Friends with Benefits (2011)\",\"Letter to Elia, A (2010)\",\"Help, The (2011)\",\"Magic Trip (2011)\",\"Project Nim (2011)\",\"Future, The (2011)\",\"April Love (1957)\",\"Contagion (2011)\",\"Moneyball (2011)\",\"Northanger Abbey (2007)\",\"Avengers, The (2012)\",\"Ides of March, The (2011)\",\"50/50 (2011)\",\"Superman and the Mole-Men (1951)\",\"The Artist (2011)\",\"Take Shelter (2011)\",\"Buck (2011)\",\"Martha Marcy May Marlene (2011)\",\"We Need to Talk About Kevin (2011)\",\"Margaret (2011)\",\"Margin Call (2011)\",\"Paranormal Activity 3 (2011)\",\"Shame (2011)\",\"Tower Heist (2011)\",\"Hugo (2011)\",\"Descendants, The (2011)\",\"My Week with Marilyn (2011)\",\"Little Colonel, The (1935)\",\"The Hunger Games (2012)\",\"Stagecoach (1966)\",\"Toronto Stories (2008)\",\"Girl with the Dragon Tattoo, The (2011)\",\"Iron Lady, The (2011)\",\"Hearts of the West (1975)\",\"Forks Over Knives (2011)\",\"21 Jump Street (2012)\",\"Jeff, Who Lives at Home (2012)\",\"Corman's World: Exploits of a Hollywood Rebel (2011)\",\"Five-Year Engagement, The (2012)\",\"Take This Waltz (2011)\",\"Moonrise Kingdom (2012)\",\"Your Sister's Sister (2011)\",\"Rock of Ages (2012)\",\"Ted (2012)\",\"Magic Mike (2012)\",\"Beasts of the Southern Wild (2012)\",\"Savages (2012)\",\"Ruby Sparks (2012)\",\"Bleak House (2005)\",\"Skyfall (2012)\",\"Campaign, The (2012)\",\"Celeste and Jesse Forever (Celeste & Jesse Forever) (2012)\",\"Sleepwalk with Me (2012)\",\"Searching for Sugar Man (2012)\",\"Paradise Lost 3: Purgatory (2011)\",\"Bachelorette (2012)\",\"Pitch Perfect (2012)\",\"Master, The (2012)\",\"Kismet (1955)\",\"End of Watch (2012)\",\"Sparkle (2012)\",\"Making of a Legend: Gone with the Wind, The (1988)\",\"Shakespeare-Wallah (1965)\",\"Argo (2012)\",\"Seven Psychopaths (2012)\",\"West of Memphis (2012)\",\"How to Survive a Plague (2012)\",\"56 Up (2012)\",\"Cloud Atlas (2012)\",\"Pumping Iron II: The Women (1985)\",\"Imposter, The (2012)\",\"Silver Linings Playbook (2012)\",\"Flight (2012)\",\"Anna Karenina (2012)\",\"Life of Pi (2012)\",\"Union Square (2011)\",\"Lincoln (2012)\",\"Rebecca of Sunnybrook Farm (1938)\",\"Baby Take a Bow (1934)\",\"Sleeping Car Murder, The (Compartiment tueurs) (1965)\",\"Just Around the Corner (1938)\",\"Jazz (2001)\",\"Little Miss Broadway (1938)\",\"Zero Dark Thirty (2012)\",\"Our Little Girl (1935)\",\"Poor Little Rich Girl (1936)\",\"Django Unchained (2012)\",\"Impossible, The (Imposible, Lo) (2012)\",\"Mis\\u00e9rables, Les (2012)\",\"Quartet (2012)\",\"Stand Up and Cheer! (1934)\",\"Stowaway (1936)\",\"Susannah of the Mounties (1939)\",\"Company You Keep, The (2012)\",\"Paul Williams Still Alive (2011)\",\"Side Effects (2013)\",\"Room 237 (2012)\",\"Stoker (2013)\",\"Sound City (2013)\",\"Place Beyond the Pines, The (2012)\",\"Phil Spector (2013)\",\"Death on the Staircase (Soup\\u00e7ons) (2004)\",\"42 (2013)\",\"Happy (2011)\",\"This Is the End (2013)\",\"Mud (2012)\",\"Woman in the Fifth, The (Femme du V\\u00e8me, La) (2011)\",\"Stories We Tell (2012)\",\"Frances Ha (2012)\",\"Behind the Candelabra (2013)\",\"Now You See Me (2013)\",\"Way, Way Back, The (2013)\",\"20 Feet from Stardom (Twenty Feet from Stardom) (2013)\",\"Heat, The (2013)\",\"Woody Allen: A Documentary (2012)\",\"The Spectacular Now (2013)\",\"Fruitvale Station (2013)\",\"Joker (2012)\",\"Forsyte Saga, The (1967)\",\"Touchy Feely (2013)\",\"In a World... (2013)\",\"About Time (2013)\",\"Family Band: The Cowsills Story (2011) \",\"Chicago 8, The (2011)\",\"Evocateur: The Morton Downey Jr. Movie (2012)\",\"Gravity (2013)\",\"Prisoners (2013)\",\"Rush (2013)\",\"Nebraska (2013)\",\"Enough Said (2013)\",\"Don Jon (2013)\",\"Blue Is the Warmest Color (La vie d'Ad\\u00e8le) (2013)\",\"Captain Phillips (2013)\",\"Carrie (2013)\",\"Maniac (1963)\",\"Dallas Buyers Club (2013)\",\"Muscle Shoals (2013)\",\"Stephen Tobolowsky's Birthday Party (2005)\",\"Philomena (2013)\",\"Ida (2013)\",\"Frozen (2013)\",\"Inside Llewyn Davis (2013)\",\"Wolf of Wall Street, The (2013)\",\"American Hustle (2013)\",\"Her (2013)\",\"Six by Sondheim (2013)\",\"Saving Mr. Banks (2013)\",\"Anchorman 2: The Legend Continues (2013)\",\"Whoopi Goldberg Presents Moms Mabley (2013)\",\"Only Lovers Left Alive (2013)\",\"Other Shore, The (2013)\",\"Divergent (2014)\",\"Venus in Fur (La V\\u00e9nus \\u00e0 la fourrure) (2013)\",\"No Nukes (1980)\",\"Grand Budapest Hotel, The (2014)\",\"Interstellar (2014)\",\"Obvious Child (2014)\",\"Under the Skin (2013)\",\"Mistaken for Strangers (2013)\",\"Draft Day (2014)\",\"Mondo Hollywood (1967)\",\"Firstborn (1984)\",\"Locke (2013)\",\"Neighbors (2014)\",\"Blue Ruin (2013)\",\"Chef (2014)\",\"Normal Heart, The (2014)\",\"Begin Again (2013)\",\"Edge of Tomorrow (2014)\",\"Million Dollar Arm (2014)\",\"The Fault in Our Stars (2014)\",\"Birdman: Or (The Unexpected Virtue of Ignorance) (2014)\",\"Boyhood (2014)\",\"Internet's Own Boy: The Story of Aaron Swartz, The (2014)\",\"Finding Vivian Maier (2013)\",\"They Came Together (2014)\",\"Whiplash (2014)\",\"Gone Girl (2014)\",\"Willie & Phil (1980)\",\"Life Itself (2014)\",\"Battered Bastards of Baseball, The (2014)\",\"Charlie's Country (2013)\",\"Words and Pictures (2013)\",\"Guardians of the Galaxy (2014)\",\"Once My Mother (2014)\",\"A Most Wanted Man (2014)\",\"Get on Up (2014)\",\"Dog, The (2013)\",\"Two Days, One Night (Deux jours, une nuit) (2014)\",\"One I Love, The (2014)\",\"Nixon by Nixon: In His Own Words (2014)\",\"The Skeleton Twins (2014)\",\"Bambi Meets Godzilla (1969)\",\"Dim Sum: A Little Bit of Heart (1985)\",\"Force Majeure (Turist) (2014)\",\"Helter Skelter (1976)\",\"This Is Where I Leave You (2014)\",\"American Sniper (2014)\",\"St. Vincent (2014)\",\"Nightcrawler (2014)\",\"Ex Machina (2015)\",\"The Young Savages (1961)\",\"Olive Kitteridge (2014)\",\"Foxcatcher (2014)\",\"The Imitation Game (2014)\",\"Inherent Vice (2014)\",\"The Theory of Everything (2014)\",\"Beyond the Lights (2014)\",\"A Most Violent Year (2014)\",\"Wild (2014)\",\"Top Five (2014)\",\"Big Eyes (2014)\",\"Into the Woods (2014)\",\"The War at Home (1979)\",\"It Follows (2014)\",\"The End of the Tour (2015)\",\"True Story (2015)\",\"Going Clear: Scientology and the Prison of Belief (2015)\",\"Tig (2015)\",\"What Happened, Miss Simone? (2015)\",\"99 Homes (2014)\",\"Me and Earl and the Dying Girl (2015)\",\"The Hateful Eight (2015)\",\"45 Years (2015)\",\"Every Thing Will Be Fine (2015)\",\"The Wrecking Crew (2008)\",\"While We're Young (2014)\",\"The Jinx: The Life and Deaths of Robert Durst (2015)\",\"No No: A Dockumentary (2014)\",\"Danny Collins (2015)\",\"Comedy Central Roast of James Franco (2013)\",\"Pitch Perfect 2 (2015)\",\"Carol (2015)\",\"Open Secret (2013)\",\"The Martian (2015)\",\"Spy (2015)\",\"Trainwreck (2015)\",\"Inside Out (2015)\",\"Love & Mercy (2014)\",\"A Deadly Adoption (2015)\",\"Black Mass (2015)\",\"Amy (2015)\",\"The Jungle Book (2016)\",\"Nasty Baby (2015)\",\"The Revenant (2015)\",\"Sicario (2015)\",\"Room (2015)\",\"The Gift (2015)\",\"Tangerine (2015)\",\"Joy (2015)\",\"The Danish Girl (2015)\",\"Female on the Beach (1955)\",\"Listen to Me Marlon (2015)\",\"Spotlight (2015)\",\"Glen Campbell: I'll Be Me (2014)\",\"Bridge of Spies (2015)\",\"The Invitation (2015)\",\"Creed (2015)\",\"Twinsters (2015)\",\"Manson Family Vacation (2015)\",\"A Very Murray Christmas (2015)\",\"Big Short, The (2015)\",\"Sisters (2015)\",\"Making a Murderer (2015)\",\"The Lovers and the Despot\",\"10 Cloverfield Lane (2016)\",\"Sing Street (2016)\",\"Finding Dory (2016)\",\"Tallulah (2016)\",\"Piper (2016)\",\"My Friend Rockefeller (2015)\",\"The Beatles: Eight Days a Week - The Touring Years (2016)\"],\"x\":{\"__ndarray__\":\"laKHQZjoAUBZKWZBpkBbQc/vB0F2y52/3LT/wRo3QEH89KLAjQEVQI0x90BXkApBc8YoQMnLvMDnuy5APQy+QHXGbUFLbltB6zAmwMTx4MF434fBWJVBwX9L7cEpFwdCQGKowfW1K0Av+NFBualRQWiJkkFQDo9BTmV6QWZC0kDDapVB3Qd2wYaIzEHnhhBCyhbAQVCBq8FK79tBu1W9QfL6qUGtnkJBZvOoQBuXRcAcmJ3BSzQIQnI8lsFXjY7AKGaKQZ/9ksBrO77BjZuqQdOhXsGn1sBAw60dP3Rvkz8W8QlCj/9rwbXujMG1rxFBVK/awT6MdT/HimZBrSTzvx2k6sAz3t7ANV0uQPoKK0FEnhRBsc3yQOdgC0IuOVFBjqO9QSnP80CsJ8ZABugGQZ+4A0BgjTPAVHakwehOnUHOqeRAE4cBQdVGWUHyQ4a/QWpxwUhEnEEtVldBvP7NwQRAxcH+lgLB1Bx+QV9sCkFYOwdCbSANwCuoBcHI/K3B2hMwQeZoBEGsr2tAyWStwXC1jsFYkrjBtJ6CQSKmlUB+4NzB7UH8Qeh2MEEdQeJBOY6xwLqitMDcrhbBGrKYQcSYIkHNPJPBLeOCQcKpHcE/tTjB0zOgP8dLi0CPL55BQkafQag4lMD/0/dArBVIQdfkz0Bw+C5BGW1zwdYVCsGR0oO8AS1xwZJVZEEncWzBYTJvQekWJsGRE1NBHtPmQbiZq0HXv8dBt26jQANBGkF9usXBw2DxQfOo1sFH8ItB+Ogtwb3+c0HonovBdmy0P8G+IMHVRh1B3BumQWWByUHUUE+/PF+PQXp210Cw3bbBlXAlwdKYtcGonEPB1u6KQTRwk8G3UdbBU39hweW9uMFFChdAROafwWWBf8Dh/JHBmm6tQbnIpsHpM6jBONXXQMYqHsE1yLbBJUzhwEXOtj/2WhPAhZyYwfrsesFD8ELBtiTMwQjQtsHPhOLB48iCQY/jqcGlV5FAe8XZQYXNFkBaDjfB3+oGQUV8gcHjun6/ln83QRCOScE+CvLB5xlTwHbZo761lqPB3lZxwesD7sFPdW7BbzqFwYzna8FwiKjBwkxmQb3Oo8Eyb59BlUJowcNrnL89atrAO3v0QdylOkHUH79BunKgQeJM0j6EfejBKFSVwWwKyUAMNUbB16rEwLm9N0HirNvBUmSVQe2UoEFayNBAJHKZwW0i28Db+hLBGRjHwQNkUcDdBq3Bto7cwB0UPcFF0NHA3opswEJeL8ENaRjBTCeRQYSYiMBlSoXBl+9IwISNi8CP3FZAKM4FwQjXyMCXFBjA3Te7QJ7Hg8HBxdrBe6fXwUCng0FPa6pArocLQCjZWkElDYrBIWBOQC/aekGgN7XBx4TwQYbQ40FC0BpAEYKswS3YPcCIdVA/sI3QwEVZgMBNC8LAjVRMQbcOpEDIbQa/WmqCQZS0gEGFNrLBxE5mQbUNQUH8uo/BvkZMwZzhE0Eq+x9BtIOvQV5ZEUFgDJXBqIJAwW4c/MHWF4HB4V8mwYQLUMHIfh9BWD3MwdxwBcEQCZXBoUXEwQdsjsG1VaJB6Ay3wQEdhsHBGTBA2b+TwAWps0ENaydBba4iwWtik8E/9QPBEBWUwYQfqcEhjhbBRVmZQIoSsr1jBcbBWmVLP9uPgcE8nsjB0sTNwEJrlcEevwnBiBS0wb2h9sA344PByVGFwWvXQMFqMjFB7Nu6Qf6W3sHm0LXBybjEwNSLakCUiCLBSGKCQWNeisG37tw/QAEiwVfpocESs6DBGBA0QTRRccEcmALBXby1wSX1fUFzfQxBkT0ywezIH8Eeb0i/d+7FwaWbiMH9HfDBEibEwbFau8H9Mn5BFRqEQFElvcH2bb3BJG5ywY2Uf8EhQJDBCm6YQQgyyUHr76vBdTyYQalPl0H8o8nBtn9UwWtBCsHA9qvAS74JQryUtMCOsYLB6K3CQIUmI8CQHMHBVeMDwJKzrkEsI51AeNJUQXrc8kE1TUHA64xyQUVtwUFvofxASe1kQfNSLsHiS99AAevyQExBSEHrOptA/jgvwd8Is8DadMhApCx1wXolMUCnH13BOer1wMFIHcHKmBxBSyUrQDzhkcED6JnAaC4vQaWqgMFE4sxBB5xIQfwZi0Ea7dFBwxLYwI5Cu0F7OTLBJRqtQMhjAELnTq9B9sPUQFox+z/eZcO/M5YPwbU2YECgqYBBAh6hwQs1u0FAvznBgdyEQfjXqcGReHLBCrnuv/QTkj8TQj3AR0aAv35GdcEk41BAWYSnwDgMbEFqPZRBti86QV7kx0GbowrBNb9vQYNHccF652rBop0QwW8/LMFzI5rBrVoFQQV10UB6AGxBm25uQflP98EKoz284JqNvP4OnUEMG8/ATY7EQNhtYMGsRY9BotFMQLueukFaVH3B0VjTQbmgnEHE9t4/oiFlwInwRsGaNajB4eQTQcxmqcGqf8rBQhmQQc+JwEAgKQNB87WzwZ1sIMG43RTB/3eNwXWqrsG7EclBptCnwR2v00B7rI5BaCYIwUAbwsEd4RpBEv6fwRLyp8AyjwfBFHCowRCavMDprClAnNQ9QZH7C0EV7aBBb9OfwbEN+MBKuO5B5Bu0QVWZhUGLMbXAf0nHQFu6MkEXEhPBBgiPwSj1EsGM5WFBn3XIQUKVnME4abpAKLbPQCc7ZUFmVQhB70mYwQNM2MCezLzBnJK/wbFMI8FzxqtBfyi2wT7mgEAhBby/QutNQVupYsE8+CdBKSU/P9LQAMEr1Z1B6QieQX4nrUAdcxVBOF2dwCoHW8EMEplAUSXAQUO2oEGkVL9BjEsUv3hvwUECoY/BPpkkQZ9Wr0GoHgLCFLWnQMPr6MBJtq2/hv25P37qxsEhiGrB+guTQYBeskEkrKvBqVNvwUzpUsGM+pPB0woGQUooKcFcEW7ACfU5wSK/WkGuo/BBEZLyQacH0EE/Ip++7NZZwSJK8sFHnunBDYWrwX9OMcFmgabBJhdjQMf/RsG5oUVBRUTCwUZ1WcGyuzZB4UtXQdkLS8HI7LhACyAgwTBMK0Fw68RBPc2ewYDtq8HQNkRB6K7mQSq2sMF5vFM/OyuuwSkTjcEFCRlBgKZcwUpcW8FWnpZADO4SwffhOEEHsoRAEpJqwTR78EE3OuJBshSVQXvsjMH9/p9BZUmfQGpBgkBTCS9A46iAwYJAqUGI/XBB0RcKwc+5acHaywhBp1TIQSYLGkGbN9xBhS9lQQQS40Hj/8O/Duc9wYR1oEFwKwlCTQhuQU0G0UH03ZRBZEh4wGW+wMHH94ZBkVlRwXO0ZEG0DFdAvwbrwSEhB0L9IxpBdTttQJJbakHNEOzBxrM4QC48P0BqNPnBt+iPQYES+8FfSYnBMxycwTWt2cE3kWhB2KKdwUeKb0ED9P1A90MFQUvD5UFrLvPAcJqpv45mgcFxepDAX3oFQfowh0GSqnlBds3aQfDERUB9GjFBugpywXwfr0D77I9BIILyQbhKEcDBVs/BfeDkwcHBMEHUhZTAOCCswSFwzkFmRqu/ZrPZwSTNaEFmHMZB0Yp4QChPo8HAchBBWfLxQDbqH0F70cpAl1hxQUNPCEGjxgTAEwYwQZkHWUDKCitAYBzhwOV+FEGGyGhBbrwKwNObE0K62CZAP9z9QRsOpEFpTcHBzDhvwc3gR78a/wZBOgNuQQazwUH/lwTBaDqLQQU66UFSOfhBo+WJQJLSaMC6fGVAhGJDQUrUlUFt3avB7gGcQMkpx8CqU97B6N2TwSSShUHOdu7Ab/EtQRlkLcEmHYdAFJOBwccmx0AVG4BAtx+mQWkVtMFR+BZBjO7FQNS78sAh2jvArCsHQphP2kHbYpvB5jWjwTf8O8AgibxAviLxv59wyMCfrXzBNK0WP3VlksGJGMDBAa5AwaXpYj/ELylAuUFPwI06qsEx983BR12VQf1UgUF3VaJBZCTLQUaUYEHQjADB6uaFQJCBwUFEB7u/VR+GQY3Dp0AKOe3BbKyewWAbJUCT17xBo8iVQbUJ60EFQBpAPCFCv2Ix2L82zyJB0r4eQWRWhsFvuJ8/VqXjvxEFrcA4+UzBaT+lwfSmxUEF9hdBpKpIQa15eMDwXvfA0WYGwcG1Vr/NkbRBFYOcwVYc/EEJlpU/8us6Pzmw8cDU01rBqwQtwHzZj8GdVzdBkMdBwXgHRcGZX9XAbjBlQfUvy0E31epBq0c0wb59vz9xaBNBe8+XwUYtwsBzo7TBhTpawX4ml0HLLlbAZCGCQfUFbUH80aFB74DdQIiJNcHEjTtBYquMwQ7ByMANz+5BPWjxv3sZ70GFCVQ/shmZPypzo0Fe2XBB1amEwYCO3kDCSUzA4nPMwXJN28AhHtbAyKoEwt+f974PL67BGHlqQd1sBUKEcHNBsiEIwZxIyUH4p6XB4R+2Qfw9HMEeITjALMp4QeedKkBGqIm/Fs8KQilBKcAhv51A+c5nQLI9X8GTaedBpMJwPtbKe0BPzbTBZV26QdR1okENlYrAoAJ+QL3NCkHF1YrBVkKVQWnLJkGbWAFC63gsQajXakG7sKnB4rjNP6buwsFFVm7Bvql+wSlakcF/9NbBZITAwAW+lkH6O3nBqF6VQdHY50Bmy7NAytULwV/q38Di0IvB6kMbQZju4kFiJYtBKPNnQY+a/z6nPp5Bf3SbQOHjAEGDW9NBopEKQcaShEE+EYXB5PPrwUpoW8F+mg1CpXcLwYk5qr9IDLe/T/Qsv6JcBUIu0bhBO0CawaI1u0FbrgHCTXGoP+0P10FgWF5Bj+L0Qa+hi8H40qfBhwHOQclAhcEPY+rBAF/GQYPlCsEC5zBBfIqYQd8rosFcAR9BwUScwfOfhsEGbr+/t8w0wMqtvcFxiuLB9wDmQJPA60HzDIDB8p6oQbjjxEHmTw3BFCU/P2h4xMFCDl5B3MFWQTLE2UHInhJCUY0+QRc2p0DC8qjAlnWTQUiphMF9ionB7t0NwTLzrcFqtl9B+72qwOMz4kF/ug1AXx3OwNpeC0HgnpTACpS5QYGG70G6my9AL54KQeT7lcESsKs9E9f8wCQ/7cDNqYhBRlcKQrX1aUHGF67Bv2auPnX8oEGhbpNB+Jp0wTPrn8Gy94pBlig3wQXpOUFqV4fAiLPKQWT2asFGZehAsrPovxM7OUH1tZTBjGATQsCWrUG39o7BVQoFwDbePUFPuazA/xK2P25iusG+H7xBfw+2wHp4AUFHAL9A+zIVwcCOlkFNZ3/BhVvzQSdHncEDlwNCJ2JMQQFYqUDCvSfBkIZzwSpI0cH8AFzBqioSQYVevMDYQiLBpsaIQURHNcDsJo/Bzi6/QO2Yz8GH85HAseY7wTKFj8CbWBbB9zOGwaIq+0FOpStBg3rYv0uShEHtvxnAd88cwfC+lsCuKI1BITvkQV0jt8CfWA9ClA4VQFOGqkE/iETBfHlKQXNEmkFXjtNBA4X1vSrnYUHX8LfBmR3jQbpDUMFD+ohBtsq+Qfis78CMZgZCUib4Qdzt5kAFkhJAoL8JQmb3bUGNCwhBLxSxQO6W3cFmetnBTlyCwdsku0E0pfS9DZUpwaqyx0EsRSNAdKOaQB9TuME8HgFCZZPVwbEEtEH7qOrBF2JfwA4h1cE0xbxAfV/6wW0vdcFMyRBC37WTvwN4iEEZzFg/mqQvQeSn+kG4JwHBfgf7QbjxqD8YLNxBW/K7QdsHQEEVbgRCB2AtwS09dMFABhtA9QzFwaaiEkJymt1BYUt9v3C0H0FuxglB0I6HQRsFo0G3G+xBUXTVQWcrA0F3KvdB4XOXQVB2i0Eq+YnBmocRQu1ThUCHb+M/Zmb3QchUAULeAJ5AT/0EQgOcmEFR6TbBEEeBQcQP/UDxlrdBFlThQXtJ8EF8Kx9B0I6UQYeu/UEQLGrBySVqQWUOt78nBZxACdbhwQvkkUHcf7LBVeYKwboxMUG0HxZBuiyowTV8bkFXhZTBtxrAwa+D7r8kHuBBtgL0wVqnzEG4j9NBmR/7QUb3JsEejX5B9epPwRAUu0CV/3c/VJBrweim20EukV1BWdowwUMkvsFX2spBG+/FwZD38UFcj8HBTGX/wNJf+EFkEl5By3CeP431qcFuJ6HBC6qDQTb2ccGJgtFAhyMgQXsPl0Flg7lBIadqQONPP8AEBx5AdhOgwZBc6kBENYjAc6Q7QD356EEkN3PB19VJvfefxsEiDPZBVBtSQTQDK0EwANZB58RMwfZ7mkBAr/rABCbWwc/xtr7vhzjBJFYKwfzxbcHGlg3BmsDNwUpNa8An0DPAvWMGwdEgOsC69aLBnf0JviVi0ECw8KpB91G5wVUm70FlQ5JBV/+AwYhNPsApxptBn1r5wBFI1UGwuCdAxtvWQU9udMEDU7zBFSsPQalDBUINZthBlwRNQa4UXMAumYBBOMEtwfywmcFl3WlA9m/yQNXDtrszKFFBEoFSwJkd9j/dFKxAR5/dQaCo48F2yptAKasXPxl03z8Z7r9BY2YGQjIJAUAa+ZNBq4vyQcGUUsHqlo/AjqhTQVyTlUFN0LjB0KCbwUXkKkG40mPAABWpwE3Y2sF2FjVBsQVJwda2esE+wOxBRbiNQf8r9UHeDNPBi5WwwYhyDEKBiqlBdV/hwEe+/ECbBFzBQDEEQaBhlkHl1KjB7J2Zwf1YG8E7K9LB3hvgwW/XksFi0NFAxFrfQeFhF0JLsnrBH5oIwWX7yMCCgUbB5gCKwaTXE0DvRpxBtq2QQMsPpMEubLDAJ0DgwRZq5kAh1UPB2lvhwVzIr0G6HnTBtYcewWiY9kHoSgPCN9hlQRc5I8EBfdzBulCQwR9hCEIMGsZAu2z4QWcHsMF1iZ7B4imUwX40kUBRDjfBwYO2wPWFDMHydRi+VyIFQjI/r8Ayh/xB4lejwHC0TsE+4N3Bh8vlwXu82EDnZrZATzjOQfNKMEFlVk7A4tIzwdwjsMEXIp6/koSzwdPHqkEUUt4/XvxYQZXdsT/hymLBcKQ+wVtA478+UDTBvhXXQbcBlkHwXzrAvLNIwKCYO0FF0zHB9XNlwXXCBEEPTgpBCX3XwStkZUEsYc9AO1kdP603esHPRq5BbsSgQHmiTkDcICdBPwfoQRcRkMFEQm3BGBWsQckSLsGn5jTBvHjNwb+xlMGJq97BMfbyQEBp8sGi6z5AmzJxwRI3DkGTHLNBj8/yQLNjKsDADAnBYZL4vzIjAkDe+EhB3hOKwU/TLcFHhoPBC3XDwRSdosFCNqxBhUSHPgmHAkJfpPJBoxf9QeFYi8HTbqPBEBqlwQfOXMEde/LArlCDwAx0wcBpAOc/zTA4QW4UKsGdHc5A9VK8PQR1REGt93lBuaS0wb0dSEE0EC/B22jJQMEYlED4OatB/S/zQTqsaUEKAZdBsMLKwSJ5jsFIn0RBk4hfQOq7l8FzA9hBf6yPwc8U0cHAnVW/gZOvwbx318F66hVCdD/DQaqOlkEvKu9BnWe5QZIg/8A9rPZBw/2QwJ5CzD8dyOzAIQPLQUFXJ8FuD2tBQW5twc3KzkEQuNbBOsaqwcqCGsHWKajB0YEqwbMoD8FP9lvBkP7CwfTWD0FGKuHB/F7ywSWQ+kHhHPVBdYO9wes66cGnPITBQq5dQacNuMHkB8/BUWuQv21J8sFzTC/AGe28wXqx1kEhhhjBWGlxQQg54EC+awRCrPhuP5hl0D+ipd/AX47owYC/H8EeUmpByZLUwXNl2sE9oflAjYGGwUWRGUHBO7nBQCTZwfrfFMHZfXLBs2LUQWegRcHZsExBJkogwfJYrkHyOCk/j8AgQWk290Cr95tAsZOYQVytXkF9ccdALM5UQbl1HsF8+ZNADZEEwcLOV8Eg09m/4c5IQQb/x8HiUAFBP7Wswe+9mUFtU57BMX2XwYswxcGLqS4/z9SnwfbN3UBr2/1B3qSrQazukEGEFbTBgcW7wYQe9z9ekQXBDdLIwcwP9kBpT9TBpaWKwLcqA0IZE07AhardQct8EsGsdGXBlMPrP7XJRMBHwZ2+4zz2QbhOtTxgSUpB5mlAwIhp1UBMoqfBPEQkQT8aqEHDyYTBg3UOweBWYUFotIJB1nuWwcEq68Hphr3Avw33QQ+4gsEG9ZjAyMOUwRHe1MECtG/BkmIEQjHqv0C+JPJBYD4Dvtpz6UFHNHJAzeDJwcC92sFCZdxB4ZWlwevyEcG96j9BlX6IQc+My0G7aOW/KxQSwa3IgkHHYErBKxYvQIQRz0GvlN1A8j6cwdqKuUAHa6JB+PSzQWyDrUER4YzBcStOQTz86kD5CpbBY9MKQk1cOcFVuNzBpQ3rQUDu0sH/LGtAMzcewf9RtUCyzVvBJzogwecJwcH/+6rBnDbyQQQ2DUEVsW5Bj8LMQLxPBcBWUCVB63juQVkqREE8FAhC+1XuwX0unsHw6KjBO2n/wOszcUHdtdJBAv+wwcl2qMCWT7C/vH7GQcuGl8G1Z4g+L8Y0wc8OnME5aAxC31W2Pg4AiUFy2SxBNUXpQNL2E0EC2vBBESr3QC9CmsE+uvdBE/zHvyiEpMHxUcJAXxcuP/9st0C2nTJA96iDwTksGMFf/ulBG8rnwM1iyEDSWwFB59ejQW5O1kALTI/BmV8hwdw0AsLrLe9Ae5ziwQrUmsEXA/I/D1oAPwzqwcGN42rBYfGpQaF3RcHolhVBOa7GwCI2isF2ctLBVRrPwSg52j+VVbTBrRTbwXNkn0AuXt5B4o6EQTxP98BLpMLBj7CFwaGwikHY3tLB6XynwdldDEJeMotBeUywQc1Nw0Baf7rBPV6fQcP0LUG6jtxBfsaawcCG1cFmh/bAq6/TwUwU1UGFW03BtQLAwRuup8H6urZAS/WKQdmG38FKfsnBxfwCQTDFC0HrAQhCC8IrwXOm1ME2QQFC+Ha5wZOOvsFCGJZBcAPHQR9u38FO/ahBAXQxwJphtkAM1OZBFmrQwPrsLz+0ByzBlFHewcz/nsEZBobBxzdPwRJr0sHCV+xAJp/uQYP8dEAAUexBpxOwQchd/UHJtZXANF74QR/AwEBZJ6fBZQG5weifN8GTfcDB+G6rwFPCEcAEpd9BOPDHwfQQuMEBjrvA8yzvQct+uMG53RnAjVAwwYZzrsG4nOdAzwcEQszlicHXv+BBZHGjwZWuqUEP4qrBwzfkQAC+WMHpV97Bc3TYwTH5osGqnv0/SdbQwSa+T8GFvhhAdVLhwekruMEETPPAboKLQBzRo0E6XYRBNS3NQC46okEU7f1BLE6zQaIQKb/D7gJC0MSuQay9scGKXsXB0cmQwDxtMMEnrWBBw8EoQO2Ni0HbCupAcUcEwkAnPUHLVQBB+c/QwYpamsG/vJnAVh+Av22PVcE4g6W/qLrmwfO/EEGx+WVBKf3hP/f5mUENKepAkF0FQdi5ucFozqTBVVffQaXRycHxn/JAlcwXQTLkvcGauovBtT6NwdzzbcH65aVAUyN5QdcPj8D9wrxAVmviwL/wCEGnsXVBzU0CQuQBBcJgSZnBSFCpwcNliECBgCXARVS8wLE7t8EShotBqbHdQSZPo8FGK4DBkuVJQbIvOEHUCyC+JgeuQTFK8UDhTTXB2vNKwbGJ3EFjkw7BXJOqQNV4nEAUs7XAf9mZwRYypr/dSR3BeNTXwfTCpkCbAqFAHYvZwbQRs8HpU5VBtPqkwVfYrMCnEwlCe64/vysmQkGnFdfBBJ3ZQHE9VcGhdYy/x0tNQOe6+kHuZKG/FvvqQXCp+kFS7htBFwfYQcA56kHjYKrBN1rCQKxq3kB2srlBheSwQduXlECyJbHBm1QGQtpgl8Hh0vdBUGCqQfPV80HW9qlBtw9Hwd5MMsFSONTB3RulwRYMbUD4DCTBcMhYQZ+/usCIqx4/ZV+8wUyyCsFMiAJBRyGcwTUSb8HIdQRCuHCEwbwONsF28pTBzhSRQXFJzsHPdfe/WhzpQcoMdsCE9tjBFakQQQbqyMFiF6PAo704wWHTWcGI1aDB5LjMvomklcHyg3bBnn+lQLLkzMC8pxBBRaaGQd095kCnBU1Ay40jwazfocHQoa5AokGwQXp01cEAJwTAnfrAv3h8EcG7UQnBJsKLQWc1scGU3hNAyU1wQdhIk0C1/6e/0JiwQCQDhMHRkp/BUME7wHkVI0GOZkhBFcE3wMIou8EHSopAx7mqwYOm90AE1qPByXh4wHJGNcFGr5HAUfE+wfmGtsEdvQzBN3IxwYHS58HrH8PBM1hBwQVurME3V6/BPabkweUvGUHuBxJBBbcxwRYYq0HUgtNBgvawQJ5dAcIz1C3BtBjWwejtscH6GoRAblwWwX8Y20BUk/O/9S2vwXErQMHVcQ1AQr3hwdewBEKQUMhAj6+UwTlJqEBnsoXBa9dpwYO34MHu/CJB9AbNwbAfL0A6259B4pZ1QBRHw8AjMDzAr6TQwb5fUUEYCfpBfOTXQLFMPcFSvo7AeZbFQcNs0MFpeAZCPUj3wQK8S8Hx7lzA8TmWQZI++D/Gph9BxEQowVp2tcHnGoZBGVSBQB9BwECWRgzB8r6YQDC+g0ChZ/FA/gfLwUJAPUE8bnPB6gyTwSgT2EA2tSRBG07jv8wHdsC2gd9A1amTQGoLP8HE+o3Byk8PQc6uPb70JQxCy9fBQCC0jUGdb3BArrjjQdcnqMFP+bTBM+7OQARRQECaJ9xAQYrVQMj6fMAcCxjBdnJFwd9HmsHFrPlBGBFCQGyZCsCOm8XBEfTdQfVdTEGcgdM/rKomwbid3EBtM+pBRrtywX5WtMFjsZnBWD35QYH+hUFV7+FBdQKuwRB8E0LYS6BBaYSTwW3otcD2F75Aed7sQBhXncHxMrJBkGEpwFG9msGc+K3A8G5vQSNpjj8fxf0/N4rUwaYddMEHf7NAL2lFwdS+psEvmxVBsVTOv3J0BMK66qdBn3/8wVoIB0Hj+r7BzBzeQB5qk0AgkaPBsC2FQI5it8DGQLXAbJcuwbgKjkD9+8hAguPePoPz4sHgcUdBb4gdwZzn50AgBjNBhpOiQLGuncHvawdCgVuSQe5G/8BINp5BvswOwVuEYEFf+xrB+h/fwbv30MBhg9ZBPVK1wXDjzcFoU1XByaWLwJObkcExAhjBBg/CwVum6MDKleq/j8e4QJYMhsEcgVXB01xVQdA9EEGg1Y9AR78CQhh0wcEC84/BLIpXwQgXtsFZXJlABEmDQQJtdEB+LLLBJL+QQQHEBkB6YpVA2Tk1wZWS30Bt/hNA7Euuwcpw6kGtMghC1syiwT5s9kFd175AlisDQYP4uUAyHpzBsQgHwes83kDL3LVAxJ61wehQ30GsXRE+nRVHPyPR4MGsFZrBoxXwQTdv9UF2PBvBS0cOwVvyqcGX2epBUn8hwZkLN8ABtAJB8ZOeP/LjtsEQeeZAj+ABwj6xMMFgKxLBgvbiQLbKw0Aymc3BUdgXwbdYLUBxA4BAyI2HQWZZosG6mhhBEtuGwAFh7EFKyNbBeOyIQSCbvECarYLBA4b3wXiLh8FJXtrBulLCQKyG4sHmCxxBAZ/wP6xua0FybGZAb4GlwZ+ux0BgAulAkLWuP3QwpMEXvgDB7tdAQSeTtkE7Rv/BfvNlv/q9QEF3je5Bp/9TwXdt/sEGxvxABIaWwaBx5UAHw7nB4XFKQfYSLcFGI9tBIsqrQM/fXkGMFjRB0IBav+dGmMH9gprBTQtFQEbZAcL64IZByEdHQbtqpcGEGI9ANynkwVoY9UEC64JBv/OdwceXwkARhOVAqm5owU5MkMEvV9LBO6OQwYTTtMFIk45AQrqmQcC54EHtRg1Bx271QNq9jcERH5fBKEsXQCO3ksGvAOVBQS/RwYpYjz/5sfNB9KfTwbx5EkGea9lA68f/wUEEQ0DxgptBQGi3wTGaekGIBZzB2ieWwIehtUEiAZvBXfu4QLxYAsIqE5s/DwRxwZjg4UGUVKjBgQoTwT4to8FAdHVBO/TawA/Ao0EftZnBcNlVwebn10HYAN5Ajb2EwQC9t0C1ySXBsRrjwXtlz8FzipbB1BOrQdzq9MCM0//BLI/dQHFq4b9zwIXBeHxJQUstNsAfL9JAwfIEwre/L8GeB9bBlxgEwgwFpEC2zwNBh5c8QTIt3kEUKNhAlVeBQPIU10B5GaZA6/S4Qd5U4EEc58BBBsevQPkaHsGmINBAWSLrQfhTeb/jBI9B+WCoQUUQ18BH6F/BqzVLwVIVsUErZNNBz6kxwR9F1sGk+N3BNCi8QL1ZEUF/x+RB/g87wXk/OsGcOtLBaZG0wd9kwsHaAKfBbNXeQWSL5sC1Le5Ag8l/wUyOqMCKRa3BDlgEwvxSzEHySdPB9UZBQZwFmcGDaI1BNd0QwI2Rq8Hs4D9BLKBnwdAOhMEGLyXBX231wArps8H5P+xAPT2HQLVGikC/W99A2IeTQCraQMD6oZbBuZ8zwQEd0UH5OlxB4p7kQeray8HWKg1BRA3hwXslyUA1zv/BvXiBQUN0usE/is5AxVGVQF+bP8ETN6XB+87fQCY9o8GuzO3A0J8kwfo718EAtMdBPWPbQOFZ4EEU7sPAPwwWwVUIVcBoA6tB6oLywdCrekAxufpAGoDwQGI1gEFUGUBBQMxEQba9OsFaWbfALu8tPwuoRMHtCKzBGvufQAlKx0Gy19PBLPiQQYk9/EGCMmG/DkCMwb1f0UDb4QpC3kcAwqDgusF6ZWJBN98AQcckmcEzfRnBQKCmQN2F1MHix5ZAyCHSwTmOtkEiZphBAPiTwawfjkEoz9nB\",\"dtype\":\"float32\",\"shape\":[2391]},\"y\":{\"__ndarray__\":\"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\",\"dtype\":\"float32\",\"shape\":[2391]}}},\"id\":\"a7cfc1b3-938f-4001-9e5a-3e9e6d5942bd\",\"type\":\"ColumnDataSource\"},{\"attributes\":{\"callback\":null,\"tooltips\":[[\"content\",\"Title: @title\"]]},\"id\":\"92b9d5c9-976b-4867-9838-ead0a8ac5c09\",\"type\":\"HoverTool\"},{\"attributes\":{},\"id\":\"59d109fc-1767-4dd1-b329-a4cd297f5d87\",\"type\":\"LinearScale\"},{\"attributes\":{\"label\":{\"field\":\"label\"},\"renderers\":[{\"id\":\"702bbaf9-c6e7-49d1-8f2d-50dfef7b56fa\",\"type\":\"GlyphRenderer\"}]},\"id\":\"3c60529f-0b4b-4852-9537-6240a597d760\",\"type\":\"LegendItem\"},{\"attributes\":{},\"id\":\"f2ec5d79-ce2b-4fa1-8664-338bcaab29e3\",\"type\":\"SaveTool\"},{\"attributes\":{\"bottom_units\":\"screen\",\"fill_alpha\":{\"value\":0.5},\"fill_color\":{\"value\":\"lightgrey\"},\"left_units\":\"screen\",\"level\":\"overlay\",\"line_alpha\":{\"value\":1.0},\"line_color\":{\"value\":\"black\"},\"line_dash\":[4,4],\"line_width\":{\"value\":2},\"plot\":null,\"render_mode\":\"css\",\"right_units\":\"screen\",\"top_units\":\"screen\"},\"id\":\"52572efe-ed26-4707-8cbf-61337c941a64\",\"type\":\"BoxAnnotation\"},{\"attributes\":{\"items\":[{\"id\":\"3c60529f-0b4b-4852-9537-6240a597d760\",\"type\":\"LegendItem\"}],\"location\":\"top_left\",\"orientation\":\"horizontal\",\"plot\":{\"id\":\"71044e34-8897-4392-b779-c00f8a4af588\",\"subtype\":\"Figure\",\"type\":\"Plot\"}},\"id\":\"aac020da-5f5e-4136-9f16-ca143075df7e\",\"type\":\"Legend\"},{\"attributes\":{\"data_source\":{\"id\":\"a7cfc1b3-938f-4001-9e5a-3e9e6d5942bd\",\"type\":\"ColumnDataSource\"},\"glyph\":{\"id\":\"dc9b9375-f582-45d2-9f83-38fb79f76e12\",\"type\":\"Circle\"},\"hover_glyph\":null,\"muted_glyph\":null,\"nonselection_glyph\":{\"id\":\"9bfc66ca-1361-4d7d-8bd6-e332b83719b6\",\"type\":\"Circle\"},\"selection_glyph\":null,\"view\":{\"id\":\"e8b7e6fd-999f-4636-adc9-d4e7bd36b85d\",\"type\":\"CDSView\"}},\"id\":\"702bbaf9-c6e7-49d1-8f2d-50dfef7b56fa\",\"type\":\"GlyphRenderer\"},{\"attributes\":{\"fill_alpha\":{\"value\":0.8},\"fill_color\":{\"field\":\"colors\"},\"line_alpha\":{\"value\":0.8},\"line_color\":{\"field\":\"colors\"},\"x\":{\"field\":\"x\"},\"y\":{\"field\":\"y\"}},\"id\":\"dc9b9375-f582-45d2-9f83-38fb79f76e12\",\"type\":\"Circle\"},{\"attributes\":{\"active_drag\":\"auto\",\"active_inspect\":\"auto\",\"active_scroll\":\"auto\",\"active_tap\":\"auto\",\"tools\":[{\"id\":\"b65f9be0-7823-4933-9fea-fba555c33da6\",\"type\":\"PanTool\"},{\"id\":\"3c41577a-6037-4d06-bac2-a1300cbc424f\",\"type\":\"WheelZoomTool\"},{\"id\":\"23aaa345-c761-459f-a1e3-e803f46f37f8\",\"type\":\"BoxZoomTool\"},{\"id\":\"ba5a414a-8945-4717-b030-d41f10497390\",\"type\":\"ResetTool\"},{\"id\":\"92b9d5c9-976b-4867-9838-ead0a8ac5c09\",\"type\":\"HoverTool\"},{\"id\":\"f2ec5d79-ce2b-4fa1-8664-338bcaab29e3\",\"type\":\"SaveTool\"}]},\"id\":\"b4f935d8-f82d-456d-b1e4-eff46757d7f8\",\"type\":\"Toolbar\"},{\"attributes\":{\"source\":{\"id\":\"a7cfc1b3-938f-4001-9e5a-3e9e6d5942bd\",\"type\":\"ColumnDataSource\"}},\"id\":\"e8b7e6fd-999f-4636-adc9-d4e7bd36b85d\",\"type\":\"CDSView\"},{\"attributes\":{\"plot\":null,\"text\":\"T-SNE visualization of embeddings- cluster by user rating (userID:547)\"},\"id\":\"bff0e374-02e1-4c29-a9bc-2e2f69835626\",\"type\":\"Title\"},{\"attributes\":{\"overlay\":{\"id\":\"52572efe-ed26-4707-8cbf-61337c941a64\",\"type\":\"BoxAnnotation\"}},\"id\":\"23aaa345-c761-459f-a1e3-e803f46f37f8\",\"type\":\"BoxZoomTool\"},{\"attributes\":{\"callback\":null},\"id\":\"05bfffd9-6ff3-43c1-8cb0-deef393dd61e\",\"type\":\"DataRange1d\"},{\"attributes\":{},\"id\":\"b65f9be0-7823-4933-9fea-fba555c33da6\",\"type\":\"PanTool\"},{\"attributes\":{},\"id\":\"3c41577a-6037-4d06-bac2-a1300cbc424f\",\"type\":\"WheelZoomTool\"},{\"attributes\":{},\"id\":\"08de291e-1acd-4b5a-af30-da3b05391d1f\",\"type\":\"LinearScale\"},{\"attributes\":{\"fill_alpha\":{\"value\":0.1},\"fill_color\":{\"value\":\"#1f77b4\"},\"line_alpha\":{\"value\":0.1},\"line_color\":{\"value\":\"#1f77b4\"},\"x\":{\"field\":\"x\"},\"y\":{\"field\":\"y\"}},\"id\":\"9bfc66ca-1361-4d7d-8bd6-e332b83719b6\",\"type\":\"Circle\"},{\"attributes\":{\"callback\":null},\"id\":\"9bfecb81-8f0e-4f7b-8ff6-73db0347b7fd\",\"type\":\"DataRange1d\"},{\"attributes\":{\"min_border\":1,\"plot_width\":1000,\"renderers\":[{\"id\":\"52572efe-ed26-4707-8cbf-61337c941a64\",\"type\":\"BoxAnnotation\"},{\"id\":\"aac020da-5f5e-4136-9f16-ca143075df7e\",\"type\":\"Legend\"},{\"id\":\"702bbaf9-c6e7-49d1-8f2d-50dfef7b56fa\",\"type\":\"GlyphRenderer\"}],\"title\":{\"id\":\"bff0e374-02e1-4c29-a9bc-2e2f69835626\",\"type\":\"Title\"},\"toolbar\":{\"id\":\"b4f935d8-f82d-456d-b1e4-eff46757d7f8\",\"type\":\"Toolbar\"},\"x_range\":{\"id\":\"05bfffd9-6ff3-43c1-8cb0-deef393dd61e\",\"type\":\"DataRange1d\"},\"x_scale\":{\"id\":\"59d109fc-1767-4dd1-b329-a4cd297f5d87\",\"type\":\"LinearScale\"},\"y_range\":{\"id\":\"9bfecb81-8f0e-4f7b-8ff6-73db0347b7fd\",\"type\":\"DataRange1d\"},\"y_scale\":{\"id\":\"08de291e-1acd-4b5a-af30-da3b05391d1f\",\"type\":\"LinearScale\"}},\"id\":\"71044e34-8897-4392-b779-c00f8a4af588\",\"subtype\":\"Figure\",\"type\":\"Plot\"},{\"attributes\":{},\"id\":\"ba5a414a-8945-4717-b030-d41f10497390\",\"type\":\"ResetTool\"}],\"root_ids\":[\"71044e34-8897-4392-b779-c00f8a4af588\"]},\"title\":\"Bokeh Application\",\"version\":\"0.12.10\"}};\n",
       "    var render_items = [{\"docid\":\"d85b6139-478b-4e7c-8fd0-fafffd5ff370\",\"elementid\":\"64ee9118-be27-49cb-aa76-c3cce4e6d961\",\"modelid\":\"71044e34-8897-4392-b779-c00f8a4af588\"}];\n",
       "\n",
       "    root.Bokeh.embed.embed_items(docs_json, render_items);\n",
       "  }\n",
       "\n",
       "  if (root.Bokeh !== undefined) {\n",
       "    embed_document(root);\n",
       "  } else {\n",
       "    var attempts = 0;\n",
       "    var timer = setInterval(function(root) {\n",
       "      if (root.Bokeh !== undefined) {\n",
       "        embed_document(root);\n",
       "        clearInterval(timer);\n",
       "      }\n",
       "      attempts++;\n",
       "      if (attempts > 100) {\n",
       "        console.log(\"Bokeh: ERROR: Unable to embed document because BokehJS library is missing\")\n",
       "        clearInterval(timer);\n",
       "      }\n",
       "    }, 10, root)\n",
       "  }\n",
       "})(window);"
      ],
      "application/vnd.bokehjs_exec.v0+json": ""
     },
     "metadata": {
      "application/vnd.bokehjs_exec.v0+json": {
       "id": "71044e34-8897-4392-b779-c00f8a4af588"
      }
     },
     "output_type": "display_data"
    },
    {
     "name": "stderr",
     "output_type": "stream",
     "text": [
      "/home/ec2-user/anaconda3/envs/fastai/lib/python3.6/site-packages/bokeh/io/saving.py:125: UserWarning: save() called but no resources were supplied and output_file(...) was never called, defaulting to resources.CDN\n",
      "  warn(\"save() called but no resources were supplied and output_file(...) was never called, defaulting to resources.CDN\")\n",
      "/home/ec2-user/anaconda3/envs/fastai/lib/python3.6/site-packages/bokeh/io/saving.py:138: UserWarning: save() called but no title was supplied and output_file(...) was never called, using default title 'Bokeh Plot'\n",
      "  warn(\"save() called but no title was supplied and output_file(...) was never called, using default title 'Bokeh Plot'\")\n"
     ]
    },
    {
     "data": {
      "text/plain": [
       "'/home/ec2-user/projects/collaborative-filtering/t-SNE_cluster_rating.html'"
      ]
     },
     "execution_count": 105,
     "metadata": {},
     "output_type": "execute_result"
    }
   ],
   "source": [
    "title = 'T-SNE visualization of embeddings- cluster by user rating (userID:547)'\n",
    "\n",
    "plot_lda = figure(plot_width=1000, plot_height=600,\n",
    "                     title=title, tools=\"pan,wheel_zoom,box_zoom,reset,hover,previewsave\",\n",
    "                     x_axis_type=None, y_axis_type=None, min_border=1)\n",
    "\n",
    "plot_lda.scatter(x='x', y='y',source=source,legend='label',\n",
    "                alpha=0.8, color='colors',)\n",
    "\n",
    "# hover tools\n",
    "hover = plot_lda.select(dict(type=HoverTool))\n",
    "hover.tooltips = {\"content\": \"Title: @title\"}\n",
    "\n",
    "plot_lda.legend.location = \"top_left\"\n",
    "plot_lda.legend.orientation = \"horizontal\"\n",
    "show(plot_lda)\n",
    "save(plot_lda, 't-SNE_cluster_rating.html')"
   ]
  },
  {
   "cell_type": "markdown",
   "metadata": {},
   "source": [
    "---"
   ]
  },
  {
   "cell_type": "markdown",
   "metadata": {},
   "source": [
    "### Embeddings cluster by bias"
   ]
  },
  {
   "cell_type": "code",
   "execution_count": 84,
   "metadata": {},
   "outputs": [],
   "source": [
    "from bokeh.models import Legend"
   ]
  },
  {
   "cell_type": "code",
   "execution_count": 30,
   "metadata": {},
   "outputs": [],
   "source": [
    "df_combine['bias'] = movie_bias"
   ]
  },
  {
   "cell_type": "code",
   "execution_count": 31,
   "metadata": {},
   "outputs": [],
   "source": [
    "df_combine['bias_bin'] = pd.cut(df_combine.bias,5,labels=[0,1,2,3,4])"
   ]
  },
  {
   "cell_type": "code",
   "execution_count": 32,
   "metadata": {},
   "outputs": [],
   "source": [
    "cluster_colors = {0: 'blue', 1: 'green', 2: 'yellow', 3: 'red', 4: 'black'}\n",
    "\n",
    "df_combine['colors'] = df_combine['bias_bin'].apply(lambda l: cluster_colors[l])\n",
    "\n",
    "df_combine.head()\n",
    "\n",
    "top_labels1 = {0: 'V. Low', 1:'Low', 2:'Medium', 3:'High',4:'V.High'}"
   ]
  },
  {
   "cell_type": "code",
   "execution_count": 107,
   "metadata": {},
   "outputs": [
    {
     "data": {
      "text/html": [
       "\n",
       "<div class=\"bk-root\">\n",
       "    <div class=\"bk-plotdiv\" id=\"a7c0eb93-4d64-4f89-a395-8653a9f9b56d\"></div>\n",
       "</div>"
      ]
     },
     "metadata": {},
     "output_type": "display_data"
    },
    {
     "data": {
      "application/javascript": [
       "(function(root) {\n",
       "  function embed_document(root) {\n",
       "    var docs_json = {\"a351e18d-c0ac-4308-b919-723c2fc27d04\":{\"roots\":{\"references\":[{\"attributes\":{\"callback\":null,\"column_names\":[\"x\",\"y\",\"title\",\"colors\",\"label\"],\"data\":{\"colors\":[\"red\",\"black\",\"black\",\"black\",\"red\",\"yellow\",\"black\",\"yellow\",\"red\",\"red\",\"red\",\"red\",\"red\",\"red\",\"red\",\"red\",\"yellow\",\"red\",\"yellow\",\"red\",\"red\",\"red\",\"red\",\"black\",\"red\",\"black\",\"yellow\",\"red\",\"yellow\",\"red\",\"yellow\",\"red\",\"red\",\"red\",\"red\",\"yellow\",\"red\",\"red\",\"green\",\"yellow\",\"yellow\",\"red\",\"yellow\",\"red\",\"red\",\"yellow\",\"green\",\"red\",\"green\",\"red\",\"yellow\",\"yellow\",\"yellow\",\"yellow\",\"yellow\",\"yellow\",\"red\",\"red\",\"red\",\"yellow\",\"red\",\"red\",\"yellow\",\"red\",\"yellow\",\"red\",\"yellow\",\"red\",\"yellow\",\"red\",\"red\",\"red\",\"red\",\"red\",\"red\",\"red\",\"yellow\",\"green\",\"yellow\",\"red\",\"yellow\",\"red\",\"yellow\",\"red\",\"red\",\"yellow\",\"red\",\"red\",\"yellow\",\"red\",\"red\",\"yellow\",\"yellow\",\"yellow\",\"red\",\"red\",\"yellow\",\"red\",\"red\",\"yellow\",\"red\",\"red\",\"yellow\",\"red\",\"red\",\"red\",\"yellow\",\"red\",\"red\",\"red\",\"yellow\",\"green\",\"green\",\"red\",\"red\",\"green\",\"yellow\",\"yellow\",\"red\",\"yellow\",\"yellow\",\"red\",\"yellow\",\"yellow\",\"red\",\"yellow\",\"yellow\",\"yellow\",\"red\",\"yellow\",\"red\",\"green\",\"red\",\"red\",\"yellow\",\"yellow\",\"yellow\",\"red\",\"yellow\",\"red\",\"yellow\",\"red\",\"red\",\"red\",\"yellow\",\"green\",\"red\",\"yellow\",\"yellow\",\"red\",\"red\",\"red\",\"red\",\"yellow\",\"yellow\",\"red\",\"yellow\",\"yellow\",\"red\",\"red\",\"yellow\",\"yellow\",\"red\",\"yellow\",\"yellow\",\"yellow\",\"yellow\",\"red\",\"yellow\",\"red\",\"yellow\",\"yellow\",\"green\",\"red\",\"yellow\",\"yellow\",\"yellow\",\"yellow\",\"yellow\",\"yellow\",\"red\",\"yellow\",\"red\",\"yellow\",\"yellow\",\"yellow\",\"red\",\"red\",\"red\",\"red\",\"yellow\",\"yellow\",\"green\",\"yellow\",\"yellow\",\"red\",\"red\",\"red\",\"yellow\",\"yellow\",\"red\",\"yellow\",\"yellow\",\"red\",\"yellow\",\"yellow\",\"yellow\",\"yellow\",\"green\",\"yellow\",\"red\",\"red\",\"red\",\"red\",\"yellow\",\"green\",\"red\",\"red\",\"red\",\"green\",\"yellow\",\"green\",\"yellow\",\"red\",\"yellow\",\"yellow\",\"red\",\"red\",\"red\",\"red\",\"yellow\",\"green\",\"yellow\",\"red\",\"yellow\",\"yellow\",\"red\",\"yellow\",\"red\",\"red\",\"yellow\",\"red\",\"yellow\",\"yellow\",\"red\",\"yellow\",\"yellow\",\"red\",\"red\",\"yellow\",\"yellow\",\"yellow\",\"red\",\"red\",\"red\",\"green\",\"yellow\",\"yellow\",\"red\",\"yellow\",\"yellow\",\"yellow\",\"yellow\",\"yellow\",\"red\",\"yellow\",\"yellow\",\"red\",\"green\",\"blue\",\"red\",\"green\",\"yellow\",\"red\",\"yellow\",\"yellow\",\"yellow\",\"yellow\",\"yellow\",\"red\",\"red\",\"yellow\",\"yellow\",\"green\",\"yellow\",\"yellow\",\"yellow\",\"yellow\",\"yellow\",\"yellow\",\"yellow\",\"yellow\",\"yellow\",\"green\",\"yellow\",\"yellow\",\"yellow\",\"yellow\",\"red\",\"yellow\",\"red\",\"red\",\"yellow\",\"yellow\",\"red\",\"yellow\",\"yellow\",\"yellow\",\"red\",\"green\",\"yellow\",\"yellow\",\"yellow\",\"blue\",\"red\",\"yellow\",\"yellow\",\"yellow\",\"yellow\",\"red\",\"red\",\"red\",\"yellow\",\"yellow\",\"green\",\"red\",\"red\",\"yellow\",\"yellow\",\"red\",\"yellow\",\"red\",\"red\",\"red\",\"green\",\"red\",\"yellow\",\"yellow\",\"yellow\",\"yellow\",\"yellow\",\"yellow\",\"yellow\",\"yellow\",\"yellow\",\"yellow\",\"red\",\"yellow\",\"red\",\"yellow\",\"blue\",\"yellow\",\"yellow\",\"yellow\",\"red\",\"yellow\",\"yellow\",\"yellow\",\"yellow\",\"green\",\"yellow\",\"yellow\",\"yellow\",\"red\",\"red\",\"yellow\",\"green\",\"yellow\",\"yellow\",\"yellow\",\"yellow\",\"yellow\",\"yellow\",\"yellow\",\"yellow\",\"yellow\",\"green\",\"green\",\"red\",\"yellow\",\"yellow\",\"yellow\",\"yellow\",\"yellow\",\"yellow\",\"yellow\",\"green\",\"green\",\"green\",\"yellow\",\"yellow\",\"green\",\"green\",\"green\",\"red\",\"yellow\",\"yellow\",\"yellow\",\"yellow\",\"red\",\"red\",\"yellow\",\"yellow\",\"green\",\"yellow\",\"yellow\",\"green\",\"yellow\",\"yellow\",\"yellow\",\"yellow\",\"red\",\"yellow\",\"yellow\",\"red\",\"yellow\",\"yellow\",\"yellow\",\"green\",\"yellow\",\"red\",\"yellow\",\"yellow\",\"yellow\",\"yellow\",\"yellow\",\"yellow\",\"yellow\",\"yellow\",\"yellow\",\"yellow\",\"yellow\",\"yellow\",\"yellow\",\"yellow\",\"red\",\"yellow\",\"green\",\"yellow\",\"yellow\",\"yellow\",\"yellow\",\"yellow\",\"red\",\"green\",\"red\",\"yellow\",\"yellow\",\"red\",\"yellow\",\"red\",\"green\",\"red\",\"yellow\",\"yellow\",\"red\",\"yellow\",\"yellow\",\"yellow\",\"yellow\",\"yellow\",\"yellow\",\"yellow\",\"red\",\"yellow\",\"yellow\",\"yellow\",\"green\",\"green\",\"red\",\"green\",\"yellow\",\"yellow\",\"yellow\",\"yellow\",\"red\",\"yellow\",\"yellow\",\"yellow\",\"yellow\",\"green\",\"yellow\",\"yellow\",\"yellow\",\"green\",\"yellow\",\"yellow\",\"yellow\",\"blue\",\"yellow\",\"yellow\",\"yellow\",\"blue\",\"yellow\",\"yellow\",\"yellow\",\"yellow\",\"yellow\",\"yellow\",\"yellow\",\"yellow\",\"yellow\",\"yellow\",\"yellow\",\"red\",\"yellow\",\"red\",\"yellow\",\"yellow\",\"yellow\",\"red\",\"green\",\"yellow\",\"yellow\",\"yellow\",\"red\",\"green\",\"yellow\",\"yellow\",\"yellow\",\"yellow\",\"yellow\",\"yellow\",\"yellow\",\"yellow\",\"yellow\",\"yellow\",\"yellow\",\"yellow\",\"yellow\",\"yellow\",\"red\",\"yellow\",\"yellow\",\"yellow\",\"green\",\"yellow\",\"yellow\",\"green\",\"red\",\"yellow\",\"yellow\",\"yellow\",\"red\",\"yellow\",\"green\",\"green\",\"red\",\"yellow\",\"yellow\",\"yellow\",\"yellow\",\"green\",\"yellow\",\"green\",\"yellow\",\"yellow\",\"yellow\",\"yellow\",\"red\",\"yellow\",\"yellow\",\"green\",\"yellow\",\"yellow\",\"yellow\",\"yellow\",\"yellow\",\"yellow\",\"green\",\"green\",\"red\",\"yellow\",\"yellow\",\"yellow\",\"red\",\"yellow\",\"red\",\"yellow\",\"yellow\",\"yellow\",\"red\",\"yellow\",\"yellow\",\"green\",\"yellow\",\"red\",\"green\",\"yellow\",\"yellow\",\"yellow\",\"yellow\",\"yellow\",\"yellow\",\"yellow\",\"red\",\"green\",\"yellow\",\"yellow\",\"yellow\",\"yellow\",\"yellow\",\"red\",\"yellow\",\"yellow\",\"yellow\",\"red\",\"yellow\",\"yellow\",\"yellow\",\"red\",\"red\",\"yellow\",\"yellow\",\"yellow\",\"yellow\",\"red\",\"yellow\",\"red\",\"yellow\",\"red\",\"yellow\",\"yellow\",\"yellow\",\"green\",\"green\",\"red\",\"green\",\"blue\",\"green\",\"yellow\",\"yellow\",\"green\",\"yellow\",\"red\",\"red\",\"yellow\",\"yellow\",\"green\",\"red\",\"yellow\",\"red\",\"yellow\",\"red\",\"yellow\",\"yellow\",\"yellow\",\"green\",\"yellow\",\"green\",\"yellow\",\"yellow\",\"yellow\",\"yellow\",\"yellow\",\"yellow\",\"green\",\"red\",\"red\",\"yellow\",\"red\",\"red\",\"yellow\",\"green\",\"yellow\",\"red\",\"yellow\",\"yellow\",\"green\",\"green\",\"yellow\",\"yellow\",\"yellow\",\"green\",\"red\",\"yellow\",\"red\",\"yellow\",\"yellow\",\"yellow\",\"yellow\",\"yellow\",\"yellow\",\"yellow\",\"yellow\",\"yellow\",\"yellow\",\"yellow\",\"red\",\"yellow\",\"red\",\"yellow\",\"red\",\"yellow\",\"yellow\",\"yellow\",\"red\",\"yellow\",\"yellow\",\"yellow\",\"yellow\",\"yellow\",\"yellow\",\"green\",\"yellow\",\"red\",\"red\",\"green\",\"green\",\"yellow\",\"yellow\",\"yellow\",\"yellow\",\"yellow\",\"yellow\",\"red\",\"yellow\",\"red\",\"yellow\",\"green\",\"green\",\"yellow\",\"yellow\",\"red\",\"yellow\",\"yellow\",\"green\",\"yellow\",\"green\",\"yellow\",\"yellow\",\"green\",\"yellow\",\"yellow\",\"yellow\",\"green\",\"red\",\"yellow\",\"yellow\",\"yellow\",\"yellow\",\"yellow\",\"yellow\",\"yellow\",\"green\",\"red\",\"yellow\",\"red\",\"green\",\"yellow\",\"yellow\",\"green\",\"red\",\"yellow\",\"green\",\"yellow\",\"yellow\",\"green\",\"red\",\"red\",\"yellow\",\"red\",\"yellow\",\"yellow\",\"red\",\"yellow\",\"yellow\",\"yellow\",\"red\",\"red\",\"yellow\",\"green\",\"yellow\",\"yellow\",\"yellow\",\"yellow\",\"green\",\"yellow\",\"yellow\",\"yellow\",\"red\",\"yellow\",\"yellow\",\"red\",\"green\",\"yellow\",\"yellow\",\"red\",\"yellow\",\"green\",\"yellow\",\"yellow\",\"yellow\",\"green\",\"yellow\",\"red\",\"yellow\",\"yellow\",\"red\",\"yellow\",\"yellow\",\"yellow\",\"yellow\",\"yellow\",\"green\",\"yellow\",\"green\",\"red\",\"yellow\",\"yellow\",\"yellow\",\"red\",\"yellow\",\"yellow\",\"yellow\",\"yellow\",\"yellow\",\"yellow\",\"yellow\",\"yellow\",\"red\",\"yellow\",\"yellow\",\"red\",\"yellow\",\"blue\",\"yellow\",\"green\",\"red\",\"green\",\"green\",\"yellow\",\"green\",\"yellow\",\"yellow\",\"yellow\",\"yellow\",\"yellow\",\"yellow\",\"yellow\",\"yellow\",\"yellow\",\"yellow\",\"yellow\",\"red\",\"green\",\"yellow\",\"red\",\"red\",\"yellow\",\"yellow\",\"yellow\",\"green\",\"yellow\",\"yellow\",\"red\",\"yellow\",\"yellow\",\"red\",\"green\",\"red\",\"red\",\"yellow\",\"yellow\",\"red\",\"green\",\"yellow\",\"yellow\",\"red\",\"green\",\"yellow\",\"yellow\",\"green\",\"yellow\",\"green\",\"green\",\"green\",\"yellow\",\"yellow\",\"yellow\",\"yellow\",\"yellow\",\"yellow\",\"red\",\"green\",\"yellow\",\"red\",\"yellow\",\"blue\",\"yellow\",\"yellow\",\"yellow\",\"yellow\",\"yellow\",\"yellow\",\"yellow\",\"yellow\",\"yellow\",\"yellow\",\"yellow\",\"yellow\",\"yellow\",\"yellow\",\"green\",\"green\",\"green\",\"yellow\",\"green\",\"red\",\"yellow\",\"yellow\",\"green\",\"yellow\",\"yellow\",\"yellow\",\"yellow\",\"yellow\",\"green\",\"yellow\",\"yellow\",\"green\",\"red\",\"yellow\",\"yellow\",\"yellow\",\"yellow\",\"yellow\",\"red\",\"green\",\"red\",\"yellow\",\"yellow\",\"yellow\",\"yellow\",\"yellow\",\"yellow\",\"yellow\",\"green\",\"green\",\"yellow\",\"green\",\"green\",\"green\",\"yellow\",\"green\",\"yellow\",\"red\",\"green\",\"green\",\"yellow\",\"red\",\"yellow\",\"green\",\"red\",\"green\",\"yellow\",\"yellow\",\"yellow\",\"yellow\",\"red\",\"yellow\",\"yellow\",\"yellow\",\"yellow\",\"yellow\",\"yellow\",\"red\",\"yellow\",\"green\",\"yellow\",\"yellow\",\"yellow\",\"yellow\",\"red\",\"yellow\",\"yellow\",\"yellow\",\"red\",\"green\",\"yellow\",\"yellow\",\"green\",\"yellow\",\"yellow\",\"yellow\",\"yellow\",\"yellow\",\"yellow\",\"yellow\",\"yellow\",\"red\",\"yellow\",\"yellow\",\"yellow\",\"yellow\",\"yellow\",\"yellow\",\"yellow\",\"red\",\"yellow\",\"yellow\",\"yellow\",\"green\",\"red\",\"yellow\",\"yellow\",\"yellow\",\"red\",\"green\",\"yellow\",\"yellow\",\"green\",\"yellow\",\"red\",\"yellow\",\"yellow\",\"yellow\",\"yellow\",\"yellow\",\"yellow\",\"yellow\",\"red\",\"yellow\",\"red\",\"yellow\",\"yellow\",\"yellow\",\"green\",\"green\",\"yellow\",\"red\",\"red\",\"green\",\"yellow\",\"yellow\",\"yellow\",\"yellow\",\"yellow\",\"yellow\",\"red\",\"yellow\",\"red\",\"red\",\"red\",\"yellow\",\"red\",\"yellow\",\"yellow\",\"yellow\",\"yellow\",\"green\",\"blue\",\"yellow\",\"yellow\",\"yellow\",\"yellow\",\"yellow\",\"yellow\",\"green\",\"yellow\",\"yellow\",\"green\",\"green\",\"yellow\",\"yellow\",\"green\",\"red\",\"green\",\"yellow\",\"yellow\",\"yellow\",\"yellow\",\"yellow\",\"green\",\"green\",\"yellow\",\"yellow\",\"red\",\"yellow\",\"yellow\",\"yellow\",\"yellow\",\"red\",\"yellow\",\"yellow\",\"yellow\",\"yellow\",\"yellow\",\"red\",\"green\",\"green\",\"red\",\"yellow\",\"yellow\",\"yellow\",\"red\",\"red\",\"yellow\",\"yellow\",\"yellow\",\"yellow\",\"yellow\",\"yellow\",\"yellow\",\"green\",\"yellow\",\"yellow\",\"yellow\",\"yellow\",\"red\",\"green\",\"yellow\",\"yellow\",\"yellow\",\"blue\",\"yellow\",\"green\",\"yellow\",\"yellow\",\"green\",\"red\",\"yellow\",\"green\",\"green\",\"green\",\"yellow\",\"red\",\"yellow\",\"yellow\",\"yellow\",\"red\",\"red\",\"yellow\",\"yellow\",\"red\",\"yellow\",\"yellow\",\"yellow\",\"yellow\",\"yellow\",\"green\",\"red\",\"yellow\",\"yellow\",\"yellow\",\"yellow\",\"yellow\",\"yellow\",\"yellow\",\"green\",\"green\",\"green\",\"yellow\",\"green\",\"green\",\"green\",\"red\",\"yellow\",\"yellow\",\"red\",\"yellow\",\"yellow\",\"yellow\",\"yellow\",\"red\",\"yellow\",\"yellow\",\"green\",\"green\",\"yellow\",\"green\",\"red\",\"red\",\"yellow\",\"yellow\",\"yellow\",\"yellow\",\"yellow\",\"green\",\"yellow\",\"yellow\",\"yellow\",\"green\",\"yellow\",\"yellow\",\"yellow\",\"red\",\"red\",\"yellow\",\"yellow\",\"yellow\",\"yellow\",\"green\",\"yellow\",\"blue\",\"yellow\",\"yellow\",\"yellow\",\"yellow\",\"yellow\",\"yellow\",\"red\",\"yellow\",\"yellow\",\"yellow\",\"yellow\",\"yellow\",\"yellow\",\"yellow\",\"yellow\",\"yellow\",\"green\",\"yellow\",\"yellow\",\"yellow\",\"yellow\",\"red\",\"yellow\",\"blue\",\"green\",\"green\",\"green\",\"red\",\"yellow\",\"yellow\",\"green\",\"yellow\",\"yellow\",\"yellow\",\"yellow\",\"yellow\",\"yellow\",\"yellow\",\"yellow\",\"yellow\",\"red\",\"yellow\",\"green\",\"yellow\",\"yellow\",\"yellow\",\"red\",\"yellow\",\"yellow\",\"yellow\",\"green\",\"yellow\",\"yellow\",\"yellow\",\"yellow\",\"blue\",\"green\",\"red\",\"green\",\"green\",\"yellow\",\"yellow\",\"yellow\",\"yellow\",\"green\",\"yellow\",\"yellow\",\"red\",\"yellow\",\"yellow\",\"red\",\"yellow\",\"yellow\",\"yellow\",\"red\",\"green\",\"green\",\"yellow\",\"green\",\"yellow\",\"yellow\",\"yellow\",\"red\",\"yellow\",\"yellow\",\"blue\",\"yellow\",\"yellow\",\"blue\",\"yellow\",\"yellow\",\"yellow\",\"yellow\",\"yellow\",\"red\",\"yellow\",\"yellow\",\"red\",\"yellow\",\"blue\",\"red\",\"yellow\",\"red\",\"green\",\"green\",\"yellow\",\"yellow\",\"yellow\",\"yellow\",\"yellow\",\"green\",\"yellow\",\"green\",\"red\",\"yellow\",\"green\",\"green\",\"yellow\",\"yellow\",\"yellow\",\"yellow\",\"yellow\",\"green\",\"yellow\",\"yellow\",\"yellow\",\"yellow\",\"yellow\",\"yellow\",\"yellow\",\"yellow\",\"yellow\",\"green\",\"green\",\"blue\",\"yellow\",\"yellow\",\"yellow\",\"yellow\",\"yellow\",\"green\",\"red\",\"blue\",\"green\",\"yellow\",\"green\",\"yellow\",\"green\",\"green\",\"red\",\"green\",\"green\",\"blue\",\"red\",\"yellow\",\"yellow\",\"yellow\",\"yellow\",\"red\",\"yellow\",\"yellow\",\"yellow\",\"green\",\"yellow\",\"yellow\",\"red\",\"yellow\",\"yellow\",\"green\",\"yellow\",\"green\",\"red\",\"yellow\",\"yellow\",\"red\",\"red\",\"green\",\"red\",\"yellow\",\"yellow\",\"yellow\",\"yellow\",\"yellow\",\"yellow\",\"yellow\",\"green\",\"yellow\",\"yellow\",\"yellow\",\"yellow\",\"yellow\",\"yellow\",\"green\",\"yellow\",\"yellow\",\"green\",\"green\",\"green\",\"green\",\"yellow\",\"yellow\",\"yellow\",\"yellow\",\"yellow\",\"yellow\",\"yellow\",\"yellow\",\"yellow\",\"green\",\"green\",\"yellow\",\"yellow\",\"yellow\",\"green\",\"yellow\",\"green\",\"blue\",\"yellow\",\"yellow\",\"yellow\",\"green\",\"green\",\"green\",\"green\",\"green\",\"red\",\"red\",\"yellow\",\"yellow\",\"yellow\",\"yellow\",\"red\",\"yellow\",\"yellow\",\"red\",\"green\",\"yellow\",\"yellow\",\"yellow\",\"green\",\"green\",\"yellow\",\"yellow\",\"yellow\",\"yellow\",\"yellow\",\"yellow\",\"yellow\",\"yellow\",\"yellow\",\"yellow\",\"yellow\",\"yellow\",\"red\",\"yellow\",\"red\",\"red\",\"yellow\",\"green\",\"yellow\",\"yellow\",\"red\",\"red\",\"yellow\",\"yellow\",\"yellow\",\"green\",\"yellow\",\"green\",\"yellow\",\"yellow\",\"green\",\"yellow\",\"yellow\",\"red\",\"yellow\",\"yellow\",\"blue\",\"yellow\",\"yellow\",\"yellow\",\"yellow\",\"green\",\"yellow\",\"yellow\",\"green\",\"green\",\"yellow\",\"yellow\",\"green\",\"green\",\"yellow\",\"yellow\",\"yellow\",\"yellow\",\"yellow\",\"yellow\",\"green\",\"yellow\",\"yellow\",\"yellow\",\"yellow\",\"green\",\"yellow\",\"red\",\"green\",\"blue\",\"yellow\",\"yellow\",\"yellow\",\"green\",\"yellow\",\"yellow\",\"yellow\",\"yellow\",\"yellow\",\"green\",\"yellow\",\"yellow\",\"red\",\"yellow\",\"yellow\",\"yellow\",\"yellow\",\"blue\",\"red\",\"yellow\",\"yellow\",\"yellow\",\"yellow\",\"green\",\"yellow\",\"green\",\"yellow\",\"yellow\",\"yellow\",\"yellow\",\"yellow\",\"red\",\"yellow\",\"yellow\",\"red\",\"yellow\",\"yellow\",\"green\",\"yellow\",\"green\",\"blue\",\"yellow\",\"red\",\"green\",\"yellow\",\"green\",\"green\",\"yellow\",\"yellow\",\"yellow\",\"yellow\",\"red\",\"green\",\"green\",\"yellow\",\"yellow\",\"red\",\"yellow\",\"yellow\",\"yellow\",\"yellow\",\"yellow\",\"yellow\",\"yellow\",\"red\",\"yellow\",\"yellow\",\"yellow\",\"yellow\",\"yellow\",\"yellow\",\"blue\",\"yellow\",\"yellow\",\"green\",\"yellow\",\"yellow\",\"green\",\"yellow\",\"yellow\",\"yellow\",\"yellow\",\"yellow\",\"red\",\"yellow\",\"green\",\"yellow\",\"green\",\"yellow\",\"yellow\",\"yellow\",\"yellow\",\"yellow\",\"green\",\"yellow\",\"yellow\",\"yellow\",\"yellow\",\"yellow\",\"yellow\",\"yellow\",\"yellow\",\"green\",\"yellow\",\"yellow\",\"yellow\",\"yellow\",\"green\",\"green\",\"green\",\"yellow\",\"green\",\"green\",\"green\",\"red\",\"yellow\",\"green\",\"green\",\"red\",\"yellow\",\"green\",\"yellow\",\"yellow\",\"red\",\"red\",\"red\",\"green\",\"yellow\",\"green\",\"yellow\",\"green\",\"yellow\",\"yellow\",\"red\",\"yellow\",\"green\",\"yellow\",\"yellow\",\"yellow\",\"yellow\",\"yellow\",\"yellow\",\"yellow\",\"green\",\"green\",\"red\",\"green\",\"yellow\",\"yellow\",\"yellow\",\"green\",\"yellow\",\"yellow\",\"yellow\",\"yellow\",\"green\",\"yellow\",\"green\",\"green\",\"yellow\",\"yellow\",\"yellow\",\"green\",\"green\",\"yellow\",\"yellow\",\"yellow\",\"yellow\",\"yellow\",\"green\",\"green\",\"yellow\",\"yellow\",\"yellow\",\"yellow\",\"green\",\"yellow\",\"yellow\",\"green\",\"yellow\",\"yellow\",\"red\",\"yellow\",\"green\",\"green\",\"yellow\",\"yellow\",\"yellow\",\"yellow\",\"green\",\"green\",\"yellow\",\"yellow\",\"yellow\",\"yellow\",\"yellow\",\"yellow\",\"yellow\",\"yellow\",\"yellow\",\"green\",\"yellow\",\"green\",\"yellow\",\"green\",\"yellow\",\"green\",\"yellow\",\"yellow\",\"yellow\",\"yellow\",\"yellow\",\"green\",\"yellow\",\"red\",\"yellow\",\"green\",\"yellow\",\"yellow\",\"green\",\"green\",\"yellow\",\"yellow\",\"yellow\",\"yellow\",\"yellow\",\"yellow\",\"yellow\",\"yellow\",\"yellow\",\"yellow\",\"red\",\"yellow\",\"yellow\",\"green\",\"yellow\",\"green\",\"yellow\",\"green\",\"yellow\",\"yellow\",\"yellow\",\"yellow\",\"yellow\",\"red\",\"green\",\"yellow\",\"red\",\"yellow\",\"blue\",\"yellow\",\"yellow\",\"green\",\"yellow\",\"green\",\"yellow\",\"yellow\",\"yellow\",\"yellow\",\"yellow\",\"yellow\",\"yellow\",\"green\",\"green\",\"yellow\",\"yellow\",\"yellow\",\"yellow\",\"green\",\"yellow\",\"green\",\"yellow\",\"yellow\",\"yellow\",\"green\",\"yellow\",\"green\",\"green\",\"yellow\",\"green\",\"yellow\",\"yellow\",\"yellow\",\"green\",\"yellow\",\"yellow\",\"yellow\",\"yellow\",\"yellow\",\"yellow\",\"yellow\",\"green\",\"yellow\",\"green\",\"yellow\",\"yellow\",\"green\",\"yellow\",\"yellow\",\"yellow\",\"yellow\",\"yellow\",\"yellow\",\"green\",\"yellow\",\"yellow\",\"yellow\",\"green\",\"yellow\",\"yellow\",\"green\",\"yellow\",\"yellow\",\"green\",\"yellow\",\"red\",\"yellow\",\"yellow\",\"yellow\",\"green\",\"blue\",\"green\",\"yellow\",\"yellow\",\"green\",\"yellow\",\"green\",\"yellow\",\"yellow\",\"yellow\",\"red\",\"yellow\",\"yellow\",\"green\",\"green\",\"yellow\",\"yellow\",\"yellow\",\"green\",\"red\",\"green\",\"yellow\",\"red\",\"green\",\"yellow\",\"green\",\"yellow\",\"green\",\"yellow\",\"yellow\",\"yellow\",\"yellow\",\"green\",\"yellow\",\"yellow\",\"yellow\",\"green\",\"yellow\",\"blue\",\"yellow\",\"green\",\"yellow\",\"yellow\",\"yellow\",\"yellow\",\"green\",\"yellow\",\"blue\",\"yellow\",\"yellow\",\"green\",\"green\",\"yellow\",\"green\",\"red\",\"red\",\"yellow\",\"yellow\",\"yellow\",\"yellow\",\"yellow\",\"yellow\",\"green\",\"yellow\",\"yellow\",\"yellow\",\"green\",\"yellow\",\"green\",\"blue\",\"green\",\"green\",\"yellow\",\"yellow\",\"yellow\",\"yellow\",\"yellow\",\"green\",\"yellow\",\"yellow\",\"yellow\",\"yellow\",\"green\",\"yellow\",\"yellow\",\"green\",\"yellow\",\"green\",\"yellow\",\"yellow\",\"green\",\"green\",\"yellow\",\"yellow\",\"yellow\",\"green\",\"red\",\"yellow\",\"yellow\",\"green\",\"red\",\"yellow\",\"green\",\"yellow\",\"green\",\"green\",\"yellow\",\"yellow\",\"yellow\",\"green\",\"yellow\",\"yellow\",\"yellow\",\"yellow\",\"red\",\"yellow\",\"yellow\",\"yellow\",\"blue\",\"yellow\",\"yellow\",\"yellow\",\"green\",\"green\",\"green\",\"yellow\",\"red\",\"yellow\",\"green\",\"yellow\",\"yellow\",\"yellow\",\"yellow\",\"yellow\",\"red\",\"yellow\",\"green\",\"red\",\"yellow\",\"yellow\",\"yellow\",\"red\",\"green\",\"green\",\"yellow\",\"yellow\",\"yellow\",\"yellow\",\"yellow\",\"green\",\"green\",\"yellow\",\"green\",\"yellow\",\"yellow\",\"green\",\"green\",\"yellow\",\"red\",\"yellow\",\"yellow\",\"yellow\",\"green\",\"yellow\",\"yellow\",\"green\",\"yellow\",\"red\",\"green\",\"green\",\"yellow\",\"yellow\",\"yellow\",\"yellow\",\"red\",\"yellow\",\"yellow\",\"green\",\"yellow\",\"red\",\"yellow\",\"red\",\"yellow\",\"green\",\"yellow\",\"yellow\",\"green\",\"yellow\",\"yellow\",\"yellow\",\"yellow\",\"blue\",\"green\",\"green\",\"blue\",\"yellow\",\"yellow\",\"yellow\",\"yellow\",\"red\",\"green\",\"yellow\",\"yellow\",\"yellow\",\"green\",\"yellow\",\"green\",\"yellow\",\"green\",\"red\",\"yellow\",\"green\",\"red\",\"yellow\",\"green\",\"yellow\",\"yellow\",\"green\",\"green\",\"green\",\"yellow\",\"green\",\"yellow\",\"yellow\",\"yellow\",\"red\",\"yellow\",\"blue\",\"yellow\",\"yellow\",\"yellow\",\"red\",\"red\",\"green\",\"yellow\",\"yellow\",\"yellow\",\"yellow\",\"red\",\"yellow\",\"red\",\"yellow\",\"yellow\",\"red\",\"yellow\",\"yellow\",\"yellow\",\"yellow\",\"yellow\",\"yellow\",\"yellow\",\"green\",\"yellow\",\"yellow\",\"yellow\",\"green\",\"yellow\",\"yellow\",\"green\",\"yellow\",\"yellow\",\"green\",\"yellow\",\"yellow\",\"yellow\",\"yellow\",\"yellow\",\"yellow\",\"yellow\",\"yellow\",\"green\",\"yellow\",\"yellow\",\"yellow\",\"yellow\",\"yellow\",\"yellow\",\"green\",\"yellow\",\"red\",\"yellow\",\"yellow\",\"green\",\"green\",\"yellow\",\"green\",\"yellow\",\"yellow\",\"green\",\"yellow\",\"green\",\"yellow\",\"green\",\"yellow\",\"green\",\"yellow\",\"green\",\"green\",\"green\",\"yellow\",\"yellow\",\"green\",\"yellow\",\"green\",\"yellow\",\"yellow\",\"yellow\",\"yellow\",\"green\",\"yellow\",\"yellow\",\"yellow\",\"yellow\",\"yellow\",\"green\",\"red\",\"yellow\",\"yellow\",\"yellow\",\"yellow\",\"green\",\"yellow\",\"yellow\",\"yellow\",\"yellow\",\"yellow\",\"yellow\",\"yellow\",\"yellow\",\"green\",\"yellow\",\"green\",\"blue\",\"green\",\"yellow\",\"yellow\",\"green\",\"green\",\"green\",\"green\",\"green\",\"green\",\"yellow\",\"green\",\"yellow\",\"red\",\"green\",\"blue\",\"yellow\",\"red\",\"yellow\",\"yellow\",\"green\",\"yellow\",\"red\",\"yellow\",\"yellow\",\"yellow\",\"yellow\",\"green\",\"yellow\",\"yellow\",\"green\",\"green\",\"yellow\",\"yellow\",\"green\",\"yellow\",\"yellow\",\"yellow\",\"red\",\"yellow\",\"green\",\"yellow\",\"yellow\",\"yellow\",\"green\",\"yellow\",\"green\",\"yellow\",\"yellow\",\"green\",\"yellow\",\"yellow\",\"yellow\",\"green\",\"yellow\",\"red\",\"red\",\"yellow\",\"yellow\",\"yellow\",\"red\",\"yellow\",\"yellow\",\"red\",\"yellow\",\"green\",\"yellow\",\"yellow\",\"red\",\"green\",\"yellow\",\"yellow\",\"green\",\"green\",\"yellow\",\"yellow\",\"yellow\",\"green\",\"green\",\"yellow\",\"yellow\",\"yellow\",\"green\",\"red\",\"yellow\",\"green\",\"yellow\",\"yellow\",\"yellow\",\"green\",\"yellow\",\"yellow\",\"green\",\"yellow\",\"green\",\"green\",\"yellow\",\"yellow\",\"green\",\"yellow\",\"yellow\",\"green\",\"green\",\"yellow\",\"yellow\",\"yellow\",\"yellow\",\"green\",\"red\",\"yellow\",\"yellow\",\"yellow\",\"yellow\",\"yellow\",\"green\",\"yellow\",\"yellow\",\"yellow\",\"yellow\",\"green\",\"yellow\",\"green\",\"green\",\"yellow\",\"green\",\"yellow\",\"green\",\"yellow\",\"yellow\",\"red\",\"yellow\",\"green\",\"yellow\",\"yellow\",\"yellow\",\"yellow\",\"yellow\",\"yellow\",\"yellow\",\"yellow\",\"blue\",\"green\",\"green\",\"yellow\",\"green\",\"green\",\"yellow\",\"yellow\",\"yellow\",\"yellow\",\"yellow\",\"green\",\"green\",\"yellow\",\"yellow\",\"green\",\"yellow\",\"yellow\",\"yellow\",\"red\",\"green\",\"yellow\",\"green\",\"green\",\"yellow\",\"yellow\",\"yellow\",\"yellow\",\"green\",\"yellow\",\"yellow\",\"yellow\",\"yellow\",\"yellow\",\"yellow\",\"green\",\"yellow\",\"yellow\",\"yellow\",\"yellow\",\"yellow\",\"yellow\",\"yellow\",\"yellow\",\"yellow\",\"yellow\",\"yellow\",\"yellow\",\"green\",\"yellow\",\"yellow\",\"green\",\"yellow\",\"yellow\",\"red\",\"green\",\"green\",\"yellow\",\"green\",\"green\",\"yellow\",\"yellow\",\"yellow\",\"green\",\"green\",\"yellow\",\"green\",\"green\",\"green\",\"yellow\",\"green\",\"yellow\",\"green\",\"yellow\",\"yellow\",\"yellow\",\"yellow\",\"yellow\",\"yellow\",\"red\",\"yellow\",\"green\",\"yellow\",\"green\",\"yellow\",\"yellow\",\"yellow\",\"yellow\",\"yellow\",\"yellow\",\"yellow\",\"yellow\",\"yellow\",\"yellow\",\"yellow\",\"green\",\"green\",\"yellow\",\"green\",\"yellow\",\"yellow\",\"yellow\",\"green\",\"yellow\",\"yellow\",\"green\",\"yellow\",\"red\",\"yellow\",\"yellow\",\"green\",\"yellow\",\"green\",\"green\",\"green\",\"yellow\",\"green\",\"green\",\"yellow\",\"yellow\",\"green\",\"green\",\"yellow\",\"yellow\",\"green\",\"yellow\",\"green\",\"yellow\",\"yellow\",\"yellow\",\"yellow\",\"yellow\",\"yellow\",\"yellow\",\"green\",\"yellow\",\"green\",\"red\",\"yellow\",\"yellow\",\"yellow\",\"green\",\"yellow\",\"yellow\",\"green\",\"yellow\",\"yellow\",\"yellow\",\"green\",\"yellow\",\"yellow\",\"yellow\",\"green\",\"yellow\",\"green\",\"yellow\",\"green\",\"yellow\",\"green\",\"yellow\",\"yellow\",\"yellow\",\"green\",\"yellow\",\"yellow\",\"green\",\"yellow\",\"yellow\",\"green\",\"yellow\",\"green\",\"yellow\",\"yellow\",\"yellow\",\"green\",\"yellow\",\"yellow\",\"green\",\"green\",\"green\",\"yellow\",\"yellow\",\"yellow\",\"red\",\"green\",\"yellow\",\"green\",\"yellow\",\"red\",\"green\",\"yellow\",\"yellow\",\"yellow\",\"yellow\",\"yellow\",\"green\",\"green\",\"green\",\"yellow\",\"green\",\"green\",\"yellow\",\"red\",\"yellow\",\"green\",\"yellow\",\"yellow\",\"yellow\",\"green\",\"yellow\",\"yellow\",\"yellow\",\"yellow\",\"yellow\",\"yellow\",\"red\",\"green\",\"green\",\"yellow\",\"green\",\"yellow\",\"yellow\",\"red\",\"yellow\",\"yellow\",\"yellow\",\"green\",\"yellow\",\"green\",\"yellow\",\"yellow\",\"red\",\"yellow\",\"yellow\",\"yellow\",\"yellow\",\"yellow\",\"yellow\",\"yellow\",\"yellow\",\"yellow\",\"green\",\"yellow\",\"yellow\",\"green\",\"blue\",\"green\",\"green\",\"yellow\",\"yellow\",\"yellow\",\"green\",\"yellow\",\"yellow\",\"yellow\",\"yellow\",\"yellow\",\"yellow\",\"yellow\",\"yellow\",\"yellow\",\"red\",\"yellow\",\"green\",\"yellow\",\"green\",\"red\",\"yellow\",\"green\",\"yellow\",\"yellow\",\"yellow\",\"green\",\"yellow\",\"green\",\"yellow\",\"yellow\",\"yellow\",\"yellow\",\"green\",\"yellow\",\"green\",\"yellow\",\"yellow\",\"yellow\",\"yellow\",\"yellow\",\"yellow\",\"green\",\"yellow\",\"green\",\"green\",\"green\",\"yellow\",\"yellow\",\"green\",\"yellow\",\"green\",\"yellow\",\"yellow\",\"green\",\"yellow\",\"green\",\"yellow\",\"yellow\",\"yellow\",\"yellow\",\"yellow\",\"red\",\"green\",\"yellow\",\"yellow\",\"green\",\"green\",\"yellow\",\"yellow\",\"yellow\",\"yellow\",\"yellow\",\"green\",\"yellow\",\"yellow\",\"yellow\",\"yellow\",\"yellow\",\"yellow\",\"yellow\",\"green\",\"yellow\",\"green\",\"green\",\"yellow\",\"yellow\",\"green\",\"green\",\"yellow\",\"yellow\",\"yellow\",\"yellow\",\"yellow\",\"yellow\",\"yellow\",\"yellow\",\"yellow\",\"green\",\"green\",\"yellow\",\"green\",\"yellow\",\"yellow\",\"green\",\"yellow\",\"yellow\",\"green\",\"green\",\"yellow\",\"yellow\",\"yellow\",\"yellow\",\"green\",\"green\",\"green\",\"yellow\",\"yellow\",\"yellow\",\"green\",\"yellow\",\"yellow\",\"yellow\",\"yellow\",\"yellow\",\"yellow\",\"yellow\",\"yellow\",\"yellow\",\"red\",\"yellow\",\"yellow\",\"yellow\",\"yellow\",\"green\",\"yellow\",\"yellow\",\"green\",\"green\",\"yellow\",\"yellow\",\"yellow\",\"green\",\"yellow\",\"green\",\"green\",\"green\",\"yellow\",\"green\",\"green\",\"yellow\",\"green\",\"yellow\",\"green\",\"yellow\",\"green\",\"green\",\"yellow\",\"green\",\"yellow\",\"yellow\",\"yellow\",\"yellow\",\"yellow\",\"yellow\",\"yellow\",\"yellow\",\"yellow\",\"green\",\"green\",\"yellow\",\"green\",\"yellow\",\"yellow\",\"yellow\",\"yellow\",\"yellow\",\"yellow\",\"yellow\",\"green\",\"yellow\",\"green\",\"green\",\"green\",\"yellow\",\"yellow\",\"yellow\",\"yellow\",\"yellow\",\"green\",\"yellow\",\"yellow\",\"yellow\",\"yellow\",\"yellow\",\"yellow\",\"yellow\",\"green\",\"green\",\"yellow\",\"yellow\",\"green\",\"green\",\"yellow\",\"yellow\",\"yellow\",\"green\",\"green\",\"yellow\",\"yellow\",\"blue\",\"yellow\",\"yellow\",\"yellow\",\"yellow\",\"green\",\"yellow\",\"yellow\",\"yellow\",\"green\",\"yellow\",\"green\",\"yellow\",\"yellow\",\"yellow\",\"yellow\",\"yellow\",\"yellow\",\"yellow\",\"yellow\",\"yellow\",\"green\",\"green\",\"yellow\",\"yellow\",\"yellow\",\"yellow\",\"green\",\"green\",\"yellow\",\"yellow\",\"yellow\",\"yellow\",\"green\",\"yellow\",\"green\",\"red\",\"green\",\"yellow\",\"yellow\",\"yellow\",\"green\",\"yellow\",\"yellow\",\"green\",\"yellow\",\"yellow\",\"yellow\",\"yellow\",\"yellow\",\"green\",\"green\",\"yellow\",\"yellow\",\"yellow\",\"yellow\",\"yellow\",\"yellow\",\"yellow\",\"yellow\",\"green\",\"green\",\"yellow\",\"yellow\",\"yellow\",\"yellow\",\"green\",\"yellow\",\"yellow\",\"green\",\"yellow\",\"green\",\"yellow\",\"blue\",\"yellow\",\"yellow\",\"yellow\",\"yellow\",\"yellow\",\"yellow\",\"yellow\",\"green\",\"yellow\",\"yellow\",\"yellow\",\"green\",\"yellow\",\"red\",\"yellow\",\"green\",\"green\",\"red\",\"green\",\"yellow\",\"yellow\",\"yellow\",\"yellow\",\"green\",\"green\",\"green\",\"yellow\",\"green\",\"yellow\",\"yellow\",\"yellow\",\"yellow\",\"red\",\"green\",\"green\",\"green\",\"green\",\"yellow\",\"green\",\"yellow\",\"blue\",\"green\",\"yellow\",\"green\",\"green\",\"green\",\"green\",\"yellow\",\"yellow\",\"yellow\",\"green\",\"green\",\"yellow\",\"red\",\"yellow\",\"green\",\"yellow\",\"green\",\"yellow\",\"yellow\",\"yellow\",\"yellow\",\"yellow\",\"yellow\",\"yellow\",\"yellow\",\"yellow\",\"green\",\"yellow\",\"yellow\",\"yellow\",\"yellow\",\"green\",\"green\",\"green\",\"yellow\",\"yellow\",\"green\",\"yellow\",\"green\",\"yellow\",\"yellow\",\"green\",\"yellow\",\"yellow\",\"green\",\"yellow\",\"green\",\"yellow\",\"green\",\"green\",\"yellow\",\"yellow\",\"green\",\"green\",\"yellow\",\"yellow\",\"green\",\"yellow\",\"green\",\"yellow\",\"yellow\",\"green\",\"yellow\",\"green\",\"yellow\",\"yellow\",\"yellow\",\"yellow\",\"yellow\",\"yellow\",\"yellow\",\"yellow\",\"green\",\"yellow\",\"yellow\",\"green\",\"yellow\",\"yellow\",\"yellow\",\"green\",\"green\",\"yellow\",\"green\",\"yellow\",\"yellow\",\"yellow\",\"yellow\",\"yellow\",\"green\",\"yellow\",\"green\",\"yellow\",\"green\",\"yellow\",\"yellow\",\"yellow\",\"red\",\"yellow\",\"yellow\",\"yellow\",\"yellow\",\"green\",\"green\",\"green\",\"green\",\"green\",\"green\",\"yellow\",\"yellow\",\"yellow\",\"green\",\"green\",\"yellow\",\"red\",\"yellow\",\"green\",\"yellow\",\"green\",\"yellow\",\"red\",\"yellow\",\"yellow\",\"green\",\"yellow\",\"green\",\"yellow\",\"yellow\",\"yellow\",\"yellow\",\"green\",\"red\",\"yellow\",\"yellow\",\"green\",\"yellow\"],\"label\":[\"High\",\"V.High\",\"V.High\",\"V.High\",\"High\",\"Medium\",\"V.High\",\"Medium\",\"High\",\"High\",\"High\",\"High\",\"High\",\"High\",\"High\",\"High\",\"Medium\",\"High\",\"Medium\",\"High\",\"High\",\"High\",\"High\",\"V.High\",\"High\",\"V.High\",\"Medium\",\"High\",\"Medium\",\"High\",\"Medium\",\"High\",\"High\",\"High\",\"High\",\"Medium\",\"High\",\"High\",\"Low\",\"Medium\",\"Medium\",\"High\",\"Medium\",\"High\",\"High\",\"Medium\",\"Low\",\"High\",\"Low\",\"High\",\"Medium\",\"Medium\",\"Medium\",\"Medium\",\"Medium\",\"Medium\",\"High\",\"High\",\"High\",\"Medium\",\"High\",\"High\",\"Medium\",\"High\",\"Medium\",\"High\",\"Medium\",\"High\",\"Medium\",\"High\",\"High\",\"High\",\"High\",\"High\",\"High\",\"High\",\"Medium\",\"Low\",\"Medium\",\"High\",\"Medium\",\"High\",\"Medium\",\"High\",\"High\",\"Medium\",\"High\",\"High\",\"Medium\",\"High\",\"High\",\"Medium\",\"Medium\",\"Medium\",\"High\",\"High\",\"Medium\",\"High\",\"High\",\"Medium\",\"High\",\"High\",\"Medium\",\"High\",\"High\",\"High\",\"Medium\",\"High\",\"High\",\"High\",\"Medium\",\"Low\",\"Low\",\"High\",\"High\",\"Low\",\"Medium\",\"Medium\",\"High\",\"Medium\",\"Medium\",\"High\",\"Medium\",\"Medium\",\"High\",\"Medium\",\"Medium\",\"Medium\",\"High\",\"Medium\",\"High\",\"Low\",\"High\",\"High\",\"Medium\",\"Medium\",\"Medium\",\"High\",\"Medium\",\"High\",\"Medium\",\"High\",\"High\",\"High\",\"Medium\",\"Low\",\"High\",\"Medium\",\"Medium\",\"High\",\"High\",\"High\",\"High\",\"Medium\",\"Medium\",\"High\",\"Medium\",\"Medium\",\"High\",\"High\",\"Medium\",\"Medium\",\"High\",\"Medium\",\"Medium\",\"Medium\",\"Medium\",\"High\",\"Medium\",\"High\",\"Medium\",\"Medium\",\"Low\",\"High\",\"Medium\",\"Medium\",\"Medium\",\"Medium\",\"Medium\",\"Medium\",\"High\",\"Medium\",\"High\",\"Medium\",\"Medium\",\"Medium\",\"High\",\"High\",\"High\",\"High\",\"Medium\",\"Medium\",\"Low\",\"Medium\",\"Medium\",\"High\",\"High\",\"High\",\"Medium\",\"Medium\",\"High\",\"Medium\",\"Medium\",\"High\",\"Medium\",\"Medium\",\"Medium\",\"Medium\",\"Low\",\"Medium\",\"High\",\"High\",\"High\",\"High\",\"Medium\",\"Low\",\"High\",\"High\",\"High\",\"Low\",\"Medium\",\"Low\",\"Medium\",\"High\",\"Medium\",\"Medium\",\"High\",\"High\",\"High\",\"High\",\"Medium\",\"Low\",\"Medium\",\"High\",\"Medium\",\"Medium\",\"High\",\"Medium\",\"High\",\"High\",\"Medium\",\"High\",\"Medium\",\"Medium\",\"High\",\"Medium\",\"Medium\",\"High\",\"High\",\"Medium\",\"Medium\",\"Medium\",\"High\",\"High\",\"High\",\"Low\",\"Medium\",\"Medium\",\"High\",\"Medium\",\"Medium\",\"Medium\",\"Medium\",\"Medium\",\"High\",\"Medium\",\"Medium\",\"High\",\"Low\",\"V. Low\",\"High\",\"Low\",\"Medium\",\"High\",\"Medium\",\"Medium\",\"Medium\",\"Medium\",\"Medium\",\"High\",\"High\",\"Medium\",\"Medium\",\"Low\",\"Medium\",\"Medium\",\"Medium\",\"Medium\",\"Medium\",\"Medium\",\"Medium\",\"Medium\",\"Medium\",\"Low\",\"Medium\",\"Medium\",\"Medium\",\"Medium\",\"High\",\"Medium\",\"High\",\"High\",\"Medium\",\"Medium\",\"High\",\"Medium\",\"Medium\",\"Medium\",\"High\",\"Low\",\"Medium\",\"Medium\",\"Medium\",\"V. Low\",\"High\",\"Medium\",\"Medium\",\"Medium\",\"Medium\",\"High\",\"High\",\"High\",\"Medium\",\"Medium\",\"Low\",\"High\",\"High\",\"Medium\",\"Medium\",\"High\",\"Medium\",\"High\",\"High\",\"High\",\"Low\",\"High\",\"Medium\",\"Medium\",\"Medium\",\"Medium\",\"Medium\",\"Medium\",\"Medium\",\"Medium\",\"Medium\",\"Medium\",\"High\",\"Medium\",\"High\",\"Medium\",\"V. Low\",\"Medium\",\"Medium\",\"Medium\",\"High\",\"Medium\",\"Medium\",\"Medium\",\"Medium\",\"Low\",\"Medium\",\"Medium\",\"Medium\",\"High\",\"High\",\"Medium\",\"Low\",\"Medium\",\"Medium\",\"Medium\",\"Medium\",\"Medium\",\"Medium\",\"Medium\",\"Medium\",\"Medium\",\"Low\",\"Low\",\"High\",\"Medium\",\"Medium\",\"Medium\",\"Medium\",\"Medium\",\"Medium\",\"Medium\",\"Low\",\"Low\",\"Low\",\"Medium\",\"Medium\",\"Low\",\"Low\",\"Low\",\"High\",\"Medium\",\"Medium\",\"Medium\",\"Medium\",\"High\",\"High\",\"Medium\",\"Medium\",\"Low\",\"Medium\",\"Medium\",\"Low\",\"Medium\",\"Medium\",\"Medium\",\"Medium\",\"High\",\"Medium\",\"Medium\",\"High\",\"Medium\",\"Medium\",\"Medium\",\"Low\",\"Medium\",\"High\",\"Medium\",\"Medium\",\"Medium\",\"Medium\",\"Medium\",\"Medium\",\"Medium\",\"Medium\",\"Medium\",\"Medium\",\"Medium\",\"Medium\",\"Medium\",\"Medium\",\"High\",\"Medium\",\"Low\",\"Medium\",\"Medium\",\"Medium\",\"Medium\",\"Medium\",\"High\",\"Low\",\"High\",\"Medium\",\"Medium\",\"High\",\"Medium\",\"High\",\"Low\",\"High\",\"Medium\",\"Medium\",\"High\",\"Medium\",\"Medium\",\"Medium\",\"Medium\",\"Medium\",\"Medium\",\"Medium\",\"High\",\"Medium\",\"Medium\",\"Medium\",\"Low\",\"Low\",\"High\",\"Low\",\"Medium\",\"Medium\",\"Medium\",\"Medium\",\"High\",\"Medium\",\"Medium\",\"Medium\",\"Medium\",\"Low\",\"Medium\",\"Medium\",\"Medium\",\"Low\",\"Medium\",\"Medium\",\"Medium\",\"V. Low\",\"Medium\",\"Medium\",\"Medium\",\"V. Low\",\"Medium\",\"Medium\",\"Medium\",\"Medium\",\"Medium\",\"Medium\",\"Medium\",\"Medium\",\"Medium\",\"Medium\",\"Medium\",\"High\",\"Medium\",\"High\",\"Medium\",\"Medium\",\"Medium\",\"High\",\"Low\",\"Medium\",\"Medium\",\"Medium\",\"High\",\"Low\",\"Medium\",\"Medium\",\"Medium\",\"Medium\",\"Medium\",\"Medium\",\"Medium\",\"Medium\",\"Medium\",\"Medium\",\"Medium\",\"Medium\",\"Medium\",\"Medium\",\"High\",\"Medium\",\"Medium\",\"Medium\",\"Low\",\"Medium\",\"Medium\",\"Low\",\"High\",\"Medium\",\"Medium\",\"Medium\",\"High\",\"Medium\",\"Low\",\"Low\",\"High\",\"Medium\",\"Medium\",\"Medium\",\"Medium\",\"Low\",\"Medium\",\"Low\",\"Medium\",\"Medium\",\"Medium\",\"Medium\",\"High\",\"Medium\",\"Medium\",\"Low\",\"Medium\",\"Medium\",\"Medium\",\"Medium\",\"Medium\",\"Medium\",\"Low\",\"Low\",\"High\",\"Medium\",\"Medium\",\"Medium\",\"High\",\"Medium\",\"High\",\"Medium\",\"Medium\",\"Medium\",\"High\",\"Medium\",\"Medium\",\"Low\",\"Medium\",\"High\",\"Low\",\"Medium\",\"Medium\",\"Medium\",\"Medium\",\"Medium\",\"Medium\",\"Medium\",\"High\",\"Low\",\"Medium\",\"Medium\",\"Medium\",\"Medium\",\"Medium\",\"High\",\"Medium\",\"Medium\",\"Medium\",\"High\",\"Medium\",\"Medium\",\"Medium\",\"High\",\"High\",\"Medium\",\"Medium\",\"Medium\",\"Medium\",\"High\",\"Medium\",\"High\",\"Medium\",\"High\",\"Medium\",\"Medium\",\"Medium\",\"Low\",\"Low\",\"High\",\"Low\",\"V. Low\",\"Low\",\"Medium\",\"Medium\",\"Low\",\"Medium\",\"High\",\"High\",\"Medium\",\"Medium\",\"Low\",\"High\",\"Medium\",\"High\",\"Medium\",\"High\",\"Medium\",\"Medium\",\"Medium\",\"Low\",\"Medium\",\"Low\",\"Medium\",\"Medium\",\"Medium\",\"Medium\",\"Medium\",\"Medium\",\"Low\",\"High\",\"High\",\"Medium\",\"High\",\"High\",\"Medium\",\"Low\",\"Medium\",\"High\",\"Medium\",\"Medium\",\"Low\",\"Low\",\"Medium\",\"Medium\",\"Medium\",\"Low\",\"High\",\"Medium\",\"High\",\"Medium\",\"Medium\",\"Medium\",\"Medium\",\"Medium\",\"Medium\",\"Medium\",\"Medium\",\"Medium\",\"Medium\",\"Medium\",\"High\",\"Medium\",\"High\",\"Medium\",\"High\",\"Medium\",\"Medium\",\"Medium\",\"High\",\"Medium\",\"Medium\",\"Medium\",\"Medium\",\"Medium\",\"Medium\",\"Low\",\"Medium\",\"High\",\"High\",\"Low\",\"Low\",\"Medium\",\"Medium\",\"Medium\",\"Medium\",\"Medium\",\"Medium\",\"High\",\"Medium\",\"High\",\"Medium\",\"Low\",\"Low\",\"Medium\",\"Medium\",\"High\",\"Medium\",\"Medium\",\"Low\",\"Medium\",\"Low\",\"Medium\",\"Medium\",\"Low\",\"Medium\",\"Medium\",\"Medium\",\"Low\",\"High\",\"Medium\",\"Medium\",\"Medium\",\"Medium\",\"Medium\",\"Medium\",\"Medium\",\"Low\",\"High\",\"Medium\",\"High\",\"Low\",\"Medium\",\"Medium\",\"Low\",\"High\",\"Medium\",\"Low\",\"Medium\",\"Medium\",\"Low\",\"High\",\"High\",\"Medium\",\"High\",\"Medium\",\"Medium\",\"High\",\"Medium\",\"Medium\",\"Medium\",\"High\",\"High\",\"Medium\",\"Low\",\"Medium\",\"Medium\",\"Medium\",\"Medium\",\"Low\",\"Medium\",\"Medium\",\"Medium\",\"High\",\"Medium\",\"Medium\",\"High\",\"Low\",\"Medium\",\"Medium\",\"High\",\"Medium\",\"Low\",\"Medium\",\"Medium\",\"Medium\",\"Low\",\"Medium\",\"High\",\"Medium\",\"Medium\",\"High\",\"Medium\",\"Medium\",\"Medium\",\"Medium\",\"Medium\",\"Low\",\"Medium\",\"Low\",\"High\",\"Medium\",\"Medium\",\"Medium\",\"High\",\"Medium\",\"Medium\",\"Medium\",\"Medium\",\"Medium\",\"Medium\",\"Medium\",\"Medium\",\"High\",\"Medium\",\"Medium\",\"High\",\"Medium\",\"V. Low\",\"Medium\",\"Low\",\"High\",\"Low\",\"Low\",\"Medium\",\"Low\",\"Medium\",\"Medium\",\"Medium\",\"Medium\",\"Medium\",\"Medium\",\"Medium\",\"Medium\",\"Medium\",\"Medium\",\"Medium\",\"High\",\"Low\",\"Medium\",\"High\",\"High\",\"Medium\",\"Medium\",\"Medium\",\"Low\",\"Medium\",\"Medium\",\"High\",\"Medium\",\"Medium\",\"High\",\"Low\",\"High\",\"High\",\"Medium\",\"Medium\",\"High\",\"Low\",\"Medium\",\"Medium\",\"High\",\"Low\",\"Medium\",\"Medium\",\"Low\",\"Medium\",\"Low\",\"Low\",\"Low\",\"Medium\",\"Medium\",\"Medium\",\"Medium\",\"Medium\",\"Medium\",\"High\",\"Low\",\"Medium\",\"High\",\"Medium\",\"V. Low\",\"Medium\",\"Medium\",\"Medium\",\"Medium\",\"Medium\",\"Medium\",\"Medium\",\"Medium\",\"Medium\",\"Medium\",\"Medium\",\"Medium\",\"Medium\",\"Medium\",\"Low\",\"Low\",\"Low\",\"Medium\",\"Low\",\"High\",\"Medium\",\"Medium\",\"Low\",\"Medium\",\"Medium\",\"Medium\",\"Medium\",\"Medium\",\"Low\",\"Medium\",\"Medium\",\"Low\",\"High\",\"Medium\",\"Medium\",\"Medium\",\"Medium\",\"Medium\",\"High\",\"Low\",\"High\",\"Medium\",\"Medium\",\"Medium\",\"Medium\",\"Medium\",\"Medium\",\"Medium\",\"Low\",\"Low\",\"Medium\",\"Low\",\"Low\",\"Low\",\"Medium\",\"Low\",\"Medium\",\"High\",\"Low\",\"Low\",\"Medium\",\"High\",\"Medium\",\"Low\",\"High\",\"Low\",\"Medium\",\"Medium\",\"Medium\",\"Medium\",\"High\",\"Medium\",\"Medium\",\"Medium\",\"Medium\",\"Medium\",\"Medium\",\"High\",\"Medium\",\"Low\",\"Medium\",\"Medium\",\"Medium\",\"Medium\",\"High\",\"Medium\",\"Medium\",\"Medium\",\"High\",\"Low\",\"Medium\",\"Medium\",\"Low\",\"Medium\",\"Medium\",\"Medium\",\"Medium\",\"Medium\",\"Medium\",\"Medium\",\"Medium\",\"High\",\"Medium\",\"Medium\",\"Medium\",\"Medium\",\"Medium\",\"Medium\",\"Medium\",\"High\",\"Medium\",\"Medium\",\"Medium\",\"Low\",\"High\",\"Medium\",\"Medium\",\"Medium\",\"High\",\"Low\",\"Medium\",\"Medium\",\"Low\",\"Medium\",\"High\",\"Medium\",\"Medium\",\"Medium\",\"Medium\",\"Medium\",\"Medium\",\"Medium\",\"High\",\"Medium\",\"High\",\"Medium\",\"Medium\",\"Medium\",\"Low\",\"Low\",\"Medium\",\"High\",\"High\",\"Low\",\"Medium\",\"Medium\",\"Medium\",\"Medium\",\"Medium\",\"Medium\",\"High\",\"Medium\",\"High\",\"High\",\"High\",\"Medium\",\"High\",\"Medium\",\"Medium\",\"Medium\",\"Medium\",\"Low\",\"V. Low\",\"Medium\",\"Medium\",\"Medium\",\"Medium\",\"Medium\",\"Medium\",\"Low\",\"Medium\",\"Medium\",\"Low\",\"Low\",\"Medium\",\"Medium\",\"Low\",\"High\",\"Low\",\"Medium\",\"Medium\",\"Medium\",\"Medium\",\"Medium\",\"Low\",\"Low\",\"Medium\",\"Medium\",\"High\",\"Medium\",\"Medium\",\"Medium\",\"Medium\",\"High\",\"Medium\",\"Medium\",\"Medium\",\"Medium\",\"Medium\",\"High\",\"Low\",\"Low\",\"High\",\"Medium\",\"Medium\",\"Medium\",\"High\",\"High\",\"Medium\",\"Medium\",\"Medium\",\"Medium\",\"Medium\",\"Medium\",\"Medium\",\"Low\",\"Medium\",\"Medium\",\"Medium\",\"Medium\",\"High\",\"Low\",\"Medium\",\"Medium\",\"Medium\",\"V. Low\",\"Medium\",\"Low\",\"Medium\",\"Medium\",\"Low\",\"High\",\"Medium\",\"Low\",\"Low\",\"Low\",\"Medium\",\"High\",\"Medium\",\"Medium\",\"Medium\",\"High\",\"High\",\"Medium\",\"Medium\",\"High\",\"Medium\",\"Medium\",\"Medium\",\"Medium\",\"Medium\",\"Low\",\"High\",\"Medium\",\"Medium\",\"Medium\",\"Medium\",\"Medium\",\"Medium\",\"Medium\",\"Low\",\"Low\",\"Low\",\"Medium\",\"Low\",\"Low\",\"Low\",\"High\",\"Medium\",\"Medium\",\"High\",\"Medium\",\"Medium\",\"Medium\",\"Medium\",\"High\",\"Medium\",\"Medium\",\"Low\",\"Low\",\"Medium\",\"Low\",\"High\",\"High\",\"Medium\",\"Medium\",\"Medium\",\"Medium\",\"Medium\",\"Low\",\"Medium\",\"Medium\",\"Medium\",\"Low\",\"Medium\",\"Medium\",\"Medium\",\"High\",\"High\",\"Medium\",\"Medium\",\"Medium\",\"Medium\",\"Low\",\"Medium\",\"V. Low\",\"Medium\",\"Medium\",\"Medium\",\"Medium\",\"Medium\",\"Medium\",\"High\",\"Medium\",\"Medium\",\"Medium\",\"Medium\",\"Medium\",\"Medium\",\"Medium\",\"Medium\",\"Medium\",\"Low\",\"Medium\",\"Medium\",\"Medium\",\"Medium\",\"High\",\"Medium\",\"V. Low\",\"Low\",\"Low\",\"Low\",\"High\",\"Medium\",\"Medium\",\"Low\",\"Medium\",\"Medium\",\"Medium\",\"Medium\",\"Medium\",\"Medium\",\"Medium\",\"Medium\",\"Medium\",\"High\",\"Medium\",\"Low\",\"Medium\",\"Medium\",\"Medium\",\"High\",\"Medium\",\"Medium\",\"Medium\",\"Low\",\"Medium\",\"Medium\",\"Medium\",\"Medium\",\"V. Low\",\"Low\",\"High\",\"Low\",\"Low\",\"Medium\",\"Medium\",\"Medium\",\"Medium\",\"Low\",\"Medium\",\"Medium\",\"High\",\"Medium\",\"Medium\",\"High\",\"Medium\",\"Medium\",\"Medium\",\"High\",\"Low\",\"Low\",\"Medium\",\"Low\",\"Medium\",\"Medium\",\"Medium\",\"High\",\"Medium\",\"Medium\",\"V. Low\",\"Medium\",\"Medium\",\"V. Low\",\"Medium\",\"Medium\",\"Medium\",\"Medium\",\"Medium\",\"High\",\"Medium\",\"Medium\",\"High\",\"Medium\",\"V. Low\",\"High\",\"Medium\",\"High\",\"Low\",\"Low\",\"Medium\",\"Medium\",\"Medium\",\"Medium\",\"Medium\",\"Low\",\"Medium\",\"Low\",\"High\",\"Medium\",\"Low\",\"Low\",\"Medium\",\"Medium\",\"Medium\",\"Medium\",\"Medium\",\"Low\",\"Medium\",\"Medium\",\"Medium\",\"Medium\",\"Medium\",\"Medium\",\"Medium\",\"Medium\",\"Medium\",\"Low\",\"Low\",\"V. Low\",\"Medium\",\"Medium\",\"Medium\",\"Medium\",\"Medium\",\"Low\",\"High\",\"V. Low\",\"Low\",\"Medium\",\"Low\",\"Medium\",\"Low\",\"Low\",\"High\",\"Low\",\"Low\",\"V. Low\",\"High\",\"Medium\",\"Medium\",\"Medium\",\"Medium\",\"High\",\"Medium\",\"Medium\",\"Medium\",\"Low\",\"Medium\",\"Medium\",\"High\",\"Medium\",\"Medium\",\"Low\",\"Medium\",\"Low\",\"High\",\"Medium\",\"Medium\",\"High\",\"High\",\"Low\",\"High\",\"Medium\",\"Medium\",\"Medium\",\"Medium\",\"Medium\",\"Medium\",\"Medium\",\"Low\",\"Medium\",\"Medium\",\"Medium\",\"Medium\",\"Medium\",\"Medium\",\"Low\",\"Medium\",\"Medium\",\"Low\",\"Low\",\"Low\",\"Low\",\"Medium\",\"Medium\",\"Medium\",\"Medium\",\"Medium\",\"Medium\",\"Medium\",\"Medium\",\"Medium\",\"Low\",\"Low\",\"Medium\",\"Medium\",\"Medium\",\"Low\",\"Medium\",\"Low\",\"V. Low\",\"Medium\",\"Medium\",\"Medium\",\"Low\",\"Low\",\"Low\",\"Low\",\"Low\",\"High\",\"High\",\"Medium\",\"Medium\",\"Medium\",\"Medium\",\"High\",\"Medium\",\"Medium\",\"High\",\"Low\",\"Medium\",\"Medium\",\"Medium\",\"Low\",\"Low\",\"Medium\",\"Medium\",\"Medium\",\"Medium\",\"Medium\",\"Medium\",\"Medium\",\"Medium\",\"Medium\",\"Medium\",\"Medium\",\"Medium\",\"High\",\"Medium\",\"High\",\"High\",\"Medium\",\"Low\",\"Medium\",\"Medium\",\"High\",\"High\",\"Medium\",\"Medium\",\"Medium\",\"Low\",\"Medium\",\"Low\",\"Medium\",\"Medium\",\"Low\",\"Medium\",\"Medium\",\"High\",\"Medium\",\"Medium\",\"V. Low\",\"Medium\",\"Medium\",\"Medium\",\"Medium\",\"Low\",\"Medium\",\"Medium\",\"Low\",\"Low\",\"Medium\",\"Medium\",\"Low\",\"Low\",\"Medium\",\"Medium\",\"Medium\",\"Medium\",\"Medium\",\"Medium\",\"Low\",\"Medium\",\"Medium\",\"Medium\",\"Medium\",\"Low\",\"Medium\",\"High\",\"Low\",\"V. Low\",\"Medium\",\"Medium\",\"Medium\",\"Low\",\"Medium\",\"Medium\",\"Medium\",\"Medium\",\"Medium\",\"Low\",\"Medium\",\"Medium\",\"High\",\"Medium\",\"Medium\",\"Medium\",\"Medium\",\"V. Low\",\"High\",\"Medium\",\"Medium\",\"Medium\",\"Medium\",\"Low\",\"Medium\",\"Low\",\"Medium\",\"Medium\",\"Medium\",\"Medium\",\"Medium\",\"High\",\"Medium\",\"Medium\",\"High\",\"Medium\",\"Medium\",\"Low\",\"Medium\",\"Low\",\"V. Low\",\"Medium\",\"High\",\"Low\",\"Medium\",\"Low\",\"Low\",\"Medium\",\"Medium\",\"Medium\",\"Medium\",\"High\",\"Low\",\"Low\",\"Medium\",\"Medium\",\"High\",\"Medium\",\"Medium\",\"Medium\",\"Medium\",\"Medium\",\"Medium\",\"Medium\",\"High\",\"Medium\",\"Medium\",\"Medium\",\"Medium\",\"Medium\",\"Medium\",\"V. Low\",\"Medium\",\"Medium\",\"Low\",\"Medium\",\"Medium\",\"Low\",\"Medium\",\"Medium\",\"Medium\",\"Medium\",\"Medium\",\"High\",\"Medium\",\"Low\",\"Medium\",\"Low\",\"Medium\",\"Medium\",\"Medium\",\"Medium\",\"Medium\",\"Low\",\"Medium\",\"Medium\",\"Medium\",\"Medium\",\"Medium\",\"Medium\",\"Medium\",\"Medium\",\"Low\",\"Medium\",\"Medium\",\"Medium\",\"Medium\",\"Low\",\"Low\",\"Low\",\"Medium\",\"Low\",\"Low\",\"Low\",\"High\",\"Medium\",\"Low\",\"Low\",\"High\",\"Medium\",\"Low\",\"Medium\",\"Medium\",\"High\",\"High\",\"High\",\"Low\",\"Medium\",\"Low\",\"Medium\",\"Low\",\"Medium\",\"Medium\",\"High\",\"Medium\",\"Low\",\"Medium\",\"Medium\",\"Medium\",\"Medium\",\"Medium\",\"Medium\",\"Medium\",\"Low\",\"Low\",\"High\",\"Low\",\"Medium\",\"Medium\",\"Medium\",\"Low\",\"Medium\",\"Medium\",\"Medium\",\"Medium\",\"Low\",\"Medium\",\"Low\",\"Low\",\"Medium\",\"Medium\",\"Medium\",\"Low\",\"Low\",\"Medium\",\"Medium\",\"Medium\",\"Medium\",\"Medium\",\"Low\",\"Low\",\"Medium\",\"Medium\",\"Medium\",\"Medium\",\"Low\",\"Medium\",\"Medium\",\"Low\",\"Medium\",\"Medium\",\"High\",\"Medium\",\"Low\",\"Low\",\"Medium\",\"Medium\",\"Medium\",\"Medium\",\"Low\",\"Low\",\"Medium\",\"Medium\",\"Medium\",\"Medium\",\"Medium\",\"Medium\",\"Medium\",\"Medium\",\"Medium\",\"Low\",\"Medium\",\"Low\",\"Medium\",\"Low\",\"Medium\",\"Low\",\"Medium\",\"Medium\",\"Medium\",\"Medium\",\"Medium\",\"Low\",\"Medium\",\"High\",\"Medium\",\"Low\",\"Medium\",\"Medium\",\"Low\",\"Low\",\"Medium\",\"Medium\",\"Medium\",\"Medium\",\"Medium\",\"Medium\",\"Medium\",\"Medium\",\"Medium\",\"Medium\",\"High\",\"Medium\",\"Medium\",\"Low\",\"Medium\",\"Low\",\"Medium\",\"Low\",\"Medium\",\"Medium\",\"Medium\",\"Medium\",\"Medium\",\"High\",\"Low\",\"Medium\",\"High\",\"Medium\",\"V. Low\",\"Medium\",\"Medium\",\"Low\",\"Medium\",\"Low\",\"Medium\",\"Medium\",\"Medium\",\"Medium\",\"Medium\",\"Medium\",\"Medium\",\"Low\",\"Low\",\"Medium\",\"Medium\",\"Medium\",\"Medium\",\"Low\",\"Medium\",\"Low\",\"Medium\",\"Medium\",\"Medium\",\"Low\",\"Medium\",\"Low\",\"Low\",\"Medium\",\"Low\",\"Medium\",\"Medium\",\"Medium\",\"Low\",\"Medium\",\"Medium\",\"Medium\",\"Medium\",\"Medium\",\"Medium\",\"Medium\",\"Low\",\"Medium\",\"Low\",\"Medium\",\"Medium\",\"Low\",\"Medium\",\"Medium\",\"Medium\",\"Medium\",\"Medium\",\"Medium\",\"Low\",\"Medium\",\"Medium\",\"Medium\",\"Low\",\"Medium\",\"Medium\",\"Low\",\"Medium\",\"Medium\",\"Low\",\"Medium\",\"High\",\"Medium\",\"Medium\",\"Medium\",\"Low\",\"V. Low\",\"Low\",\"Medium\",\"Medium\",\"Low\",\"Medium\",\"Low\",\"Medium\",\"Medium\",\"Medium\",\"High\",\"Medium\",\"Medium\",\"Low\",\"Low\",\"Medium\",\"Medium\",\"Medium\",\"Low\",\"High\",\"Low\",\"Medium\",\"High\",\"Low\",\"Medium\",\"Low\",\"Medium\",\"Low\",\"Medium\",\"Medium\",\"Medium\",\"Medium\",\"Low\",\"Medium\",\"Medium\",\"Medium\",\"Low\",\"Medium\",\"V. Low\",\"Medium\",\"Low\",\"Medium\",\"Medium\",\"Medium\",\"Medium\",\"Low\",\"Medium\",\"V. Low\",\"Medium\",\"Medium\",\"Low\",\"Low\",\"Medium\",\"Low\",\"High\",\"High\",\"Medium\",\"Medium\",\"Medium\",\"Medium\",\"Medium\",\"Medium\",\"Low\",\"Medium\",\"Medium\",\"Medium\",\"Low\",\"Medium\",\"Low\",\"V. Low\",\"Low\",\"Low\",\"Medium\",\"Medium\",\"Medium\",\"Medium\",\"Medium\",\"Low\",\"Medium\",\"Medium\",\"Medium\",\"Medium\",\"Low\",\"Medium\",\"Medium\",\"Low\",\"Medium\",\"Low\",\"Medium\",\"Medium\",\"Low\",\"Low\",\"Medium\",\"Medium\",\"Medium\",\"Low\",\"High\",\"Medium\",\"Medium\",\"Low\",\"High\",\"Medium\",\"Low\",\"Medium\",\"Low\",\"Low\",\"Medium\",\"Medium\",\"Medium\",\"Low\",\"Medium\",\"Medium\",\"Medium\",\"Medium\",\"High\",\"Medium\",\"Medium\",\"Medium\",\"V. Low\",\"Medium\",\"Medium\",\"Medium\",\"Low\",\"Low\",\"Low\",\"Medium\",\"High\",\"Medium\",\"Low\",\"Medium\",\"Medium\",\"Medium\",\"Medium\",\"Medium\",\"High\",\"Medium\",\"Low\",\"High\",\"Medium\",\"Medium\",\"Medium\",\"High\",\"Low\",\"Low\",\"Medium\",\"Medium\",\"Medium\",\"Medium\",\"Medium\",\"Low\",\"Low\",\"Medium\",\"Low\",\"Medium\",\"Medium\",\"Low\",\"Low\",\"Medium\",\"High\",\"Medium\",\"Medium\",\"Medium\",\"Low\",\"Medium\",\"Medium\",\"Low\",\"Medium\",\"High\",\"Low\",\"Low\",\"Medium\",\"Medium\",\"Medium\",\"Medium\",\"High\",\"Medium\",\"Medium\",\"Low\",\"Medium\",\"High\",\"Medium\",\"High\",\"Medium\",\"Low\",\"Medium\",\"Medium\",\"Low\",\"Medium\",\"Medium\",\"Medium\",\"Medium\",\"V. Low\",\"Low\",\"Low\",\"V. Low\",\"Medium\",\"Medium\",\"Medium\",\"Medium\",\"High\",\"Low\",\"Medium\",\"Medium\",\"Medium\",\"Low\",\"Medium\",\"Low\",\"Medium\",\"Low\",\"High\",\"Medium\",\"Low\",\"High\",\"Medium\",\"Low\",\"Medium\",\"Medium\",\"Low\",\"Low\",\"Low\",\"Medium\",\"Low\",\"Medium\",\"Medium\",\"Medium\",\"High\",\"Medium\",\"V. Low\",\"Medium\",\"Medium\",\"Medium\",\"High\",\"High\",\"Low\",\"Medium\",\"Medium\",\"Medium\",\"Medium\",\"High\",\"Medium\",\"High\",\"Medium\",\"Medium\",\"High\",\"Medium\",\"Medium\",\"Medium\",\"Medium\",\"Medium\",\"Medium\",\"Medium\",\"Low\",\"Medium\",\"Medium\",\"Medium\",\"Low\",\"Medium\",\"Medium\",\"Low\",\"Medium\",\"Medium\",\"Low\",\"Medium\",\"Medium\",\"Medium\",\"Medium\",\"Medium\",\"Medium\",\"Medium\",\"Medium\",\"Low\",\"Medium\",\"Medium\",\"Medium\",\"Medium\",\"Medium\",\"Medium\",\"Low\",\"Medium\",\"High\",\"Medium\",\"Medium\",\"Low\",\"Low\",\"Medium\",\"Low\",\"Medium\",\"Medium\",\"Low\",\"Medium\",\"Low\",\"Medium\",\"Low\",\"Medium\",\"Low\",\"Medium\",\"Low\",\"Low\",\"Low\",\"Medium\",\"Medium\",\"Low\",\"Medium\",\"Low\",\"Medium\",\"Medium\",\"Medium\",\"Medium\",\"Low\",\"Medium\",\"Medium\",\"Medium\",\"Medium\",\"Medium\",\"Low\",\"High\",\"Medium\",\"Medium\",\"Medium\",\"Medium\",\"Low\",\"Medium\",\"Medium\",\"Medium\",\"Medium\",\"Medium\",\"Medium\",\"Medium\",\"Medium\",\"Low\",\"Medium\",\"Low\",\"V. Low\",\"Low\",\"Medium\",\"Medium\",\"Low\",\"Low\",\"Low\",\"Low\",\"Low\",\"Low\",\"Medium\",\"Low\",\"Medium\",\"High\",\"Low\",\"V. Low\",\"Medium\",\"High\",\"Medium\",\"Medium\",\"Low\",\"Medium\",\"High\",\"Medium\",\"Medium\",\"Medium\",\"Medium\",\"Low\",\"Medium\",\"Medium\",\"Low\",\"Low\",\"Medium\",\"Medium\",\"Low\",\"Medium\",\"Medium\",\"Medium\",\"High\",\"Medium\",\"Low\",\"Medium\",\"Medium\",\"Medium\",\"Low\",\"Medium\",\"Low\",\"Medium\",\"Medium\",\"Low\",\"Medium\",\"Medium\",\"Medium\",\"Low\",\"Medium\",\"High\",\"High\",\"Medium\",\"Medium\",\"Medium\",\"High\",\"Medium\",\"Medium\",\"High\",\"Medium\",\"Low\",\"Medium\",\"Medium\",\"High\",\"Low\",\"Medium\",\"Medium\",\"Low\",\"Low\",\"Medium\",\"Medium\",\"Medium\",\"Low\",\"Low\",\"Medium\",\"Medium\",\"Medium\",\"Low\",\"High\",\"Medium\",\"Low\",\"Medium\",\"Medium\",\"Medium\",\"Low\",\"Medium\",\"Medium\",\"Low\",\"Medium\",\"Low\",\"Low\",\"Medium\",\"Medium\",\"Low\",\"Medium\",\"Medium\",\"Low\",\"Low\",\"Medium\",\"Medium\",\"Medium\",\"Medium\",\"Low\",\"High\",\"Medium\",\"Medium\",\"Medium\",\"Medium\",\"Medium\",\"Low\",\"Medium\",\"Medium\",\"Medium\",\"Medium\",\"Low\",\"Medium\",\"Low\",\"Low\",\"Medium\",\"Low\",\"Medium\",\"Low\",\"Medium\",\"Medium\",\"High\",\"Medium\",\"Low\",\"Medium\",\"Medium\",\"Medium\",\"Medium\",\"Medium\",\"Medium\",\"Medium\",\"Medium\",\"V. Low\",\"Low\",\"Low\",\"Medium\",\"Low\",\"Low\",\"Medium\",\"Medium\",\"Medium\",\"Medium\",\"Medium\",\"Low\",\"Low\",\"Medium\",\"Medium\",\"Low\",\"Medium\",\"Medium\",\"Medium\",\"High\",\"Low\",\"Medium\",\"Low\",\"Low\",\"Medium\",\"Medium\",\"Medium\",\"Medium\",\"Low\",\"Medium\",\"Medium\",\"Medium\",\"Medium\",\"Medium\",\"Medium\",\"Low\",\"Medium\",\"Medium\",\"Medium\",\"Medium\",\"Medium\",\"Medium\",\"Medium\",\"Medium\",\"Medium\",\"Medium\",\"Medium\",\"Medium\",\"Low\",\"Medium\",\"Medium\",\"Low\",\"Medium\",\"Medium\",\"High\",\"Low\",\"Low\",\"Medium\",\"Low\",\"Low\",\"Medium\",\"Medium\",\"Medium\",\"Low\",\"Low\",\"Medium\",\"Low\",\"Low\",\"Low\",\"Medium\",\"Low\",\"Medium\",\"Low\",\"Medium\",\"Medium\",\"Medium\",\"Medium\",\"Medium\",\"Medium\",\"High\",\"Medium\",\"Low\",\"Medium\",\"Low\",\"Medium\",\"Medium\",\"Medium\",\"Medium\",\"Medium\",\"Medium\",\"Medium\",\"Medium\",\"Medium\",\"Medium\",\"Medium\",\"Low\",\"Low\",\"Medium\",\"Low\",\"Medium\",\"Medium\",\"Medium\",\"Low\",\"Medium\",\"Medium\",\"Low\",\"Medium\",\"High\",\"Medium\",\"Medium\",\"Low\",\"Medium\",\"Low\",\"Low\",\"Low\",\"Medium\",\"Low\",\"Low\",\"Medium\",\"Medium\",\"Low\",\"Low\",\"Medium\",\"Medium\",\"Low\",\"Medium\",\"Low\",\"Medium\",\"Medium\",\"Medium\",\"Medium\",\"Medium\",\"Medium\",\"Medium\",\"Low\",\"Medium\",\"Low\",\"High\",\"Medium\",\"Medium\",\"Medium\",\"Low\",\"Medium\",\"Medium\",\"Low\",\"Medium\",\"Medium\",\"Medium\",\"Low\",\"Medium\",\"Medium\",\"Medium\",\"Low\",\"Medium\",\"Low\",\"Medium\",\"Low\",\"Medium\",\"Low\",\"Medium\",\"Medium\",\"Medium\",\"Low\",\"Medium\",\"Medium\",\"Low\",\"Medium\",\"Medium\",\"Low\",\"Medium\",\"Low\",\"Medium\",\"Medium\",\"Medium\",\"Low\",\"Medium\",\"Medium\",\"Low\",\"Low\",\"Low\",\"Medium\",\"Medium\",\"Medium\",\"High\",\"Low\",\"Medium\",\"Low\",\"Medium\",\"High\",\"Low\",\"Medium\",\"Medium\",\"Medium\",\"Medium\",\"Medium\",\"Low\",\"Low\",\"Low\",\"Medium\",\"Low\",\"Low\",\"Medium\",\"High\",\"Medium\",\"Low\",\"Medium\",\"Medium\",\"Medium\",\"Low\",\"Medium\",\"Medium\",\"Medium\",\"Medium\",\"Medium\",\"Medium\",\"High\",\"Low\",\"Low\",\"Medium\",\"Low\",\"Medium\",\"Medium\",\"High\",\"Medium\",\"Medium\",\"Medium\",\"Low\",\"Medium\",\"Low\",\"Medium\",\"Medium\",\"High\",\"Medium\",\"Medium\",\"Medium\",\"Medium\",\"Medium\",\"Medium\",\"Medium\",\"Medium\",\"Medium\",\"Low\",\"Medium\",\"Medium\",\"Low\",\"V. Low\",\"Low\",\"Low\",\"Medium\",\"Medium\",\"Medium\",\"Low\",\"Medium\",\"Medium\",\"Medium\",\"Medium\",\"Medium\",\"Medium\",\"Medium\",\"Medium\",\"Medium\",\"High\",\"Medium\",\"Low\",\"Medium\",\"Low\",\"High\",\"Medium\",\"Low\",\"Medium\",\"Medium\",\"Medium\",\"Low\",\"Medium\",\"Low\",\"Medium\",\"Medium\",\"Medium\",\"Medium\",\"Low\",\"Medium\",\"Low\",\"Medium\",\"Medium\",\"Medium\",\"Medium\",\"Medium\",\"Medium\",\"Low\",\"Medium\",\"Low\",\"Low\",\"Low\",\"Medium\",\"Medium\",\"Low\",\"Medium\",\"Low\",\"Medium\",\"Medium\",\"Low\",\"Medium\",\"Low\",\"Medium\",\"Medium\",\"Medium\",\"Medium\",\"Medium\",\"High\",\"Low\",\"Medium\",\"Medium\",\"Low\",\"Low\",\"Medium\",\"Medium\",\"Medium\",\"Medium\",\"Medium\",\"Low\",\"Medium\",\"Medium\",\"Medium\",\"Medium\",\"Medium\",\"Medium\",\"Medium\",\"Low\",\"Medium\",\"Low\",\"Low\",\"Medium\",\"Medium\",\"Low\",\"Low\",\"Medium\",\"Medium\",\"Medium\",\"Medium\",\"Medium\",\"Medium\",\"Medium\",\"Medium\",\"Medium\",\"Low\",\"Low\",\"Medium\",\"Low\",\"Medium\",\"Medium\",\"Low\",\"Medium\",\"Medium\",\"Low\",\"Low\",\"Medium\",\"Medium\",\"Medium\",\"Medium\",\"Low\",\"Low\",\"Low\",\"Medium\",\"Medium\",\"Medium\",\"Low\",\"Medium\",\"Medium\",\"Medium\",\"Medium\",\"Medium\",\"Medium\",\"Medium\",\"Medium\",\"Medium\",\"High\",\"Medium\",\"Medium\",\"Medium\",\"Medium\",\"Low\",\"Medium\",\"Medium\",\"Low\",\"Low\",\"Medium\",\"Medium\",\"Medium\",\"Low\",\"Medium\",\"Low\",\"Low\",\"Low\",\"Medium\",\"Low\",\"Low\",\"Medium\",\"Low\",\"Medium\",\"Low\",\"Medium\",\"Low\",\"Low\",\"Medium\",\"Low\",\"Medium\",\"Medium\",\"Medium\",\"Medium\",\"Medium\",\"Medium\",\"Medium\",\"Medium\",\"Medium\",\"Low\",\"Low\",\"Medium\",\"Low\",\"Medium\",\"Medium\",\"Medium\",\"Medium\",\"Medium\",\"Medium\",\"Medium\",\"Low\",\"Medium\",\"Low\",\"Low\",\"Low\",\"Medium\",\"Medium\",\"Medium\",\"Medium\",\"Medium\",\"Low\",\"Medium\",\"Medium\",\"Medium\",\"Medium\",\"Medium\",\"Medium\",\"Medium\",\"Low\",\"Low\",\"Medium\",\"Medium\",\"Low\",\"Low\",\"Medium\",\"Medium\",\"Medium\",\"Low\",\"Low\",\"Medium\",\"Medium\",\"V. Low\",\"Medium\",\"Medium\",\"Medium\",\"Medium\",\"Low\",\"Medium\",\"Medium\",\"Medium\",\"Low\",\"Medium\",\"Low\",\"Medium\",\"Medium\",\"Medium\",\"Medium\",\"Medium\",\"Medium\",\"Medium\",\"Medium\",\"Medium\",\"Low\",\"Low\",\"Medium\",\"Medium\",\"Medium\",\"Medium\",\"Low\",\"Low\",\"Medium\",\"Medium\",\"Medium\",\"Medium\",\"Low\",\"Medium\",\"Low\",\"High\",\"Low\",\"Medium\",\"Medium\",\"Medium\",\"Low\",\"Medium\",\"Medium\",\"Low\",\"Medium\",\"Medium\",\"Medium\",\"Medium\",\"Medium\",\"Low\",\"Low\",\"Medium\",\"Medium\",\"Medium\",\"Medium\",\"Medium\",\"Medium\",\"Medium\",\"Medium\",\"Low\",\"Low\",\"Medium\",\"Medium\",\"Medium\",\"Medium\",\"Low\",\"Medium\",\"Medium\",\"Low\",\"Medium\",\"Low\",\"Medium\",\"V. Low\",\"Medium\",\"Medium\",\"Medium\",\"Medium\",\"Medium\",\"Medium\",\"Medium\",\"Low\",\"Medium\",\"Medium\",\"Medium\",\"Low\",\"Medium\",\"High\",\"Medium\",\"Low\",\"Low\",\"High\",\"Low\",\"Medium\",\"Medium\",\"Medium\",\"Medium\",\"Low\",\"Low\",\"Low\",\"Medium\",\"Low\",\"Medium\",\"Medium\",\"Medium\",\"Medium\",\"High\",\"Low\",\"Low\",\"Low\",\"Low\",\"Medium\",\"Low\",\"Medium\",\"V. Low\",\"Low\",\"Medium\",\"Low\",\"Low\",\"Low\",\"Low\",\"Medium\",\"Medium\",\"Medium\",\"Low\",\"Low\",\"Medium\",\"High\",\"Medium\",\"Low\",\"Medium\",\"Low\",\"Medium\",\"Medium\",\"Medium\",\"Medium\",\"Medium\",\"Medium\",\"Medium\",\"Medium\",\"Medium\",\"Low\",\"Medium\",\"Medium\",\"Medium\",\"Medium\",\"Low\",\"Low\",\"Low\",\"Medium\",\"Medium\",\"Low\",\"Medium\",\"Low\",\"Medium\",\"Medium\",\"Low\",\"Medium\",\"Medium\",\"Low\",\"Medium\",\"Low\",\"Medium\",\"Low\",\"Low\",\"Medium\",\"Medium\",\"Low\",\"Low\",\"Medium\",\"Medium\",\"Low\",\"Medium\",\"Low\",\"Medium\",\"Medium\",\"Low\",\"Medium\",\"Low\",\"Medium\",\"Medium\",\"Medium\",\"Medium\",\"Medium\",\"Medium\",\"Medium\",\"Medium\",\"Low\",\"Medium\",\"Medium\",\"Low\",\"Medium\",\"Medium\",\"Medium\",\"Low\",\"Low\",\"Medium\",\"Low\",\"Medium\",\"Medium\",\"Medium\",\"Medium\",\"Medium\",\"Low\",\"Medium\",\"Low\",\"Medium\",\"Low\",\"Medium\",\"Medium\",\"Medium\",\"High\",\"Medium\",\"Medium\",\"Medium\",\"Medium\",\"Low\",\"Low\",\"Low\",\"Low\",\"Low\",\"Low\",\"Medium\",\"Medium\",\"Medium\",\"Low\",\"Low\",\"Medium\",\"High\",\"Medium\",\"Low\",\"Medium\",\"Low\",\"Medium\",\"High\",\"Medium\",\"Medium\",\"Low\",\"Medium\",\"Low\",\"Medium\",\"Medium\",\"Medium\",\"Medium\",\"Low\",\"High\",\"Medium\",\"Medium\",\"Low\",\"Medium\"],\"title\":[\"Forrest Gump (1994)\",\"Pulp Fiction (1994)\",\"Shawshank Redemption, The (1994)\",\"Silence of the Lambs, The (1991)\",\"Star Wars: Episode IV - A New Hope (1977)\",\"Jurassic Park (1993)\",\"Matrix, The (1999)\",\"Toy Story (1995)\",\"Schindler's List (1993)\",\"Terminator 2: Judgment Day (1991)\",\"Star Wars: Episode V - The Empire Strikes Back (1980)\",\"Braveheart (1995)\",\"Back to the Future (1985)\",\"Fargo (1996)\",\"Raiders of the Lost Ark (Indiana Jones and the Raiders of the Lost Ark) (1981)\",\"American Beauty (1999)\",\"Independence Day (a.k.a. ID4) (1996)\",\"Star Wars: Episode VI - Return of the Jedi (1983)\",\"Aladdin (1992)\",\"Fugitive, The (1993)\",\"Fight Club (1999)\",\"Dances with Wolves (1990)\",\"Seven (a.k.a. Se7en) (1995)\",\"Usual Suspects, The (1995)\",\"Lord of the Rings: The Fellowship of the Ring, The (2001)\",\"Godfather, The (1972)\",\"Lion King, The (1994)\",\"Apollo 13 (1995)\",\"True Lies (1994)\",\"Twelve Monkeys (a.k.a. 12 Monkeys) (1995)\",\"Batman (1989)\",\"Sixth Sense, The (1999)\",\"Saving Private Ryan (1998)\",\"Men in Black (a.k.a. MIB) (1997)\",\"Lord of the Rings: The Two Towers, The (2002)\",\"Speed (1994)\",\"Beauty and the Beast (1991)\",\"Lord of the Rings: The Return of the King, The (2003)\",\"Ace Ventura: Pet Detective (1994)\",\"Shrek (2001)\",\"Mission: Impossible (1996)\",\"Groundhog Day (1993)\",\"Titanic (1997)\",\"Princess Bride, The (1987)\",\"Gladiator (2000)\",\"E.T. the Extra-Terrestrial (1982)\",\"Dumb & Dumber (Dumb and Dumber) (1994)\",\"Terminator, The (1984)\",\"Mask, The (1994)\",\"Good Will Hunting (1997)\",\"Mrs. Doubtfire (1993)\",\"Die Hard (1988)\",\"Twister (1996)\",\"Babe (1995)\",\"Willy Wonka & the Chocolate Factory (1971)\",\"Pretty Woman (1990)\",\"Ghostbusters (a.k.a. Ghost Busters) (1984)\",\"Indiana Jones and the Last Crusade (1989)\",\"Blade Runner (1982)\",\"Stargate (1994)\",\"Monty Python and the Holy Grail (1975)\",\"One Flew Over the Cuckoo's Nest (1975)\",\"Die Hard: With a Vengeance (1995)\",\"Pirates of the Caribbean: The Curse of the Black Pearl (2003)\",\"Star Wars: Episode I - The Phantom Menace (1999)\",\"Truman Show, The (1998)\",\"Rock, The (1996)\",\"Godfather: Part II, The (1974)\",\"Spider-Man (2002)\",\"Ferris Bueller's Day Off (1986)\",\"Memento (2000)\",\"Reservoir Dogs (1992)\",\"L\\u00e9on: The Professional (a.k.a. The Professional) (L\\u00e9on) (1994)\",\"Goodfellas (1990)\",\"Monsters, Inc. (2001)\",\"Ocean's Eleven (2001)\",\"Home Alone (1990)\",\"Batman Forever (1995)\",\"X-Men (2000)\",\"Alien (1979)\",\"Ghost (1990)\",\"Incredibles, The (2004)\",\"Being John Malkovich (1999)\",\"Amelie (Fabuleux destin d'Am\\u00e9lie Poulain, Le) (2001)\",\"Toy Story 2 (1999)\",\"Interview with the Vampire: The Vampire Chronicles (1994)\",\"L.A. Confidential (1997)\",\"Aliens (1986)\",\"Sleepless in Seattle (1993)\",\"Trainspotting (1996)\",\"2001: A Space Odyssey (1968)\",\"There's Something About Mary (1998)\",\"Finding Nemo (2003)\",\"GoldenEye (1995)\",\"Four Weddings and a Funeral (1994)\",\"Clockwork Orange, A (1971)\",\"Shakespeare in Love (1998)\",\"Dark Knight, The (2008)\",\"Big Lebowski, The (1998)\",\"Clueless (1995)\",\"Rain Man (1988)\",\"Taxi Driver (1976)\",\"Fifth Element, The (1997)\",\"Casablanca (1942)\",\"Breakfast Club, The (1985)\",\"Wizard of Oz, The (1939)\",\"Minority Report (2002)\",\"Clear and Present Danger (1994)\",\"Beautiful Mind, A (2001)\",\"Crouching Tiger, Hidden Dragon (Wo hu cang long) (2000)\",\"Star Trek: Generations (1994)\",\"Armageddon (1998)\",\"Waterworld (1995)\",\"Apocalypse Now (1979)\",\"Stand by Me (1986)\",\"Austin Powers: The Spy Who Shagged Me (1999)\",\"Kill Bill: Vol. 1 (2003)\",\"American Pie (1999)\",\"Inception (2010)\",\"Outbreak (1995)\",\"Firm, The (1993)\",\"Clerks (1994)\",\"Jaws (1975)\",\"Who Framed Roger Rabbit? (1988)\",\"Big (1988)\",\"Austin Powers: International Man of Mystery (1997)\",\"Jumanji (1995)\",\"Natural Born Killers (1994)\",\"American History X (1998)\",\"Airplane! (1980)\",\"Eternal Sunshine of the Spotless Mind (2004)\",\"Cliffhanger (1993)\",\"Jerry Maguire (1996)\",\"Office Space (1999)\",\"Bug's Life, A (1998)\",\"Harry Potter and the Sorcerer's Stone (a.k.a. Harry Potter and the Philosopher's Stone) (2001)\",\"Batman Begins (2005)\",\"Dr. Strangelove or: How I Learned to Stop Worrying and Love the Bomb (1964)\",\"Total Recall (1990)\",\"Dead Man Walking (1995)\",\"Beetlejuice (1988)\",\"Heat (1995)\",\"Full Metal Jacket (1987)\",\"Green Mile, The (1999)\",\"Kill Bill: Vol. 2 (2004)\",\"Net, The (1995)\",\"Shining, The (1980)\",\"Leaving Las Vegas (1995)\",\"While You Were Sleeping (1995)\",\"Amadeus (1984)\",\"Bourne Identity, The (2002)\",\"Catch Me If You Can (2002)\",\"Life Is Beautiful (La Vita \\u00e8 bella) (1997)\",\"Chicken Run (2000)\",\"Back to the Future Part II (1989)\",\"Almost Famous (2000)\",\"As Good as It Gets (1997)\",\"Indiana Jones and the Temple of Doom (1984)\",\"Hunt for Red October, The (1990)\",\"O Brother, Where Art Thou? (2000)\",\"Cast Away (2000)\",\"Dead Poets Society (1989)\",\"Snatch (2000)\",\"Demolition Man (1993)\",\"Get Shorty (1995)\",\"Happy Gilmore (1996)\",\"Back to the Future Part III (1990)\",\"Blues Brothers, The (1980)\",\"Birdcage, The (1996)\",\"Donnie Darko (2001)\",\"Broken Arrow (1996)\",\"Contact (1997)\",\"Ace Ventura: When Nature Calls (1995)\",\"Rear Window (1954)\",\"Monty Python's Life of Brian (1979)\",\"Lethal Weapon (1987)\",\"Grease (1978)\",\"Quiz Show (1994)\",\"Nightmare Before Christmas, The (1993)\",\"Dave (1993)\",\"Graduate, The (1967)\",\"Fish Called Wanda, A (1988)\",\"Edward Scissorhands (1990)\",\"Casino (1995)\",\"What's Eating Gilbert Grape (1993)\",\"Meet the Parents (2000)\",\"High Fidelity (2000)\",\"Mr. Holland's Opus (1995)\",\"North by Northwest (1959)\",\"When Harry Met Sally... (1989)\",\"Philadelphia (1993)\",\"Sense and Sensibility (1995)\",\"Blair Witch Project, The (1999)\",\"Lost in Translation (2003)\",\"Erin Brockovich (2000)\",\"Citizen Kane (1941)\",\"Departed, The (2006)\",\"Harry Potter and the Prisoner of Azkaban (2004)\",\"Gattaca (1997)\",\"Spider-Man 2 (2004)\",\"Face/Off (1997)\",\"Star Wars: Episode II - Attack of the Clones (2002)\",\"Star Trek: First Contact (1996)\",\"This Is Spinal Tap (1984)\",\"Matrix Reloaded, The (2003)\",\"American President, The (1995)\",\"X2: X-Men United (2003)\",\"Shrek 2 (2004)\",\"Mission: Impossible II (2000)\",\"Harry Potter and the Chamber of Secrets (2002)\",\"Sound of Music, The (1965)\",\"To Kill a Mockingbird (1962)\",\"Crimson Tide (1995)\",\"In the Line of Fire (1993)\",\"Annie Hall (1977)\",\"Mars Attacks! (1996)\",\"Sin City (2005)\",\"Run Lola Run (Lola rennt) (1998)\",\"Election (1999)\",\"Charlie's Angels (2000)\",\"Mummy, The (1999)\",\"Dogma (1999)\",\"Little Mermaid, The (1989)\",\"Untouchables, The (1987)\",\"Ed Wood (1994)\",\"Piano, The (1993)\",\"Mary Poppins (1964)\",\"Psycho (1960)\",\"Game, The (1997)\",\"Little Miss Sunshine (2006)\",\"My Cousin Vinny (1992)\",\"Honey, I Shrunk the Kids (1989)\",\"WALL\\u00b7E (2008)\",\"Chinatown (1974)\",\"Ransom (1996)\",\"Few Good Men, A (1992)\",\"Iron Man (2008)\",\"Superman (1978)\",\"Christmas Story, A (1983)\",\"Wallace & Gromit: The Wrong Trousers (1993)\",\"South Park: Bigger, Longer and Uncut (1999)\",\"Butch Cassidy and the Sundance Kid (1969)\",\"Wayne's World (1992)\",\"Bourne Supremacy, The (2004)\",\"12 Angry Men (1957)\",\"English Patient, The (1996)\",\"Top Gun (1986)\",\"Lock, Stock & Two Smoking Barrels (1998)\",\"Young Frankenstein (1974)\",\"Addams Family Values (1993)\",\"Scream (1996)\",\"Legends of the Fall (1994)\",\"V for Vendetta (2006)\",\"Traffic (2000)\",\"Juno (2007)\",\"Starship Troopers (1997)\",\"Phenomenon (1996)\",\"Star Trek II: The Wrath of Khan (1982)\",\"It's a Wonderful Life (1946)\",\"Abyss, The (1989)\",\"Liar Liar (1997)\",\"Bridget Jones's Diary (2001)\",\"Snow White and the Seven Dwarfs (1937)\",\"Maverick (1994)\",\"True Romance (1993)\",\"Air Force One (1997)\",\"Client, The (1994)\",\"Shaun of the Dead (2004)\",\"Santa Clause, The (1994)\",\"Judge Dredd (1995)\",\"Raising Arizona (1987)\",\"Wedding Singer, The (1998)\",\"Vertigo (1958)\",\"City of God (Cidade de Deus) (2002)\",\"Eraser (1996)\",\"Requiem for a Dream (2000)\",\"Rocky (1976)\",\"Royal Tenenbaums, The (2001)\",\"Platoon (1986)\",\"Rushmore (1998)\",\"Gone with the Wind (1939)\",\"Nutty Professor, The (1996)\",\"Avatar (2009)\",\"Lost World: Jurassic Park, The (1997)\",\"Enemy of the State (1998)\",\"Field of Dreams (1989)\",\"Crow, The (1994)\",\"Naked Gun 33 1/3: The Final Insult (1994)\",\"Die Hard 2 (1990)\",\"Pinocchio (1940)\",\"Talented Mr. Ripley, The (1999)\",\"Sling Blade (1996)\",\"Some Like It Hot (1959)\",\"Patriot, The (2000)\",\"Robin Hood: Men in Tights (1993)\",\"Chasing Amy (1997)\",\"Galaxy Quest (1999)\",\"Star Trek IV: The Voyage Home (1986)\",\"Bridge on the River Kwai, The (1957)\",\"Million Dollar Baby (2004)\",\"Romancing the Stone (1984)\",\"Singin' in the Rain (1952)\",\"Fantasia (1940)\",\"Batman Returns (1992)\",\"Grosse Pointe Blank (1997)\",\"Exorcist, The (1973)\",\"Pleasantville (1998)\",\"Notting Hill (1999)\",\"Full Monty, The (1997)\",\"City Slickers II: The Legend of Curly's Gold (1994)\",\"Sting, The (1973)\",\"Rocky Horror Picture Show, The (1975)\",\"Eyes Wide Shut (1999)\",\"Congo (1995)\",\"Spirited Away (Sen to Chihiro no kamikakushi) (2001)\",\"Ice Age (2002)\",\"Desperado (1995)\",\"Boogie Nights (1997)\",\"Unbreakable (2000)\",\"Maltese Falcon, The (1941)\",\"Wallace & Gromit: A Close Shave (1995)\",\"Brazil (1985)\",\"Like Water for Chocolate (Como agua para chocolate) (1992)\",\"Star Wars: Episode III - Revenge of the Sith (2005)\",\"Arachnophobia (1990)\",\"Blazing Saddles (1974)\",\"Close Encounters of the Third Kind (1977)\",\"Dragonheart (1996)\",\"Casino Royale (2006)\",\"Bourne Ultimatum, The (2007)\",\"Executive Decision (1996)\",\"Heathers (1989)\",\"Pianist, The (2002)\",\"Up (2009)\",\"Pocahontas (1995)\",\"Hoop Dreams (1994)\",\"Truth About Cats & Dogs, The (1996)\",\"French Kiss (1995)\",\"Crocodile Dundee (1986)\",\"Kingpin (1996)\",\"You've Got Mail (1998)\",\"The Devil's Advocate (1997)\",\"Much Ado About Nothing (1993)\",\"Grumpier Old Men (1995)\",\"Con Air (1997)\",\"Hot Shots! Part Deux (1993)\",\"Inglourious Basterds (2009)\",\"Animal House (1978)\",\"Harry Potter and the Goblet of Fire (2005)\",\"300 (2007)\",\"Cable Guy, The (1996)\",\"Best in Show (2000)\",\"Wag the Dog (1997)\",\"Pirates of the Caribbean: Dead Man's Chest (2006)\",\"Ratatouille (2007)\",\"M*A*S*H (a.k.a. MASH) (1970)\",\"Blade (1998)\",\"RoboCop (1987)\",\"Garden State (2004)\",\"Casper (1995)\",\"Glory (1989)\",\"William Shakespeare's Romeo + Juliet (1996)\",\"Bowling for Columbine (2002)\",\"Spaceballs (1987)\",\"Good, the Bad and the Ugly, The (Buono, il brutto, il cattivo, Il) (1966)\",\"I, Robot (2004)\",\"Beverly Hills Cop III (1994)\",\"League of Their Own, A (1992)\",\"Jackie Brown (1997)\",\"Lethal Weapon 2 (1989)\",\"Magnolia (1999)\",\"Unforgiven (1992)\",\"10 Things I Hate About You (1999)\",\"Planet of the Apes (1968)\",\"Tombstone (1993)\",\"Muriel's Wedding (1994)\",\"Father of the Bride Part II (1995)\",\"Gone in 60 Seconds (2000)\",\"Witness (1985)\",\"Basic Instinct (1992)\",\"Bonnie and Clyde (1967)\",\"Cinderella (1950)\",\"Alien\\u00b3 (a.k.a. Alien 3) (1992)\",\"Moulin Rouge (2001)\",\"Big Fish (2003)\",\"Love Actually (2003)\",\"Mask of Zorro, The (1998)\",\"Coneheads (1993)\",\"A.I. Artificial Intelligence (2001)\",\"Italian Job, The (2003)\",\"Species (1995)\",\"Matrix Revolutions, The (2003)\",\"Signs (2002)\",\"Star Trek III: The Search for Spock (1984)\",\"Seven Samurai (Shichinin no samurai) (1954)\",\"Caddyshack (1980)\",\"Manhattan (1979)\",\"Dirty Dancing (1987)\",\"Antz (1998)\",\"District 9 (2009)\",\"Good Morning, Vietnam (1987)\",\"Goldfinger (1964)\",\"James and the Giant Peach (1996)\",\"Last Action Hero (1993)\",\"Miss Congeniality (2000)\",\"Sabrina (1995)\",\"Perfect Storm, The (2000)\",\"Predator (1987)\",\"Dracula (Bram Stoker's Dracula) (1992)\",\"About a Boy (2002)\",\"So I Married an Axe Murderer (1993)\",\"Prestige, The (2006)\",\"Sleepy Hollow (1999)\",\"Tin Cup (1996)\",\"Pan's Labyrinth (Laberinto del fauno, El) (2006)\",\"Splash (1984)\",\"Fast Times at Ridgemont High (1982)\",\"My Best Friend's Wedding (1997)\",\"Disclosure (1994)\",\"Slumdog Millionaire (2008)\",\"28 Days Later (2002)\",\"Army of Darkness (1993)\",\"Dark City (1998)\",\"Beverly Hills Cop (1984)\",\"Bowfinger (1999)\",\"Goonies, The (1985)\",\"Jerk, The (1979)\",\"School of Rock (2003)\",\"My Big Fat Greek Wedding (2002)\",\"Star Trek (2009)\",\"Lady and the Tramp (1955)\",\"40-Year-Old Virgin, The (2005)\",\"Little Women (1994)\",\"Birds, The (1963)\",\"Shutter Island (2010)\",\"Boot, Das (Boat, The) (1981)\",\"Sneakers (1992)\",\"American Psycho (2000)\",\"Mighty Aphrodite (1995)\",\"Cruel Intentions (1999)\",\"Analyze This (1999)\",\"My Fair Lady (1964)\",\"Chicago (2002)\",\"Lawrence of Arabia (1962)\",\"Bruce Almighty (2003)\",\"Go (1999)\",\"Crying Game, The (1992)\",\"Tommy Boy (1995)\",\"African Queen, The (1951)\",\"Three Musketeers, The (1993)\",\"Primal Fear (1996)\",\"Space Jam (1996)\",\"Raging Bull (1980)\",\"Rumble in the Bronx (Hont faan kui) (1995)\",\"Great Escape, The (1963)\",\"Manchurian Candidate, The (1962)\",\"Chronicles of Narnia: The Lion, the Witch and the Wardrobe, The (2005)\",\"Scarface (1983)\",\"That Thing You Do! (1996)\",\"Alice in Wonderland (1951)\",\"Hudsucker Proxy, The (1994)\",\"Black Hawk Down (2001)\",\"Tomorrow Never Dies (1997)\",\"No Country for Old Men (2007)\",\"Hunchback of Notre Dame, The (1996)\",\"Others, The (2001)\",\"Fatal Attraction (1987)\",\"Highlander (1986)\",\"Mr. & Mrs. Smith (2005)\",\"Time to Kill, A (1996)\",\"Men in Black II (a.k.a. MIIB) (a.k.a. MIB 2) (2002)\",\"The Butterfly Effect (2004)\",\"From Dusk Till Dawn (1996)\",\"Bridges of Madison County, The (1995)\",\"Rob Roy (1995)\",\"Crash (2004)\",\"Elizabeth (1998)\",\"Adventures of Priscilla, Queen of the Desert, The (1994)\",\"Escape from New York (1981)\",\"Patriot Games (1992)\",\"Nine Months (1995)\",\"Deer Hunter, The (1978)\",\"Dark Knight Rises, The (2012)\",\"Ring, The (2002)\",\"Johnny Mnemonic (1995)\",\"Trading Places (1983)\",\"Deep Impact (1998)\",\"Tron (1982)\",\"Batman & Robin (1997)\",\"Charlie and the Chocolate Factory (2005)\",\"Fly, The (1986)\",\"Say Anything... (1989)\",\"Wild Wild West (1999)\",\"Star Trek VI: The Undiscovered Country (1991)\",\"Gremlins (1984)\",\"X-Files: Fight the Future, The (1998)\",\"Star Trek: The Motion Picture (1979)\",\"Legally Blonde (2001)\",\"River Wild, The (1994)\",\"Ben-Hur (1959)\",\"Avengers, The (2012)\",\"Fahrenheit 9/11 (2004)\",\"Mystic River (2003)\",\"Remains of the Day, The (1993)\",\"Cool Hand Luke (1967)\",\"Sixteen Candles (1984)\",\"Gandhi (1982)\",\"Zoolander (2001)\",\"Three Kings (1999)\",\"Jungle Book, The (1967)\",\"Cinema Paradiso (Nuovo cinema Paradiso) (1989)\",\"Beavis and Butt-Head Do America (1996)\",\"French Connection, The (1971)\",\"Austin Powers in Goldmember (2002)\",\"Wallace & Gromit: The Best of Aardman Animation (1996)\",\"Misery (1990)\",\"Runaway Bride (1999)\",\"Last Samurai, The (2003)\",\"Right Stuff, The (1983)\",\"(500) Days of Summer (2009)\",\"Thelma & Louise (1991)\",\"Sideways (2004)\",\"Romy and Michele's High School Reunion (1997)\",\"Insider, The (1999)\",\"Napoleon Dynamite (2004)\",\"Chocolat (2000)\",\"Postman, The (Postino, Il) (1994)\",\"Searching for Bobby Fischer (1993)\",\"Super Size Me (2004)\",\"Little Shop of Horrors (1986)\",\"Alien: Resurrection (1997)\",\"West Side Story (1961)\",\"Nell (1994)\",\"Player, The (1992)\",\"Mallrats (1995)\",\"Planet of the Apes (2001)\",\"Django Unchained (2012)\",\"Breakfast at Tiffany's (1961)\",\"Specialist, The (1994)\",\"Superbad (2007)\",\"Conspiracy Theory (1997)\",\"Harold and Maude (1971)\",\"Fear and Loathing in Las Vegas (1998)\",\"Boys Don't Cry (1999)\",\"Hangover, The (2009)\",\"What Women Want (2000)\",\"Borat: Cultural Learnings of America for Make Benefit Glorious Nation of Kazakhstan (2006)\",\"Bull Durham (1988)\",\"Robin Hood: Prince of Thieves (1991)\",\"Last of the Mohicans, The (1992)\",\"To Die For (1995)\",\"Time Bandits (1981)\",\"Me, Myself & Irene (2000)\",\"Double Jeopardy (1999)\",\"Cocoon (1985)\",\"Heavenly Creatures (1994)\",\"Billy Elliot (2000)\",\"Social Network, The (2010)\",\"Strange Days (1995)\",\"Interstellar (2014)\",\"First Knight (1995)\",\"Rush Hour (1998)\",\"Ghostbusters II (1989)\",\"Bad Boys (1995)\",\"Hook (1991)\",\"Children of Men (2006)\",\"Walk the Line (2005)\",\"Iron Giant, The (1999)\",\"Aristocats, The (1970)\",\"Billy Madison (1995)\",\"Junior (1994)\",\"Wedding Crashers (2005)\",\"Risky Business (1983)\",\"Pretty in Pink (1986)\",\"Adaptation (2002)\",\"Chariots of Fire (1981)\",\"I Am Legend (2007)\",\"Toy Story 3 (2010)\",\"Mulan (1998)\",\"Lethal Weapon 4 (1998)\",\"JFK (1991)\",\"Roger & Me (1989)\",\"Dangerous Minds (1995)\",\"Dumbo (1941)\",\"Pearl Harbor (2001)\",\"Hot Fuzz (2007)\",\"Swingers (1996)\",\"Willow (1988)\",\"Brady Bunch Movie, The (1995)\",\"I.Q. (1994)\",\"Blue Velvet (1986)\",\"101 Dalmatians (One Hundred and One Dalmatians) (1961)\",\"Entrapment (1999)\",\"Bend It Like Beckham (2002)\",\"Frequency (2000)\",\"Emma (1996)\",\"War of the Worlds (2005)\",\"Bill & Ted's Excellent Adventure (1989)\",\"Driving Miss Daisy (1989)\",\"Bullets Over Broadway (1994)\",\"Stripes (1981)\",\"Fast and the Furious, The (2001)\",\"Sherlock Holmes (2009)\",\"Rebel Without a Cause (1955)\",\"Streetcar Named Desire, A (1951)\",\"Ronin (1998)\",\"King's Speech, The (2010)\",\"Fried Green Tomatoes (1991)\",\"Pi (1998)\",\"Serenity (2005)\",\"Grifters, The (1990)\",\"City of Lost Children, The (Cit\\u00e9 des enfants perdus, La) (1995)\",\"Collateral (2004)\",\"Patton (1970)\",\"Stranger than Fiction (2006)\",\"Thank You for Smoking (2006)\",\"Femme Nikita, La (Nikita) (1990)\",\"Midnight Cowboy (1969)\",\"Remember the Titans (2000)\",\"Thomas Crown Affair, The (1999)\",\"Grand Day Out with Wallace and Gromit, A (1989)\",\"Cape Fear (1991)\",\"Sleeper (1973)\",\"Mulholland Drive (2001)\",\"Wild Things (1998)\",\"American Pie 2 (2001)\",\"Sunset Blvd. (a.k.a. Sunset Boulevard) (1950)\",\"Lethal Weapon 3 (1992)\",\"Flintstones, The (1994)\",\"Striptease (1996)\",\"L.A. Story (1991)\",\"Madness of King George, The (1994)\",\"Cider House Rules, The (1999)\",\"Donnie Brasco (1997)\",\"All About Eve (1950)\",\"Harry Potter and the Order of the Phoenix (2007)\",\"American Graffiti (1973)\",\"Poltergeist (1982)\",\"The Hunger Games (2012)\",\"In Bruges (2008)\",\"Network (1976)\",\"Third Man, The (1949)\",\"Road to Perdition (2002)\",\"Princess Mononoke (Mononoke-hime) (1997)\",\"NeverEnding Story, The (1984)\",\"Superman II (1980)\",\"Shallow Grave (1994)\",\"Mortal Kombat (1995)\",\"Peter Pan (1953)\",\"Terminator 3: Rise of the Machines (2003)\",\"Karate Kid, The (1984)\",\"Copycat (1995)\",\"American Werewolf in London, An (1981)\",\"Shanghai Noon (2000)\",\"Arsenic and Old Lace (1944)\",\"Philadelphia Story, The (1940)\",\"101 Dalmatians (1996)\",\"Lives of Others, The (Das leben der Anderen) (2006)\",\"Blood Diamond (2006)\",\"Enemy at the Gates (2001)\",\"20,000 Leagues Under the Sea (1954)\",\"Carrie (1976)\",\"Training Day (2001)\",\"Vanilla Sky (2001)\",\"Blow (2001)\",\"Shine (1996)\",\"Simpsons Movie, The (2007)\",\"Zombieland (2009)\",\"Scary Movie (2000)\",\"Sister Act (1992)\",\"Fisher King, The (1991)\",\"Moonstruck (1987)\",\"Guardians of the Galaxy (2014)\",\"Road Trip (2000)\",\"Monty Python's The Meaning of Life (1983)\",\"Dazed and Confused (1993)\",\"Finding Neverland (2004)\",\"Terminal, The (2004)\",\"Dodgeball: A True Underdog Story (2004)\",\"Doors, The (1991)\",\"Weird Science (1985)\",\"Ghost World (2001)\",\"Rudy (1993)\",\"World Is Not Enough, The (1999)\",\"Gods Must Be Crazy, The (1980)\",\"Craft, The (1996)\",\"Gran Torino (2008)\",\"Thin Red Line, The (1998)\",\"Rounders (1998)\",\"Rosemary's Baby (1968)\",\"Broadcast News (1987)\",\"Planes, Trains & Automobiles (1987)\",\"Big Chill, The (1983)\",\"Labyrinth (1986)\",\"Arlington Road (1999)\",\"Mystery Men (1999)\",\"Grand Budapest Hotel, The (2014)\",\"Don Juan DeMarco (1995)\",\"National Treasure (2004)\",\"Natural, The (1984)\",\"Miracle on 34th Street (1994)\",\"Godfather: Part III, The (1990)\",\"Killing Fields, The (1984)\",\"Lara Croft: Tomb Raider (2001)\",\"Equilibrium (2002)\",\"Muppet Movie, The (1979)\",\"Lone Star (1996)\",\"Showgirls (1995)\",\"Never Been Kissed (1999)\",\"Man on the Moon (1999)\",\"Sleeping Beauty (1959)\",\"Mad Max (1979)\",\"Dirty Dozen, The (1967)\",\"Wonder Boys (2000)\",\"Naked Gun: From the Files of Police Squad!, The (1988)\",\"October Sky (1999)\",\"Addams Family, The (1991)\",\"Gangs of New York (2002)\",\"Da Vinci Code, The (2006)\",\"Saint, The (1997)\",\"Desperately Seeking Susan (1985)\",\"Prince of Egypt, The (1998)\",\"Dangerous Liaisons (1988)\",\"Duck Soup (1933)\",\"Bambi (1942)\",\"Aviator, The (2004)\",\"Deep Blue Sea (1999)\",\"Terms of Endearment (1983)\",\"Reality Bites (1994)\",\"Cell, The (2000)\",\"Master and Commander: The Far Side of the World (2003)\",\"Forget Paris (1995)\",\"Hitchhiker's Guide to the Galaxy, The (2005)\",\"Akira (1988)\",\"Ocean's Twelve (2004)\",\"Multiplicity (1996)\",\"Harry Potter and the Deathly Hallows: Part 2 (2011)\",\"Strictly Ballroom (1992)\",\"Black Swan (2010)\",\"Powder (1995)\",\"About Schmidt (2002)\",\"Anchorman: The Legend of Ron Burgundy (2004)\",\"Heavy Metal (1981)\",\"Mystery Science Theater 3000: The Movie (1996)\",\"Michael (1996)\",\"Producers, The (1968)\",\"Harry Potter and the Deathly Hallows: Part 1 (2010)\",\"Kung Fu Panda (2008)\",\"Apartment, The (1960)\",\"Englishman Who Went Up a Hill But Came Down a Mountain, The (1995)\",\"Negotiator, The (1998)\",\"Hannibal (2001)\",\"Hero (Ying xiong) (2002)\",\"Pirates of the Caribbean: At World's End (2007)\",\"Swordfish (2001)\",\"Sleepers (1996)\",\"Notebook, The (2004)\",\"Saw (2004)\",\"How to Train Your Dragon (2010)\",\"Thing, The (1982)\",\"Evil Dead II (Dead by Dawn) (1987)\",\"People vs. Larry Flynt, The (1996)\",\"Illusionist, The (2006)\",\"WarGames (1983)\",\"Crumb (1994)\",\"Old School (2003)\",\"Old Boy (2003)\",\"Hotel Rwanda (2004)\",\"Big Sleep, The (1946)\",\"Deliverance (1972)\",\"Kalifornia (1993)\",\"Mummy Returns, The (2001)\",\"From Russia with Love (1963)\",\"Repo Man (1984)\",\"Emperor's New Groove, The (2000)\",\"Do the Right Thing (1989)\",\"Indian in the Cupboard, The (1995)\",\"Backdraft (1991)\",\"Carlito's Way (1993)\",\"Nightmare on Elm Street, A (1984)\",\"Modern Times (1936)\",\"Payback (1999)\",\"Rocketeer, The (1991)\",\"The Imitation Game (2014)\",\"Scream 2 (1997)\",\"Hercules (1997)\",\"Troy (2004)\",\"Three Colors: Red (Trois couleurs: Rouge) (1994)\",\"Double Indemnity (1944)\",\"Jay and Silent Bob Strike Back (2001)\",\"General's Daughter, The (1999)\",\"Jewel of the Nile, The (1985)\",\"Kramer vs. Kramer (1979)\",\"Jurassic Park III (2001)\",\"Ordinary People (1980)\",\"Three Colors: Blue (Trois couleurs: Bleu) (1993)\",\"Simple Plan, A (1998)\",\"Taken (2008)\",\"Dr. No (1962)\",\"Lord of War (2005)\",\"Falling Down (1993)\",\"Secret Garden, The (1993)\",\"Grumpy Old Men (1993)\",\"Mad Max: Fury Road (2015)\",\"Home Alone 2: Lost in New York (1992)\",\"Bulworth (1998)\",\"Free Willy (1993)\",\"In the Name of the Father (1993)\",\"Transformers (2007)\",\"Courage Under Fire (1996)\",\"\\u00a1Three Amigos! (1986)\",\"Last Emperor, The (1987)\",\"Bob Roberts (1992)\",\"Nixon (1995)\",\"Room with a View, A (1986)\",\"Color Purple, The (1985)\",\"Die Another Day (2002)\",\"Into the Wild (2007)\",\"Grapes of Wrath, The (1940)\",\"Under Siege 2: Dark Territory (1995)\",\"Mr. Smith Goes to Washington (1939)\",\"Out of Africa (1985)\",\"Scent of a Woman (1992)\",\"Waking Ned Devine (a.k.a. Waking Ned) (1998)\",\"Curious Case of Benjamin Button, The (2008)\",\"I Know What You Did Last Summer (1997)\",\"Flashdance (1983)\",\"Hollow Man (2000)\",\"Amores Perros (Love's a Bitch) (2000)\",\"Babe: Pig in the City (1998)\",\"Dune (1984)\",\"Scrooged (1988)\",\"Mission to Mars (2000)\",\"Virgin Suicides, The (1999)\",\"Kick-Ass (2010)\",\"Burn After Reading (2008)\",\"Hard Day's Night, A (1964)\",\"Bringing Up Baby (1938)\",\"Mexican, The (2001)\",\"National Lampoon's Vacation (1983)\",\"Jungle Book, The (1994)\",\"21 Grams (2003)\",\"Long Kiss Goodnight, The (1996)\",\"Panic Room (2002)\",\"Treasure of the Sierra Madre, The (1948)\",\"Bone Collector, The (1999)\",\"Welcome to the Dollhouse (1995)\",\"Delicatessen (1991)\",\"To Catch a Thief (1955)\",\"Victor/Victoria (1982)\",\"Waiting for Guffman (1996)\",\"Robin Hood (1973)\",\"Sgt. Bilko (1996)\",\"Tootsie (1982)\",\"Iron Man 2 (2010)\",\"Midnight Run (1988)\",\"Cool Runnings (1993)\",\"How the Grinch Stole Christmas (a.k.a. The Grinch) (2000)\",\"Malcolm X (1992)\",\"Bodyguard, The (1992)\",\"On the Waterfront (1954)\",\"Dog Day Afternoon (1975)\",\"Wolf of Wall Street, The (2013)\",\"50 First Dates (2004)\",\"Harry Potter and the Half-Blood Prince (2009)\",\"Pee-wee's Big Adventure (1985)\",\"Out of Sight (1998)\",\"Brokeback Mountain (2005)\",\"Kiss Kiss Bang Bang (2005)\",\"Gosford Park (2001)\",\"Sex, Lies, and Videotape (1989)\",\"Road Warrior, The (Mad Max 2) (1981)\",\"She's All That (1999)\",\"What About Bob? (1991)\",\"Village, The (2004)\",\"When a Man Loves a Woman (1994)\",\"U-571 (2000)\",\"Life Aquatic with Steve Zissou, The (2004)\",\"Boiler Room (2000)\",\"Star Wars: Episode VII - The Force Awakens (2015)\",\"Gravity (2013)\",\"Big Daddy (1999)\",\"White Men Can't Jump (1992)\",\"Inside Man (2006)\",\"Godzilla (1998)\",\"Hellboy (2004)\",\"Moon (2009)\",\"Crimes and Misdemeanors (1989)\",\"Anaconda (1997)\",\"Young Guns (1988)\",\"X-Men: First Class (2011)\",\"My Left Foot (1989)\",\"On Golden Pond (1981)\",\"Wallace & Gromit in The Curse of the Were-Rabbit (2005)\",\"Walk in the Clouds, A (1995)\",\"River Runs Through It, A (1992)\",\"Dark Crystal, The (1982)\",\"Final Destination (2000)\",\"Madagascar (2005)\",\"Tarzan (1999)\",\"Ever After: A Cinderella Story (1998)\",\"Mean Girls (2004)\",\"Return of the Pink Panther, The (1975)\",\"Logan's Run (1976)\",\"Escape from L.A. (1996)\",\"Daredevil (2003)\",\"Fletch (1985)\",\"Patch Adams (1998)\",\"Being There (1979)\",\"Whiplash (2014)\",\"City Slickers (1991)\",\"Poseidon Adventure, The (1972)\",\"Benny & Joon (1993)\",\"Knight's Tale, A (2001)\",\"Elephant Man, The (1980)\",\"Phone Booth (2002)\",\"Mulholland Falls (1996)\",\"Weekend at Bernie's (1989)\",\"Glengarry Glen Ross (1992)\",\"Charade (1963)\",\"Dick Tracy (1990)\",\"Night of the Living Dead (1968)\",\"Serpico (1973)\",\"Coyote Ugly (2000)\",\"Boyz N the Hood (1991)\",\"Secret of NIMH, The (1982)\",\"Good Night, and Good Luck. (2005)\",\"Howl's Moving Castle (Hauru no ugoku shiro) (2004)\",\"Down Periscope (1996)\",\"Bound (1996)\",\"Naked Gun 2 1/2: The Smell of Fear, The (1991)\",\"Elf (2003)\",\"Stuart Little (1999)\",\"Red Dragon (2002)\",\"25th Hour (2002)\",\"Miller's Crossing (1990)\",\"Drugstore Cowboy (1989)\",\"Dr. Dolittle (1998)\",\"Beach, The (2000)\",\"Muppet Treasure Island (1996)\",\"Scream 3 (2000)\",\"Jaws 2 (1978)\",\"Lawnmower Man, The (1992)\",\"Hoosiers (a.k.a. Best Shot) (1986)\",\"Mary Shelley's Frankenstein (Frankenstein) (1994)\",\"Intouchables (2011)\",\"Ghost in the Shell (K\\u00f4kaku kid\\u00f4tai) (1995)\",\"Karate Kid, Part II, The (1986)\",\"G.I. Jane (1997)\",\"Monster's Ball (2001)\",\"And Your Mother Too (Y tu mam\\u00e1 tambi\\u00e9n) (2001)\",\"Pitch Black (2000)\",\"Juror, The (1996)\",\"Ran (1985)\",\"Airheads (1994)\",\"Rush Hour 2 (2001)\",\"Edge of Tomorrow (2014)\",\"Sliding Doors (1998)\",\"Insomnia (2002)\",\"Sophie's Choice (1982)\",\"Sword in the Stone, The (1963)\",\"Dial M for Murder (1954)\",\"Whole Nine Yards, The (2000)\",\"Metropolis (1927)\",\"Sherlock Holmes: A Game of Shadows (2011)\",\"Up in the Air (2009)\",\"Hurt Locker, The (2008)\",\"Secrets & Lies (1996)\",\"Lost in Space (1998)\",\"Halloween (1978)\",\"Motorcycle Diaries, The (Diarios de motocicleta) (2004)\",\"Brothers McMullen, The (1995)\",\"Watchmen (2009)\",\"Moonrise Kingdom (2012)\",\"Ex Machina (2015)\",\"What Lies Beneath (2000)\",\"Scott Pilgrim vs. the World (2010)\",\"My Neighbor Totoro (Tonari no Totoro) (1988)\",\"Wedding Planner, The (2001)\",\"Battle Royale (Batoru rowaiaru) (2000)\",\"American Tail, An (1986)\",\"Tank Girl (1995)\",\"Laura (1944)\",\"There Will Be Blood (2007)\",\"Waterboy, The (1998)\",\"Spy Game (2001)\",\"First Wives Club, The (1996)\",\"The Hunger Games: Catching Fire (2013)\",\"Short Cuts (1993)\",\"Devil in a Blue Dress (1995)\",\"Roman Holiday (1953)\",\"Four Rooms (1995)\",\"Hackers (1995)\",\"Finding Forrester (2000)\",\"His Girl Friday (1940)\",\"Live Free or Die Hard (2007)\",\"Shadowlands (1993)\",\"Meet the Fockers (2004)\",\"It Happened One Night (1934)\",\"Ocean's Thirteen (2007)\",\"Airplane II: The Sequel (1982)\",\"Working Girl (1988)\",\"Island of Dr. Moreau, The (1996)\",\"Hamlet (1996)\",\"Hobbit: An Unexpected Journey, The (2012)\",\"Six Degrees of Separation (1993)\",\"Dawn of the Dead (2004)\",\"Her (2013)\",\"Star Trek V: The Final Frontier (1989)\",\"Dolores Claiborne (1995)\",\"Christmas Vacation (National Lampoon's Christmas Vacation) (1989)\",\"Pelican Brief, The (1993)\",\"Age of Innocence, The (1993)\",\"Lucky Number Slevin (2006)\",\"Omen, The (1976)\",\"Easy Rider (1969)\",\"It Could Happen to You (1994)\",\"Any Given Sunday (1999)\",\"Gone Girl (2014)\",\"Cars (2006)\",\"Day After Tomorrow, The (2004)\",\"The Martian (2015)\",\"Amistad (1997)\",\"Seabiscuit (2003)\",\"Charlotte's Web (1973)\",\"In & Out (1997)\",\"Constantine (2005)\",\"Popeye (1980)\",\"13th Warrior, The (1999)\",\"Live and Let Die (1973)\",\"Pursuit of Happyness, The (2006)\",\"Smoke (1995)\",\"Stigmata (1999)\",\"Pink Floyd: The Wall (1982)\",\"Coming to America (1988)\",\"Punch-Drunk Love (2002)\",\"Born on the Fourth of July (1989)\",\"Running Man, The (1987)\",\"Munich (2005)\",\"Source Code (2011)\",\"8 Mile (2002)\",\"Opposite of Sex, The (1998)\",\"Eat Drink Man Woman (Yin shi nan nu) (1994)\",\"Blood Simple (1984)\",\"Conan the Barbarian (1982)\",\"Inside Out (2015)\",\"Rise of the Planet of the Apes (2011)\",\"Hitch (2005)\",\"Evil Dead, The (1981)\",\"K-PAX (2001)\",\"28 Days (2000)\",\"Superman III (1983)\",\"X-Men: Days of Future Past (2014)\",\"Better Off Dead... (1985)\",\"Footloose (1984)\",\"Jacob's Ladder (1990)\",\"Father of the Bride (1950)\",\"Knocked Up (2007)\",\"eXistenZ (1999)\",\"Frighteners, The (1996)\",\"Dead Again (1991)\",\"RoboCop 3 (1993)\",\"Charlie's Angels: Full Throttle (2003)\",\"Skyfall (2012)\",\"Quick and the Dead, The (1995)\",\"Indiana Jones and the Kingdom of the Crystal Skull (2008)\",\"Hustler, The (1961)\",\"Six Days Seven Nights (1998)\",\"Parenthood (1989)\",\"Perfect Murder, A (1998)\",\"Barton Fink (1991)\",\"Fantastic Mr. Fox (2009)\",\"Sweet Hereafter, The (1997)\",\"xXx (2002)\",\"Black Sheep (1996)\",\"Private Benjamin (1980)\",\"Titan A.E. (2000)\",\"Name of the Rose, The (Name der Rose, Der) (1986)\",\"City Lights (1931)\",\"Bronx Tale, A (1993)\",\"Identity (2003)\",\"Major League (1989)\",\"Dancer in the Dark (2000)\",\"City of Angels (1998)\",\"King Kong (2005)\",\"Spanish Prisoner, The (1997)\",\"Mickey Blue Eyes (1999)\",\"To Wong Foo, Thanks for Everything! Julie Newmar (1995)\",\"Conversation, The (1974)\",\"Pay It Forward (2000)\",\"Event Horizon (1997)\",\"Strangers on a Train (1951)\",\"Meet Joe Black (1998)\",\"Dirty Harry (1971)\",\"Gods and Monsters (1998)\",\"Happiness (1998)\",\"Kids (1995)\",\"Moonraker (1979)\",\"Up Close and Personal (1996)\",\"Sabrina (1954)\",\"Great Dictator, The (1940)\",\"King Kong (1933)\",\"Diamonds Are Forever (1971)\",\"Rebecca (1940)\",\"Spider-Man 3 (2007)\",\"Bicycle Thieves (a.k.a. The Bicycle Thief) (a.k.a. The Bicycle Thieves) (Ladri di biciclette) (1948)\",\"Private Parts (1997)\",\"Richard III (1995)\",\"Shallow Hal (2001)\",\"Stardust (2007)\",\"Snake Eyes (1998)\",\"Who's Afraid of Virginia Woolf? (1966)\",\"Menace II Society (1993)\",\"Homeward Bound: The Incredible Journey (1993)\",\"Speed 2: Cruise Control (1997)\",\"Man on Fire (2004)\",\"Anger Management (2003)\",\"127 Hours (2010)\",\"The Count of Monte Cristo (2002)\",\"Outsiders, The (1983)\",\"Once Upon a Time in America (1984)\",\"Radio Days (1987)\",\"Mighty Ducks, The (1992)\",\"Deuce Bigalow: Male Gigolo (1999)\",\"Dick (1999)\",\"Pineapple Express (2008)\",\"Band of Brothers (2001)\",\"Big Trouble in Little China (1986)\",\"Beautiful Girls (1996)\",\"Henry V (1989)\",\"Circle of Friends (1995)\",\"Friday (1995)\",\"Spy Who Loved Me, The (1977)\",\"Captain America: The First Avenger (2011)\",\"Red Violin, The (Violon rouge, Le) (1998)\",\"Bedknobs and Broomsticks (1971)\",\"American Gangster (2007)\",\"Matchstick Men (2003)\",\"Three Colors: White (Trzy kolory: Bialy) (1994)\",\"Hurricane, The (1999)\",\"Adventures in Babysitting (1987)\",\"Big Night (1996)\",\"Island, The (2005)\",\"Doctor Zhivago (1965)\",\"Diner (1982)\",\"Cabaret (1972)\",\"Anastasia (1997)\",\"Whale Rider (2002)\",\"Boondock Saints, The (2000)\",\"Blade II (2002)\",\"Milk Money (1994)\",\"Crocodile Dundee II (1988)\",\"Peggy Sue Got Married (1986)\",\"Evita (1996)\",\"Dude, Where's My Car? (2000)\",\"Police Academy (1984)\",\"Murder in the First (1995)\",\"Wayne's World 2 (1993)\",\"In the Heat of the Night (1967)\",\"Professional, The (Le professionnel) (1981)\",\"Body Heat (1981)\",\"Miracle on 34th Street (1947)\",\"Starman (1984)\",\"Forgetting Sarah Marshall (2008)\",\"Stir of Echoes (1999)\",\"X-Men: The Last Stand (2006)\",\"Assassins (1995)\",\"Faculty, The (1998)\",\"Sweet Home Alabama (2002)\",\"Money Pit, The (1986)\",\"Dante's Peak (1997)\",\"Laputa: Castle in the Sky (Tenk\\u00fb no shiro Rapyuta) (1986)\",\"Monty Python's And Now for Something Completely Different (1971)\",\"Silver Linings Playbook (2012)\",\"Harold and Kumar Go to White Castle (2004)\",\"Hobbit: The Desolation of Smaug, The (2013)\",\"True Grit (2010)\",\"Arrival, The (1996)\",\"Resident Evil (2002)\",\"U.S. Marshals (1998)\",\"Man in the Iron Mask, The (1998)\",\"Rosencrantz and Guildenstern Are Dead (1990)\",\"Spy Hard (1996)\",\"American in Paris, An (1951)\",\"Life of Pi (2012)\",\"Sandlot, The (1993)\",\"Midnight in Paris (2011)\",\"Tangled (2010)\",\"Good bye, Lenin! (2003)\",\"Nosferatu (Nosferatu, eine Symphonie des Grauens) (1922)\",\"M (1931)\",\"F/X (1986)\",\"Timecop (1994)\",\"High Noon (1952)\",\"Haunting, The (1999)\",\"Odd Couple, The (1968)\",\"Rocky III (1982)\",\"Nashville (1975)\",\"Bringing Out the Dead (1999)\",\"Commitments, The (1991)\",\"Notorious (1946)\",\"Cube (1997)\",\"Top Hat (1935)\",\"Big Hero 6 (2014)\",\"Around the World in 80 Days (1956)\",\"Darjeeling Limited, The (2007)\",\"Last Picture Show, The (1971)\",\"Manhattan Murder Mystery (1993)\",\"Parent Trap, The (1961)\",\"Man Without a Face, The (1993)\",\"Purple Rose of Cairo, The (1985)\",\"Underworld (2003)\",\"Papillon (1973)\",\"Basketball Diaries, The (1995)\",\"Hairspray (1988)\",\"Rocky IV (1985)\",\"Ray (2004)\",\"Battlestar Galactica (2003)\",\"Lake Placid (1999)\",\"Save the Last Dance (2001)\",\"Summer of Sam (1999)\",\"Barbarella (1968)\",\"Dallas Buyers Club (2013)\",\"Heaven Can Wait (1978)\",\"William Shakespeare's A Midsummer Night's Dream (1999)\",\"Family Man, The (2000)\",\"Corpse Bride (2005)\",\"EDtv (1999)\",\"King and I, The (1956)\",\"Blast from the Past (1999)\",\"Iron Man 3 (2013)\",\"Mission: Impossible III (2006)\",\"Mighty Wind, A (2003)\",\"Devil Wears Prada, The (2006)\",\"Yellow Submarine (1968)\",\"Ghost and the Darkness, The (1996)\",\"Fox and the Hound, The (1981)\",\"Death Becomes Her (1992)\",\"Nurse Betty (2000)\",\"Joy Luck Club, The (1993)\",\"Ladyhawke (1985)\",\"Lilo & Stitch (2002)\",\"Jackal, The (1997)\",\"City Hall (1996)\",\"Flirting With Disaster (1996)\",\"Gremlins 2: The New Batch (1990)\",\"Dirty Rotten Scoundrels (1988)\",\"Evolution (2001)\",\"Lost Highway (1997)\",\"My Favorite Year (1982)\",\"Vertical Limit (2000)\",\"6th Day, The (2000)\",\"Zodiac (2007)\",\"Forever Young (1992)\",\"Absolute Power (1997)\",\"Alice in Wonderland (2010)\",\"Ghost Dog: The Way of the Samurai (1999)\",\"All That Jazz (1979)\",\"Kiss the Girls (1997)\",\"Pushing Tin (1999)\",\"History of Violence, A (2005)\",\"Steel Magnolias (1989)\",\"All the President's Men (1976)\",\"Ruthless People (1986)\",\"Nausica\\u00e4 of the Valley of the Wind (Kaze no tani no Naushika) (1984)\",\"Lost Boys, The (1987)\",\"Wall Street (1987)\",\"Immortal Beloved (1994)\",\"Thin Blue Line, The (1988)\",\"Pride & Prejudice (2005)\",\"League of Extraordinary Gentlemen, The (a.k.a. LXG) (2003)\",\"Ice Age 2: The Meltdown (2006)\",\"Midnight in the Garden of Good and Evil (1997)\",\"Chronicles of Riddick, The (2004)\",\"Real Genius (1985)\",\"Star Trek Into Darkness (2013)\",\"Toys (1992)\",\"3:10 to Yuma (2007)\",\"All About My Mother (Todo sobre mi madre) (1999)\",\"From Hell (2001)\",\"Richie Rich (1994)\",\"Five Easy Pieces (1970)\",\"Paper, The (1994)\",\"Inspector Gadget (1999)\",\"Stalag 17 (1953)\",\"Girl, Interrupted (1999)\",\"Amazing Spider-Man, The (2012)\",\"Team America: World Police (2004)\",\"Breaking the Waves (1996)\",\"Day the Earth Stood Still, The (1951)\",\"Downfall (Untergang, Der) (2004)\",\"8 1/2 (8\\u00bd) (1963)\",\"Ideal Husband, An (1999)\",\"Bring It On (2000)\",\"Bio-Dome (1996)\",\"Dead Zone, The (1983)\",\"Looper (2012)\",\"From Here to Eternity (1953)\",\"Volcano (1997)\",\"Sudden Death (1995)\",\"Little Princess, A (1995)\",\"Flatliners (1990)\",\"Man Who Wasn't There, The (2001)\",\"Romeo Must Die (2000)\",\"Limitless (2011)\",\"Return to Me (2000)\",\"Cape Fear (1962)\",\"Grease 2 (1982)\",\"Blind Side, The  (2009)\",\"Spartacus (1960)\",\"Mr. Deeds (2002)\",\"Three Men and a Baby (1987)\",\"Cinderella Man (2005)\",\"Seven Years in Tibet (1997)\",\"Invasion of the Body Snatchers (1956)\",\"Capote (2005)\",\"Kung Fu Hustle (Gong fu) (2004)\",\"Absent-Minded Professor, The (1961)\",\"Mad Max Beyond Thunderdome (1985)\",\"Serendipity (2001)\",\"Bad Santa (2003)\",\"Closer (2004)\",\"Tropic Thunder (2008)\",\"Hancock (2008)\",\"The Machinist (2004)\",\"Cop Land (1997)\",\"'burbs, The (1989)\",\"Scary Movie 2 (2001)\",\"Final Fantasy: The Spirits Within (2001)\",\"End of Days (1999)\",\"Lord of the Rings, The (1978)\",\"Cloverfield (2008)\",\"Sweeney Todd: The Demon Barber of Fleet Street (2007)\",\"Awakenings (1990)\",\"Eastern Promises (2007)\",\"One Hour Photo (2002)\",\"Harvey (1950)\",\"Battlefield Earth (2000)\",\"RoboCop 2 (1990)\",\"Straight Story, The (1999)\",\"Blue Lagoon, The (1980)\",\"View to a Kill, A (1985)\",\"Police Academy 2: Their First Assignment (1985)\",\"Predator 2 (1990)\",\"Breaking Away (1979)\",\"Sphere (1998)\",\"Rocky V (1990)\",\"Karate Kid, Part III, The (1989)\",\"Inconvenient Truth, An (2006)\",\"Civil Action, A (1998)\",\"Fistful of Dollars, A (Per un pugno di dollari) (1964)\",\"Clue (1985)\",\"One Fine Day (1996)\",\"Raise the Red Lantern (Da hong deng long gao gao gua) (1991)\",\"Boomerang (1992)\",\"Bananas (1971)\",\"Down by Law (1986)\",\"Son in Law (1993)\",\"Touch of Evil (1958)\",\"Wolf (1994)\",\"Argo (2012)\",\"Old Yeller (1957)\",\"Wings of Desire (Himmel \\u00fcber Berlin, Der) (1987)\",\"Days of Thunder (1990)\",\"Cook the Thief His Wife & Her Lover, The (1989)\",\"Bed of Roses (1996)\",\"My Life as a Dog (Mitt liv som hund) (1985)\",\"Wreck-It Ralph (2012)\",\"Matilda (1996)\",\"Shall We Dance? (Shall We Dansu?) (1996)\",\"Red Rock West (1992)\",\"Saw II (2005)\",\"Red (2010)\",\"Adventures of Robin Hood, The (1938)\",\"Deadpool (2016)\",\"I Heart Huckabees (2004)\",\"Man with the Golden Gun, The (1974)\",\"Under Siege (1992)\",\"Living in Oblivion (1995)\",\"Golden Child, The (1986)\",\"Nutty Professor, The (1963)\",\"For Your Eyes Only (1981)\",\"Mosquito Coast, The (1986)\",\"Parent Trap, The (1998)\",\"Score, The (2001)\",\"War of the Worlds, The (1953)\",\"Somewhere in Time (1980)\",\"Wanted (2008)\",\"Princess Diaries, The (2001)\",\"Things to Do in Denver When You're Dead (1995)\",\"Night at the Museum (2006)\",\"Thirteenth Floor, The (1999)\",\"Bicentennial Man (1999)\",\"Teenage Mutant Ninja Turtles (1990)\",\"Diabolique (1996)\",\"First Blood (Rambo: First Blood) (1982)\",\"21 (2008)\",\"Clerks II (2006)\",\"Pete's Dragon (1977)\",\"Guess Who's Coming to Dinner (1967)\",\"Constant Gardener, The (2005)\",\"Escape to Witch Mountain (1975)\",\"Hellboy II: The Golden Army (2008)\",\"AVP: Alien vs. Predator (2004)\",\"Space Cowboys (2000)\",\"Persuasion (1995)\",\"History of the World: Part I (1981)\",\"Guys and Dolls (1955)\",\"Jack (1996)\",\"St. Elmo's Fire (1985)\",\"Phantom, The (1996)\",\"Little Nicky (2000)\",\"Mr. Mom (1983)\",\"Nobody's Fool (1994)\",\"Grindhouse (2007)\",\"Sliver (1993)\",\"Dracula: Dead and Loving It (1995)\",\"Serial Mom (1994)\",\"Pet Sematary (1989)\",\"8MM (1999)\",\"Kiki's Delivery Service (Majo no takky\\u00fbbin) (1989)\",\"Keeping the Faith (2000)\",\"Defending Your Life (1991)\",\"Little Big Man (1970)\",\"Before Sunrise (1995)\",\"Sommersby (1993)\",\"Thirteen Days (2000)\",\"Layer Cake (2004)\",\"Flight of the Navigator (1986)\",\"Verdict, The (1982)\",\"Transporter, The (2002)\",\"Rocky II (1979)\",\"Book of Eli, The (2010)\",\"Nick of Time (1995)\",\"Small Soldiers (1998)\",\"Bedazzled (2000)\",\"Kids in the Hall: Brain Candy (1996)\",\"Grand Canyon (1991)\",\"White Squall (1996)\",\"About Last Night... (1986)\",\"Quantum of Solace (2008)\",\"Local Hero (1983)\",\"Along Came a Spider (2001)\",\"Talladega Nights: The Ballad of Ricky Bobby (2006)\",\"Thunderball (1965)\",\"Celluloid Closet, The (1995)\",\"Secret of Roan Inish, The (1994)\",\"Licence to Kill (1989)\",\"Contender, The (2000)\",\"Bottle Rocket (1996)\",\"Marathon Man (1976)\",\"Jean de Florette (1986)\",\"Year of Living Dangerously, The (1982)\",\"George of the Jungle (1997)\",\"Point Break (1991)\",\"Ref, The (1994)\",\"Captain America: The Winter Soldier (2014)\",\"Mister Roberts (1955)\",\"Soylent Green (1973)\",\"Pump Up the Volume (1990)\",\"In America (2002)\",\"X-Men Origins: Wolverine (2009)\",\"Perfect World, A (1993)\",\"2012 (2009)\",\"Animatrix, The (2003)\",\"Limey, The (1999)\",\"Honeymoon in Vegas (1992)\",\"Ice Storm, The (1997)\",\"Star Trek: Insurrection (1998)\",\"Everyone Says I Love You (1996)\",\"Arthur (1981)\",\"Cat on a Hot Tin Roof (1958)\",\"Super Mario Bros. (1993)\",\"Hud (1963)\",\"American Splendor (2003)\",\"Howards End (1992)\",\"Ant-Man (2015)\",\"Swiss Family Robinson (1960)\",\"Texas Chainsaw Massacre, The (1974)\",\"Maria Full of Grace (Maria, Llena eres de gracia) (2004)\",\"13 Going on 30 (2004)\",\"Love Bug, The (1969)\",\"Wrestler, The (2008)\",\"Color of Money, The (1986)\",\"Starsky & Hutch (2004)\",\"Candyman (1992)\",\"Hand That Rocks the Cradle, The (1992)\",\"Before Sunset (2004)\",\"Winnie the Pooh and the Blustery Day (1968)\",\"House of Flying Daggers (Shi mian mai fu) (2004)\",\"Thin Man, The (1934)\",\"Town, The (2010)\",\"Honey, I Blew Up the Kid (1992)\",\"Fantasia 2000 (1999)\",\"Sum of All Fears, The (2002)\",\"Friday the 13th (1980)\",\"Unbearable Lightness of Being, The (1988)\",\"Incredible Hulk, The (2008)\",\"Cold Mountain (2003)\",\"Moneyball (2011)\",\"Married to the Mob (1988)\",\"Hulk (2003)\",\"Apostle, The (1997)\",\"Match Point (2005)\",\"Rashomon (Rash\\u00f4mon) (1950)\",\"Rising Sun (1993)\",\"Monster (2003)\",\"Lolita (1962)\",\"Drop Zone (1994)\",\"Cowboy Bebop: The Movie (Cowboy Bebop: Tengoku no Tobira) (2001)\",\"Spellbound (1945)\",\"Next Karate Kid, The (1994)\",\"EuroTrip (2004)\",\"Talk to Her (Hable con Ella) (2002)\",\"Siege, The (1998)\",\"With Honors (1994)\",\"Excalibur (1981)\",\"Affair to Remember, An (1957)\",\"Syriana (2005)\",\"Highlander III: The Sorcerer (a.k.a. Highlander: The Final Dimension) (1994)\",\"Spellbound (2002)\",\"Candidate, The (1972)\",\"2 Days in the Valley (1996)\",\"What's Love Got to Do with It? (1993)\",\"Prometheus (2012)\",\"Addicted to Love (1997)\",\"Monsoon Wedding (2001)\",\"World War Z (2013)\",\"27 Dresses (2008)\",\"Pacific Rim (2013)\",\"Alien Nation (1988)\",\"What Ever Happened to Baby Jane? (1962)\",\"Deconstructing Harry (1997)\",\"Angels and Insects (1995)\",\"Girl with the Dragon Tattoo, The (2011)\",\"Once Were Warriors (1994)\",\"You Can Count on Me (2000)\",\"Dr. Horrible's Sing-Along Blog (2008)\",\"Confessions of a Dangerous Mind (2002)\",\"Universal Soldier (1992)\",\"East of Eden (1955)\",\"American Hustle (2013)\",\"House on Haunted Hill (1999)\",\"Babel (2006)\",\"When We Were Kings (1996)\",\"Reign of Fire (2002)\",\"Time Machine, The (1960)\",\"European Vacation (aka National Lampoon's European Vacation) (1985)\",\"Flubber (1997)\",\"We Were Soldiers (2002)\",\"Quills (2000)\",\"Battleship Potemkin (1925)\",\"Cold Comfort Farm (1995)\",\"Once Upon a Time in the West (C'era una volta il West) (1968)\",\"Van Helsing (2004)\",\"Mouse Hunt (1997)\",\"Priest (1994)\",\"Prophecy, The (1995)\",\"Seventh Seal, The (Sjunde inseglet, Det) (1957)\",\"Auntie Mame (1958)\",\"48 Hrs. (1982)\",\"Despicable Me (2010)\",\"39 Steps, The (1935)\",\"Key Largo (1948)\",\"Manon of the Spring (Manon des sources) (1986)\",\"Beauty of the Day (Belle de jour) (1967)\",\"Three Days of the Condor (3 Days of the Condor) (1975)\",\"Screamers (1995)\",\"Shanghai Knights (2003)\",\"How to Lose a Guy in 10 Days (2003)\",\"Anatomy of a Murder (1959)\",\"Man Who Would Be King, The (1975)\",\"Of Mice and Men (1992)\",\"Mighty Morphin Power Rangers: The Movie (1995)\",\"Hannah and Her Sisters (1986)\",\"Freaky Friday (1977)\",\"Buffy the Vampire Slayer (1992)\",\"Enchanted (2007)\",\"Blues Brothers 2000 (1998)\",\"Blob, The (1958)\",\"Bill & Ted's Bogus Journey (1991)\",\"Airport (1970)\",\"Underworld: Evolution (2006)\",\"Legend (1985)\",\"Creepshow (1982)\",\"Pink Panther, The (1963)\",\"Birdman: Or (The Unexpected Virtue of Ignorance) (2014)\",\"Great Expectations (1998)\",\"Primary Colors (1998)\",\"Jumpin' Jack Flash (1986)\",\"Cheech and Chong's Up in Smoke (1978)\",\"Hugo (2011)\",\"Paths of Glory (1957)\",\"Far and Away (1992)\",\"Klute (1971)\",\"Goofy Movie, A (1995)\",\"Prizzi's Honor (1985)\",\"State and Main (2000)\",\"2010: The Year We Make Contact (1984)\",\"Children of a Lesser God (1986)\",\"Rainmaker, The (1997)\",\"War Room, The (1993)\",\"Boys on the Side (1995)\",\"Lemony Snicket's A Series of Unfortunate Events (2004)\",\"Barb Wire (1996)\",\"Dead Calm (1989)\",\"For Love of the Game (1999)\",\"Help, The (2011)\",\"Lars and the Real Girl (2007)\",\"Dead Men Don't Wear Plaid (1982)\",\"Fantastic Four (2005)\",\"Virtuosity (1995)\",\"Hope Floats (1998)\",\"Beverly Hillbillies, The (1993)\",\"Two Weeks Notice (2002)\",\"54 (1998)\",\"Drive (2011)\",\"Hours, The (2002)\",\"Spawn (1997)\",\"Maid in Manhattan (2002)\",\"Last King of Scotland, The (2006)\",\"Broken Flowers (2005)\",\"Police Academy 3: Back in Training (1986)\",\"Blow-Up (Blowup) (1966)\",\"Saved! (2004)\",\"Frankenstein (1931)\",\"Fog of War: Eleven Lessons from the Life of Robert S. McNamara, The (2003)\",\"About Time (2013)\",\"Over the Hedge (2006)\",\"Maltese Falcon, The (a.k.a. Dangerous Female) (1931)\",\"Indecent Proposal (1993)\",\"Oblivion (2013)\",\"Sister Act 2: Back in the Habit (1993)\",\"Angels & Demons (2009)\",\"Far from Heaven (2002)\",\"Naked (1993)\",\"Secretary (2002)\",\"Devil's Own, The (1997)\",\"Murder at 1600 (1997)\",\"Buffalo '66 (a.k.a. Buffalo 66) (1998)\",\"South Pacific (1958)\",\"Killer, The (Die xue shuang xiong) (1989)\",\"Thor (2011)\",\"Adventureland (2009)\",\"Short Circuit (1986)\",\"Vanya on 42nd Street (1994)\",\"Freaky Friday (2003)\",\"Grave of the Fireflies (Hotaru no haka) (1988)\",\"Cloud Atlas (2012)\",\"Goodbye Girl, The (1977)\",\"400 Blows, The (Les quatre cents coups) (1959)\",\"Reds (1981)\",\"Transporter 2 (2005)\",\"Mariachi, El (1992)\",\"Watership Down (1978)\",\"Brighton Beach Memoirs (1986)\",\"28 Weeks Later (2007)\",\"America's Sweethearts (2001)\",\"General, The (1926)\",\"Rambo: First Blood Part II (1985)\",\"She's the One (1996)\",\"Easy A (2010)\",\"Vegas Vacation (National Lampoon's Las Vegas Vacation) (1997)\",\"For a Few Dollars More (Per qualche dollaro in pi\\u00f9) (1965)\",\"Red Dawn (1984)\",\"Back to School (1986)\",\"Planet Terror (2007)\",\"I Am Sam (2001)\",\"Blades of Glory (2007)\",\"Muppet Christmas Carol, The (1992)\",\"American Movie (1999)\",\"Pecker (1998)\",\"Men of Honor (2000)\",\"Only You (1994)\",\"Intolerable Cruelty (2003)\",\"Blown Away (1994)\",\"Girl with the Dragon Tattoo, The (M\\u00e4n som hatar kvinnor) (2009)\",\"Aladdin and the King of Thieves (1996)\",\"Malice (1993)\",\"Re-Animator (1985)\",\"Very Brady Sequel, A (1996)\",\"Angel Heart (1987)\",\"Step Brothers (2008)\",\"Perks of Being a Wallflower, The (2012)\",\"Meet Me in St. Louis (1944)\",\"Proof of Life (2000)\",\"Look Who's Talking (1989)\",\"Oliver! (1968)\",\"All Quiet on the Western Front (1930)\",\"Replacements, The (2000)\",\"Crazy, Stupid, Love. (2011)\",\"Little Rascals, The (1994)\",\"Stepford Wives, The (1975)\",\"Gone Baby Gone (2007)\",\"Role Models (2008)\",\"Rescuers, The (1977)\",\"Something to Talk About (1995)\",\"Croupier (1998)\",\"Little Shop of Horrors, The (1960)\",\"Scanner Darkly, A (2006)\",\"Kinsey (2004)\",\"Fly, The (1958)\",\"Bandits (2001)\",\"Revenge of the Nerds (1984)\",\"Nutty Professor II: The Klumps (2000)\",\"Peacemaker, The (1997)\",\"Spy Kids (2001)\",\"Homeward Bound II: Lost in San Francisco (1996)\",\"Young Guns II (1990)\",\"In the Company of Men (1997)\",\"Swimming with Sharks (1995)\",\"Magnificent Seven, The (1960)\",\"Women on the Verge of a Nervous Breakdown (Mujeres al borde de un ataque de nervios) (1988)\",\"Searchers, The (1956)\",\"Angels in the Outfield (1994)\",\"Wild Bunch, The (1969)\",\"21 Jump Street (2012)\",\"Ponyo (Gake no ue no Ponyo) (2008)\",\"Boxing Helena (1993)\",\"Recruit, The (2003)\",\"Interpreter, The (2005)\",\"Resident Evil: Apocalypse (2004)\",\"Police Academy 4: Citizens on Patrol (1987)\",\"Fly Away Home (1996)\",\"Lady Vanishes, The (1938)\",\"Home for the Holidays (1995)\",\"Brick (2005)\",\"Empire of the Sun (1987)\",\"Can't Hardly Wait (1998)\",\"Elysium (2013)\",\"Practical Magic (1998)\",\"Tin Men (1987)\",\"Prince of Tides, The (1991)\",\"Diva (1981)\",\"Eraserhead (1977)\",\"Memphis Belle (1990)\",\"Beverly Hills Cop II (1987)\",\"Enchanted April (1992)\",\"Bachelor, The (1999)\",\"Station Agent, The (2003)\",\"Twilight (2008)\",\"My Bodyguard (1980)\",\"The Falcon and the Snowman (1985)\",\"My Blue Heaven (1990)\",\"Kingsman: The Secret Service (2015)\",\"Mis\\u00e9rables, Les (1998)\",\"Pacific Heights (1990)\",\"Corrina, Corrina (1994)\",\"Avengers: Age of Ultron (2015)\",\"Coming Home (1978)\",\"Snow Falling on Cedars (1999)\",\"Avengers, The (1998)\",\"Girl Next Door, The (2004)\",\"Terminator Salvation (2009)\",\"Yes Man (2008)\",\"Hero (1992)\",\"Shaft (2000)\",\"Cabin in the Woods, The (2012)\",\"Smoke Signals (1998)\",\"Guns of Navarone, The (1961)\",\"Badlands (1973)\",\"Cabinet of Dr. Caligari, The (Cabinet des Dr. Caligari., Das) (1920)\",\"Ten Commandments, The (1956)\",\"Love and Death (1975)\",\"Grudge, The (2004)\",\"Along Came Polly (2004)\",\"Ninotchka (1939)\",\"Shrek the Third (2007)\",\"Death Proof (2007)\",\"Dinosaur (2000)\",\"Kindergarten Cop (1990)\",\"Romeo and Juliet (1968)\",\"Renaissance Man (1994)\",\"Wyatt Earp (1994)\",\"Triplets of Belleville, The (Les triplettes de Belleville) (2003)\",\"Varsity Blues (1999)\",\"Return of Jafar, The (1994)\",\"Eight Men Out (1988)\",\"Aeon Flux (2005)\",\"Lord of Illusions (1995)\",\"Manchurian Candidate, The (2004)\",\"Lolita (1997)\",\"1984 (Nineteen Eighty-Four) (1984)\",\"True Grit (1969)\",\"Midnight Express (1978)\",\"Man with Two Brains, The (1983)\",\"D\\u00e9j\\u00e0 Vu (Deja Vu) (2006)\",\"Holiday, The (2006)\",\"Brave (2012)\",\"Fiddler on the Roof (1971)\",\"Last Temptation of Christ, The (1988)\",\"Ringu (Ring) (1998)\",\"Quiet Man, The (1952)\",\"I Still Know What You Did Last Summer (1998)\",\"Jane Eyre (1996)\",\"Chain Reaction (1996)\",\"Outlaw Josey Wales, The (1976)\",\"Frida (2002)\",\"Rambo III (1988)\",\"Drop Dead Gorgeous (1999)\",\"Lord of the Flies (1963)\",\"Barcelona (1994)\",\"Get Smart (2008)\",\"Adventures of Baron Munchausen, The (1988)\",\"Buena Vista Social Club (1999)\",\"Breakdown (1997)\",\"Bourne Identity, The (1988)\",\"Sexy Beast (2000)\",\"Mis\\u00e9rables, Les (1995)\",\"Psycho (1998)\",\"First Strike (Police Story 4: First Strike) (Ging chaat goo si 4: Ji gaan daan yam mo) (1996)\",\"Very Bad Things (1998)\",\"Superman Returns (2006)\",\"Robots (2005)\",\"Koyaanisqatsi (a.k.a. Koyaanisqatsi: Life Out of Balance) (1983)\",\"Police Academy 5: Assignment: Miami Beach (1988)\",\"...And Justice for All (1979)\",\"Nightcrawler (2014)\",\"Crucible, The (1996)\",\"Roxanne (1987)\",\"Tender Mercies (1983)\",\"Escape from the Planet of the Apes (1971)\",\"Spice World (1997)\",\"Not Another Teen Movie (2001)\",\"Houseguest (1994)\",\"Zack and Miri Make a Porno (2008)\",\"What Dreams May Come (1998)\",\"Gaslight (1944)\",\"Money Train (1995)\",\"Men in Black III (M.III.B.) (M.I.B.\\u00b3) (2012)\",\"Paradise Lost: The Child Murders at Robin Hood Hills (1996)\",\"My Life in Pink (Ma vie en rose) (1997)\",\"Fallen (1998)\",\"Serious Man, A (2009)\",\"Tremors (1990)\",\"Mirror Has Two Faces, The (1996)\",\"Major Payne (1995)\",\"Just Cause (1995)\",\"The Lego Movie (2014)\",\"Jarhead (2005)\",\"40 Days and 40 Nights (2002)\",\"Exotica (1994)\",\"Amityville Horror, The (1979)\",\"50/50 (2011)\",\"How the Grinch Stole Christmas! (1966)\",\"Waiting to Exhale (1995)\",\"Westworld (1973)\",\"Tron: Legacy (2010)\",\"Annie (1982)\",\"Superman IV: The Quest for Peace (1987)\",\"Hangover Part II, The (2011)\",\"Harriet the Spy (1996)\",\"Rope (1948)\",\"Metropolitan (1990)\",\"Fun with Dick and Jane (2005)\",\"Some Folks Call It a Sling Blade (1993)\",\"Night on Earth (1991)\",\"Grand Illusion (La grande illusion) (1937)\",\"Salt (2010)\",\"American Tail: Fievel Goes West, An (1991)\",\"Scooby-Doo (2002)\",\"Ninth Gate, The (1999)\",\"Alive (1993)\",\"Top Secret! (1984)\",\"Good Girl, The (2002)\",\"Rescuers Down Under, The (1990)\",\"Daylight (1996)\",\"I Love Trouble (1994)\",\"Sky High (2005)\",\"Time Machine, The (2002)\",\"Restoration (1995)\",\"Ip Man (2008)\",\"Jaws 3-D (1983)\",\"Blade: Trinity (2004)\",\"How to Make an American Quilt (1995)\",\"Forces of Nature (1999)\",\"Tom Jones (1963)\",\"Paris, Texas (1984)\",\"Porky's (1982)\",\"Mary Reilly (1996)\",\"This Is the End (2013)\",\"Dead Ringers (1988)\",\"Marty (1955)\",\"Some Kind of Wonderful (1987)\",\"Behind Enemy Lines (2001)\",\"Body Snatchers (1993)\",\"Michael Clayton (2007)\",\"BASEketball (1998)\",\"Passion of the Christ, The (2004)\",\"Coraline (2009)\",\"You Don't Mess with the Zohan (2008)\",\"Howard the Duck (1986)\",\"Oliver & Company (1988)\",\"Made in America (1993)\",\"Soapdish (1991)\",\"Adjustment Bureau, The (2011)\",\"Born Yesterday (1950)\",\"Ghost and Mrs. Muir, The (1947)\",\"Igby Goes Down (2002)\",\"Doctor Dolittle (1967)\",\"Frozen (2013)\",\"The Theory of Everything (2014)\",\"Sicko (2007)\",\"My Own Private Idaho (1991)\",\"Transformers: Revenge of the Fallen (2009)\",\"Michael Collins (1996)\",\"Zero Effect (1998)\",\"Mannequin (1987)\",\"Tao of Steve, The (2000)\",\"2 Fast 2 Furious (Fast and the Furious 2, The) (2003)\",\"Death and the Maiden (1994)\",\"Atlantic City (1980)\",\"Ready to Wear (Pret-A-Porter) (1994)\",\"Exit to Eden (1994)\",\"The Revenant (2015)\",\"Man Who Knew Too Little, The (1997)\",\"Funny Face (1957)\",\"Lara Croft Tomb Raider: The Cradle of Life (2003)\",\"Thirty-Two Short Films About Glenn Gould (1993)\",\"Singles (1992)\",\"Porco Rosso (Crimson Pig) (Kurenai no buta) (1992)\",\"Scary Movie 3 (2003)\",\"Center Stage (2000)\",\"Titanic (1953)\",\"Red Planet (2000)\",\"Everest (1998)\",\"Speechless (1994)\",\"Twin Peaks: Fire Walk with Me (1992)\",\"Supercop (Police Story 3: Supercop) (Jing cha gu shi III: Chao ji jing cha) (1992)\",\"On Her Majesty's Secret Service (1969)\",\"Primer (2004)\",\"Bonfire of the Vanities (1990)\",\"Fountain, The (2006)\",\"Black Cauldron, The (1985)\",\"Shop Around the Corner, The (1940)\",\"Something's Gotta Give (2003)\",\"12 Years a Slave (2013)\",\"Super 8 (2011)\",\"Exit Through the Gift Shop (2010)\",\"Barry Lyndon (1975)\",\"Police Academy 6: City Under Siege (1989)\",\"Bucket List, The (2007)\",\"Sweet and Lowdown (1999)\",\"Bamba, La (1987)\",\"A-Team, The (2010)\",\"Another Stakeout (1993)\",\"Throw Momma from the Train (1987)\",\"Vicky Cristina Barcelona (2008)\",\"Bad Taste (1987)\",\"Inherit the Wind (1960)\",\"Flintstones in Viva Rock Vegas, The (2000)\",\"Fearless (1993)\",\"Where the Heart Is (2000)\",\"Bolt (2008)\",\"Big Kahuna, The (2000)\",\"Milk (2008)\",\"Shall We Dance (1937)\",\"Wes Craven's New Nightmare (Nightmare on Elm Street Part 7: Freddy's Finale, A) (1994)\",\"Reindeer Games (2000)\",\"Fall, The (2006)\",\"Muppets Take Manhattan, The (1984)\",\"Sky Captain and the World of Tomorrow (2004)\",\"Bank Job, The (2008)\",\"Gladiator (1992)\",\"Skulls, The (2000)\",\"Shark Tale (2004)\",\"You Only Live Twice (1967)\",\"Black Beauty (1994)\",\"Gold Rush, The (1925)\",\"Single White Female (1992)\",\"White Christmas (1954)\",\"Cellular (2004)\",\"Children of the Corn (1984)\",\"No Way Out (1987)\",\"Apple Dumpling Gang, The (1975)\",\"Cutting Edge, The (1992)\",\"Mystery Train (1989)\",\"Jumper (2008)\",\"American Gigolo (1980)\",\"Passion Fish (1992)\",\"Seven Pounds (2008)\",\"Little Voice (1998)\",\"Horrible Bosses (2011)\",\"Blue in the Face (1995)\",\"Crow: City of Angels, The (1996)\",\"Ender's Game (2013)\",\"Thor: The Dark World (2013)\",\"Fletch Lives (1989)\",\"Spitfire Grill, The (1996)\",\"Mississippi Burning (1988)\",\"King Kong (1976)\",\"Teaching Mrs. Tingle (1999)\",\"Godzilla (Gojira) (1954)\",\"Dead Alive (Braindead) (1992)\",\"Dish, The (2001)\",\"Celebration, The (Festen) (1998)\",\"Central Station (Central do Brasil) (1998)\",\"Mona Lisa (1986)\",\"U Turn (1997)\",\"Muse, The (1999)\",\"Sid and Nancy (1986)\",\"Letters from Iwo Jima (2006)\",\"Innerspace (1987)\",\"Capturing the Friedmans (2003)\",\"Very Long Engagement, A (Un long dimanche de fian\\u00e7ailles) (2004)\",\"Drive Me Crazy (1999)\",\"Pledge, The (2001)\",\"Officer and a Gentleman, An (1982)\",\"Divergent (2014)\",\"Man Who Shot Liberty Valance, The (1962)\",\"Idiocracy (2006)\",\"Gift, The (2000)\",\"Jackass: The Movie (2002)\",\"Cutthroat Island (1995)\",\"Airport '77 (1977)\",\"Man of Steel (2013)\",\"Jingle All the Way (1996)\",\"Memoirs of a Geisha (2005)\",\"Super Troopers (2001)\",\"Carrington (1995)\",\"Vampire Hunter D: Bloodlust (Banpaia hant\\u00e2 D) (2000)\",\"Fighter, The (2010)\",\"Out-of-Towners, The (1999)\",\"Waking Life (2001)\",\"Megamind (2010)\",\"Don't Say a Word (2001)\",\"Flightplan (2005)\",\"National Lampoon's Van Wilder (2002)\",\"Brothers Grimm, The (2005)\",\"Dead Man (1995)\",\"The Scorpion King (2002)\",\"Rush (2013)\",\"Hot Shots! (1991)\",\"Vampire in Brooklyn (1995)\",\"Cyrano de Bergerac (1990)\",\"Accepted (2006)\",\"Mr. Wrong (1996)\",\"Twins (1988)\",\"Killing, The (1956)\",\"Saturday Night Fever (1977)\",\"Threesome (1994)\",\"Astronaut's Wife, The (1999)\",\"Anna and the King (1999)\",\"Mercury Rising (1998)\",\"Angela's Ashes (1999)\",\"Ninja Scroll (J\\u00fbbei ninp\\u00fbch\\u00f4) (1995)\",\"Gigi (1958)\",\"Miracle (2004)\",\"Paprika (Papurika) (2006)\",\"Blame It on Rio (1984)\",\"Cat Ballou (1965)\",\"Father of the Bride (1991)\",\"Stand and Deliver (1988)\",\"Once (2006)\",\"Night at the Opera, A (1935)\",\"Road to Wellville, The (1994)\",\"Anywhere But Here (1999)\",\"Giant (1956)\",\"Holiday Inn (1942)\",\"My Man Godfrey (1936)\",\"Lifeboat (1944)\",\"Adventures of Buckaroo Banzai Across the 8th Dimension, The (1984)\",\"Longest Day, The (1962)\",\"Pollock (2000)\",\"Hellraiser (1987)\",\"Best Years of Our Lives, The (1946)\",\"Sydney (Hard Eight) (1996)\",\"17 Again (2009)\",\"Bad Boys II (2003)\",\"Brewster's Millions (1985)\",\"Zero Dark Thirty (2012)\",\"Gay Divorcee, The (1934)\",\"Help! (1965)\",\"102 Dalmatians (2000)\",\"Sunshine (2007)\",\"Story of Us, The (1999)\",\"Everything You Always Wanted to Know About Sex * But Were Afraid to Ask (1972)\",\"Kid in King Arthur's Court, A (1995)\",\"Urban Legend (1998)\",\"Legend of Drunken Master, The (Jui kuen II) (1994)\",\"Drop Dead Fred (1991)\",\"Way We Were, The (1973)\",\"Christmas Carol, A (1938)\",\"Click (2006)\",\"Grizzly Man (2005)\",\"Agnes of God (1985)\",\"Shadow of a Doubt (1943)\",\"Mommie Dearest (1981)\",\"Substitute, The (1996)\",\"Affliction (1997)\",\"SLC Punk! (1998)\",\"Lady Eve, The (1941)\",\"End of the Affair, The (1999)\",\"Green Street Hooligans (a.k.a. Hooligans) (2005)\",\"To Be or Not to Be (1942)\",\"Squid and the Whale, The (2005)\",\"Swamp Thing (1982)\",\"World's End, The (2013)\",\"Andalusian Dog, An (Chien andalou, Un) (1929)\",\"Volver (2006)\",\"Great Muppet Caper, The (1981)\",\"Last Detail, The (1973)\",\"Towering Inferno, The (1974)\",\"Slums of Beverly Hills, The (1998)\",\"Killing Zoe (1994)\",\"Pollyanna (1960)\",\"Now You See Me (2013)\",\"Operation Dumbo Drop (1995)\",\"All Dogs Go to Heaven 2 (1996)\",\"Snakes on a Plane (2006)\",\"Medicine Man (1992)\",\"They Shoot Horses, Don't They? (1969)\",\"Tequila Sunrise (1988)\",\"Lincoln Lawyer, The (2011)\",\"Sirens (1994)\",\"Disturbia (2007)\",\"Celebrity (1998)\",\"Batman: Mask of the Phantasm (1993)\",\"Kingdom of Heaven (2005)\",\"All Dogs Go to Heaven (1989)\",\"Blue Streak (1999)\",\"Hard-Boiled (Lat sau san taam) (1992)\",\"Buddy Holly Story, The (1978)\",\"Stop! Or My Mom Will Shoot (1992)\",\"Fright Night (1985)\",\"Elektra (2005)\",\"Romeo Is Bleeding (1993)\",\"Mission, The (1986)\",\"Messenger: The Story of Joan of Arc, The (1999)\",\"Flamingo Kid, The (1984)\",\"Jack Frost (1998)\",\"Jules and Jim (Jules et Jim) (1961)\",\"Halloween H20: 20 Years Later (Halloween 7: The Revenge of Laurie Strode) (1998)\",\"Tora! Tora! Tora! (1970)\",\"Swing Kids (1993)\",\"Captain Phillips (2013)\",\"Dredd (2012)\",\"Jagged Edge (1985)\",\"Prisoners (2013)\",\"Raisin in the Sun, A (1961)\",\"Song of the South (1946)\",\"Trekkies (1997)\",\"Shaggy Dog, The (1959)\",\"Majestic, The (2001)\",\"Marvin's Room (1996)\",\"In the Bedroom (2001)\",\"Child's Play (1988)\",\"Strange Brew (1983)\",\"Small Time Crooks (2000)\",\"World According to Garp, The (1982)\",\"Monty Python Live at the Hollywood Bowl (1982)\",\"Mimic (1997)\",\"RocknRolla (2008)\",\"The Hunger Games: Mockingjay - Part 1 (2014)\",\"Message in a Bottle (1999)\",\"Star Trek: Nemesis (2002)\",\"Pirates of the Caribbean: On Stranger Tides (2011)\",\"Iron Monkey (Siu nin Wong Fei-hung ji: Tit Ma Lau) (1993)\",\"Joe Dirt (2001)\",\"In the Mouth of Madness (1995)\",\"Secondhand Lions (2003)\",\"Once Upon a Time in Mexico (2003)\",\"Legend of Bagger Vance, The (2000)\",\"Half Baked (1998)\",\"Solaris (Solyaris) (1972)\",\"Bounce (2000)\",\"Madonna: Truth or Dare (1991)\",\"Shane (1953)\",\"One, The (2001)\",\"Dungeons & Dragons (2000)\",\"Uncle Buck (1989)\",\"Man for All Seasons, A (1966)\",\"Antonia's Line (Antonia) (1995)\",\"Night of the Hunter, The (1955)\",\"Joe Versus the Volcano (1990)\",\"Funny Games (1997)\",\"Big Short, The (2015)\",\"Hot Tub Time Machine (2010)\",\"Take the Money and Run (1969)\",\"Walkabout (1971)\",\"Mother (1996)\",\"Borrowers, The (1997)\",\"Shattered Glass (2003)\",\"Frost/Nixon (2008)\",\"Two if by Sea (1996)\",\"Little Buddha (1993)\",\"King of Comedy, The (1983)\",\"Fantastic Voyage (1966)\",\"Crossing Guard, The (1995)\",\"Elephant (2003)\",\"Pieces of April (2003)\",\"Runaway Jury (2003)\",\"Rabbit-Proof Fence (2002)\",\"Fools Rush In (1997)\",\"Frailty (2001)\",\"Inside Job (2010)\",\"Endless Summer, The (1966)\",\"Changing Lanes (2002)\",\"The Hobbit: The Battle of the Five Armies (2014)\",\"Edge, The (1997)\",\"Heartbreakers (2001)\",\"9 1/2 Weeks (Nine 1/2 Weeks) (1986)\",\"Unzipped (1995)\",\"Stepford Wives, The (2004)\",\"Breathless (\\u00c0 bout de souffle) (1960)\",\"Clash of the Titans (1981)\",\"Ted (2012)\",\"Teenage Mutant Ninja Turtles II: The Secret of the Ooze (1991)\",\"Manhunter (1986)\",\"Touching the Void (2003)\",\"Mutiny on the Bounty (1935)\",\"NeverEnding Story III, The (1994)\",\"Chronicle (2012)\",\"Creature Comforts (1989)\",\"Fanny and Alexander (Fanny och Alexander) (1982)\",\"Brotherhood of the Wolf (Pacte des loups, Le) (2001)\",\"House of Sand and Fog (2003)\",\"Mrs. Brown (a.k.a. Her Majesty, Mrs. Brown) (1997)\",\"That Darn Cat! (1965)\",\"Paycheck (2003)\",\"Chronicles of Narnia: Prince Caspian, The (2008)\",\"Pirate Radio (2009)\",\"In the Loop (2009)\",\"Tales from the Hood (1995)\",\"Village of the Damned (1995)\",\"Kate & Leopold (2001)\",\"Green Lantern (2011)\",\"Orange County (2002)\",\"Dawn of the Dead (1978)\",\"John Wick (2014)\",\"Return of Martin Guerre, The (Retour de Martin Guerre, Le) (1982)\",\"Shadow of the Vampire (2000)\",\"American Wedding (American Pie 3) (2003)\",\"Shanghai Triad (Yao a yao yao dao waipo qiao) (1995)\",\"Mary and Max (2009)\",\"Walk to Remember, A (2002)\",\"S.W.A.T. (2003)\",\"Quiet American, The (2002)\",\"Wings of the Dove, The (1997)\",\"D2: The Mighty Ducks (1994)\",\"Stalker (1979)\",\"Freeway (1996)\",\"Empire Records (1995)\",\"Tango & Cash (1989)\",\"Dirty Pretty Things (2002)\",\"Kelly's Heroes (1970)\",\"Transcendence (2014)\",\"Beyond Rangoon (1995)\",\"Analyze That (2002)\",\"Air America (1990)\",\"Aguirre: The Wrath of God (Aguirre, der Zorn Gottes) (1972)\",\"Crazy/Beautiful (2001)\",\"Last Days of Disco, The (1998)\",\"Places in the Heart (1984)\",\"Flight (2012)\",\"Orlando (1992)\",\"Shampoo (1975)\",\"Kentucky Fried Movie, The (1977)\",\"Breaker Morant (1980)\",\"Hostage (2005)\",\"Lion in Winter, The (1968)\",\"Taking of Pelham 1 2 3, The (2009)\",\"42 Up (1998)\",\"Science of Sleep, The (La science des r\\u00eaves) (2006)\",\"Friends with Benefits (2011)\",\"Transformers: Dark of the Moon (2011)\",\"Last Supper, The (1995)\",\"Horse Feathers (1932)\",\"Total Recall (2012)\",\"Double Life of Veronique, The (Double Vie de V\\u00e9ronique, La) (1991)\",\"Big One, The (1997)\",\"Butcher Boy, The (1997)\",\"Before Night Falls (2000)\",\"Mortal Kombat: Annihilation (1997)\",\"In Time (2011)\",\"Anchorman 2: The Legend Continues (2013)\",\"Eragon (2006)\",\"High Plains Drifter (1973)\",\"Don't Tell Mom the Babysitter's Dead (1991)\",\"Elmer Gantry (1960)\",\"Random Hearts (1999)\",\"Phantasm (1979)\",\"Pagemaster, The (1994)\",\"Adventures of Milo and Otis, The (Koneko monogatari) (1986)\",\"Andromeda Strain, The (1971)\",\"Tommy (1975)\",\"I'm Gonna Git You Sucka (1988)\",\"Eddie Murphy Raw (1987)\",\"Ides of March, The (2011)\",\"Burnt by the Sun (Utomlyonnye solntsem) (1994)\",\"Daybreakers (2010)\",\"Spanking the Monkey (1994)\",\"Down with Love (2003)\",\"Living Out Loud (1998)\",\"Halloween: The Curse of Michael Myers (Halloween 6: The Curse of Michael Myers) (1995)\",\"House of Yes, The (1997)\",\"Home Alone 3 (1997)\",\"Terminal Velocity (1994)\",\"Transformers: The Movie (1986)\",\"Nine to Five (a.k.a. 9 to 5) (1980)\",\"Little Children (2006)\",\"Hairspray (2007)\",\"Yojimbo (1961)\",\"Object of My Affection, The (1998)\",\"This Is England (2006)\",\"Romper Stomper (1992)\",\"Final Destination 2 (2003)\",\"Suicide Kings (1997)\",\"Mission: Impossible - Ghost Protocol (2011)\",\"American Werewolf in Paris, An (1997)\",\"Bank Dick, The (1940)\",\"Tigerland (2000)\",\"In Good Company (2004)\",\"Judgment at Nuremberg (1961)\",\"Funny Farm (1988)\",\"Perfume: The Story of a Murderer (2006)\",\"Replacement Killers, The (1998)\",\"Informant!, The (2009)\",\"Bubba Ho-tep (2002)\",\"Love Affair (1994)\",\"Cloudy with a Chance of Meatballs (2009)\",\"Discreet Charm of the Bourgeoisie, The (Charme discret de la bourgeoisie, Le) (1972)\",\"Striking Distance (1993)\",\"Paris Is Burning (1990)\",\"Spotlight (2015)\",\"Crash (1996)\",\"Tucker: The Man and His Dream (1988)\",\"Open Your Eyes (Abre los ojos) (1997)\",\"Needful Things (1993)\",\"Cujo (1983)\",\"Looking for Richard (1996)\",\"Dreamlife of Angels, The (Vie r\\u00eav\\u00e9e des anges, La) (1998)\",\"Senna (2010)\",\"Zootopia (2016)\",\"Postman Always Rings Twice, The (1981)\",\"East is East (1999)\",\"Cookie's Fortune (1999)\",\"On the Town (1949)\",\"Mrs. Parker and the Vicious Circle (1994)\",\"Hard Target (1993)\",\"Jurassic World (2015)\",\"Futurama: Bender's Big Score (2007)\",\"Friday the 13th Part 2 (1981)\",\"Enter the Dragon (1973)\",\"Mildred Pierce (1945)\",\"Flipper (1996)\",\"Louis C.K.: Shameless (2007)\",\"March of the Penguins (Marche de l'empereur, La) (2005)\",\"Fabulous Baker Boys, The (1989)\",\"Fierce Creatures (1997)\",\"Dead Presidents (1995)\",\"Let the Right One In (L\\u00e5t den r\\u00e4tte komma in) (2008)\",\"Beverly Hills Ninja (1997)\",\"American Sniper (2014)\",\"Herbie Rides Again (1974)\",\"Night Shift (1982)\",\"Freaks (1932)\",\"Harry and the Hendersons (1987)\",\"16 Blocks (2006)\",\"Trip to Bountiful, The (1985)\",\"Cabin Boy (1994)\",\"Airport 1975 (1974)\",\"Cat People (1982)\",\"Return to Oz (1985)\",\"Soul Man (1986)\",\"Forbidden Planet (1956)\",\"Fatal Instinct (1993)\",\"Eyes of Laura Mars (1978)\",\"Farewell My Concubine (Ba wang bie ji) (1993)\",\"Blink (1994)\",\"Blue Angel, The (Blaue Engel, Der) (1930)\",\"Caine Mutiny, The (1954)\",\"No Man's Land (2001)\",\"I Shot Andy Warhol (1996)\",\"Black Hole, The (1979)\",\"Wing Commander (1999)\",\"Dracula (1931)\",\"Spanglish (2004)\",\"Dreamers, The (2003)\",\"I Love You, Man (2009)\",\"War of the Roses, The (1989)\",\"Atonement (2007)\",\"Persona (1966)\",\"My Dog Skip (1999)\",\"Attack of the Killer Tomatoes! (1978)\",\"Frenzy (1972)\",\"Fear (1996)\",\"Young Sherlock Holmes (1985)\",\"Plan 9 from Outer Space (1959)\",\"Expendables, The (2010)\",\"NeverEnding Story II: The Next Chapter, The (1990)\",\"Persepolis (2007)\",\"Bird on a Wire (1990)\",\"Kolya (Kolja) (1996)\",\"You Can't Take It with You (1938)\",\"Great Santini, The (1979)\",\"American Buffalo (1996)\",\"Man Who Knew Too Much, The (1956)\",\"King of Kong, The (2007)\",\"Undercover Brother (2002)\",\"Seven Psychopaths (2012)\",\"Phantom of the Opera, The (2004)\",\"Hate (Haine, La) (1995)\",\"Tucker & Dale vs Evil (2010)\",\"Jade (1995)\",\"Dragon: The Bruce Lee Story (1993)\",\"Bad Teacher (2011)\",\"Saving Mr. Banks (2013)\",\"Moll Flanders (1996)\",\"Knight and Day (2010)\",\"Green Hornet, The (2011)\",\"Beneath the Planet of the Apes (1970)\",\"Fever Pitch (2005)\",\"Cowboys & Aliens (2011)\",\"Cocoon: The Return (1988)\",\"Animal, The (2001)\",\"Holes (2003)\",\"Lilies of the Field (1963)\",\"Hostel (2005)\",\"No Strings Attached (2011)\",\"Always (1989)\",\"Witness for the Prosecution (1957)\",\"Christine (1983)\",\"In the Mood For Love (Fa yeung nin wa) (2000)\",\"Bride of Frankenstein, The (Bride of Frankenstein) (1935)\",\"Tuxedo, The (2002)\",\"Balto (1995)\",\"Lean on Me (1989)\",\"Saving Silverman (Evil Woman) (2001)\",\"Selena (1997)\",\"15 Minutes (2001)\",\"Corporation, The (2003)\",\"Side Effects (2013)\",\"Get Him to the Greek (2010)\",\"Ulee's Gold (1997)\",\"Paul (2011)\",\"Contagion (2011)\",\"True Crime (1999)\",\"Deep End of the Ocean, The (1999)\",\"Storytelling (2001)\",\"Beerfest (2006)\",\"Ghosts of Mississippi (1996)\",\"Just Like Heaven (2005)\",\"Slap Shot (1977)\",\"Tea with Mussolini (1999)\",\"Clockers (1995)\",\"Basquiat (1996)\",\"Antwone Fisher (2002)\",\"Sweetest Thing, The (2002)\",\"Narc (2002)\",\"Gung Ho (1986)\",\"Bridesmaids (2011)\",\"Three Men and a Little Lady (1990)\",\"Murder by Numbers (2002)\",\"Cat's Eye (1985)\",\"Mighty Joe Young (1998)\",\"Free Willy 2: The Adventure Home (1995)\",\"Husbands and Wives (1992)\",\"French Twist (Gazon maudit) (1995)\",\"Canadian Bacon (1995)\",\"Coal Miner's Daughter (1980)\",\"Final Fantasy VII: Advent Children (2004)\",\"Home Fries (1998)\",\"Fame (1980)\",\"Battle: Los Angeles (2011)\",\"Wild Strawberries (Smultronst\\u00e4llet) (1957)\",\"Rat Race (2001)\",\"Despicable Me 2 (2013)\",\"Batman v Superman: Dawn of Justice (2016)\",\"UHF (1989)\",\"Pink Flamingos (1972)\",\"Solaris (2002)\",\"Hanna (2011)\",\"Kazaam (1996)\",\"Ghost Writer, The (2010)\",\"Life as a House (2001)\",\"Apocalypto (2006)\",\"Cemetery Man (Dellamorte Dellamore) (1994)\",\"Spy Kids 2: The Island of Lost Dreams (2002)\",\"Inside Llewyn Davis (2013)\",\"Citizen Ruth (1996)\",\"Family Guy Presents Stewie Griffin: The Untold Story (2005)\",\"Paperman (2012)\",\"Ong-Bak: The Thai Warrior (Ong Bak) (2003)\",\"22 Jump Street (2014)\",\"Bad Education (La mala educaci\\u00f3n) (2004)\",\"Dogville (2003)\",\"Elite Squad (Tropa de Elite) (2007)\",\"Bridget Jones: The Edge of Reason (2004)\",\"Old Man and the Sea, The (1958)\",\"Great Race, The (1965)\",\"Be Kind Rewind (2008)\",\"John Carter (2012)\",\"Encino Man (1992)\",\"Beowulf (2007)\",\"How to Train Your Dragon 2 (2014)\",\"After Hours (1985)\",\"Mist, The (2007)\",\"Nightmare on Elm Street 2: Freddy's Revenge, A (1985)\",\"Henry: Portrait of a Serial Killer (1986)\",\"Mr. Death: The Rise and Fall of Fred A. Leuchter, Jr. (1999)\",\"Benji (1974)\",\"Trouble with Harry, The (1955)\",\"Tin Drum, The (Blechtrommel, Die) (1979)\",\"Simon Birch (1998)\",\"Howling, The (1980)\",\"Mona Lisa Smile (2003)\",\"Microcosmos (Microcosmos: Le peuple de l'herbe) (1996)\",\"Prince of the City (1981)\",\"In the Realm of the Senses (Ai no corrida) (1976)\",\"Caligula (1979)\",\"War, The (1994)\",\"Carnal Knowledge (1971)\",\"Resident Evil: Extinction (2007)\",\"How Green Was My Valley (1941)\",\"Return to Paradise (1998)\",\"Thirteen (2003)\",\"Baraka (1992)\",\"Boy in the Striped Pajamas, The (Boy in the Striped Pyjamas, The) (2008)\",\"Play It Again, Sam (1972)\",\"Dying Young (1991)\",\"Fury (2014)\",\"10,000 BC (2008)\",\"Kid, The (1921)\",\"Horton Hears a Who! (2008)\",\"Cat from Outer Space, The (1978)\",\"Darby O'Gill and the Little People (1959)\",\"She's Gotta Have It (1986)\",\"Widows' Peak (1994)\",\"King Arthur (2004)\",\"Last Starfighter, The (1984)\",\"And the Band Played On (1993)\",\"Bear, The (Ours, L') (1988)\",\"Newsies (1992)\",\"Night to Remember, A (1958)\",\"Jane Austen's Mafia! (1998)\",\"To Sir with Love (1967)\",\"Halloween II (1981)\",\"Man Bites Dog (C'est arriv\\u00e9 pr\\u00e8s de chez vous) (1992)\",\"Halloween III: Season of the Witch (1982)\",\"Big Momma's House (2000)\",\"Poltergeist II: The Other Side (1986)\",\"House of the Spirits, The (1993)\",\"Dawn of the Planet of the Apes (2014)\",\"Madagascar: Escape 2 Africa (2008)\",\"Bell, Book and Candle (1958)\",\"Princess Diaries 2: Royal Engagement, The (2004)\",\"Beautiful Thing (1996)\",\"Bad Lieutenant (1992)\",\"Murphy's Romance (1985)\",\"Last Man Standing (1996)\",\"Dolce Vita, La (1960)\",\"Jin Roh: The Wolf Brigade (Jin-R\\u00f4) (1998)\",\"Tales from the Crypt Presents: Demon Knight (1995)\",\"He's Just Not That Into You (2009)\",\"World's Fastest Indian, The (2005)\",\"Way of the Gun, The (2000)\",\"Mad City (1997)\",\"Kurt & Courtney (1998)\",\"Antitrust (2001)\",\"House of Games (1987)\",\"Meet the Robinsons (2007)\",\"Music and Lyrics (2007)\",\"Gilda (1946)\",\"Jack Reacher (2012)\",\"The Hateful Eight (2015)\",\"Night at the Roxbury, A (1998)\",\"Seventh Sign, The (1988)\",\"Fantastic Four: Rise of the Silver Surfer (2007)\",\"Stranger Than Paradise (1984)\",\"Little Princess, The (1939)\",\"Melvin and Howard (1980)\",\"Stardust Memories (1980)\",\"Billy Jack (1971)\",\"Men Who Stare at Goats, The (2009)\",\"Three to Tango (1999)\",\"Unsinkable Molly Brown, The (1964)\",\"Shaolin Soccer (Siu lam juk kau) (2001)\",\"Pink Panther Strikes Again, The (1976)\",\"Bean (1997)\",\"Hearts of Darkness: A Filmmakers Apocalypse (1991)\",\"Barefoot in the Park (1967)\",\"Life Less Ordinary, A (1997)\",\"Jesus Christ Superstar (1973)\",\"Species II (1998)\",\"Teen Wolf (1985)\",\"Brave Little Toaster, The (1987)\",\"Mumford (1999)\",\"Eye for an Eye (1996)\",\"Bringing Down the House (2003)\",\"Throne of Blood (Kumonosu j\\u00f4) (1957)\",\"Drowning Mona (2000)\",\"Idiots, The (Idioterne) (1998)\",\"Bridge Too Far, A (1977)\",\"Tomorrowland (2015)\",\"Tears of the Sun (2003)\",\"Babysitter, The (1995)\",\"Mystic Pizza (1988)\",\"It's a Mad, Mad, Mad, Mad World (1963)\",\"Piano Teacher, The (La pianiste) (2001)\",\"Rules of Engagement (2000)\",\"Day at the Races, A (1937)\",\"Boyhood (2014)\",\"Maze Runner, The (2014)\",\"Babylon 5: In the Beginning (1998)\",\"Everything Is Illuminated (2005)\",\"Idle Hands (1999)\",\"Clean Slate (1994)\",\"200 Cigarettes (1999)\",\"Little Man Tate (1991)\",\"Jacket, The (2005)\",\"Mean Streets (1973)\",\"Bill Cosby, Himself (1983)\",\"Conquest of the Planet of the Apes (1972)\",\"Blind Swordsman: Zatoichi, The (Zat\\u00f4ichi) (2003)\",\"Sanjuro (Tsubaki Sanj\\u00fbr\\u00f4) (1962)\",\"Stevie (2002)\",\"Now and Then (1995)\",\"Born into Brothels (2004)\",\"Monsters University (2013)\",\"Lucas (1986)\",\"Mothman Prophecies, The (2002)\",\"Splendor in the Grass (1961)\",\"Snowpiercer (2013)\",\"Lord of the Flies (1990)\",\"Flesh and Bone (1993)\",\"Descent, The (2005)\",\"Flash Gordon (1980)\",\"Death Wish (1974)\",\"Birdy (1984)\",\"*batteries not included (1987)\",\"Mystery, Alaska (1999)\",\"Conformist, The (Conformista, Il) (1970)\",\"Heist (2001)\",\"Reversal of Fortune (1990)\",\"Even Cowgirls Get the Blues (1993)\",\"Secret Life of Walter Mitty, The (2013)\",\"Guilty as Sin (1993)\",\"Catwoman (2004)\",\"Woodsman, The (2004)\",\"Asphalt Jungle, The (1950)\",\"Air Up There, The (1994)\",\"To Live (Huozhe) (1994)\",\"Never Say Never Again (1983)\",\"Freddy Got Fingered (2001)\",\"Paper Chase, The (1973)\",\"Family Thing, A (1996)\",\"Terminator Genisys (2015)\",\"Earth Girls Are Easy (1988)\",\"One False Move (1992)\",\"Strawberry and Chocolate (Fresa y chocolate) (1993)\",\"7th Voyage of Sinbad, The (1958)\",\"Ichi the Killer (Koroshiya 1) (2001)\",\"Win a Date with Tad Hamilton! (2004)\",\"Muppets From Space (1999)\",\"Lucy (2014)\",\"Topsy-Turvy (1999)\",\"Hedwig and the Angry Inch (2000)\",\"Frances (1982)\",\"Godzilla (2014)\",\"Ace in the Hole (Big Carnival, The) (1951)\",\"Witches, The (1990)\",\"Gallipoli (1981)\",\"Sweet Smell of Success (1957)\",\"Beauty and the Beast (La belle et la b\\u00eate) (1946)\",\"Mansfield Park (1999)\",\"Poison Ivy (1992)\",\"Captain America: Civil War (2016)\",\"Garden of the Finzi-Continis, The (Giardino dei Finzi-Contini, Il) (1970)\",\"Cooler, The (2003)\",\"McCabe & Mrs. Miller (1971)\",\"Jesus' Son (1999)\",\"Chungking Express (Chung Hing sam lam) (1994)\",\"Bully (2001)\",\"Witches of Eastwick, The (1987)\",\"Accused, The (1988)\",\"North (1994)\",\"Cheaper by the Dozen (2003)\",\"Pok\\u00e9mon: The First Movie (1998)\",\"How to Marry a Millionaire (1953)\",\"Invasion of the Body Snatchers (1978)\",\"Videodrome (1983)\",\"Polar Express, The (2004)\",\"Norma Rae (1979)\",\"Get Carter (2000)\",\"Rock Star (2001)\",\"Higher Learning (1995)\",\"Angus (1995)\",\"Krull (1983)\",\"Fair Game (1995)\",\"Shall We Dance? (2004)\",\"Magnum Force (1973)\",\"Punisher, The (2004)\",\"Treasure Planet (2002)\",\"Red Eye (2005)\",\"Coffee and Cigarettes (2003)\",\"Bewitched (2005)\",\"Mission: Impossible - Rogue Nation (2015)\",\"Swan Princess, The (1994)\",\"Mysterious Skin (2004)\",\"Queen Margot (Reine Margot, La) (1994)\",\"Hellraiser: Bloodline (1996)\",\"Hidalgo (2004)\",\"Enron: The Smartest Guys in the Room (2005)\",\"Bitter Moon (1992)\",\"Spartan (2004)\",\"K-19: The Widowmaker (2002)\",\"Mrs. Winterbourne (1996)\",\"Crooklyn (1994)\",\"Omega Man, The (1971)\",\"Boys from Brazil, The (1978)\",\"Ladykillers, The (2004)\",\"Sicario (2015)\",\"Italian Job, The (1969)\",\"The Man from U.N.C.L.E. (2015)\",\"Believers, The (1987)\",\"Pandorum (2009)\",\"Valkyrie (2008)\",\"State of Play (2009)\",\"Associate, The (1996)\",\"Picnic at Hanging Rock (1975)\",\"Soldier (1998)\",\"Knowing (2009)\",\"Grand Hotel (1932)\",\"Lost Weekend, The (1945)\",\"Nacho Libre (2006)\",\"Gentleman's Agreement (1947)\",\"Hilary and Jackie (1998)\",\"Underworld: Rise of the Lycans (2009)\",\"Ghost Rider (2007)\",\"Battleship (2012)\",\"Out of the Past (1947)\",\"Inventing the Abbotts (1997)\",\"Warm Bodies (2013)\",\"Black Mirror (2011)\",\"Shooter (2007)\",\"Other Guys, The (2010)\",\"Beautician and the Beast, The (1997)\",\"Boy Who Could Fly, The (1986)\",\"Nick and Norah's Infinite Playlist (2008)\",\"Babes in Toyland (1961)\",\"Trees Lounge (1996)\",\"Fly II, The (1989)\",\"Lincoln (2012)\",\"High Art (1998)\",\"Twelfth Night (1996)\",\"Air Bud (1997)\",\"Picture Perfect (1997)\",\"Crazy Heart (2009)\",\"Shame (2011)\",\"Joe's Apartment (1996)\",\"Crank (2006)\",\"Eyes Without a Face (Yeux sans visage, Les) (1959)\",\"Adventures of Tintin, The (2011)\",\"Withnail & I (1987)\",\"Postman, The (1997)\",\"RocketMan (a.k.a. Rocket Man) (1997)\",\"Horse Whisperer, The (1998)\",\"Surrogates (2009)\",\"Invention of Lying, The (2009)\",\"Hard Rain (1998)\",\"Paranormal Activity (2009)\",\"Bourne Legacy, The (2012)\",\"Secret in Their Eyes, The (El secreto de sus ojos) (2009)\",\"Saw III (2006)\",\"Flushed Away (2006)\",\"Julie & Julia (2009)\",\"Imaginarium of Doctor Parnassus, The (2009)\",\"Public Enemies (2009)\",\"Nights of Cabiria (Notti di Cabiria, Le) (1957)\",\"Green Zone (2010)\",\"Fast and the Furious: Tokyo Drift, The (Fast and the Furious 3, The) (2006)\",\"Major League: Back to the Minors (1998)\",\"Hocus Pocus (1993)\",\"Pale Rider (1985)\",\"Bee Movie (2007)\",\"Preacher's Wife, The (1996)\",\"Dirty Work (1998)\",\"D3: The Mighty Ducks (1996)\",\"1408 (2007)\",\"Death at a Funeral (2007)\",\"Steamboat Willie (1928)\",\"Rango (2011)\",\"I Now Pronounce You Chuck and Larry (2007)\",\"April Fool's Day (1986)\",\"Ultraviolet (2006)\",\"Pitch Perfect (2012)\",\"Until the End of the World (Bis ans Ende der Welt) (1991)\",\"Tourist, The (2010)\",\"National Treasure: Book of Secrets (2007)\",\"Meet John Doe (1941)\",\"30 Days of Night (2007)\",\"Charlie Wilson's War (2007)\",\"Your Friends and Neighbors (1998)\",\"Clockwatchers (1997)\",\"Babadook, The (2014)\",\"Soldier's Story, A (1984)\",\"Music Man, The (1962)\",\"Wild Man Blues (1997)\",\"Proposal, The (2009)\",\"Interiors (1978)\",\"The Amazing Spider-Man 2 (2014)\",\"Hunt, The (Jagten) (2012)\",\"Wild at Heart (1990)\",\"Jackass Number Two (2006)\",\"Mr. Nice Guy (Yat goh ho yan) (1997)\",\"Good Shepherd, The (2006)\",\"Precious (2009)\",\"Saving Grace (2000)\",\"Man from Earth, The (2007)\",\"House (1986)\",\"Ice Age: Dawn of the Dinosaurs (2009)\",\"Last Boy Scout, The (1991)\",\"Original Kings of Comedy, The (2000)\",\"Chef (2014)\",\"Runaway Train (1985)\",\"Eye of the Beholder (1999)\",\"House Party (1990)\",\"Peter Pan (2003)\",\"Kung Fury (2015)\",\"Trick (1999)\",\"Margin Call (2011)\",\"Fog, The (1980)\",\"Fantastic Four (2015)\",\"Naked Lunch (1991)\",\"Adam's Rib (1949)\",\"Brothers Bloom, The (2008)\",\"Velvet Goldmine (1998)\",\"Little Big League (1994)\",\"Pitch Perfect 2 (2015)\",\"Insomnia (1997)\",\"Almost Heroes (1998)\",\"Sea Inside, The (Mar adentro) (2004)\",\"Amarcord (1973)\",\"Chorus, The (Choristes, Les) (2004)\",\"Miss Congeniality 2: Armed and Fabulous (2005)\",\"Barbarian Invasions, The (Les invasions barbares) (2003)\",\"The Fault in Our Stars (2014)\",\"Foxfire (1996)\",\"San Andreas (2015)\",\"Pallbearer, The (1996)\",\"Dan in Real Life (2007)\",\"Yards, The (2000)\",\"Thomas Crown Affair, The (1968)\",\"Tokyo Story (T\\u00f4ky\\u00f4 monogatari) (1953)\",\"Red Sonja (1985)\",\"Education, An (2009)\",\"Freddy vs. Jason (2003)\",\"Where the Wild Things Are (2009)\",\"Detroit Rock City (1999)\",\"Jesus Camp (2006)\",\"Crimes of the Heart (1986)\",\"Maleficent (2014)\",\"Black Dynamite (2009)\",\"Law Abiding Citizen (2009)\",\"Magdalene Sisters, The (2002)\",\"Titus (1999)\",\"Next Friday (2000)\",\"Saw IV (2007)\",\"Holy Smoke (1999)\",\"G.I. Joe: The Rise of Cobra (2009)\",\"Candyman: Farewell to the Flesh (1995)\",\"Iron Eagle (1986)\",\"Perfect Blue (1997)\",\"Poison Ivy II (1996)\",\"Loaded Weapon 1 (National Lampoon's Loaded Weapon 1) (1993)\",\"Love and Death on Long Island (1997)\",\"Phantom of the Opera (1943)\",\"Legally Blonde 2: Red, White & Blonde (2003)\",\"Adventures of Rocky and Bullwinkle, The (2000)\",\"Final Conflict, The (a.k.a. Omen III: The Final Conflict) (1981)\",\"Ikiru (1952)\",\"9 (2009)\",\"Philomena (2013)\",\"Lassie (1994)\",\"Duplex (2003)\",\"Day of the Dead (1985)\",\"Paper Moon (1973)\",\"Cradle Will Rock (1999)\",\"How Stella Got Her Groove Back (1998)\",\"Rescue Dawn (2006)\",\"Jakob the Liar (1999)\",\"Tom & Viv (1994)\",\"Bad Girls (1994)\",\"Road to El Dorado, The (2000)\",\"Safety Not Guaranteed (2012)\",\"Fracture (2007)\",\"Never Cry Wolf (1983)\",\"Force 10 from Navarone (1978)\",\"Spring, Summer, Fall, Winter... and Spring (Bom yeoreum gaeul gyeoul geurigo bom) (2003)\",\"Boys Life (1995)\",\"Where the Money Is (2000)\",\"Zelig (1983)\",\"Penelope (2006)\",\"Hidden Fortress, The (Kakushi-toride no san-akunin) (1958)\",\"Jennifer 8 (1992)\",\"RoboCop (2014)\",\"Limelight (1952)\",\"Max Payne (2008)\",\"Fitzcarraldo (1982)\",\"Human Traffic (1999)\",\"Semi-Pro (2008)\",\"Woodstock (1970)\",\"Dark Shadows (2012)\",\"Hamlet (2000)\",\"Shadow, The (1994)\",\"Butcher's Wife, The (1991)\",\"It Follows (2014)\",\"Computer Wore Tennis Shoes, The (1969)\",\"Harold & Kumar Escape from Guantanamo Bay (2008)\",\"Band Wagon, The (1953)\",\"Campaign, The (2012)\",\"On the Beach (1959)\",\"All of Me (1984)\",\"Under the Skin (2013)\",\"Meatballs (1979)\",\"Journey of Natty Gann, The (1985)\",\"What Happens in Vegas... (2008)\",\"Class (1983)\",\"Jungle Fever (1991)\",\"Something Wicked This Way Comes (1983)\",\"Happening, The (2008)\",\"Non-Stop (2014)\",\"Police Academy: Mission to Moscow (1994)\",\"Herbie Goes Bananas (1980)\",\"Coma (1978)\",\"Chamber, The (1996)\",\"Mamma Mia! (2008)\",\"Condorman (1981)\",\"Waking the Dead (2000)\",\"Futurama: Bender's Game (2008)\",\"Vantage Point (2008)\",\"Changeling (2008)\",\"Someone to Watch Over Me (1987)\",\"Greatest Show on Earth, The (1952)\",\"All the King's Men (1949)\",\"Audition (\\u00d4dishon) (1999)\",\"Radioland Murders (1994)\",\"Bride of Chucky (Child's Play 4) (1998)\",\"Hamlet (1948)\",\"Superstar (1999)\",\"Backbeat (1993)\",\"Rambo (Rambo 4) (2008)\",\"Mis\\u00e9rables, Les (2012)\",\"The Interview (2014)\",\"Noah (2014)\",\"Futurama: Into the Wild Green Yonder (2009)\",\"Chappie (2015)\",\"Ali G Indahouse (2002)\",\"Girl Who Leapt Through Time, The (Toki o kakeru sh\\u00f4jo) (2006)\",\"Happy, Texas (1999)\",\"To Have and Have Not (1944)\",\"Battle of Algiers, The (La battaglia di Algeri) (1966)\",\"Endless Summer 2, The (1994)\",\"Matewan (1987)\",\"Maximum Overdrive (1986)\",\"Secret Window (2004)\",\"Snow Day (2000)\",\"Definitely, Maybe (2008)\",\"Jeremiah Johnson (1972)\",\"Animal Crackers (1930)\",\"Seven Days in May (1964)\",\"Pride and Prejudice (1995)\",\"Them! (1954)\",\"Oklahoma! (1955)\",\"Samoura\\u00ef, Le (Godson, The) (1967)\",\"Friday the 13th Part IV: The Final Chapter (1984)\",\"Indochine (1992)\",\"Hanging Up (2000)\",\"Jersey Girl (2004)\",\"Friday the 13th Part 3: 3D (1982)\",\"Day the Earth Stood Still, The (2008)\",\"Sullivan's Travels (1941)\",\"Days of Heaven (1978)\",\"Fresh (1994)\",\"Half Nelson (2006)\",\"Revolutionary Road (2008)\",\"Ella Enchanted (2004)\",\"Drunken Master (Jui kuen) (1978)\",\"The Raid: Redemption (2011)\",\"Ruby in Paradise (1993)\",\"Dead Man on Campus (1998)\",\"Barbershop (2002)\",\"It's Kind of a Funny Story (2010)\",\"Jet Li's Fearless (Huo Yuan Jia) (2006)\",\"Jeffrey (1995)\",\"Quest, The (1996)\",\"30 Minutes or Less (2011)\",\"Unfaithful (2002)\",\"Ghosts of Mars (2001)\",\"Anniversary Party, The (2001)\",\"Gentlemen Prefer Blondes (1953)\",\"Seven Year Itch, The (1955)\",\"Atlantis: The Lost Empire (2001)\",\"Date Night (2010)\",\"Aristocrats, The (2005)\",\"Last Waltz, The (1978)\",\"Amateur (1994)\",\"Pillow Book, The (1996)\",\"Kicking and Screaming (1995)\"],\"x\":{\"__ndarray__\":\"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\",\"dtype\":\"float32\",\"shape\":[3000]},\"y\":{\"__ndarray__\":\"V6BrP/BkTsFdbSLBdr/av3EFr8Hj8Eo/D+U1weRNGD9lR9zAEwPywEEIr8FwKUO+XxoowZKFI8H0GL7AE1qFwbhKgEDwJa/BCUyrwSL4t0ADvWLBWYfovbRtTj/fit3ANDHHwfonWsFZ/qG/D5KAQA9LmUB56v7AllaHwOoFCMGiCH3B2qtsQGYvx8GSN8FAgKurweQrx8E32mBAbF0DQNNqoUAMm2/AsA8uQYnLM8HdJAHBfhLVv2xVPsHqJnHBC+gVQbB598Di0PxA6ohNwZcOl0DJGiM9AOaCwcCu0UC00q7AnSMcPw1GgMBUM6dAMDQ7wSm3v8DIiitAnwdUQB0KF0H+1x3BflO3QEslW8GdCK3Alt+Iv1z07sBdci3B1cCVwUXaqME5kPS/t9AYwckN20B8XpVBNrpJQJBSbMGc7NBA8L78v095JMHRIyTBbp7ewLp8iD/zD6u/NjpswYGJKUFcW3DBG17FwE/6l8FFRxzAlLYpwCcYDkExgBnBsD+SwFkrhcEMpwbB2Zf2wL4OUT8CjorB/ZftP0iuL8GyYmvBCxhFwUWKQT/DFaJALLwawXQEq8Bi+3tB8lqevaLOQkG1tDXB+GD/wKGOgj3CMMfAxaouQFt65cDfKGxBkiAUQWgDZcBJC4XBEcS7wPxETsAuEZDBMMNQP9UkEsEjuRLBpuJNwZC3zMBut6hAO+1UP7rXzD9G4nvADX1cv1QEW0CCdQnBTeJjQL+tET7GjoK+ltcOwWEsisGsqSjBZ+wrwe9YkUF3yzLBb0rrvukReD/0i3nBijDzP0PFcsAW7JDBKuzQwIabtkC9zcfA3OxqwfXSJz89YO2/cb7+wDg0dT8yECvBQG8mwQK9lEFgK2W+EqdnQTA1l0CVEqO/OGCNQK5HTsC0tJ1BtrEtwN8Gw0D8jyjB1gALwZHSOcAW1wRAKZ4WwR1D68DfOXW/DFLpwJjNesA7D2LAwpGdwOzAssAJLA/AEln/wJE0REH3ezPB8TXFwDwT5sBDoHTB4pLmv6OELcAErlU/kdq7wG1/W8GCHoW/k/TiQA2noj+VWcVA9TFOQZrks78OFZjBKEGTQJrV+0ASClFABhVbQEKdfEGD/ni/rS6hwKGagMGWYWBAHq63v40DTMGqwABBkDMkPzx+V8E4BhvBdubqQOnaRcAs5O7ADoaowc2bnT87hNXAv0aRwMValMEehmHBQq9NQWZuK8EKrsA7qvuGP62UE8EOIlXB9Tm0QI5rpMA1zvE/YTEGwNfpAcHWZoDBHvDVv+FkdcHl0H3AeaczwBBV68AC84XA+qjXwE2CWcGImofB4ZgVQRC2Yz+DgzpBoDEgwUGgYz2/WdnAS20+QXRKx0CNv0zBdiE9wRUwHkEL89S/I3MWPv9ZRMB2qoVAPdYMwUZJqEA5UoRAX5EcQB/tIUEGUzlByAogwDcpEMHsxyDBQtwtwZyzM0BZU6/Ai5NrQD2p67+kc/vAgBj7P6CnaMFHgAhB1LE3QA/Tk0DPHbFAD5PTQBW8psDsYCBBbqWVv2IAHMHKC9bAbHpgwO/k+sCeDihBEOFZQcGhXkHUdapB2D0bQeFsMsELQ/bAsuOGvzu+HsH76dnA00FOQUHw8sA1Kj7BtfGOQBBFY0D2l+ZAFEl5QTycQMF7mKRBA3H6P3x/n0FtPBbBgqA3QIZIX0Dr3SPBQ7/Ev4EpNMGFE3jBMDAhwbJwXcEbjR1BKMU3QV+mGcGo627BdCTXQDygjb+VCfg/D2EBQbzqfMFUluPAE1pDP/bmCkEOF1HBDooRQTi7BsEG8LpAJw7twMph+UA79eu89kI2wV4NlkBPk8tAGF+IQFEzY8EYYEnBo3+Av2okEb8e3pBBJgqswZg4csCRUs9AzF5TwQzOgsGlmOk/gCfIwFLuc8GbvptBPFa0wDTki0Avv5XBNXmQQTdkW8EErmlAF14UQb1GAcDHDwzBpORQQRueDMHuC0fB01FHQPuWNcDnnw7BiTrZQBmyYkHpcmFBBkmbv2EBBkGiflDB+7trwPO2IEG3IgPBqZUVwbZodr9NnZk/XWlfQbmFe8CIhec/QR2HQedbe0HDrSC/k/q8QMiaBMFn+avAc9NzwW2cGEHxxYJAk0YzwF/hYMDVYR8/bNcSwJNxq79oFyFBXCwZQcRTCEEZJmnAixsvwbIW67/70pBBddkSwWhlgUCRfJRBuzAFwb4kcz+KMg1A4gLKQJ61NED1YRLBdM84wT3cdsGAURNA6+pUwCdBE0HLwRrB4hbPv17tFcEiYwrAlbrrvr/xG0HM1kbBDwyQvcZbR8FcSK7A33UrwV/bkD7/EznBsCs+QcqjT0EqgPdAYTPnwHkgC8GzioHB7zKgQBStBcFFLNTAVu3yQHGOYcE8vN1As2LZQKy6i0G8sx3BuncSQfnAR8FbBcTA91odQQjo8MA48wdAzkGOwAfhqsDTaFw+st8KQfHrp8HdilFAvbCKwF1XSMAM6O3A6kSLQD8VLsB5LrY/6H+bwOhddEGAwLZASZ5ePwAkbMCrEZTBujpmwe0Dl0B4DS/A71E8QdQZxMBFQcRAg1ISvg5YMEFdA0XBi8T5QDzgV0HpZI5B+uwEQfOmNEHUVCTBQjaYQbXGiT9mKUfAwAHfQCyYTkB55sJAzT0SQeO2ecH4YIQ/3bhlwMtg48ASh4HBCcZvweGERr/O0/HAmZn3QPJuFMAtvxTBrxpdwexFE0C4r6nAToRGQS7CJMDH+5DAr+bbQB4IMUBlxafBx18uwehMf8EvGAbBDeCQQCRPrsCgm53BcvedP18hhsBZxUHBWawAwRgTtUCs175AKBpxwaGGFEGlFpfBAnbkPlOWD0FhgWHBYPZAwXCiFkFpt2fBBLkfQd5qI8GKwUjB7tIkwZMa4sCZ3P9AfqsswUhOG8EAfJFAq5pTQe5ir8BuK4jBu5KYQESlBkHtEjU+8TyCwIpbisCg0F7BxLKBwIFXrb5kRptBkTgmv3frR0Hd37hAq0UtQQytB8Ey+fPACGGnwUp+/r9D+xnB+AFTQXnk7MDOG0vAJx0yQcV6UME2B3c/GLnxwPKLP8FM4GvASSKqQKNez8A/2EjBKvgcQbq4kcFCNtFA1lwgwSYGn8DUM5c/LC+gQLJIF0EZY4/BX0fvQK0Bxj+GGI7BhszBPkBIrb/tZt7AaDoQQImvR8Cc02tBPbgkQS9m0UCWcMjAvjALwfbnecHSIPZAIwOtwDuDUMHcLZJA302jwD8mksG7n45A/CgMwVH5scB6t709sWASwa7MJ8HnZIHB5MAKwfJ/ysBbbhbAAB6lwWiLQcFhWsPAgHxcQf9SqUHavU7BPBHHQOlLPkH3yU9BQ4GOQf0qpsCIN4jAJNC/wGarhsGtCYe/ki8LwJ2PVMF2c2HBSVdvwX8kBcF5k4TBrH8RwRWjxcD2+OpAJKYWwaIIHsGV7Uc/cvegPupsRUGYe1ZBnA+hQMKcpMEh6i5AlsNFwXd7bsFRjgBBQ61gwWdc8cDcsfbAA8tUwA3oKUEQclTB3C05v8loHsFEytzADj4ewUqHrz56R7ZBJ0V1Pg6OlMHK0w9BzKfHv29Uq0EiltLADL55wRs/UsAvVKpAb0dEwHHNdEHzlxTBz9kzwZevTEAvOctA6NmuwPHHHUA1YKbBBT1wQbGFGcHf7iJBEh9wwMMBgkHIgmPB3Kn7P2Lh5b7BhvdACFgMwRZTBsFhkDRB3KVSP00QHEG1+oA/btx6wbjo90DfWyTBop0RweDeEcBT1WlBnvWkwOTxccFRw8W/IwOgwS6BksBxT4q/4nOewfHNFMEqJY5ABcOLwNhkn8CsNy1BWATaQOTbzkBohBLBbMtEwdbKcMEJFBPB2RVsQWTUyMCOBQ1B4PMWPpNkicGu1LlAiXy+wHzskUAcBoVALmuWQag1BcFl1gnAgTg9wR6rYUBW/RTBQXNDwcZ2o0GgpLbAY7VmQEWUJ8HHtVXAKfYfwdwvZ8A3uR9BAr3VQHBUr0AkO+fAtAkyQCWagUF2x9TAr2QSwHpAxkBndJ+8B4EPwdVGYz+2vUPB/JPlwC9bIcGneqTA0NQNv9i5PcFCDVnBDkFUwVfwlcD7IEs/KvsVQVK/1kDDAZDAucFTwSDhoEDlToVB4Q21v0uQkT9CfVm/9L0kwc1EwkDflghBAU34wB80RkHIjAdBJXOcQGlMCcGl6mnBWbeFwDaVTr66bK5AeeGwwKKoE0ETKhvByxkJwe7ApMHHQiI/Ce6pvwZl58BgNOXAsM0UwdeHsUDs9XjAe95WQSLfXEEyvm9BRUa3weJGmkCqVNe/8qp+QdrLM8G6aRLAEGRjQGkf6MCmk5/AWuGkQfYPA0HyzErBfHKRQfhiTcGEds7AA6mRQJHQRMGNEDjBXle5P9RmjkBBSJVBq5/cwAI1FEE2gxpB5FJqQUSsNEEg7RNBWtBYwEaMNcFmQF/B5Ww5wZjmnUBEg/FAa9aeQQ7/mUCkfIZBv01CQLKqYsGXgZu+1TYJQAOkhsAMZMPAvRWYwUqkusBOsXzB9pFbQRvGpcA/xGTAY7z1wLJZDEDbdIA9Dx2nwINfW0GXMVTB1ToYwYp+AsGcbfw/AxE1wG+8CEFBb4BAgZIqwQB1tb+R1ZnBj0zgQLrb/sC5N85AmtZswcZz5MBWkpxAo9+/QGKr1cAxIiK/S1civ7BfpsCQ1BNBifauwHsXAkF/34pBSUgWwMeYDMGK7WrB7RGaQYwjgEHkH3bBuZlvwfC3XcB0TibBXz8PQXNnccGp9SJAR1xhQKGhDEFhLNhACY7Gv+qQesCrvL5Amn7JwJsuwkD9WJ5AsuIrQXGrw76vr4fBLmU4wRYIGcBdJkDAEqxRwMigisAZbYnBsu6SwDPTREGqG2lB96wHQEmS8j883YRBhMGzQKlQgcCtjhpBdLEtwbgQ8MADnnfB+foGwYrYUUGWBqHAU7+ewcZPR8HWZzdBtCSlwNtfCr9xw8JADPkswAUEDkE7YJS/1rzgwD2ULMB+GgBBaT8NQei+tD+uyUxBtKzYwMZpJsHiwIRBaQEgQQ1XfkCYjInBRGKFwBDJ1UCI7JHBQlSDQcUMpEDcnBnBEd0eQafT/MBA+vtA51xNvrw/B7+TvKBASjcZwd7eQD+qOwPBgpj4wPKpCsHnWnhBjGtBQHz0TcFK22TBcmgPwQboJMBvEy3BLudgQN6KPcHEchHBBNAKQbMZfsGDcbRA5fVBQY2DnsDXtUHBA94DQRrAScDZ6j9BlQ5wQAfiLMEOMqfAgUalwXskbkEu7BhBS8QTwFnWDMEfiLS/RuoMwVWLscAQInnBYbT6QKwR078uSztBvQuJQXuUjME41C5A66/ewL+2VL/KPOjA/GdcQchB+ECJWSvANWfKwLJEE0Ce84vAD8RBPnUwpcHyt8tATjaPQVLpiMCKAxZB7T1xv0a+oMCKHdrAbcI4QIj5+EBHhxdAmyw0QIlDG0HkwMBBWEo/wPpzyMAl1GnBWkFBQWV/kz/N9fW/86lZwVA2nUBe5mnA87qGwUUQWsHNgmFAc81AwZsE2cB9yiPBBosAQTI/isA0NXLAX3mAvkexvsCeocdAHCSzQCHN80AZxvxA3GEkwWfJHcBNJy7AUnYBQXcJPT8j70FBgchCQbLpBEBB7IFB8sJpQXYqhsFbwGpALgCDQWeDm8FqAxpBGebbP77N978o5wZAXHxLweDkr8DH0QxB67wpQcIlPUHs7xxA9Q4qwcTBQcG/wy/BZvtAQcUREMFvwpfA3bEGQaSuLcDC7TzA3EVdQU26zkAaIEPBHXD4Pxi9AUEy8KbBRZOEQfXU9T5scD/BsssMQAPHjT8gby1AvT3KQN8VpcAKkCXBzrBNwRroz7/kUHvBdNLDQEteMMGr+ZPAoOOZwWaDwkA7jklAv+ANQRtuF8GhmQ1BEl8fQO16NEFY/p+/HdGCQGAfxD+okS7BEXyKv00WScAodafAwOFeQatQYEF1sjNBouoTwaouJcEfrxdBbPI7v0HMYsEsC75AJtgLQU08FUErj/PAg/HbwG/qFcDsOYrA8vXwwJ6NCsH9wAg/hcugQYIPLcEF97/APxl6wQJrRMBwkd3AWpzvP575hcGLT6TAT6KswAYMM0Hht3BBmUY0QQGtuD+EFjRBSwZ3QBly20BOLmrA1MyDwSESJMFBj2PBfoFrwVjXiL8mzSfBMjhcQLRxSkAn4JtB9v6JQeGiu8DW8nrA1JwYQVoG0sA7I//ANMnjwLjV9sAc9mA/4AxAwXopNkFDQIfAeYkMQSX3VUG1WgTBdTaRQTS1Yz+71/w+qtg2wVhpAMH1zw7BVweOwU20KUHX+iPB7lY3weTCp8DckibBQCioQX7VW8Gf8RhA6qb9wHeRMEEAb4U/OAtIwYENFz7hxYvBFl8DwTkTgMBjbQjBMZpUwbJhF0FX0whBC1I9Qacea8H6vMHAxo1HwYnv9EBBJP3AuJVPQVNIY8Fqa+E/XqJkQXHMmz8VpJJBoSIXQYKvW8GslDI//rSCQZ2hNEBoz4PAg/zqwGQ37EB8Mc9AxPgVwFihDb4fZ+jAza+SQF7cO8FA5uM/Ti1BwAMlcUG5k/6+h7MLQZigNcHyq4DAZBCdQUzxGsCXKoLBCE6AQfcgv79NpJtAoJ2iP5f5/UCsNSpBKoxIwD0tR8C/V6dAMrEmQdeI1kDR6GtBKQEGQeuUb8A8DJ7AHLeDweRnQ0BrnTvB4+31QI+mPsE52pTBX3auwIBzHMCL0MzAmrmXwXJCZEFRQcJARPVhQOeoHcAomUBBdtoeQbMwt0H5ABLBCHK6QBKpFb4OFnZBczVswcz8PkHMlo9B7J6iwNZK4bqcknRA/XwMwWgPt0CrF67AkqycQAD9lcDyYlHAbaqnQZYkBkGPaK1AD101wSiNEcDYBiRBUAkVQVBITsDBRrzAb5QCwRNXtkGttjvBJekIv3BBWj8VYndBFxQ1wDc6j8GPfgpB29DpQJmCRME92UHAdR8/wcCqRsFY/ArBO5rBP7YBZ0H4p0ZBAV1EwJirAsGvDge+EgSBQGSzp8BxMcLAO0IUQDHZo0EmJc7A0OJ3QeNMc8B/Ob7A9GZAQJCTO8FQSIXBD3wOwU2vXcHuDIZBeXhkQbc88UAwzElBXcodQdJYPkEg2TpBrFREwYGSZkEn2VBBiQiCQSy918BfO69AM3F9wS35MEHOxqhANP8vwbRWQEFHOSLB3cL9wIh5V0HHrJHBBlSVQX+EXME9YChBtPiSwXi8Y0Fz9fhAJN4nQdHnUMD7AYm8VE6VwG+mtcAkc0HBInFDQdDaRECwM1/BOosgwXpaF8EGgtPAywybQaQEncAK9StBpUMrQb7GBEF8avZA+vcPQXMPMMB6NydBC7qvP+awjcCEprlArqgMQX34D0B7cS9Bi69cv2F/jEFwI8i/xjnbQLFxCMFAOKXAs1qKwPsXYMCgJmTBuHg8QOKgk76DqTdB8IE+QF4XssD1J3dAxgObPjBgQ0HUhmVBjXeAv330kUGNZYnAeqJuQEiONr/gdGpBbrQVQSbEL0F/sYdBDXKBQVo2x8Cjno5ACMuCQO4PgcHNB/TAgC5HQKrnisCyXFPBeGxHQHIm7UDigxpBxh7DwG0cAMEdradBlctpQUMfqD8gewVB8r0OPz3mFUEQFa5AYlqmQSvnfcFLciZB43u2QSug5r8+CU/A/phHQVXfS0HqWoC/FtSKwKx8EsEkbTfBpPsZwcWGh0HxK5lBP8QUQWENLcBsk2rBQVBmQFkD7MBUS3zBL31RQIgo0UBkEYlBSvSYQJQ7wz+zz8U/qc3bwM3vOcDuD5HBiqbIP7+9hMEtMHVBpySRwWtxicGjTorBzAJWwZ9lVkFG3hhBk6lOwQtW5j97qxY/cRIzwQ5LfcE7YbLApWCFQcM44kBGSgXBnV8jwasamz/BQFbBgYHEwMoxcUHkGga/znQuQWdbO0FxR4nB5HuhQLjMn8FaYUPAYLZgwfG8OkGKJBw/oCw8wVtVg8BQoBe/zVQBwMjY1kCbJAFBESsJwRNtHsER9FtBBnAsQYFDJsE5Yh9Aas8LQelAKsCK09A/x7sHwW7ANUFfwaXAlpg9wCQ5MUC66z1B/09wQOFQMUGoT4PAXtKXwHnBAEHJUIDArtfbv4RUk8GIfZ1Ago3WwHLbBcH12LY/dkIowf3fFsFiEqPBVKuEQZMs/MCHMYXBwuTBQDgXjsFXkEvBAnNRQdlVMcE8xt5ATbZdQTB4ocA6UWQ+OgAnwc5licC0nX3AkcKSQPxsLkGj91xAElcaQa1028AjTnvBzSLzwG00/L/03znBQ9x/wGKrIsFa/K/Bng48QctX6kBWlOs/yA2sv0BQUcDRWYTBbKIowQU+iUHWP33ALNuYP52th0GfEqQ/+dBxQUcLb0BSFRXB0gsAQPajAUFgGx3AA5NlQUISjMH0vjfBwIeYwUx6f7881HxBfEbjv2JRIMHz0JDBb9TOPfcG/kDOyoNB012FQA9wxsBk69O+/qwZwATqWz9qxo7A9B+SQRdzh76bGntBmb6fwdkyhEGwIkPBOY4LwY7swb+CRqdAoDBAQSJijUHLxHxBlGQdvyQynEG+Fx7BN+nxwM3cxEC6RjJB9ScHwfbkVsHBfHxBeyBfwDYOlz/vRa7B2LogwfbkL0BTpB1BphAmwK3OKkEiuDpAMgFLQdDpgMCeErzApcu0QMCUSUCCZ69AXLHtQOSAR0Fl5DlBAY2dP7YONEBbY4TBn2MOwTR/j78xyGpBUa2IvwWSaEGk+2tB+tw+wccMU8FGMEhBarSev7qBZkCdaNXAPpdovlSDgkEA4kPBbz8ZQFPreUHfNylBV2GLQVjvTcFBfw1BD0weQUFVwMB7bTXBDfWOwEr4AMGZypLBLU0PwTkcA0FY04pA1AwLwTbFVEH6oYPBKJwNQf5vZsBZtLDBI3XeQOGvbUBrVBvBp6cTwRAxmMFrQY9BXNmRQZXyMED9yWnBIqILQSxyhEEFSD9B6O1DQfrKOUDi9XbBYfZOwEwF6EBXGkjB08oywbfxwMAtZAXBbrGtwN62z8AkgdlAhNxbQUCJTEHoC5pBZPxLQS3xYkHDL8dAPnOUwL5bp8DpGu1Avl1EwdMtP0EH7hDBG0ZhwcuoMMFgzClBpiLjQDqoJ8BT/DRBjzt8QTWHkj7HyzHBzihjwYjYfkCQBzrBurVwQbPP6UAncnlB0f+VwRjFcUE7FnTBosuBP9lisMDb6vjAm7QMQf1TN8AJSQrA49FBQbT3f0GBjp1AvA/2QAwVGMC41au/W+jxP2PGNUG7iyRA9/9gwQdzgUDg2FJB1M8vQcZ5u78r2wxBZ/wqQTQXCkFeYplAoNRAQJs+PMFTeofBg5iRwS9DN8EvJyLB0k4JQQjUM0GA56XAr1E1QA3tOb8AQ7JA4y+2QZtYksCuJVNBr+BdQZyQWMHRkHVB0BMlQYrrD8DH3W5BCvhBQRMkBcG3L5fBC9aNwEjcl8CI3rjAUcvJv9DWYkDnxzlBa3kYwVzCjcAQVhLAMQOgP5Ecxj+8RjBBGlz3wF4edEGWJoLA/Y/9wLyhAkGjfOLAW5WHQRRwlr4UnY/Abjctwc2nY8GrXi9BTiEswJUROcG347fBsU+HQWxrFMHBObRAbbMhQFRVeEENRva/b8lmQRivpD9Zs4DAcqHcv8wkQb826pfAo4FNQRVHh0G7JJBAdCRoQWLRDcDOiXVBCJhlwU2GTUFEfQ/AkzgJwdiunMDe2g3A7/fNQNjerEBgmHhBHKwuQUqYZ0HlffHA0i6hv9K4zT0ptttAsVi9QCJVr8C0VWnAClqnQRdFHkF4FUxBke4MQfktgUFU/KhAwRA/QTdTwsAOPmPAYvxgQaKSpcDbY7FAOMxnwbLxVkEk+9dAlJ+JQax1pUHy16NBz7FLwANRNb/NU0xBGLxSQbg/cUHqsA9AN/0oQexYlMD3bjnBHZl7QSt/cEFYwnNBJD5HQcgHccER5u1A1EdvwL+SwUBIk2TBh5qqP+vD/8C0nt9AE1mXP+XAHkF8e67Al9E+QUUhuEDm7bW+IxwFQcoyh0E6cwFBoqe2QKM+UUG+ILzAuyLdwNtgJsETGh+/QWVSQUjC1j9jO/XAWK6LQDX4GcFr5VhBnZdJwXuKJ8HISF3ABmudP6325kAEXvFAOhRLwWaCNkBvPzNBRO/LwPyalkH/WIvBJJI2QQKekcDp7IG/Tqb5wDkaiEHDiwZBjeJXQTJa/L8ZTARA8itVQRGOi8F+SNu/lO+nv0MjHL8KWIZByVzOwE5c/kBKqUPBFM50QIXSD8FU7rHAYFNuwIStVsByZjZBhyNkP10JD8H9ZVRB5fXjP7G1F0Ht9uk//iVDQbuEXsHIAmPBCXOJQQgmhsHZEe+++QAQwUKhe0EOsiTBmGhtwbtYGEHRKmBBc/zfv2+td79EGQjBOqIfv/R0JsGh8O3AB0iVQaoURL1IpodB01k6wWBmGEEdIRFA/hAyQdGYhUEH0Wa/uxoZQQwJCsHB1XdAgEwXQZpfhkDt2Om/S2iwwF9KhcEzar1AJrZaQNWV7z+//oBAK69tQNaEAUHfVrVBuZhyweBdRkEyXmRB+FcgwHOaKkEkh87AvgyswGAy98ABlIXBuiVaQeIxLUGSr4hAszb6wF02778zLjbBXsv2wLJILEHIam6/Wif/PwEQwsD2xwDBk80WQFyKLL/963LBUpl3QaUQXkGaZCZBq9BDQSOS/8B1Eu7Ae4kRwWWSnUCkMHfBpch+QZopZMAQmyfB5YwsQU7TQkHF6vxAGM14QXatgkFSiLNAxdIhwZmBNkEvva5BHMOrwHZLpD+veBZBTBA+QYS2JsGtkoHBNYc8QSJluEE+SCRAfRa4QLZK/EBQig7BnkjUP2FWbT7J383A4jeuQKujpEGhDqPAu+K0wFLYjr9fIaTBnfi5QEjOAUClUcHAGWMqQNhhPsE9eszAITRJvXgJO8Gpe9bAUukpQYeShsGXuQbB0qfbP6c65EAXglhBz3kZwaqZi8GzEYfBC0/zQIVRvrw+0ApBHeeJwWsyi0Gi2lxBK1yjwH7f0EBnjDtBgSWNwQzebUEgt5DAUEqPv4NEW8GKfftA2++yQFXW08CwcSNBlhmBwSMBhkELYWlB/c5rwds4Qr8zI01BRBKAwBkeEsH0+7ZAf5ajPnqzRsEL81RB20smQeWI/UBXcKFAx3tSQd/q0L8TpHVBygQNwHqtBkHNqFXB902WQNFgNj9vvaNBsSxEQIbOdkDs+R/BSdPWQDjynkHAz4NBBBIuwDEQ77+5rodB/YzWQPEQcUGiayFBBKrxwNft0j8NDu7AzRuAQaoMhMFdU4RBGRRDQJTRK0Fqy4jBy2m6wKip7kC1CBlAUjhZwKRlTcHPBQJBD29AQY2AWkEkTYnA+4uhwE+HEEH5Qk3By+nYwAvzFsGhHqHBfrKJQYWoPcF4O47AT82AQQ/i2UBibDtBW/gRweR2gUAfmIS8OSKGwQ2ZxMD8qOlAVMXEv2aiDcE1RKFB5lUYQYvCVMFL0ytBxNNmQWr/jcAl/gLBRNStwF3Oa8FljpFAa989wH/dy7+jFRxA1gFHwYMVSMGytqNAu3d2QWuFesHzKQ7BT4l0QfOcnEFbN4DBG2gKwDQORj+kLy5Ad/quQE7nBj7k7t7A8c4LQfrmjb88c6XAFRGAwRoracFdSjBANOeNQARAH0FycHG/jHZ0QC2JUEFZ8ABAwxt1wGnEiUBDlIxBDhdaPnkwRMHgHWrBbL1bPTem/cCWqDnB52RgwZUIpkAYCTJBMHPnwG9qAkE7Vd9AAgqovpeUSUFko0TA91kfQMigY0Ff9mQ/hhunQOoT6EDIuCXBq+TMv8fDj8HyJ8TApLeaQF6HOkF6WrXAZY4mQcY+UUE5KiLBntOoQN87YkFDjFzB/lQJQSswrz9PFztBj+oQwW1ETsAdm2VBjvdLQe8cW0EKYFdBrMP5P2UPPMG4/uA+gBVswE5ChMGPEu1A7EsTQLGP6UArp/RAEjjfQJYoTMBlTsdACrBywT68JcGMy7FAeUemQcbf6D9Of6PBkZtRQQDpHMCNoH0/rUU8wETNF8FHRYxBV1rNP2SD6MBb7kxBrahgwGOvlUEQepfA8lIMQQMMDEFNdxFBsN+hwLdYy7/12hdAi/uPwOxeQsGj8lHBcw/WwPkWo8Cw/A1ABpsnwTcAq0DB8a5BnlWjPy0pZ0EYFEpBxAVvQQ8kqkDAW4XBZ5ENwZUqbcD8B8tAlotJwXGW+UBcu5tBtNZKvwLzVkHDQ2ZBr9Y0waasjj+PjGdAavxzwRyyh0FG+ItBcqfbQIW378CtI13AbC1FQUNoTMHocFjBq6x8Qa9avUDiRuW/WLoJQS/RTEDqfAjB4jbYQHz3lkHq99TARQ9FQFsqVcBd0QrB9eB2QY6sjMCXvKXB7IhywfzWXEHDvb9A/isrvyoT4T4JwJBBDtEcwbV7OEGTOPVAMOcVwcKyiMHWmojBLqXbQFzbpkHVGclAIlp+QLBnGcHADXjA1Nl5QY6pLkGzalBBo3eSvjWW/D/gDIPAJvYuQZNBfECZc89AvhaCQbAH/8DydbhB/iMsQRz3dUA/6+9AmrkuwJCKYb9++o/Aa3S1QEFxdkF03DxB656CwQWtI0GRoQLBAIQDwa5VK0H7znnBYtCpwLxLhUACqglB+rbEwJPDckF1oQpA+l0SwWHsHEAbcVhBnb0owRLHcEFEEy7BQ6tDwSa/EMHRR3tBXn2CPEMpQsByxFDAHvQ9QGo2h0BPqS/Bt+6MwENaWEH5lJ/AGXQdQNYChMFX99JAeLBXQYKvgUDklkxBylKFwaodVEEs359Bib96QZcDmr0cynfBhH4oQYS8kUCHO2FA/CN3wKxrS0HFp4TAEAmOwd8mXEGCE/NAQ1pfwBj8wMAu8xZBB5KZQEbb6sDfSR3BH6CXQfr777+CP3lB4RgSwaQM+b8+xiBBblwWwXvNBUF5uDBB10TKQNS0M8ALPUFAYFHgwBB1oUGeXCvBCvt0wS/ZJkCt7htBPQgTwM/HFUE+RvA/c0lbv4LK2r/uVG9BPxZKwbDNQEGbB3FBeqkVwAeh88DunYdBI4CIwYjtUEG+EjTBQjapQanUakBu1IBBnsCNv1n080BMK0dBhorpwHLvcEFy9/3A5H7dwPSJycAWJyDBLYaTQTZBq8De6eBArZWQwLDpIcF7uym/xe9NQPB15sB/EWfBa7kowe0usT15InbBGTeDwM9ByMCqE6VAhl2DQa1qdkE0jcc/IpeLweZDUT6RP6BB9PzHwIi4rr84wNw/7VNgwXZo5cCvmpjA36MLQe9HmkBb9xvANiLNQLDydsGP7S1BOzYQQcAV5ECjrnRBfJZhwbWCQEBtEUPB3cDFwBjFWD8VXIPBLuBZQVPNgMD4UHhBURaRwY8gJ8DkYaTAGTE+v9L9U0EidCs/INANQfcMEsHlRbfB3790PeXIlkB/eQHASimFQbrRcMGpQFVB8S8hwMNzhUE4NFdBvQ/EQGH4dUGxRHm/xbt3QMCyMEDpvwG/uyGxwN5LbUE6LvrAvmH1QP+oRcHUKynBXCSOQN0egcBzEu3Ar1efQU7md0EaqFNBequqP+FwdcHRtTVAoxerQDXSU8HQv4dABWgwwfMfZEF7cwJBdUdZQdzXPsH8CwzBiFf0QORgRUHVA1pBihZFwdDuJkGCmJpA/PISwQXSG8Db2SdB2SGywCNAMkBaZwrAlqEOwG6oiUEHBPpAbe/uQFhQrsAIAW5ALxRSQTqG/MCVK21BEpHqvwau1sDQerDAD5RLQQUKFMGXuke/MbbsQCSmG8CbmDtA9wdmwfAvisEsgE9Bfko9werMysCKt/xALeT3QBc1CkELSQ7A+GWBQOt2h8FWWBfBFuZEQZPO3L//wqvATVQRwEgseECVjZG/2KWGwPhkisDnNxtBtBV8wZUnisDJ2rvAbteMQfkspMBK3IdBkfIJQKvlBMFIBiS/1DEDwEiYgcFAQkzBO9ebv9OraUFSQZu9ouDUQAPmPUGV1TdAoWNawb0yNECzPvhA058nQeUiVkFh/g3AkFhawWxYKUGCs0hAdcYhQJo0ZkAo9CXBUdSuwGWChkFIfeTApWFzQFYlD8HyhRvB9r4awOEjGD6TFj3B+RsOwZTFUcGRPIXBRVBawbjEDb+uvHdBBp0+Qbt+RsDt7TfBWpQaQETrNcH2+Ug/R64WwZvNmED8gZu/rWgpQcIElkF/tnpBzNEjPo1sAUCqtVjBSgqWQNfQGsHjX21BZWv+QNJWhUGO/mNBEB1Bvx6nkkGu0zy/0ES2QLOSEMAUwjlAKFlkQOtWT8BQ0mpBwcxcv7NLekEFXzBBhaElQT7ASUHn3fdA7iIQweWRocCsUdO/vQEcwILFGUF11f3AbttgwB2oPcH+0ZdBZIaDwMe4dMCibYnA9/ybQF3H/sDuloHBuUa9wLIYUUFSWHvB1khUQYLP2j8Qg4LAxAs+wQ6ubEAYuINANVnBvx2fgT7jzoRBBS6iQOOFPcHEzBpBnNPbwJ2l58CxUOQ/GPU7QRoTjkDVcRVB1i6NP7q8KEGN2mpBUtKCQb6v/sDIPq9AyKv5wGzOTEFZx5hBJdVgwVShh8Gcj4pBjdZHQSncuEBgm5HAdGjbwE7Fy0Bw+aNBb8kAvxAthUAeJGhBVuqnQUFpjEC0I2o/RM5XwbY1ekDUPrW/WEwBwa4NzcB1njtBjV8ZwYaEd0DgnJBBFapjQamIeUHJips/VQWRQWqYFz9YMyhBdbphQaq7wEA9B/vA5xpYwUjvrcD4+IFAGWDjQL2ocEEZmxbBvuyQQd+fUEHVMqRAOM9JwXeY0z4YqMU/F9s/QMSsNkE+UHDB8dPkP2Iwm8Fhqk7Bk6uGP/QRNUFUT7TAwuhrwTKsEkDFHHTBrSNbv3pVHcGcMEA/N97xQAEiwcDT7RvA16VOQeJPfUA5V2JBzxN1vxQ9AMEh2mBBzDAoQbufWb5KZ/dADxUAQVqpuMD13AdBlgyBQcaA8sCilgLBKh51wW9q9EDNASVAQRyCQO4hpL9oUopBh2qGwfDSi8FBlfbAMGlRQdQoi8EeqhfBG09+Qdsye0GnCIZBWCIRwY3yMEEq8svA3y7KwAKGCkEbnRfBPChyQarlY0G8Z0tBHmjzwJovqEAUlKtA1sRlwYmfGkCK18G+MGYTwcyTRUEoXJNANT9eQZHGEcByOre/CuRJQS3kCMF2zC9BbYCFQS4MDMDVD6PADnYSQauNhEESEuhANuoSwbQ4MUC50mbB4/3AP/7N00AnKBZA0/tlwTylm0HL4NtAVBZCQED2kUFEVvHAiMBWQSa7CD9Q9l/BM+QlwVZbHcBwvmtBv+8YQA631r8ZXDG+se4RwbOCTj9uZJtA61gTQTvmfkFA0Z5B2ReSQZbFQkDy9+g/jpcpQeMzh8FBbn9BizwvwWrAr7wc2WdBORgwQTXvKEHIvINAxYXtwGprEMHsazTB96hnQC29GL8swV6/kUgCQbsUZ0HPqD1BYFASQSvyB0FEiIjAehxUwcYOVkF3Ox5Bt9k7QV2pikDLwhBBMNzrwPsi4UArb1rAQAmXQEM17sBW19BAgP8kwcPcQcHslDHBo7CDQRoZy0C9Xiy/4KdAQaNxtkCkQdBA2F8QwTu9PkCHhJ3AfOvOv49lVUFGXklBHKgfQNyqo0C6qnDBRHgowPLApEGvnaq/aI/fQMnZhz+WKndBUDhCPw3F6cAlb4jA5NwZwGVNjcEJYiJA38gywG3XWMFc14NBEKJgQXSfV0E5QxpB/KFbQYlIMkHhrl/BSmxowJdKP0Ga+JLBdoswQQMEkT9+LCHBy1wNwTTSW0GwKpxBYNmSQZdLo8C/MAjBW8DIwDSCPUGeFvdAKiizQKvCXUHg0ofBhvcywRAhJsAwGi1A4iCQQWpjisHGUPVACiAgQIB7XEGqkYQ/\",\"dtype\":\"float32\",\"shape\":[3000]}}},\"id\":\"6a994bb1-529d-43db-9a51-a0432f15e26f\",\"type\":\"ColumnDataSource\"},{\"attributes\":{\"callback\":null,\"tooltips\":[[\"content\",\"Title: @title\"]]},\"id\":\"a741d80c-cbff-4848-ab2c-ef0ebc792b32\",\"type\":\"HoverTool\"},{\"attributes\":{\"overlay\":{\"id\":\"86ddb1c9-c588-48fd-a9e5-7a973f03e945\",\"type\":\"BoxAnnotation\"}},\"id\":\"d0345003-fd68-4039-9df2-8281d34987e3\",\"type\":\"BoxZoomTool\"},{\"attributes\":{\"fill_alpha\":{\"value\":0.8},\"fill_color\":{\"field\":\"colors\"},\"line_alpha\":{\"value\":0.8},\"line_color\":{\"field\":\"colors\"},\"x\":{\"field\":\"x\"},\"y\":{\"field\":\"y\"}},\"id\":\"90811a8c-1cfe-4db6-89f5-ec44e103ef6f\",\"type\":\"Circle\"},{\"attributes\":{\"data_source\":{\"id\":\"6a994bb1-529d-43db-9a51-a0432f15e26f\",\"type\":\"ColumnDataSource\"},\"glyph\":{\"id\":\"90811a8c-1cfe-4db6-89f5-ec44e103ef6f\",\"type\":\"Circle\"},\"hover_glyph\":null,\"muted_glyph\":null,\"nonselection_glyph\":{\"id\":\"dad329fd-c1ca-4e17-ae2d-bcdbda8ee1a9\",\"type\":\"Circle\"},\"selection_glyph\":null,\"view\":{\"id\":\"1b726643-9b8d-4140-9c38-0b6a4af4fc86\",\"type\":\"CDSView\"}},\"id\":\"23d7cad2-38b6-4a5b-b7b1-18ddb1768fb6\",\"type\":\"GlyphRenderer\"},{\"attributes\":{\"min_border\":1,\"plot_height\":800,\"plot_width\":1000,\"renderers\":[{\"id\":\"86ddb1c9-c588-48fd-a9e5-7a973f03e945\",\"type\":\"BoxAnnotation\"},{\"id\":\"73aa7a5b-86d6-49a7-a7c4-44174c5b80e5\",\"type\":\"Legend\"},{\"id\":\"23d7cad2-38b6-4a5b-b7b1-18ddb1768fb6\",\"type\":\"GlyphRenderer\"}],\"title\":{\"id\":\"3b82e1a8-4fed-4845-9cf5-aebc1c906de7\",\"type\":\"Title\"},\"toolbar\":{\"id\":\"d99d0071-be47-4f8e-bae2-01581b8cf8b8\",\"type\":\"Toolbar\"},\"x_range\":{\"id\":\"6bbb09db-246a-4490-8b18-566478baf146\",\"type\":\"DataRange1d\"},\"x_scale\":{\"id\":\"9f782f58-b7c4-4206-a7e4-53d29fb9a8c6\",\"type\":\"LinearScale\"},\"y_range\":{\"id\":\"1312fb8e-d103-4c11-a434-59cf7354341e\",\"type\":\"DataRange1d\"},\"y_scale\":{\"id\":\"cdcefc27-c97c-4fff-bcb1-49cd6f3b261a\",\"type\":\"LinearScale\"}},\"id\":\"c7a173b0-ecee-493e-b733-f1e0309e39fa\",\"subtype\":\"Figure\",\"type\":\"Plot\"},{\"attributes\":{},\"id\":\"abd9a879-b384-4bf1-8e35-23dc49be9189\",\"type\":\"SaveTool\"},{\"attributes\":{\"plot\":null,\"text\":\"T-SNE visualization of embeddings - cluster by bias\"},\"id\":\"3b82e1a8-4fed-4845-9cf5-aebc1c906de7\",\"type\":\"Title\"},{\"attributes\":{},\"id\":\"cdcefc27-c97c-4fff-bcb1-49cd6f3b261a\",\"type\":\"LinearScale\"},{\"attributes\":{},\"id\":\"9f782f58-b7c4-4206-a7e4-53d29fb9a8c6\",\"type\":\"LinearScale\"},{\"attributes\":{},\"id\":\"1fbd4fbc-b3fa-4557-abe4-a3300db3e7f4\",\"type\":\"ResetTool\"},{\"attributes\":{},\"id\":\"ee463d2e-d327-4d38-bfcd-dc2431fbbbda\",\"type\":\"WheelZoomTool\"},{\"attributes\":{\"callback\":null},\"id\":\"6bbb09db-246a-4490-8b18-566478baf146\",\"type\":\"DataRange1d\"},{\"attributes\":{\"bottom_units\":\"screen\",\"fill_alpha\":{\"value\":0.5},\"fill_color\":{\"value\":\"lightgrey\"},\"left_units\":\"screen\",\"level\":\"overlay\",\"line_alpha\":{\"value\":1.0},\"line_color\":{\"value\":\"black\"},\"line_dash\":[4,4],\"line_width\":{\"value\":2},\"plot\":null,\"render_mode\":\"css\",\"right_units\":\"screen\",\"top_units\":\"screen\"},\"id\":\"86ddb1c9-c588-48fd-a9e5-7a973f03e945\",\"type\":\"BoxAnnotation\"},{\"attributes\":{\"callback\":null},\"id\":\"1312fb8e-d103-4c11-a434-59cf7354341e\",\"type\":\"DataRange1d\"},{\"attributes\":{\"fill_alpha\":{\"value\":0.1},\"fill_color\":{\"value\":\"#1f77b4\"},\"line_alpha\":{\"value\":0.1},\"line_color\":{\"value\":\"#1f77b4\"},\"x\":{\"field\":\"x\"},\"y\":{\"field\":\"y\"}},\"id\":\"dad329fd-c1ca-4e17-ae2d-bcdbda8ee1a9\",\"type\":\"Circle\"},{\"attributes\":{\"active_drag\":\"auto\",\"active_inspect\":\"auto\",\"active_scroll\":\"auto\",\"active_tap\":\"auto\",\"tools\":[{\"id\":\"bb1a3703-463f-4c30-a901-c53cdbf8e5b2\",\"type\":\"PanTool\"},{\"id\":\"ee463d2e-d327-4d38-bfcd-dc2431fbbbda\",\"type\":\"WheelZoomTool\"},{\"id\":\"d0345003-fd68-4039-9df2-8281d34987e3\",\"type\":\"BoxZoomTool\"},{\"id\":\"1fbd4fbc-b3fa-4557-abe4-a3300db3e7f4\",\"type\":\"ResetTool\"},{\"id\":\"a741d80c-cbff-4848-ab2c-ef0ebc792b32\",\"type\":\"HoverTool\"},{\"id\":\"abd9a879-b384-4bf1-8e35-23dc49be9189\",\"type\":\"SaveTool\"}]},\"id\":\"d99d0071-be47-4f8e-bae2-01581b8cf8b8\",\"type\":\"Toolbar\"},{\"attributes\":{\"source\":{\"id\":\"6a994bb1-529d-43db-9a51-a0432f15e26f\",\"type\":\"ColumnDataSource\"}},\"id\":\"1b726643-9b8d-4140-9c38-0b6a4af4fc86\",\"type\":\"CDSView\"},{\"attributes\":{\"label\":{\"field\":\"label\"},\"renderers\":[{\"id\":\"23d7cad2-38b6-4a5b-b7b1-18ddb1768fb6\",\"type\":\"GlyphRenderer\"}]},\"id\":\"db0fbc54-d9a7-4102-a249-26feb211f8b2\",\"type\":\"LegendItem\"},{\"attributes\":{},\"id\":\"bb1a3703-463f-4c30-a901-c53cdbf8e5b2\",\"type\":\"PanTool\"},{\"attributes\":{\"items\":[{\"id\":\"db0fbc54-d9a7-4102-a249-26feb211f8b2\",\"type\":\"LegendItem\"}],\"location\":\"top_left\",\"orientation\":\"horizontal\",\"plot\":{\"id\":\"c7a173b0-ecee-493e-b733-f1e0309e39fa\",\"subtype\":\"Figure\",\"type\":\"Plot\"}},\"id\":\"73aa7a5b-86d6-49a7-a7c4-44174c5b80e5\",\"type\":\"Legend\"}],\"root_ids\":[\"c7a173b0-ecee-493e-b733-f1e0309e39fa\"]},\"title\":\"Bokeh Application\",\"version\":\"0.12.10\"}};\n",
       "    var render_items = [{\"docid\":\"a351e18d-c0ac-4308-b919-723c2fc27d04\",\"elementid\":\"a7c0eb93-4d64-4f89-a395-8653a9f9b56d\",\"modelid\":\"c7a173b0-ecee-493e-b733-f1e0309e39fa\"}];\n",
       "\n",
       "    root.Bokeh.embed.embed_items(docs_json, render_items);\n",
       "  }\n",
       "\n",
       "  if (root.Bokeh !== undefined) {\n",
       "    embed_document(root);\n",
       "  } else {\n",
       "    var attempts = 0;\n",
       "    var timer = setInterval(function(root) {\n",
       "      if (root.Bokeh !== undefined) {\n",
       "        embed_document(root);\n",
       "        clearInterval(timer);\n",
       "      }\n",
       "      attempts++;\n",
       "      if (attempts > 100) {\n",
       "        console.log(\"Bokeh: ERROR: Unable to embed document because BokehJS library is missing\")\n",
       "        clearInterval(timer);\n",
       "      }\n",
       "    }, 10, root)\n",
       "  }\n",
       "})(window);"
      ],
      "application/vnd.bokehjs_exec.v0+json": ""
     },
     "metadata": {
      "application/vnd.bokehjs_exec.v0+json": {
       "id": "c7a173b0-ecee-493e-b733-f1e0309e39fa"
      }
     },
     "output_type": "display_data"
    },
    {
     "name": "stderr",
     "output_type": "stream",
     "text": [
      "/home/ec2-user/anaconda3/envs/fastai/lib/python3.6/site-packages/bokeh/io/saving.py:125: UserWarning: save() called but no resources were supplied and output_file(...) was never called, defaulting to resources.CDN\n",
      "  warn(\"save() called but no resources were supplied and output_file(...) was never called, defaulting to resources.CDN\")\n",
      "/home/ec2-user/anaconda3/envs/fastai/lib/python3.6/site-packages/bokeh/io/saving.py:138: UserWarning: save() called but no title was supplied and output_file(...) was never called, using default title 'Bokeh Plot'\n",
      "  warn(\"save() called but no title was supplied and output_file(...) was never called, using default title 'Bokeh Plot'\")\n"
     ]
    },
    {
     "data": {
      "text/plain": [
       "'/home/ec2-user/projects/collaborative-filtering/t-SNE_emb_cluster_bias.html'"
      ]
     },
     "execution_count": 107,
     "metadata": {},
     "output_type": "execute_result"
    }
   ],
   "source": [
    "source = ColumnDataSource(dict(\n",
    "    x=df_combine['x-tsne'],\n",
    "    y=df_combine['y-tsne'],\n",
    "    title= df_combine['title'],\n",
    "    colors = df_combine['colors'],\n",
    "    label=df_combine['bias_bin'].apply(lambda l: top_labels1[l])\n",
    "\n",
    "))\n",
    "\n",
    "title = 'T-SNE visualization of embeddings - cluster by bias'\n",
    "\n",
    "plot_lda = figure(plot_width=1000, plot_height=800,\n",
    "                     title=title, tools=\"pan,wheel_zoom,box_zoom,reset,hover,previewsave\",\n",
    "                     x_axis_type=None, y_axis_type=None, min_border=1)\n",
    "\n",
    "plot_lda.scatter(x='x', y='y',source=source,legend='label',\n",
    "                alpha=0.8, color='colors')\n",
    "\n",
    "# hover tools\n",
    "hover = plot_lda.select(dict(type=HoverTool))\n",
    "hover.tooltips = {\"content\": \"Title: @title\"}\n",
    "\n",
    "\n",
    "plot_lda.legend.location = \"top_left\"\n",
    "\n",
    "plot_lda.legend.orientation = \"horizontal\"\n",
    "\n",
    "show(plot_lda)\n",
    "save(plot_lda, 't-SNE_emb_cluster_bias.html')"
   ]
  },
  {
   "cell_type": "markdown",
   "metadata": {},
   "source": [
    "---"
   ]
  },
  {
   "cell_type": "markdown",
   "metadata": {},
   "source": [
    "----"
   ]
  },
  {
   "cell_type": "markdown",
   "metadata": {},
   "source": [
    "## Collaborative filtering from scratch using pytorch and fastai"
   ]
  },
  {
   "cell_type": "markdown",
   "metadata": {},
   "source": [
    "### Data loading"
   ]
  },
  {
   "cell_type": "code",
   "execution_count": 4,
   "metadata": {},
   "outputs": [],
   "source": [
    "path='data/movielens/ml-latest-small/'"
   ]
  },
  {
   "cell_type": "code",
   "execution_count": 5,
   "metadata": {},
   "outputs": [
    {
     "data": {
      "text/html": [
       "<div>\n",
       "<style scoped>\n",
       "    .dataframe tbody tr th:only-of-type {\n",
       "        vertical-align: middle;\n",
       "    }\n",
       "\n",
       "    .dataframe tbody tr th {\n",
       "        vertical-align: top;\n",
       "    }\n",
       "\n",
       "    .dataframe thead th {\n",
       "        text-align: right;\n",
       "    }\n",
       "</style>\n",
       "<table border=\"1\" class=\"dataframe\">\n",
       "  <thead>\n",
       "    <tr style=\"text-align: right;\">\n",
       "      <th></th>\n",
       "      <th>userId</th>\n",
       "      <th>movieId</th>\n",
       "      <th>rating</th>\n",
       "      <th>timestamp</th>\n",
       "    </tr>\n",
       "  </thead>\n",
       "  <tbody>\n",
       "    <tr>\n",
       "      <th>0</th>\n",
       "      <td>1</td>\n",
       "      <td>31</td>\n",
       "      <td>2.5</td>\n",
       "      <td>1260759144</td>\n",
       "    </tr>\n",
       "    <tr>\n",
       "      <th>1</th>\n",
       "      <td>1</td>\n",
       "      <td>1029</td>\n",
       "      <td>3.0</td>\n",
       "      <td>1260759179</td>\n",
       "    </tr>\n",
       "    <tr>\n",
       "      <th>2</th>\n",
       "      <td>1</td>\n",
       "      <td>1061</td>\n",
       "      <td>3.0</td>\n",
       "      <td>1260759182</td>\n",
       "    </tr>\n",
       "    <tr>\n",
       "      <th>3</th>\n",
       "      <td>1</td>\n",
       "      <td>1129</td>\n",
       "      <td>2.0</td>\n",
       "      <td>1260759185</td>\n",
       "    </tr>\n",
       "    <tr>\n",
       "      <th>4</th>\n",
       "      <td>1</td>\n",
       "      <td>1172</td>\n",
       "      <td>4.0</td>\n",
       "      <td>1260759205</td>\n",
       "    </tr>\n",
       "  </tbody>\n",
       "</table>\n",
       "</div>"
      ],
      "text/plain": [
       "   userId  movieId  rating   timestamp\n",
       "0       1       31     2.5  1260759144\n",
       "1       1     1029     3.0  1260759179\n",
       "2       1     1061     3.0  1260759182\n",
       "3       1     1129     2.0  1260759185\n",
       "4       1     1172     4.0  1260759205"
      ]
     },
     "execution_count": 5,
     "metadata": {},
     "output_type": "execute_result"
    }
   ],
   "source": [
    "ratings = pd.read_csv(path+'ratings.csv')\n",
    "ratings.head()"
   ]
  },
  {
   "cell_type": "code",
   "execution_count": 6,
   "metadata": {},
   "outputs": [
    {
     "data": {
      "text/html": [
       "<div>\n",
       "<style scoped>\n",
       "    .dataframe tbody tr th:only-of-type {\n",
       "        vertical-align: middle;\n",
       "    }\n",
       "\n",
       "    .dataframe tbody tr th {\n",
       "        vertical-align: top;\n",
       "    }\n",
       "\n",
       "    .dataframe thead th {\n",
       "        text-align: right;\n",
       "    }\n",
       "</style>\n",
       "<table border=\"1\" class=\"dataframe\">\n",
       "  <thead>\n",
       "    <tr style=\"text-align: right;\">\n",
       "      <th></th>\n",
       "      <th>movieId</th>\n",
       "      <th>title</th>\n",
       "      <th>genres</th>\n",
       "    </tr>\n",
       "  </thead>\n",
       "  <tbody>\n",
       "    <tr>\n",
       "      <th>0</th>\n",
       "      <td>1</td>\n",
       "      <td>Toy Story (1995)</td>\n",
       "      <td>Adventure|Animation|Children|Comedy|Fantasy</td>\n",
       "    </tr>\n",
       "    <tr>\n",
       "      <th>1</th>\n",
       "      <td>2</td>\n",
       "      <td>Jumanji (1995)</td>\n",
       "      <td>Adventure|Children|Fantasy</td>\n",
       "    </tr>\n",
       "    <tr>\n",
       "      <th>2</th>\n",
       "      <td>3</td>\n",
       "      <td>Grumpier Old Men (1995)</td>\n",
       "      <td>Comedy|Romance</td>\n",
       "    </tr>\n",
       "    <tr>\n",
       "      <th>3</th>\n",
       "      <td>4</td>\n",
       "      <td>Waiting to Exhale (1995)</td>\n",
       "      <td>Comedy|Drama|Romance</td>\n",
       "    </tr>\n",
       "    <tr>\n",
       "      <th>4</th>\n",
       "      <td>5</td>\n",
       "      <td>Father of the Bride Part II (1995)</td>\n",
       "      <td>Comedy</td>\n",
       "    </tr>\n",
       "  </tbody>\n",
       "</table>\n",
       "</div>"
      ],
      "text/plain": [
       "   movieId                               title  \\\n",
       "0        1                    Toy Story (1995)   \n",
       "1        2                      Jumanji (1995)   \n",
       "2        3             Grumpier Old Men (1995)   \n",
       "3        4            Waiting to Exhale (1995)   \n",
       "4        5  Father of the Bride Part II (1995)   \n",
       "\n",
       "                                        genres  \n",
       "0  Adventure|Animation|Children|Comedy|Fantasy  \n",
       "1                   Adventure|Children|Fantasy  \n",
       "2                               Comedy|Romance  \n",
       "3                         Comedy|Drama|Romance  \n",
       "4                                       Comedy  "
      ]
     },
     "execution_count": 6,
     "metadata": {},
     "output_type": "execute_result"
    }
   ],
   "source": [
    "movies = pd.read_csv(path+'movies.csv')\n",
    "movies.head()"
   ]
  },
  {
   "cell_type": "code",
   "execution_count": 7,
   "metadata": {},
   "outputs": [],
   "source": [
    "val_idxs = get_cv_idxs(len(ratings)) #20% validation \n",
    "n_factors = 50 #how big embedding matrix we want"
   ]
  },
  {
   "cell_type": "markdown",
   "metadata": {},
   "source": [
    "### Collaborative filtering as a dot product model"
   ]
  },
  {
   "cell_type": "markdown",
   "metadata": {},
   "source": [
    "Converting the userid and movieid (unique) to contiguous indices starting from 0 for creation of embedding matrix"
   ]
  },
  {
   "cell_type": "markdown",
   "metadata": {},
   "source": [
    "This is pytorch/fastai implementation of this collaborative filtering as discussed in this article: https://medium.com/p/63b00b9739ce/edit"
   ]
  },
  {
   "cell_type": "code",
   "execution_count": 8,
   "metadata": {},
   "outputs": [],
   "source": [
    "u_unique = ratings.userId.unique()\n",
    "user2idx = {o:i for i,o in enumerate(u_unique)} #dictionary comprehension\n",
    "ratings.userId = ratings.userId.apply(lambda x: user2idx[x])"
   ]
  },
  {
   "cell_type": "code",
   "execution_count": 9,
   "metadata": {},
   "outputs": [],
   "source": [
    "m_uniq = ratings.movieId.unique()\n",
    "movie2idx = {o:i for i,o in enumerate(m_uniq)} \n",
    "ratings.movieId = ratings.movieId.apply(lambda x: movie2idx[x])"
   ]
  },
  {
   "cell_type": "code",
   "execution_count": 10,
   "metadata": {},
   "outputs": [],
   "source": [
    "n_users=int(ratings.userId.nunique())\n",
    "n_movies=int(ratings.movieId.nunique())"
   ]
  },
  {
   "cell_type": "code",
   "execution_count": 11,
   "metadata": {},
   "outputs": [
    {
     "data": {
      "text/plain": [
       "(671, 9066)"
      ]
     },
     "execution_count": 11,
     "metadata": {},
     "output_type": "execute_result"
    }
   ],
   "source": [
    "n_users,n_movies"
   ]
  },
  {
   "cell_type": "markdown",
   "metadata": {},
   "source": [
    "We have 671 unique users and 9066 unique movies"
   ]
  },
  {
   "cell_type": "markdown",
   "metadata": {},
   "source": [
    "Specifying dependent and independent variables. In our case rating is the dependent variable. We are dropping timestamp as it doesn't seem to be a helpful variable"
   ]
  },
  {
   "cell_type": "code",
   "execution_count": 15,
   "metadata": {},
   "outputs": [],
   "source": [
    "x = ratings.drop(['rating', 'timestamp'],axis=1)\n",
    "y = ratings['rating'].astype(np.float32) #pytorch requires every input to be of type float32"
   ]
  },
  {
   "cell_type": "markdown",
   "metadata": {},
   "source": [
    "Creating dataset using fastai custom dataloader"
   ]
  },
  {
   "cell_type": "code",
   "execution_count": 16,
   "metadata": {},
   "outputs": [],
   "source": [
    "data = ColumnarModelData.from_data_frame(path, val_idxs, x, y, ['userId', 'movieId'], 64)"
   ]
  },
  {
   "cell_type": "markdown",
   "metadata": {},
   "source": [
    "This data return a batch containing 3 things: categorical predictor variables, continuous predictor variables, dependent variable"
   ]
  },
  {
   "cell_type": "code",
   "execution_count": 17,
   "metadata": {},
   "outputs": [],
   "source": [
    "xmb,ymb,zmb = next(iter(data.trn_dl)) #storing a mini-batch "
   ]
  },
  {
   "cell_type": "code",
   "execution_count": 18,
   "metadata": {},
   "outputs": [
    {
     "data": {
      "text/plain": [
       "(0.5, 5.0)"
      ]
     },
     "execution_count": 18,
     "metadata": {},
     "output_type": "execute_result"
    }
   ],
   "source": [
    "min_rating,max_rating = ratings.rating.min(),ratings.rating.max()\n",
    "min_rating,max_rating"
   ]
  },
  {
   "cell_type": "markdown",
   "metadata": {},
   "source": [
    "### Defining the model class"
   ]
  },
  {
   "cell_type": "code",
   "execution_count": 128,
   "metadata": {},
   "outputs": [],
   "source": [
    "def get_emb(ni,nf):\n",
    "    e = nn.Embedding(ni, nf) #creating embedding matrix of a given size\n",
    "    e.weight.data.uniform_(-0.01,0.01) #initializing values within embedding matrix.Kaiming He initialization \n",
    "    return e\n",
    "\n",
    "class EmbeddingDotBias(nn.Module):\n",
    "    def __init__(self, n_users, n_movies):\n",
    "        super().__init__()\n",
    "        (self.u, self.m, self.ub, self.mb) = [get_emb(*o) for o in [\n",
    "            (n_users, n_factors), (n_movies, n_factors), (n_users,1), (n_movies,1)\n",
    "        ]] #defining embedding matrix and bias matrix\n",
    "        \n",
    "    def forward(self, cats, conts):\n",
    "        users,movies = cats[:,0],cats[:,1] \n",
    "        um = (self.u(users)* self.m(movies)).sum(1) #dot product of embedding vectors\n",
    "        res = um + self.ub(users).squeeze() + self.mb(movies).squeeze() #addition of bias\n",
    "        res = F.sigmoid(res) * (max_rating-min_rating) + min_rating\n",
    "        return res"
   ]
  },
  {
   "cell_type": "code",
   "execution_count": 129,
   "metadata": {},
   "outputs": [],
   "source": [
    "model = EmbeddingDotBias(n_users, n_movies).cuda()"
   ]
  },
  {
   "cell_type": "code",
   "execution_count": 130,
   "metadata": {},
   "outputs": [],
   "source": [
    "wd=2e-4 #weight decay"
   ]
  },
  {
   "cell_type": "markdown",
   "metadata": {},
   "source": [
    "We are using optimizer as SGD with momentum, weight decay of 2e-4 (a regularization hyperparamter) and learning rate of 1e-1"
   ]
  },
  {
   "cell_type": "code",
   "execution_count": 131,
   "metadata": {},
   "outputs": [],
   "source": [
    "opt = optim.SGD(model.parameters(), 1e-1, weight_decay=wd, momentum=0.9) "
   ]
  },
  {
   "cell_type": "markdown",
   "metadata": {},
   "source": [
    "Training for 3 epochs with mse loss to minimize"
   ]
  },
  {
   "cell_type": "code",
   "execution_count": 132,
   "metadata": {},
   "outputs": [
    {
     "data": {
      "application/vnd.jupyter.widget-view+json": {
       "model_id": "c2054395509e4faa8a6008e1e26c0613",
       "version_major": 2,
       "version_minor": 0
      },
      "text/html": [
       "<p>Failed to display Jupyter Widget of type <code>HBox</code>.</p>\n",
       "<p>\n",
       "  If you're reading this message in the Jupyter Notebook or JupyterLab Notebook, it may mean\n",
       "  that the widgets JavaScript is still loading. If this message persists, it\n",
       "  likely means that the widgets JavaScript library is either not installed or\n",
       "  not enabled. See the <a href=\"https://ipywidgets.readthedocs.io/en/stable/user_install.html\">Jupyter\n",
       "  Widgets Documentation</a> for setup instructions.\n",
       "</p>\n",
       "<p>\n",
       "  If you're reading this message in another frontend (for example, a static\n",
       "  rendering on GitHub or <a href=\"https://nbviewer.jupyter.org/\">NBViewer</a>),\n",
       "  it may mean that your frontend doesn't currently support widgets.\n",
       "</p>\n"
      ],
      "text/plain": [
       "HBox(children=(IntProgress(value=0, description='Epoch', max=3), HTML(value='')))"
      ]
     },
     "metadata": {},
     "output_type": "display_data"
    },
    {
     "name": "stdout",
     "output_type": "stream",
     "text": [
      "[ 0.       0.80408  0.83655]                                    \n",
      "[ 1.       0.84924  0.81539]                                    \n",
      "[ 2.       0.75829  0.81066]                                    \n",
      "\n"
     ]
    }
   ],
   "source": [
    "fit(model, data, 3, opt, F.mse_loss)"
   ]
  },
  {
   "cell_type": "markdown",
   "metadata": {},
   "source": [
    "Changing the learning rate to 1e-2"
   ]
  },
  {
   "cell_type": "code",
   "execution_count": 133,
   "metadata": {},
   "outputs": [],
   "source": [
    "set_lrs(opt, 1e-2)"
   ]
  },
  {
   "cell_type": "markdown",
   "metadata": {},
   "source": [
    "Training for 3 more epochs"
   ]
  },
  {
   "cell_type": "code",
   "execution_count": 134,
   "metadata": {},
   "outputs": [
    {
     "data": {
      "application/vnd.jupyter.widget-view+json": {
       "model_id": "7c91ea7671324c9496a9f38ebe21192e",
       "version_major": 2,
       "version_minor": 0
      },
      "text/html": [
       "<p>Failed to display Jupyter Widget of type <code>HBox</code>.</p>\n",
       "<p>\n",
       "  If you're reading this message in the Jupyter Notebook or JupyterLab Notebook, it may mean\n",
       "  that the widgets JavaScript is still loading. If this message persists, it\n",
       "  likely means that the widgets JavaScript library is either not installed or\n",
       "  not enabled. See the <a href=\"https://ipywidgets.readthedocs.io/en/stable/user_install.html\">Jupyter\n",
       "  Widgets Documentation</a> for setup instructions.\n",
       "</p>\n",
       "<p>\n",
       "  If you're reading this message in another frontend (for example, a static\n",
       "  rendering on GitHub or <a href=\"https://nbviewer.jupyter.org/\">NBViewer</a>),\n",
       "  it may mean that your frontend doesn't currently support widgets.\n",
       "</p>\n"
      ],
      "text/plain": [
       "HBox(children=(IntProgress(value=0, description='Epoch', max=3), HTML(value='')))"
      ]
     },
     "metadata": {},
     "output_type": "display_data"
    },
    {
     "name": "stdout",
     "output_type": "stream",
     "text": [
      "[ 0.       0.76492  0.80382]                                    \n",
      "[ 1.       0.77785  0.80261]                                    \n",
      "[ 2.       0.75358  0.80125]                                    \n",
      "\n"
     ]
    }
   ],
   "source": [
    "fit(model, data, 3, opt, F.mse_loss)"
   ]
  },
  {
   "cell_type": "code",
   "execution_count": 66,
   "metadata": {},
   "outputs": [
    {
     "data": {
      "text/plain": [
       "array([ 2.4415 ,  3.9747 ,  3.20114, ...,  4.0431 ,  3.61654,  3.80311], dtype=float32)"
      ]
     },
     "execution_count": 66,
     "metadata": {},
     "output_type": "execute_result"
    }
   ],
   "source": [
    "# predict(model,data.val_dl) "
   ]
  },
  {
   "cell_type": "markdown",
   "metadata": {},
   "source": [
    "---"
   ]
  },
  {
   "cell_type": "markdown",
   "metadata": {},
   "source": [
    "### Collaborative filtering using Neural Networks"
   ]
  },
  {
   "cell_type": "markdown",
   "metadata": {},
   "source": [
    "* We can concatenate the embedding vector of user and movie as one single vector\n",
    "* Apply linear layer\n",
    "* Apply RELU and dropouts\n",
    "* Apply sigmoid finally"
   ]
  },
  {
   "cell_type": "code",
   "execution_count": 3,
   "metadata": {},
   "outputs": [],
   "source": [
    "class EmbeddingNet(nn.Module):\n",
    "    def __init__(self, n_users, n_movies, nh=10, p1=0.05, p2=0.5):\n",
    "        super().__init__()\n",
    "        (self.u, self.m) = [get_emb(*o) for o in [\n",
    "            (n_users, n_factors), (n_movies, n_factors)]]\n",
    "        self.lin1 = nn.Linear(n_factors*2, nh) \n",
    "        self.lin2 = nn.Linear(nh, 1)\n",
    "        self.drop1 = nn.Dropout(p1)\n",
    "        self.drop2 = nn.Dropout(p2)\n",
    "        \n",
    "    def forward(self, cats, conts):\n",
    "        users,movies = cats[:,0],cats[:,1]\n",
    "        x = self.drop1(torch.cat([self.u(users),self.m(movies)], dim=1))\n",
    "        x = self.drop2(F.relu(self.lin1(x)))\n",
    "        return F.sigmoid(self.lin2(x)) * (max_rating-min_rating+1) + min_rating-0.5"
   ]
  },
  {
   "cell_type": "code",
   "execution_count": 12,
   "metadata": {},
   "outputs": [],
   "source": [
    "wd=1e-5\n",
    "model = EmbeddingNet(n_users, n_movies).cuda()\n",
    "opt = optim.Adam(model.parameters(), 1e-3, weight_decay=wd)"
   ]
  },
  {
   "cell_type": "code",
   "execution_count": 19,
   "metadata": {},
   "outputs": [
    {
     "data": {
      "application/vnd.jupyter.widget-view+json": {
       "model_id": "b3a0eb8a0c214b95a055408066630f59",
       "version_major": 2,
       "version_minor": 0
      },
      "text/html": [
       "<p>Failed to display Jupyter Widget of type <code>HBox</code>.</p>\n",
       "<p>\n",
       "  If you're reading this message in the Jupyter Notebook or JupyterLab Notebook, it may mean\n",
       "  that the widgets JavaScript is still loading. If this message persists, it\n",
       "  likely means that the widgets JavaScript library is either not installed or\n",
       "  not enabled. See the <a href=\"https://ipywidgets.readthedocs.io/en/stable/user_install.html\">Jupyter\n",
       "  Widgets Documentation</a> for setup instructions.\n",
       "</p>\n",
       "<p>\n",
       "  If you're reading this message in another frontend (for example, a static\n",
       "  rendering on GitHub or <a href=\"https://nbviewer.jupyter.org/\">NBViewer</a>),\n",
       "  it may mean that your frontend doesn't currently support widgets.\n",
       "</p>\n"
      ],
      "text/plain": [
       "HBox(children=(IntProgress(value=0, description='Epoch', max=3), HTML(value='')))"
      ]
     },
     "metadata": {},
     "output_type": "display_data"
    },
    {
     "name": "stdout",
     "output_type": "stream",
     "text": [
      "[ 0.       0.8919   0.80914]                                    \n",
      "[ 1.       0.81047  0.79438]                                    \n",
      "[ 2.       0.79648  0.78522]                                    \n",
      "\n"
     ]
    }
   ],
   "source": [
    "fit(model, data, 3, opt, F.mse_loss)"
   ]
  },
  {
   "cell_type": "code",
   "execution_count": 20,
   "metadata": {},
   "outputs": [],
   "source": [
    "set_lrs(opt, 1e-3)"
   ]
  },
  {
   "cell_type": "code",
   "execution_count": 21,
   "metadata": {},
   "outputs": [
    {
     "data": {
      "application/vnd.jupyter.widget-view+json": {
       "model_id": "6ab77adfdcd54a049da7c834f39b1c64",
       "version_major": 2,
       "version_minor": 0
      },
      "text/html": [
       "<p>Failed to display Jupyter Widget of type <code>HBox</code>.</p>\n",
       "<p>\n",
       "  If you're reading this message in the Jupyter Notebook or JupyterLab Notebook, it may mean\n",
       "  that the widgets JavaScript is still loading. If this message persists, it\n",
       "  likely means that the widgets JavaScript library is either not installed or\n",
       "  not enabled. See the <a href=\"https://ipywidgets.readthedocs.io/en/stable/user_install.html\">Jupyter\n",
       "  Widgets Documentation</a> for setup instructions.\n",
       "</p>\n",
       "<p>\n",
       "  If you're reading this message in another frontend (for example, a static\n",
       "  rendering on GitHub or <a href=\"https://nbviewer.jupyter.org/\">NBViewer</a>),\n",
       "  it may mean that your frontend doesn't currently support widgets.\n",
       "</p>\n"
      ],
      "text/plain": [
       "HBox(children=(IntProgress(value=0, description='Epoch', max=3), HTML(value='')))"
      ]
     },
     "metadata": {},
     "output_type": "display_data"
    },
    {
     "name": "stdout",
     "output_type": "stream",
     "text": [
      "[ 0.       0.75278  0.78853]                                    \n",
      "[ 1.       0.78612  0.79198]                                    \n",
      "[ 2.       0.74658  0.79357]                                    \n",
      "\n"
     ]
    }
   ],
   "source": [
    "fit(model, data, 3, opt, F.mse_loss)"
   ]
  },
  {
   "cell_type": "code",
   "execution_count": null,
   "metadata": {},
   "outputs": [],
   "source": []
  },
  {
   "cell_type": "code",
   "execution_count": 23,
   "metadata": {},
   "outputs": [
    {
     "name": "stdout",
     "output_type": "stream",
     "text": [
      "[t-SNE] Computing 91 nearest neighbors...\n",
      "[t-SNE] Indexed 3000 samples in 0.005s...\n",
      "[t-SNE] Computed neighbors for 3000 samples in 1.004s...\n",
      "[t-SNE] Computed conditional probabilities for sample 1000 / 3000\n",
      "[t-SNE] Computed conditional probabilities for sample 2000 / 3000\n",
      "[t-SNE] Computed conditional probabilities for sample 3000 / 3000\n",
      "[t-SNE] Mean sigma: 0.421800\n",
      "[t-SNE] KL divergence after 50 iterations with early exaggeration: 79.346962\n",
      "[t-SNE] Error after 1000 iterations: 2.910956\n"
     ]
    }
   ],
   "source": [
    "#t-sne on embedding vectors\n",
    "tsne = TSNE(n_components=3, verbose=1, perplexity=30, n_iter=1000,learning_rate=10)\n",
    "tsne_results = tsne.fit_transform(movie_emb)"
   ]
  },
  {
   "cell_type": "code",
   "execution_count": 24,
   "metadata": {},
   "outputs": [],
   "source": [
    "#preparing dataframe for visualization\n",
    "df_combine = pd.DataFrame([movie_names[i] for i in topMovies])\n",
    "df_combine.columns = ['title']\n",
    "df_combine['x-tsne'] = tsne_results[:,0]\n",
    "df_combine['y-tsne'] = tsne_results[:,1]\n",
    "df_combine['z-tsne'] = tsne_results[:,2]"
   ]
  },
  {
   "cell_type": "code",
   "execution_count": 33,
   "metadata": {},
   "outputs": [],
   "source": [
    "df_combine.to_csv('t-sne1.csv',index=False)"
   ]
  },
  {
   "cell_type": "code",
   "execution_count": 35,
   "metadata": {},
   "outputs": [
    {
     "data": {
      "text/html": [
       "<a href='t-sne1.csv' target='_blank'>t-sne1.csv</a><br>"
      ],
      "text/plain": [
       "/home/ec2-user/projects/collaborative-filtering/t-sne1.csv"
      ]
     },
     "execution_count": 35,
     "metadata": {},
     "output_type": "execute_result"
    }
   ],
   "source": [
    "FileLink('t-sne1.csv')"
   ]
  },
  {
   "cell_type": "code",
   "execution_count": null,
   "metadata": {},
   "outputs": [],
   "source": []
  }
 ],
 "metadata": {
  "kernelspec": {
   "display_name": "Python 3",
   "language": "python",
   "name": "python3"
  },
  "language_info": {
   "codemirror_mode": {
    "name": "ipython",
    "version": 3
   },
   "file_extension": ".py",
   "mimetype": "text/x-python",
   "name": "python",
   "nbconvert_exporter": "python",
   "pygments_lexer": "ipython3",
   "version": "3.6.3"
  }
 },
 "nbformat": 4,
 "nbformat_minor": 2
}
